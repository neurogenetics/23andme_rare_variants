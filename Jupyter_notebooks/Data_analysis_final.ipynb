{
 "cells": [
  {
   "cell_type": "markdown",
   "id": "effd8e55-5d98-4dd6-be9f-91e00829be86",
   "metadata": {},
   "source": [
    "# Data preparation final approach"
   ]
  },
  {
   "cell_type": "markdown",
   "id": "7c1934cc-c0e9-4811-b756-4eb7e114a175",
   "metadata": {},
   "source": [
    "## Overview\n",
    "1. Read in files received from 23andMe\n",
    "2. Fasta - generate correct REF allele\n",
    "3. Annotation\n",
    "4. Remove synonymous variants and benign/likely benign\n",
    "5. Fix AA change for 23andMe file\n",
    "6. Merge annotated clean file with original values\n",
    "7. Extract info from 23andMe\n",
    "8. Extract variants from UKB and AMP-PD\n",
    "9. Association testing\n",
    "10. Meta-analysis\n",
    "11. Clean files for analysis"
   ]
  },
  {
   "cell_type": "markdown",
   "id": "24a97fa7-9884-4121-983b-465c62580bc6",
   "metadata": {},
   "source": [
    "## 1. Read in files from 23andMe"
   ]
  },
  {
   "cell_type": "raw",
   "id": "09842031-f300-4e2c-8f8a-e118db6da39c",
   "metadata": {},
   "source": [
    "module load R\n",
    "R\n",
    "library(dplyr)\n",
    "library(tidyr)\n",
    "\n",
    "failed = read.table(\"results_for_collaborators_failed_qc.csv\", header = T, sep = \",\")\n",
    "dim(failed)\n",
    "#459 33\n",
    "\n",
    "old = read.table(\"results_for_collaborators.csv\", sep = \",\", header = T)\n",
    "dim(old)\n",
    "# 504 33\n",
    "\n",
    "fulljoin_old_failed = full_join(failed, old) \n",
    "# looks like they're all new (distinct)\n",
    "dim(fulljoin_old_failed)\n",
    "# 963 33\n",
    "head(fulljoin_old_failed)\n",
    "fulljoin_old_failed %>% group_by(position) %>% tally() %>% filter(n>1) #no duplicates\n",
    "\n",
    "write.table(fulljoin_old_failed, \"results_combined_23andMe.txt\", quote = F, sep = \"\\t\", row.names =F)"
   ]
  },
  {
   "cell_type": "markdown",
   "id": "dbeb962b-2086-4d43-a297-c05e64eaddf9",
   "metadata": {},
   "source": [
    "## 2. Fasta - generate correct REF allele"
   ]
  },
  {
   "cell_type": "raw",
   "id": "06dbb9c1-0595-4a73-b4bb-c2384122eec4",
   "metadata": {},
   "source": [
    "new = fulljoin_old_failed %>% select(scaffold, position) %>% rename(\"chr\" = scaffold, \"start\" = position)\n",
    "\n",
    "write.table(new, \"prep_for_ref_allele_input.txt\", row.names=F, sep = \"\\t\", quote =F)\n",
    "\n",
    "# chr\tstart\n",
    "chr10\t100003915\n",
    "\n",
    "wc -l prep_for_ref_allele_input.txt\n",
    "# 964 prep_for_ref_allele_input.txt (header)"
   ]
  },
  {
   "cell_type": "markdown",
   "id": "32716441-0ed9-4793-be5a-17e4336203df",
   "metadata": {},
   "source": [
    "Now run it with the fasta file\n",
    "(had to download the correct file according to this https://lh3.github.io/2017/11/13/which-human-reference-genome-to-use)"
   ]
  },
  {
   "cell_type": "raw",
   "id": "429bf40c-bd70-486f-8b2b-fad6b609bc94",
   "metadata": {},
   "source": [
    "module load R/3.6.0 \n",
    "R\n",
    "library(Rsamtools)\n",
    "library(BSgenome)\n",
    "# source(\"https://bioconductor.org/biocLite.R\")\n",
    "# biocLite(\"BSgenome\")\n",
    "\n",
    "dat = new\n",
    "# dat <- read.table(\"prep_for_ref_allele_input.txt\", header=T)\n",
    "\n",
    "# if you have a genome fasta file, this file can be imported using \"FaFile\", the format of chromosomes should match that in the fasta file. The labeling has to be the same in the fasta and dat file, e.g. 1, 2, 3 or chr1, chr2, chr3 in both\n",
    "\n",
    "fasta_file <- FaFile(file='/data/CARD/projects/23andme_annotation/Rare_variant_project_VP/GRCh38_correct_fasta/GCA_000001405.15_GRCh38_no_alt_analysis_set.fna')\n",
    "# Files with the .fa extension use the FASTA format, which is a file type used for the storage of numerous sequences in one file.\n",
    "\n",
    "gr1 <- GRanges(dat$chr,IRanges(start=as.numeric(dat$start), end=as.numeric(dat$start)))\n",
    "# GRanges = genomic ranges that each have a single start and end location on the genome\n",
    "\n",
    "refbase <- getSeq(fasta_file, gr1)\n",
    "# getSeq extracts a set of sequences (or subsequences) from a BSgenome or XStringSet object\n",
    "\n",
    "refbase <- as.data.frame(refbase)$x\n",
    "\n",
    "dat$REF <- refbase\n",
    "\n",
    "write.table(dat,\"963_coding_alleles_ref_allele.txt\",quote=F,row.names=F,sep=\"\\t\")\n",
    "q()\n",
    "n"
   ]
  },
  {
   "cell_type": "raw",
   "id": "18815a88-f174-422e-bfd2-d8bb34cef8b0",
   "metadata": {},
   "source": [
    "# Now merge REF allele onto file and fix alleles\n",
    "fulljoin_old_failed = fread(\"results_combined_23andMe.txt\")\n",
    "\n",
    "data_original = fulljoin_old_failed %>% select(scaffold, position, alleles, assay.name) %>% separate(alleles, c(\"alternative_allele\", \"effect_allele\"), sep = \"/\") \n",
    "\n",
    "data_original = data_original %>% rename(\"chr\" = scaffold, \"start\" = position, \"rsID\" = assay.name)\n",
    "data_original$end = data_original$start\n",
    "data_original = data_original %>% select(chr, start, end, rsID, alternative_allele, effect_allele)\n",
    "\n",
    "merge = left_join(data_original, dat)\n",
    "head(merge)"
   ]
  },
  {
   "cell_type": "raw",
   "id": "aaa49319-e4e5-4eb9-a455-a9d8e390e6ba",
   "metadata": {},
   "source": [
    "# Check if there are strand flips\n",
    "\n",
    "merge %>% filter(REF != alternative_allele & REF != effect_allele) %>% tally\n",
    "#0"
   ]
  },
  {
   "cell_type": "raw",
   "id": "97d0f236-8d82-4b38-affc-468fe124c89c",
   "metadata": {},
   "source": [
    "# If REF matches alternative allele, ALT is effect\n",
    "\n",
    "alleles = merge %>% mutate(ALT = if_else(REF == alternative_allele, effect_allele, alternative_alle)"
   ]
  },
  {
   "cell_type": "raw",
   "id": "0ff7efb6-5d49-41b0-9123-a3fb917aff5d",
   "metadata": {},
   "source": [
    "# write new file\n",
    "\n",
    "write.table(alleles, \"963_snps_alleles_correct_fasta.txt\", row.names =F, sep = \"\\t\", quote =F)"
   ]
  },
  {
   "cell_type": "markdown",
   "id": "2d8d5eb9-e476-42c2-9083-185327ade172",
   "metadata": {},
   "source": [
    "## 3. Annotation"
   ]
  },
  {
   "cell_type": "markdown",
   "id": "ccfe3a29-0cd3-4b98-af62-0c0b185e1ba1",
   "metadata": {},
   "source": [
    "Write file for annotation"
   ]
  },
  {
   "cell_type": "code",
   "execution_count": null,
   "id": "ada85758-01ad-4bc4-85d7-1154d0ab82d8",
   "metadata": {},
   "outputs": [],
   "source": [
    "cut -f 1,2,3,7,8 963_snps_alleles_correct_fasta.txt > for_annotation.txt\n",
    "\n",
    "tail -n +2 for_annotation.txt > for_annotation_nohead.txt"
   ]
  },
  {
   "cell_type": "markdown",
   "id": "dc7adc3c-492a-496e-a528-992fc1f1effe",
   "metadata": {},
   "source": [
    "Annotate"
   ]
  },
  {
   "cell_type": "code",
   "execution_count": null,
   "id": "9899088d-f4ed-4064-a470-59101ad9f593",
   "metadata": {},
   "outputs": [],
   "source": [
    "module load annovar\n",
    "\n",
    "table_annovar.pl for_annotation_nohead.txt $ANNOVAR_DATA/hg38/ -buildver hg38 -protocol refGene,avsnp150,clinvar_20220320,gnomad211_genome -operation g,f,f,f -outfile 963_23andMe_annotated_all -nastring ."
   ]
  },
  {
   "cell_type": "markdown",
   "id": "007b4ded-be2e-4bbd-930b-6f41b0f66e43",
   "metadata": {},
   "source": [
    "Check file in R"
   ]
  },
  {
   "cell_type": "raw",
   "id": "6205a55c-f385-4e09-a9ed-1e628c4d270d",
   "metadata": {},
   "source": [
    "R\n",
    "library(data.table)\n",
    "library(tidyverse)\n",
    "\n",
    "data = fread(\"963_23andMe_annotated_all.hg38_multianno.txt\")\n",
    "\n",
    "data %>% group_by(ExonicFunc.refGene) %>% tally()\n",
    "# A tibble: 5 x 2\n",
    "  ExonicFunc.refGene     n\n",
    "  <chr>              <int>\n",
    "1 .                     25\n",
    "2 nonsynonymous SNV    863\n",
    "3 startloss              2\n",
    "4 stopgain              33\n",
    "5 synonymous SNV        40\n",
    "\n",
    "Synonymous_excluded = data %>% filter(ExonicFunc.refGene == \"synonymous SNV\") \n",
    "\n",
    "write.table(Synonymous_excluded, \"Synonymous_variants_excluded.txt\", quote = F, sep = \"\\t\", row.names = F)"
   ]
  },
  {
   "cell_type": "markdown",
   "id": "8acd06ed-d739-47a1-a754-9d22d2bffb0c",
   "metadata": {},
   "source": [
    "## 4. Remove synonymous variants and benign/likely_benign for certain genes"
   ]
  },
  {
   "cell_type": "raw",
   "id": "96033804-2034-441a-b957-eba62c825049",
   "metadata": {},
   "source": [
    "# now remove them\n",
    "data_1 = data %>% filter(ExonicFunc.refGene != \"synonymous SNV\") \n",
    "dim(data_1)\n",
    "[1] 923  33\n",
    "\n",
    "data_1 %>% group_by(CLNSIG) %>% tally()\n",
    "# A tibble: 13 × 2\n",
    "CLNSIG\tn\n",
    "<chr>\t<int>\n",
    ".\t342\n",
    "Benign\t83\n",
    "Benign/Likely_benign\t31\n",
    "Conflicting_interpretations_of_pathogenicity\t102\n",
    "Conflicting_interpretations_of_pathogenicity|_risk_factor\t1\n",
    "Likely_benign\t54\n",
    "Likely_pathogenic\t32\n",
    "Pathogenic\t83\n",
    "Pathogenic/Likely_pathogenic\t18\n",
    "Pathogenic/Likely_pathogenic|_risk_factor\t1\n",
    "Pathogenic|_risk_factor\t1\n",
    "risk_factor\t6\n",
    "Uncertain_significance\t169"
   ]
  },
  {
   "cell_type": "raw",
   "id": "876474c2-ba70-4d4b-8944-4e9df2d4bcc1",
   "metadata": {},
   "source": [
    "# Again, check that for GBA, Parkinson’s, and Lewy, there aren’t any benign or likely benign variants\n",
    "\n",
    "# GBA\n",
    "data_1 %>% filter(Gene.refGene == \"GBA\") %>% group_by(CLNSIG) %>% tally()\n",
    "# there are 3 \n",
    "\n",
    "# remove them\n",
    "remove = data_1 %>% filter(Gene.refGene == \"GBA\" & CLNSIG == \"Benign\" | Gene.refGene == \"GBA\" & CLNSIG == \"Benign/Likely_benign\" | Gene.refGene == \"GBA\" & CLNSIG == \"Likely_benign\") \n",
    "\n",
    "anti = anti_join(data_1, remove)\n",
    "dim(anti)\n",
    "[1] 920  33"
   ]
  },
  {
   "cell_type": "code",
   "execution_count": null,
   "id": "4674b192-4446-43a2-ab11-dc03155a2afa",
   "metadata": {},
   "outputs": [],
   "source": [
    "# Parkinson's\n",
    "anti %>% filter(grepl(\"arkinson\", CLNDN)) %>% tally()\n",
    "    n\n",
    "1 281\n",
    "\n",
    "anti %>% filter(grepl(\"arkinson\", CLNDN)) %>% group_by(CLNSIG) %>% tally()\n",
    "# A tibble: 12 × 2\n",
    "CLNSIG\tn\n",
    "<chr>\t<int>\n",
    "Benign\t34\n",
    "Benign/Likely_benign\t18\n",
    "Conflicting_interpretations_of_pathogenicity\t43\n",
    "Conflicting_interpretations_of_pathogenicity|_risk_factor\t1\n",
    "Likely_benign\t29\n",
    "Likely_pathogenic\t4\n",
    "Pathogenic\t39\n",
    "Pathogenic/Likely_pathogenic\t6\n",
    "Pathogenic/Likely_pathogenic|_risk_factor\t1\n",
    "Pathogenic|_risk_factor\t1\n",
    "risk_factor\t6\n",
    "Uncertain_significance\t99\n",
    "\n",
    "#another 52 to be removed\n",
    "\n",
    "\n",
    "remove2=anti %>% filter(grepl(\"arkinson\", CLNDN) & CLNSIG == \"Benign\" | grepl(\"arkinson\", CLNDN) & CLNSIG == \"Benign/Likely_benign\" | grepl(\"arkinson\", CLNDN) & CLNSIG == \"Likely_benign\")\n",
    "\n",
    "anti2 = anti_join(anti, remove2)\n",
    "dim(anti2)\n",
    "[1] 839  33\n",
    "\n",
    "anti2 %>% filter(grepl(\"arkinson\", CLNDN)) %>% group_by(CLNSIG) %>% tally()\n",
    "\n",
    "#A tibble: 9 × 2\n",
    "CLNSIG\tn\n",
    "<chr>\t<int>\n",
    "Conflicting_interpretations_of_pathogenicity\t43\n",
    "Conflicting_interpretations_of_pathogenicity|_risk_factor\t1\n",
    "Likely_pathogenic\t4\n",
    "Pathogenic\t39\n",
    "Pathogenic/Likely_pathogenic\t6\n",
    "Pathogenic/Likely_pathogenic|_risk_factor\t1\n",
    "Pathogenic|_risk_factor\t1\n",
    "risk_factor\t6\n",
    "Uncertain_significance\t99"
   ]
  },
  {
   "cell_type": "raw",
   "id": "5a711753-bff8-47ae-bdcf-3049b5872781",
   "metadata": {},
   "source": [
    "# Lewy body disease\n",
    "\n",
    "anti2 %>% filter(grepl(\"Lewy\", CLNDN)) %>% tally()\n",
    "# 9\n",
    "\n",
    "anti2 %>% filter(grepl(\"Lewy\", CLNDN)) %>% group_by(CLNSIG) %>% tally()\n",
    "# A tibble: 5 × 2\n",
    "CLNSIG\tn\n",
    "<chr>\t<int>\n",
    "Likely_pathogenic\t1\n",
    "Pathogenic\t5\n",
    "Pathogenic/Likely_pathogenic\t1\n",
    "Pathogenic/Likely_pathogenic|_risk_factor\t1\n",
    "Uncertain_significance\t1\n",
    "\n",
    "# no need to remove anything here"
   ]
  },
  {
   "cell_type": "raw",
   "id": "28954e97-124a-465b-bd82-644196238038",
   "metadata": {},
   "source": [
    "# Remove ‘-AS’\n",
    "\n",
    "anti2 = anti2 %>% filter(!grepl(\"-AS\", Gene.refGene))\n",
    "dim(anti2)\n",
    "# 834  33\n",
    "\n",
    "write.table(anti2, \"834_23andMe_rare_variants_annotated_fullfile.txt\", row.names = F, sep = \"\\t\", quote =F)\n",
    "\n",
    "final = anti2 %>% select(Chr, Start, avsnp150) %>% unite(\"chr:bp\", c(Chr, Start), sep = \":\")\n",
    "write.table(final, \"834_23andMe_rare_variants_IDs.txt\", row.names =F, sep = \"\\t\", quote =F)"
   ]
  },
  {
   "cell_type": "code",
   "execution_count": null,
   "id": "3a26b6e0-7581-470e-b718-c5700acbe87b",
   "metadata": {},
   "outputs": [],
   "source": [
    "# Write file with chr, start, rsID, REF, ALT\n",
    "\n",
    "cut -f 1,2,4,5,11 834_23andMe_rare_variants_annotated_fullfile.txt > 834_23andMe_rare_variants_annotated_short.txt"
   ]
  },
  {
   "cell_type": "code",
   "execution_count": null,
   "id": "72a48972-984d-4ab7-a4e1-3d2823c17e1d",
   "metadata": {},
   "outputs": [],
   "source": [
    "head 834_23andMe_rare_variants_annotated_short.txt"
   ]
  },
  {
   "cell_type": "raw",
   "id": "18417258-bb8e-4e63-ad3d-0848305635e7",
   "metadata": {},
   "source": [
    "# variants per gene plot\n",
    "library(ggplot2)\n",
    "library(data.table)\n",
    "library(tidyverse)\n",
    "\n",
    "andmeonly1 = fread(\"834_23andMe_rare_variants_annotated_fullfile.txt\")\n",
    "andmeonly1$Gene.refGene[andmeonly1$Gene.refGene == \"FBXO7;FBXO7\"] <- \"FBXO7\"\n",
    "genes23andMe_874 = andmeonly1 %>% group_by(Gene.refGene) %>% tally() %>% mutate(perc = n/sum(n)*100) %>% arrange(-n)\n",
    "\n",
    "genelist = ggplot(genes23andMe_874,\n",
    "       aes(x = n,\n",
    "           y = reorder(Gene.refGene, n)\n",
    "       )\n",
    ") +\n",
    "  theme_bw()+\n",
    "  ggtitle(\"List of variants per gene\")+\n",
    "  theme(plot.title = element_text(hjust=0.5))+\n",
    "  scale_fill_brewer(palette = \"Pastel1\")+\n",
    "  labs(title=\"List of variants per gene\", \n",
    "       x=\"Number of variants per gene\", y = \"Gene name\")+\n",
    "  geom_col()\n",
    "\n",
    "genelist"
   ]
  },
  {
   "cell_type": "markdown",
   "id": "c90660d6-8a76-477e-bec5-2be6bec4601c",
   "metadata": {},
   "source": [
    "## 5. Fix AA change for 23andMe file only"
   ]
  },
  {
   "cell_type": "code",
   "execution_count": null,
   "id": "2bb9e6d5-572b-423e-9613-67d770d72f5c",
   "metadata": {},
   "outputs": [],
   "source": [
    "Use this file: 834_23andMe_rare_variants_annotated_fullfile.txt\n",
    "\n",
    "and this script: AA_change_column.ipynb\n",
    "# these chunks are only the differences to the above mentioned script\n",
    "\n",
    "#write.table(fulljoin2, \"NM_transcript_list.txt.txt\", row.names=F, sep = \"\\t\", quote = F)\n",
    "\n",
    "merge_empty %>% filter(AAChange != \".\")"
   ]
  },
  {
   "cell_type": "code",
   "execution_count": null,
   "id": "a8d3efff-8503-4023-834a-ab7fea27d0c8",
   "metadata": {},
   "outputs": [],
   "source": [
    "# write.table(leftjoin, \"Edited_AAChange_23andMe_834_clean.txt\", quote = F, sep = \"\\t\", row.names = F) # this has all the VariantNames automatically edited to only one name\n",
    "wc -l Edited_AAChange_23andMe_834_clean.txt"
   ]
  },
  {
   "cell_type": "raw",
   "id": "c944c434-5241-4c66-8d2e-70d4c223be91",
   "metadata": {},
   "source": [
    "# make Pie chart of all variants used\n",
    "R\n",
    "library(data.table)\n",
    "library(dplyr)\n",
    "library(tidyverse)\n",
    "library(data.table)\n",
    "library(ggrepel)\n",
    "\n",
    "data = fread(\"Edited_AAChange_23andMe_834_clean.txt\")\n",
    "data$CLNSIG[data$CLNSIG == \"Likely_pathogenic\"] <- \"Pathogenic\"\n",
    "data$CLNSIG[data$CLNSIG == \"Pathogenic/Likely_pathogenic\"] <- \"Pathogenic\"\n",
    "data$CLNSIG[data$CLNSIG == \"Likely_benign\"] <- \"Benign\"\n",
    "data$CLNSIG[data$CLNSIG == \"Benign/Likely_benign\"] <- \"Benign\"\n",
    "data$CLNSIG[data$CLNSIG == \"Uncertain_significance\"] <- \"Conflicting/Uncertain/Unknown\"\n",
    "data$CLNSIG[data$CLNSIG == \"Conflicting_interpretations_of_pathogenicity\"] <- \"Conflicting/Uncertain/Unknown\"\n",
    "data$CLNSIG[data$CLNSIG == \".\"] <- \"Conflicting/Uncertain/Unknown\"\n",
    "data$CLNSIG[data$CLNSIG == \"Conflicting_interpretations_of_pathogenicity|_risk_factor\"] <- \"Conflicting/Uncertain/Unknown\"\n",
    "data$CLNSIG[data$CLNSIG == \"Pathogenic/Likely_pathogenic|_risk_factor\"] <- \"Pathogenic/Risk_factor\"\n",
    "data$CLNSIG[data$CLNSIG == \"Pathogenic|_risk_factor\"] <- \"Pathogenic/Risk_factor\"  \n",
    "data$CLNSIG[data$CLNSIG == \"risk_factor\"] <- \"Risk_factor\"\n",
    "\n",
    "\n",
    "group_CLNSIG = data\n",
    "group_CLNSIG = group_CLNSIG %>% group_by(CLNSIG) %>% tally() %>% arrange(-n) %>% mutate(perc = n/sum(n)*100) %>% ungroup()\n",
    "group_CLNSIG\n",
    "\n",
    "\n",
    "# Get the positions\n",
    "df2 <- group_CLNSIG %>% \n",
    "  mutate(csum = rev(cumsum(rev(perc))), \n",
    "         pos = perc/2 + lead(csum, 1),\n",
    "         pos = if_else(is.na(pos), perc/2, pos))\n",
    "\n",
    "png(\"./Clinical_significance_of_all_834_variants.txt\", width=400,height=600,bg = \"white\")\n",
    "Pie_chart = ggplot(group_CLNSIG, aes(x = \"\" , y = perc, fill = CLNSIG)) +\n",
    "  geom_col(width = 1, color = 1) +\n",
    "  coord_polar(theta = \"y\") +\n",
    "  scale_fill_brewer(palette = \"Pastel1\") +\n",
    "  geom_label_repel(data = df2,\n",
    "                   aes(y = pos, label = paste0(round(perc, digits = 1), \"%\")),\n",
    "                   size = 4.5, nudge_x = 1, show.legend = FALSE) +\n",
    "  guides(fill = guide_legend(title = \"CLNSIG\")) +\n",
    "  theme_void()\n",
    "dev.off()\n",
    "\n",
    "Pie_chart\n"
   ]
  },
  {
   "cell_type": "raw",
   "id": "97c8e5b8-b47d-4944-a64c-8520ecc7f0fa",
   "metadata": {},
   "source": [
    "# how many genes?\n",
    "library(gridExtra)\n",
    "Genes = data %>% group_by(Gene) %>% tally() %>% arrange(-n) %>% mutate(perc = n/sum(n)*100)\n",
    "\n",
    "head(Genes)\n",
    "#png(\"./Tables_Manuscript/List_of_genes_table_all834.png\", width=400,height=900,bg = \"white\")\n",
    "grid.table(Genes)\n"
   ]
  },
  {
   "cell_type": "markdown",
   "id": "e1dc4a69-df9f-454b-a077-4ab24f7b5797",
   "metadata": {},
   "source": [
    "## 6. Merge annotated clean file with original values"
   ]
  },
  {
   "cell_type": "raw",
   "id": "f8172090-44b9-415a-801b-e952f381742d",
   "metadata": {},
   "source": [
    "R\n",
    "library(data.table)\n",
    "library(tidyverse)\n",
    "\n",
    "stats = fread(\"results_combined_23andMe.txt\")\n",
    "dim(stats)\n",
    "# [1] 963  33\n",
    "\n",
    "annotated = fread(\"Edited_AAChange_23andMe_834_clean.txt\")\n",
    "annotated1 = annotated %>% select(MarkerName, Ref, Alt, End, Gene, avsnp150, AF_nfe, ExonicFunc.refGene, VariantName, CLNDN, CLNREVSTAT, CLNSIG) %>% rename(\"assay.name\" = avsnp150, \"position\" = End)\n",
    "dim(annotated1)\n",
    "# [1] 834   12\n",
    "\n",
    "join = left_join(annotated1, stats)\n",
    "# Joining, by = c(\"position\", \"assay.name\")\n",
    "dim(join)\n",
    "# [1] 834  43\n",
    "\n",
    "# fix marker ID\n",
    "join = join %>% unite(\"CHR.BP.REF.ALT\", c(\"MarkerName\",\"Ref\", \"Alt\"), sep = \":\")\n",
    "\n",
    "write.table(join, \"23andMe_834variants_annotated_and_stats.txt\", row.names = F, sep = \"\\t\", quote = F)\n",
    "\n",
    "# only write marker ID for variants to grep\n",
    "join1 = join %>% select(`CHR.BP.REF.ALT`)\n",
    "write.table(join1, \"variants_to_grep.txt\", quote=F, sep =\"\\t\", row.names =F)"
   ]
  },
  {
   "cell_type": "code",
   "execution_count": null,
   "id": "fbeb2fb0-4152-4280-9be5-0a5886c4854a",
   "metadata": {},
   "outputs": [],
   "source": [
    "head variants_to_grep.txt"
   ]
  },
  {
   "cell_type": "markdown",
   "id": "5303735a-b426-4a55-a1be-0eb9807c1c1b",
   "metadata": {},
   "source": [
    "## 7. Extract info from 23andMe sumstats"
   ]
  },
  {
   "cell_type": "raw",
   "id": "d9cefda2-89fe-4063-a5b8-d98758af9400",
   "metadata": {},
   "source": [
    "library(ggplot2)\n",
    "library(data.table)\n",
    "library(tidyverse)\n",
    "library(dplyr)\n",
    "library(gridExtra)\n",
    "\n",
    "sumstats = fread(\"23andMe_834variants_annotated_and_stats.txt\", header = T)\n",
    "colnames(sumstats)\n",
    "\n",
    "sumstats = sumstats %>% mutate(Effectv2 = if_else(effect <0, abs(effect), effect))\n",
    "sumstats = sumstats %>% mutate(OR = exp(Effectv2), L95 = exp(Effectv2 - 1.96*stderr), U95 = exp(Effectv2 + 1.96*stderr))\n",
    "sumstats$U95 = as.numeric(sumstats$U95)\n",
    "\n",
    "\n",
    "sumstats$CLNSIG[sumstats$CLNSIG == \"Likely_pathogenic\"] <- \"Pathogenic\"\n",
    "sumstats$CLNSIG[sumstats$CLNSIG == \"Pathogenic/Likely_pathogenic\"] <- \"Pathogenic\"\n",
    "sumstats$CLNSIG[sumstats$CLNSIG == \"Likely_benign\"] <- \"Benign\"\n",
    "sumstats$CLNSIG[sumstats$CLNSIG == \"Benign/Likely_benign\"] <- \"Benign\"\n",
    "sumstats$CLNSIG[sumstats$CLNSIG == \"Uncertain_significance\"] <- \"Conflicting/Uncertain/Unknown\"\n",
    "sumstats$CLNSIG[sumstats$CLNSIG == \"Conflicting_interpretations_of_pathogenicity\"] <- \"Conflicting/Uncertain/Unknown\"\n",
    "sumstats$CLNSIG[sumstats$CLNSIG == \".\"] <- \"Conflicting/Uncertain/Unknown\"\n",
    "sumstats$CLNSIG[sumstats$CLNSIG == \"Conflicting_interpretations_of_pathogenicity|_risk_factor\"] <- \"Conflicting/Uncertain/Unknown\"\n",
    "sumstats$CLNSIG[sumstats$CLNSIG == \"Pathogenic/Likely_pathogenic|_risk_factor\"] <- \"Pathogenic/Risk_factor\"\n",
    "sumstats$CLNSIG[sumstats$CLNSIG == \"Pathogenic|_risk_factor\"] <- \"Pathogenic/Risk_factor\"  \n",
    "sumstats$CLNSIG[sumstats$CLNSIG == \"risk_factor\"] <- \"Risk_factor\"\n",
    "\n",
    "\n",
    "sumstats %>% group_by(CLNSIG) %>% tally()\n",
    "\n",
    "A tibble: 5 × 3\n",
    "CLNSIG\tn\tperc\n",
    "<chr>\t<int>\t<dbl>\n",
    "Benign\t84\t10.1\n",
    "Conflicting/Uncertain/Unknown\t609\t73.0\n",
    "Pathogenic\t133\t15.9\n",
    "Pathogenic/Risk_factor\t2\t0.2\n",
    "Risk_factor\t6\t0.7\n"
   ]
  },
  {
   "cell_type": "markdown",
   "id": "65bc591b-840e-497a-bc26-3abb1eae8ce3",
   "metadata": {},
   "source": [
    "## 8. Extract variants from UKB and AMP"
   ]
  },
  {
   "cell_type": "code",
   "execution_count": null,
   "id": "8b8dafe2-681a-4b50-9dc9-0177dc6ebaad",
   "metadata": {},
   "outputs": [],
   "source": [
    "# Write file for that\n",
    "head variants_to_grep.txt\n",
    "#cut -f 2 23andMe_834variants_annotated_and_stats.txt > variants_to_grep.txt\n",
    "# format chr1:bp:REF:ALT"
   ]
  },
  {
   "cell_type": "code",
   "execution_count": null,
   "id": "4c9b9847-9a83-45eb-bfaa-0530ca49d5b5",
   "metadata": {},
   "outputs": [],
   "source": [
    "tail -n +2 variants_to_grep.txt > variants_to_grep_nohead.txt\n",
    "wc -l variants_to_grep_nohead.txt\n",
    "\n",
    "head variants_to_grep_nohead.txt"
   ]
  },
  {
   "cell_type": "markdown",
   "id": "4c04317d-7e43-4b25-85fd-0fb438cf91b4",
   "metadata": {},
   "source": [
    "### 8.1 UKB"
   ]
  },
  {
   "cell_type": "code",
   "execution_count": null,
   "id": "aa8426a5-0037-4c8b-acdd-5bf9915e10b7",
   "metadata": {},
   "outputs": [],
   "source": [
    "# Clean UKB first\n",
    "\n",
    "#mkdir UKB_and_AMP\n",
    "# cd ./UKB_and_AMP\n",
    "# UKB data contains indels\n",
    "# PLINK file merged with no relateds\n",
    "# /data/CARD/UKBIOBANK/EXOME_DATA_200K/PVCF_FILES/MERGED_UKB_first_pass.*"
   ]
  },
  {
   "cell_type": "code",
   "execution_count": null,
   "id": "46cdb905-bbf6-4f8b-a099-a8a9c568686b",
   "metadata": {},
   "outputs": [],
   "source": [
    "# these files are in plink2 format - convert\n",
    "\n",
    "## .psam IDs\n",
    "#IID\tSEX\n",
    "#-000001\tNA\n",
    "#-000002\tNA\n",
    "\n",
    "module load plink/2\n",
    "plink2 --pfile /data/CARD/UKBIOBANK/EXOME_DATA_200K/PVCF_FILES/MERGED_UKB_first_pass --make-bed --out MERGED_UKB_first_pass\n",
    "\n",
    "wc -l MERGED_UKB_first_pass.bim\n",
    "# 16285684 MERGED_UKB_first_pass.bim\n",
    "\n",
    "\n",
    "# Remove potential indels from UKB\n",
    "## Write \"no_indel\" file\n",
    "#In bash\n",
    "awk 'length($NF)==1 && length($(NF-1))==1' MERGED_UKB_first_pass.bim > MERGED_UKB_no_indels.txt\n",
    "wc -l MERGED_UKB_no_indels.txt\n",
    "# 14908659 MERGED_UKB_no_indels.txt\n",
    "\n",
    "awk 'length($NF)>1 || length($(NF-1))>1' MERGED_UKB_first_pass.bim > UKB_indels.txt\n",
    "wc -l UKB_indels.txt\n",
    "# 1377025 UKB_indels.txt\n",
    "\n",
    "cut -f 2 MERGED_UKB_no_indels.txt > UKB_noindels_tokeep.txt\n",
    "module load plink\n",
    "\n",
    "plink --bfile MERGED_UKB_first_pass --extract UKB_noindels_tokeep.txt --make-bed --out MERGED_UKB_no_indels\n",
    "# 14908659 variants and 200648 people pass filters and QC.\n",
    "# Note: No phenotypes present.\n",
    "\n",
    "# new working files: MERGED_UKB_no_indels"
   ]
  },
  {
   "cell_type": "code",
   "execution_count": null,
   "id": "b4551cc2-3e36-46ce-943d-41454be9f20e",
   "metadata": {},
   "outputs": [],
   "source": [
    "# Grep variants"
   ]
  },
  {
   "cell_type": "code",
   "execution_count": null,
   "id": "6161085e-8fe3-4e80-bcaf-55b83f54f664",
   "metadata": {},
   "outputs": [],
   "source": [
    "# files written to ./UKB_and_AMP\n",
    "head variants_to_grep_nohead.txt\n",
    "\n",
    "grep -w -f variants_to_grep_nohead.txt MERGED_UKB_no_indels.bim > UKB_variants_extracted_from23andMe.txt\n",
    "\n",
    "wc -l UKB_variants_extracted_from23andMe.txt\n",
    "# 608 variants"
   ]
  },
  {
   "cell_type": "markdown",
   "id": "158edf18-4346-4016-b63e-6fd72333538d",
   "metadata": {},
   "source": [
    "#### 8.1.1 Write binary file"
   ]
  },
  {
   "cell_type": "code",
   "execution_count": null,
   "id": "8db4fbe9-9f97-4c24-ba36-dd7930f3e0c5",
   "metadata": {},
   "outputs": [],
   "source": [
    "module load plink/1.9.0-beta4.4\n",
    "\n",
    "plink --bfile MERGED_UKB_no_indels --extract UKB_variants_extracted_from23andMe.txt --make-bed --out UKB_608_from23andme\n",
    "\n",
    "# 608 variants and 200648 people pass filters and QC.\n",
    "# Note: No phenotypes present.\n"
   ]
  },
  {
   "cell_type": "code",
   "execution_count": null,
   "id": "d9e48fa6-62c5-425f-9aa2-db35bb5bf436",
   "metadata": {},
   "outputs": [],
   "source": [
    "head UKB_608_from23andme.fam"
   ]
  },
  {
   "cell_type": "code",
   "execution_count": null,
   "id": "c674e1c1-0bc7-4095-a859-3d29e5faf706",
   "metadata": {},
   "outputs": [],
   "source": [
    "# This file needs to be fixed because of an odd format where column 1 is all zeros (column 1 & 2 need to be same)\n",
    "#cd ./UKB_and_AMP/\n",
    "cut -d \" \" -f 2 UKB_608_from23andme.fam > column2.txt\n",
    "cut -d \" \" -f 2,3,4,5,6 UKB_608_from23andme.fam > column23456.txt\n",
    "scp UKB_608_from23andme.fam UKB_608_from23andme_ORIGINAL.fam\n",
    "paste column2.txt column23456.txt > UKB_608_from23andme.fam"
   ]
  },
  {
   "cell_type": "code",
   "execution_count": null,
   "id": "9ec3e268-4a79-465e-8ba7-a7d38980447e",
   "metadata": {},
   "outputs": [],
   "source": [
    "head UKB_608_from23andme.fam"
   ]
  },
  {
   "cell_type": "markdown",
   "id": "df0ec0ed-a42c-48fb-9b02-54a319d946a8",
   "metadata": {},
   "source": [
    "#### 8.1.2 Write frequency file"
   ]
  },
  {
   "cell_type": "code",
   "execution_count": null,
   "id": "03decdfd-164b-400e-ab7a-864f3b5529c9",
   "metadata": {},
   "outputs": [],
   "source": [
    "module load plink/1.9.0-beta4.4\n",
    "plink --bfile UKB_608_from23andme --freq --out UKB_608_from23andme\n",
    "# Total genotyping rate is 0.998984.\n",
    "# 200648 people (0 males, 0 females, 200648 ambiguous) loaded from .fam.\n",
    "#Ambiguous sex IDs written to UKB_644_from23andme.nosex ."
   ]
  },
  {
   "cell_type": "code",
   "execution_count": null,
   "id": "60efc17f-d517-4422-bdd1-8a0b41a08289",
   "metadata": {},
   "outputs": [],
   "source": [
    "head UKB_608_from23andme.frq"
   ]
  },
  {
   "cell_type": "markdown",
   "id": "7f5a720e-a903-4db9-b291-680371341ccd",
   "metadata": {},
   "source": [
    "#### 8.1.3 Cohort age per group"
   ]
  },
  {
   "cell_type": "raw",
   "id": "ada53443-8b4e-4be7-b960-590ef1a2cf8c",
   "metadata": {},
   "source": [
    "Update phenotype in binary file\n",
    "\n",
    "# create file\n",
    "R\n",
    "cov = read.table(\"/data/CARD/UKBIOBANK/PHENOTYPE_DATA/disease_groups/UKB_EXOM_ALL_PD_PHENOTYPES_CONTROL_2021_with_PC.txt\", header = T, sep = \"\\t\")\n",
    "Pheno = cov %>% select(FID, IID, PHENO)\n",
    "names(Pheno)<-NULL #make sure you don't have data.table loaded, this won't work then\n",
    "write.table(Pheno, \"./UKB_and_AMP/updatePheno_UKB.txt\", quote = F, sep = \"\\t\", row.names=F)"
   ]
  },
  {
   "cell_type": "code",
   "execution_count": null,
   "id": "8c6a6e51-9ae0-4a01-b82c-46a906dbac75",
   "metadata": {},
   "outputs": [],
   "source": [
    "module load plink/1.9.0-beta4.4\n",
    "plink --bfile UKB_608_from23andme --allow-no-sex --pheno updatePheno_UKB.txt --keep updatePheno_UKB.txt  --make-bed --out UKB_608_from23andme_PhenoUpdate\n",
    "# 608 variants and 45857 people pass filters and QC.\n",
    "# Among remaining phenotypes, 7806 are cases and 38051 are controls."
   ]
  },
  {
   "cell_type": "code",
   "execution_count": null,
   "id": "10fe2496-3b5a-4f83-a047-5263b9b820b7",
   "metadata": {},
   "outputs": [],
   "source": [
    "head UKB_608_from23andme_PhenoUpdate.fam\n",
    "# this step also removes weird IDs"
   ]
  },
  {
   "cell_type": "code",
   "execution_count": null,
   "id": "bd989ac4-b2ea-4494-94aa-5cb751a45537",
   "metadata": {},
   "outputs": [],
   "source": [
    "head /data/CARD/UKBIOBANK/PHENOTYPE_DATA/disease_groups/UKB_EXOM_ALL_PD_PHENOTYPES_CONTROL_2021_with_PC.txt"
   ]
  },
  {
   "cell_type": "raw",
   "id": "8d40285c-3afd-423c-8eb4-e35ac8010afb",
   "metadata": {},
   "source": [
    "R\n",
    "library(tidyverse)\n",
    "library(data.table)\n",
    "\n",
    "# read in files\n",
    "cov = fread(\"/data/CARD/UKBIOBANK/PHENOTYPE_DATA/disease_groups/UKB_EXOM_ALL_PD_PHENOTYPES_CONTROL_2021_with_PC.txt\")\n",
    "IID = fread(\"./UKB_and_AMP/UKB_608_from23andme_PhenoUpdate.fam\")\n",
    "\n",
    "# change layout\n",
    "IID_1 = IID %>% select(V1) %>% rename(\"FID\" = V1)\n",
    "\n",
    "# join \n",
    "join = left_join(IID_1, cov)\n",
    "dim(join)\n",
    "\n",
    "# sex\n",
    "join_1 = join\n",
    "join_1$GENETIC_SEX[join_1$GENETIC_SEX ==0] <- \"MALE\"\n",
    "join_1$GENETIC_SEX[join_1$GENETIC_SEX ==1] <- \"FEMALE\"\n",
    "\n",
    "A tibble: 2 × 2\n",
    "GENETIC_SEX\tn\n",
    "<chr>\t<int>\n",
    "FEMALE\t22040\n",
    "MALE\t23817\n",
    "\n",
    "# Pheno group\n",
    "join_1 %>% group_by(PHENO_NAME) %>% tally()\n",
    "A tibble: 4 × 2\n",
    "PHENO_NAME\tn\n",
    "<chr>\t<int>\n",
    "CONTROL\t38051\n",
    "parent\t6033\n",
    "PD\t1105\n",
    "sibling\t668\n",
    "\n",
    "# Pheno binary\n",
    "join_1$PHENO[join_1$PHENO ==1] <- \"CONTROL\"\n",
    "join_1$PHENO[join_1$PHENO ==2] <- \"CASE\"\n",
    "\n",
    "join_1 %>% group_by(PHENO) %>% tally()\n",
    "A tibble: 2 × 2\n",
    "PHENO\tn\n",
    "<chr>\t<int>\n",
    "CASE\t7806\n",
    "CONTROL\t38051"
   ]
  },
  {
   "cell_type": "raw",
   "id": "a91d45b8-512d-4325-b38b-77c781b8cb62",
   "metadata": {},
   "source": [
    "# Age (mean and sd)\n",
    "\n",
    "## binary pheno\n",
    "join_1 %>% group_by(PHENO) %>% summarise(mean = mean(AGE_OF_RECRUIT, na.rm = T),\n",
    "                                           sd =sd(AGE_OF_RECRUIT, na.rm = T))\n",
    "                                           \n",
    "A tibble: 2 × 3\n",
    "PHENO\tmean\tsd\n",
    "<chr>\t<dbl>\t<dbl>\n",
    "CASE\t59.12349\t7.118355\n",
    "CONTROL\t64.05845\t2.827749\n",
    "\n",
    "## group pheno\n",
    "join_1 %>% group_by(PHENO_NAME) %>% summarise(mean = mean(AGE_OF_RECRUIT, na.rm = T),\n",
    "                                           sd =sd(AGE_OF_RECRUIT, na.rm = T))\n",
    "                                           \n",
    "A tibble: 4 × 3\n",
    "PHENO_NAME\tmean\tsd\n",
    "<chr>\t<dbl>\t<dbl>\n",
    "CONTROL\t64.05845\t2.827749\n",
    "parent\t58.08221\t7.230196\n",
    "PD\t62.94299\t5.238809\n",
    "sibling\t62.20958\t5.589219"
   ]
  },
  {
   "cell_type": "raw",
   "id": "585760dc-d92c-434d-a8e9-664a06c61b35",
   "metadata": {},
   "source": [
    "# Sex (percentage)\n",
    "\n",
    "## binary pheno \n",
    "join_1 %>% group_by(PHENO, GENETIC_SEX) %>% tally() %>% mutate(perc = n/sum(n)*100)\n",
    "\n",
    "A grouped_df: 4 × 4\n",
    "PHENO\tGENETIC_SEX\tn\tperc\n",
    "<chr>\t<chr>\t<int>\t<dbl>\n",
    "CASE\tFEMALE\t3557\t45.56751\n",
    "CASE\tMALE\t4249\t54.43249\n",
    "CONTROL\tFEMALE\t18483\t48.57428\n",
    "CONTROL\tMALE\t19568\t51.42572\n",
    "\n",
    "## group pheno\n",
    "join_1 %>% group_by(PHENO_NAME, GENETIC_SEX) %>% tally() %>% mutate(perc = n/sum(n)*100)\n",
    "\n",
    "A grouped_df: 8 × 4\n",
    "PHENO_NAME\tGENETIC_SEX\tn\tperc\n",
    "<chr>\t<chr>\t<int>\t<dbl>\n",
    "CONTROL\tFEMALE\t18483\t48.57428\n",
    "CONTROL\tMALE\t19568\t51.42572\n",
    "parent\tFEMALE\t2564\t42.49959\n",
    "parent\tMALE\t3469\t57.50041\n",
    "PD\tFEMALE\t689\t62.35294\n",
    "PD\tMALE\t416\t37.64706\n",
    "sibling\tFEMALE\t304\t45.50898\n",
    "sibling\tMALE\t364\t54.49102"
   ]
  },
  {
   "cell_type": "markdown",
   "id": "bde65677-7c17-432e-951e-392ac464bdd4",
   "metadata": {},
   "source": [
    "### 8.2 AMP-PD"
   ]
  },
  {
   "cell_type": "raw",
   "id": "4f8c5a72-287f-4e47-bf2f-11170c3f46d3",
   "metadata": {},
   "source": [
    "# File locations\n",
    "\n",
    "AMP-PD (no NIH samples)\n",
    "/data/CARD/PD/AMP_NIH/no_relateds/DALGB_12MAR2022/AMPv2.5_samplestoKeep_EuroOnly_noDups_noNIHDups_wPheno_wSex_no_cousins*\n",
    "\n",
    "#covariate file for burdens\n",
    "/data/CARD/PD/AMP_NIH/no_relateds/COV_PD_NIH_AMPv2.5_samplestoKeep_EuroOnly_noDups_noNIHDups_wPheno_wSex_no_cousins.txt\n"
   ]
  },
  {
   "cell_type": "markdown",
   "id": "cf25a1ea-29e0-40cb-9cb1-0a51032aae43",
   "metadata": {},
   "source": [
    "#### 8.2.1 Write binary files"
   ]
  },
  {
   "cell_type": "code",
   "execution_count": null,
   "id": "16cf4873-d53c-49f5-895d-52561c57248e",
   "metadata": {},
   "outputs": [],
   "source": [
    "grep -w -f variants_to_grep_nohead.txt /data/CARD/PD/AMP_NIH/no_relateds/DALGB_12MAR2022/AMPv2.5_samplestoKeep_EuroOnly_noDups_noNIHDups_wPheno_wSex_no_cousins.bim > AMPonly_variants_extracted_from23andMe.txt\n",
    "wc -l AMPonly_variants_extracted_from23andMe.txt\n",
    "# 282 AMPonly_variants_extracted_from23andMe.txt"
   ]
  },
  {
   "cell_type": "code",
   "execution_count": null,
   "id": "72a62805-5492-4f80-a698-6c2678fff801",
   "metadata": {},
   "outputs": [],
   "source": [
    "# Write new binary files\n",
    "#module load plink/1.9.0-beta4.4\n",
    "\n",
    "plink --bfile /data/CARD/PD/AMP_NIH/no_relateds/DALGB_12MAR2022/AMPv2.5_samplestoKeep_EuroOnly_noDups_noNIHDups_wPheno_wSex_no_cousins \\\n",
    "--extract AMPonly_variants_extracted_from23andMe.txt \\\n",
    "--make-bed \\\n",
    "--out AMP_282_from23andme\n",
    "\n",
    "# 282 variants and 4007 people pass filters and QC.\n",
    "# Among remaining phenotypes, 1451 are cases and 2556 are controls.\n",
    "# --make-bed to AMP_282_from23andme.bed + AMP_282_from23andme.bim +\n",
    "# AMP_282_from23andme.fam ... done.\n",
    "# AMP only contains 282 out of x variants provided by 23andme"
   ]
  },
  {
   "cell_type": "markdown",
   "id": "ffbd443d-bcb6-4e30-8d4d-a5f9488d37d1",
   "metadata": {},
   "source": [
    "#### 8.2.2 Generate frequency file"
   ]
  },
  {
   "cell_type": "code",
   "execution_count": null,
   "id": "52c6d4bd-461f-4375-ac92-274146916cb5",
   "metadata": {},
   "outputs": [],
   "source": [
    "# module load plink/1.9.0-beta4.4\n",
    "plink --bfile AMP_282_from23andme --freq --out AMP_282_from23andme\n",
    "\n",
    "# 4007 people (2197 males, 1810 females) loaded from .fam.\n",
    "# 4007 phenotype values loaded from .fam."
   ]
  },
  {
   "cell_type": "markdown",
   "id": "af3328b0-5a33-4880-91d8-9f14fe322965",
   "metadata": {},
   "source": [
    "#### 8.2.3 Cohort age per group"
   ]
  },
  {
   "cell_type": "raw",
   "id": "0520a97b-64ad-4f41-8577-2742126a293a",
   "metadata": {},
   "source": [
    "# read in files\n",
    "cov = fread(\"/data/CARD/PD/AMP_NIH/no_relateds/COV_PD_NIH_AMPv2.5_samplestoKeep_EuroOnly_noDups_noNIHDups_wPheno_wSex_no_cousins.txt\")\n",
    "IID = fread(\"/data/CARD/PD/AMP_NIH/no_relateds/DALGB_12MAR2022/AMPv2.5_samplestoKeep_EuroOnly_noDups_noNIHDups_wPheno_wSex_no_cousins.fam\")\n",
    "\n",
    "# change layout\n",
    "IID_1 = IID %>% select(V1) %>% rename(\"FID\" = V1)\n",
    "\n",
    "# join \n",
    "join = left_join(IID_1, cov)\n",
    "dim(join)\n",
    "\n",
    "# sex\n",
    "join_1 = join\n",
    "join_1$SEX[join_1$SEX ==1] <- \"MALE\"\n",
    "join_1$SEX[join_1$SEX ==2] <- \"FEMALE\"\n",
    "\n",
    "# binary pheno\n",
    "join_1$PD_PHENO[join_1$PD_PHENO ==1] <- \"CONTROL\"\n",
    "join_1$PD_PHENO[join_1$PD_PHENO ==2] <- \"CASE\"\n",
    "join_1 %>% group_by(PD_PHENO) %>% tally()\n",
    "                                           \n",
    "                                           "
   ]
  },
  {
   "cell_type": "raw",
   "id": "c45d56bf-38bf-4339-8382-d909abc346cf",
   "metadata": {},
   "source": [
    "# Age (mean, sd)\n",
    "\n",
    "join_1 %>% group_by(PD_PHENO) %>% summarise(mean = mean(AGE_ANALYSIS, na.rm = T),\n",
    "                                           sd =sd(AGE_ANALYSIS, na.rm = T))"
   ]
  },
  {
   "cell_type": "code",
   "execution_count": null,
   "id": "b73a1df6-ba01-47e2-93f6-59b898666a03",
   "metadata": {},
   "outputs": [],
   "source": [
    "# Sex (percentage)\n",
    "\n",
    "# binary pheno\n",
    "join_1 %>% group_by(PD_PHENO, SEX) %>% tally() %>% mutate(perc =n/sum(n)*100)"
   ]
  },
  {
   "cell_type": "markdown",
   "id": "74499353-9b43-452b-8c78-ccef08be9c9b",
   "metadata": {
    "tags": []
   },
   "source": [
    "## 9. Association testing"
   ]
  },
  {
   "cell_type": "markdown",
   "id": "6e68a836-702d-4d17-9989-941805b6b6f4",
   "metadata": {},
   "source": [
    "### 9.1 Association testing in Plink"
   ]
  },
  {
   "cell_type": "markdown",
   "id": "60312d06-c492-42c6-b41a-fbaa770b8106",
   "metadata": {},
   "source": [
    "#### 9.1.1 UKB"
   ]
  },
  {
   "cell_type": "code",
   "execution_count": null,
   "id": "1851cbd1-6166-4e61-bde5-768d07fc1d7a",
   "metadata": {},
   "outputs": [],
   "source": [
    "module load plink/1.9.0-beta4.4\n",
    "plink --bfile UKB_608_from23andme --assoc --pheno /data/CARD/UKBIOBANK/PHENOTYPE_DATA/disease_groups/UKB_EXOM_ALL_PD_PHENOTYPES_CONTROL_2021_with_PC.txt --pheno-name PHENO --allow-no-sex --out UKB_608_from23andme_ALL_PD\n"
   ]
  },
  {
   "cell_type": "raw",
   "id": "2cec3fb7-6331-44d2-b672-85946b6b78b6",
   "metadata": {},
   "source": [
    "[+] Loading plink  1.9.0-beta4.4  on cn4300 \n",
    "PLINK v1.90b4.4 64-bit (21 May 2017)           www.cog-genomics.org/plink/1.9/\n",
    "(C) 2005-2017 Shaun Purcell, Christopher Chang   GNU General Public License v3\n",
    "Logging to ./UKB_and_AMP/UKB_608_from23andme_ALL_PD.log.\n",
    "Options in effect:\n",
    "  --allow-no-sex\n",
    "  --assoc\n",
    "  --bfile ./UKB_and_AMP/UKB_608_from23andme\n",
    "  --out ./UKB_and_AMP/UKB_608_from23andme_ALL_PD\n",
    "  --pheno /data/CARD/UKBIOBANK/PHENOTYPE_DATA/disease_groups/UKB_EXOM_ALL_PD_PHENOTYPES_CONTROL_2021_with_PC.txt\n",
    "  --pheno-name PHENO\n",
    "\n",
    "515537 MB RAM detected; reserving 257768 MB for main workspace.\n",
    "608 variants loaded from .bim file.\n",
    "200648 people (0 males, 0 females, 200648 ambiguous) loaded from .fam.\n",
    "Ambiguous sex IDs written to ./UKB_and_AMP/UKB_608_from23andme_ALL_PD.nosex .\n",
    "45857 phenotype values present after --pheno.\n",
    "Using 1 thread (no multithreaded calculations invoked).\n",
    "Before main variant filters, 200648 founders and 0 nonfounders present.\n",
    "Calculating allele frequencies... 10111213141516171819202122232425262728293031323334353637383940414243444546474849505152535455565758596061626364656667686970717273747576777879808182838485868788899091929394959697989 done.\n",
    "Total genotyping rate is 0.999036.\n",
    "608 variants and 200648 people pass filters and QC.\n",
    "Among remaining phenotypes, 7806 are cases and 38051 are controls.  (154791\n",
    "phenotypes are missing.)\n",
    "Writing C/C --assoc report to ./UKB_and_AMP/UKB_608_from23andme_ALL_PD.assoc\n",
    "... 21263839404656598586878891done."
   ]
  },
  {
   "cell_type": "code",
   "execution_count": null,
   "id": "d9e9e485-224d-49c6-8377-9db84d2acb07",
   "metadata": {},
   "outputs": [],
   "source": [
    "# generate raw file for case/control counts\n",
    "\n",
    "module load plink/1.9.0-beta4.4\n",
    "plink --bfile UKB_608_from23andme_PhenoUpdate --model --out UKB_608_from23andme_PhenoUpdate --allow-no-sex --pheno /data/CARD/UKBIOBANK/PHENOTYPE_DATA/disease_groups/UKB_EXOM_ALL_PD_PHENOTYPES_CONTROL_2021_with_PC.txt --pheno-name PHENO"
   ]
  },
  {
   "cell_type": "code",
   "execution_count": null,
   "id": "612e74f0-a934-4b3b-8712-cb463f33ffb9",
   "metadata": {},
   "outputs": [],
   "source": [
    "head UKB_608_from23andme_PhenoUpdate.model"
   ]
  },
  {
   "cell_type": "raw",
   "id": "0ff50f3d-10bd-4cf4-a2b7-daac2ff34d16",
   "metadata": {},
   "source": [
    "library(data.table)\n",
    "library(tidyverse)\n",
    "\n",
    "data = fread(\"UKB_608_from23andme_PhenoUpdate.model\")\n",
    "data1 = data %>% filter(TEST == \"GENO\")\n",
    "\n",
    "write.table(data1, \"UKB_608_from23andme_PhenoUpdate_GENO.model\", row.names = F, sep = \"\\t\", quote =F)"
   ]
  },
  {
   "cell_type": "code",
   "execution_count": null,
   "id": "46184612-e143-46b8-8467-c19839725f47",
   "metadata": {},
   "outputs": [],
   "source": [
    "head UKB_608_from23andme_PhenoUpdate_GENO.model\n",
    "wc -l UKB_608_from23andme_PhenoUpdate_GENO.model"
   ]
  },
  {
   "cell_type": "markdown",
   "id": "f17cdf39-520c-4894-803e-06a8bbd2c171",
   "metadata": {},
   "source": [
    "#### 9.1.2 AMP-PD"
   ]
  },
  {
   "cell_type": "code",
   "execution_count": null,
   "id": "686a733c-bcf3-4a72-a8a8-23bb21d56345",
   "metadata": {},
   "outputs": [],
   "source": [
    "plink --bfile AMP_282_from23andme --assoc --pheno /data/CARD/PD/AMP_NIH/no_relateds/COV_PD_NIH_AMPv2.5_samplestoKeep_EuroOnly_noDups_noNIHDups_wPheno_wSex_no_cousins.txt --pheno-name PD_PHENO --out /data/CARD/projects/Rare_variants_2023_VP/AMP_282_from23andme_pheno\n"
   ]
  },
  {
   "cell_type": "raw",
   "id": "72dd230b-d10b-4f10-8720-37d43dd37c78",
   "metadata": {},
   "source": [
    "PLINK v1.90b4.4 64-bit (21 May 2017)           www.cog-genomics.org/plink/1.9/\n",
    "(C) 2005-2017 Shaun Purcell, Christopher Chang   GNU General Public License v3\n",
    "Logging to ./UKB_and_AMP/AMP_282_from23andme_pheno.log.\n",
    "Options in effect:\n",
    "  --assoc\n",
    "  --bfile ./UKB_and_AMP/AMP_282_from23andme\n",
    "  --out ./UKB_and_AMP/AMP_282_from23andme_pheno\n",
    "  --pheno /data/CARD/PD/AMP_NIH/no_relateds/COV_PD_NIH_AMPv2.5_samplestoKeep_EuroOnly_noDups_noNIHDups_wPheno_wSex_no_cousins.txt\n",
    "  --pheno-name PD_PHENO\n",
    "\n",
    "515537 MB RAM detected; reserving 257768 MB for main workspace.\n",
    "282 variants loaded from .bim file.\n",
    "4007 people (2197 males, 1810 females) loaded from .fam.\n",
    "4007 phenotype values present after --pheno.\n",
    "Using 1 thread (no multithreaded calculations invoked).\n",
    "Before main variant filters, 4007 founders and 0 nonfounders present.\n",
    "Calculating allele frequencies... 10111213141516171819202122232425262728293031323334353637383940414243444546474849505152535455565758596061626364656667686970717273747576777879808182838485868788899091929394959697989 done.\n",
    "282 variants and 4007 people pass filters and QC.\n",
    "Among remaining phenotypes, 1451 are cases and 2556 are controls.\n",
    "Writing C/C --assoc report to ./UKB_and_AMP/AMP_282_from23andme_pheno.assoc ...\n",
    "172138404245455458868891done."
   ]
  },
  {
   "cell_type": "code",
   "execution_count": null,
   "id": "db9f58e9-1555-4fdf-9176-2fef7484b6d1",
   "metadata": {},
   "outputs": [],
   "source": [
    "# generate raw file for case/control counts\n",
    "\n",
    "module load plink/1.9.0-beta4.4\n",
    "plink --bfile AMP_282_from23andme --model --out AMP_282_from23andme_pheno --pheno /data/CARD/PD/AMP_NIH/no_relateds/COV_PD_NIH_AMPv2.5_samplestoKeep_EuroOnly_noDups_noNIHDups_wPheno_wSex_no_cousins.txt --pheno-name PD_PHENO\n"
   ]
  },
  {
   "cell_type": "raw",
   "id": "53b76f35-5d88-4be9-9372-fa07bed98edc",
   "metadata": {},
   "source": [
    "library(data.table)\n",
    "library(tidyverse)\n",
    "\n",
    "data = fread(\"AMP_282_from23andme_pheno.model\")\n",
    "data1 = data %>% filter(TEST == \"GENO\")\n",
    "\n",
    "write.table(data1, \"AMP_282_from23andme_pheno_GENO.model\", row.names = F, sep = \"\\t\", quote =F)"
   ]
  },
  {
   "cell_type": "code",
   "execution_count": null,
   "id": "65d3d525-0a13-492e-a74a-a020e41b6dff",
   "metadata": {},
   "outputs": [],
   "source": [
    "head AMP_282_from23andme_pheno_GENO.model\n",
    "wc -l AMP_282_from23andme_pheno_GENO.model"
   ]
  },
  {
   "cell_type": "markdown",
   "id": "f806404a-5128-4e91-a358-5f82d3e20c15",
   "metadata": {
    "tags": []
   },
   "source": [
    "### 9.2 Association testing in Rvtest"
   ]
  },
  {
   "cell_type": "markdown",
   "id": "6b96a1a5-2d95-4929-b133-512372b06e17",
   "metadata": {},
   "source": [
    "#### 9.2.1 UKB"
   ]
  },
  {
   "cell_type": "code",
   "execution_count": null,
   "id": "eb0e5cb3-b782-41bc-8030-cee471700573",
   "metadata": {},
   "outputs": [],
   "source": [
    "# Convert binary files to vcf for input\n",
    "module load plink/2.0-dev-20191128\n",
    "module load samtools\n",
    "VARIANT_FILE=$1\n",
    "OUTNAME=${VARIANT_FILE/\".txt\"/\"\"}\n",
    "plink2 --bfile UKB_608_from23andme \\\n",
    "--export vcf bgz id-paste=iid --out UKB_608_from23andme${OUTNAME} --mac 1\n",
    "\n",
    "tabix -p vcf  UKB_608_from23andme${OUTNAME}.vcf.gz"
   ]
  },
  {
   "cell_type": "raw",
   "id": "62278db7-8c90-43ea-b503-3f906539e816",
   "metadata": {},
   "source": [
    "# new files written: \n",
    "UKB_608_from23andme.vcf.gz\n",
    "UKB_608_from23andme.vcf.gz.tbi"
   ]
  },
  {
   "cell_type": "raw",
   "id": "aa6f7630-8e4c-4ccb-9995-95fcd531ae2d",
   "metadata": {},
   "source": [
    "# Phenotype file looks like this\n",
    "# using UKB_EXOM_ALL_PD_PHENOTYPES_CONTROL_2021_with_PC.txt\n",
    "# # A tibble: 4 × 2\n",
    "  PHENO_NAME     n\n",
    "  <chr>      <int>\n",
    "1 CONTROL    38051\n",
    "2 parent      6033\n",
    "3 PD          1105\n",
    "4 sibling      668\n",
    "\n",
    "# UKB_all %>% group_by(SEX) %>% tally()\n",
    "# A tibble: 2 × 2\n",
    "    SEX     n\n",
    "  <int> <int>\n",
    "1     1 22040\n",
    "2     2 23817"
   ]
  },
  {
   "cell_type": "code",
   "execution_count": null,
   "id": "63d3cf00-73c7-4f21-aef7-e38841571574",
   "metadata": {},
   "outputs": [],
   "source": [
    "# Now run rvtest\n",
    "module load rvtests\n",
    "\n",
    "rvtest --inVcf UKB_608_from23andme.vcf.gz --pheno /data/CARD/UKBIOBANK/PHENOTYPE_DATA/disease_groups/UKB_EXOM_ALL_PD_PHENOTYPES_CONTROL_2021_with_PC.txt --pheno-name PHENO --out UKB_608_from23andme_withcovars_score_ALL_PD --single wald,score --covar /data/CARD/UKBIOBANK/PHENOTYPE_DATA/disease_groups/UKB_EXOM_ALL_PD_PHENOTYPES_CONTROL_2021_with_PC.txt --covar-name GENETIC_SEX,AGE_OF_RECRUIT,TOWNSEND,PC1,PC2,PC3,PC4,PC5\n"
   ]
  },
  {
   "cell_type": "raw",
   "id": "64acdfb1-4188-4d74-bb98-01ae5832287a",
   "metadata": {},
   "source": [
    "[INFO]\tAnalyzed [ 608 ] variants\n",
    "[INFO]\tAnalysis ends at: Wed Nov 23 15:15:03 2022\n",
    "[INFO]\tAnalysis took 22 seconds\n",
    "RVTESTS finished successfully"
   ]
  },
  {
   "cell_type": "raw",
   "id": "537bb17f-7899-4916-a736-9c8462d576a4",
   "metadata": {},
   "source": [
    "## new files generated\n",
    "UKB_608_from23andme_withcovars_score_ALL_PD.log\n",
    "UKB_608_from23andme_withcovars_score_ALL_PD.SingleScore.assoc\n",
    "UKB_608_from23andme_withcovars_score_ALL_PD.SingleWald.assoc\n",
    "\n",
    "# check for file content\n",
    "head UKB_608_from23andme_withcovars_score_ALL_PD.SingleScore.assoc"
   ]
  },
  {
   "cell_type": "markdown",
   "id": "93c93063-0954-478a-ae85-7dd07e0f4e54",
   "metadata": {},
   "source": [
    "#### 9.2.2 AMP-PD"
   ]
  },
  {
   "cell_type": "code",
   "execution_count": null,
   "id": "d2710f3e-196e-4802-90da-7e87ba78d670",
   "metadata": {},
   "outputs": [],
   "source": [
    "# convert binary plink files to vcf for rvtest\n",
    "module load plink/2.0-dev-20191128\n",
    "module load samtools\n",
    "VARIANT_FILE=$1\n",
    "OUTNAME=${VARIANT_FILE/\".txt\"/\"\"}\n",
    "plink2 --bfile AMP_282_from23andme \\\n",
    "--export vcf bgz id-paste=iid --out AMP_282_from23andme${OUTNAME} --mac 1\n",
    "\n",
    "tabix -p vcf AMP_282_from23andme${OUTNAME}.vcf.gz\n"
   ]
  },
  {
   "cell_type": "raw",
   "id": "fb7be546-6e81-415c-b5d4-ea7ee5dd8e90",
   "metadata": {},
   "source": [
    "[-] Unloading plink  2.0-dev-20191128 \n",
    "[+] Loading plink  2.0-dev-20191128 \n",
    "[-] Unloading samtools 1.16.1  ... \n",
    "[+] Loading samtools 1.16.1  ... \n",
    "PLINK v2.00a2LM 64-bit Intel (28 Nov 2019)     www.cog-genomics.org/plink/2.0/\n",
    "(C) 2005-2019 Shaun Purcell, Christopher Chang   GNU General Public License v3\n",
    "Logging to ./UKB_and_AMP/AMP_282_from23andme.log.\n",
    "Options in effect:\n",
    "  --bfile ./UKB_and_AMP/AMP_282_from23andme\n",
    "  --export vcf bgz id-paste=iid\n",
    "  --mac 1\n",
    "  --out ./UKB_and_AMP/AMP_282_from23andme\n",
    "\n",
    "Start time: Wed Nov 23 15:40:35 2022\n",
    "515537 MiB RAM detected; reserving 257768 MiB for main workspace.\n",
    "Using up to 128 threads (change this with --threads).\n",
    "4007 samples (1810 females, 2197 males; 4007 founders) loaded from\n",
    "./UKB_and_AMP/AMP_282_from23andme.fam.\n",
    "282 variants loaded from ./UKB_and_AMP/AMP_282_from23andme.bim.\n",
    "1 binary phenotype loaded (1451 cases, 2556 controls).\n",
    "Calculating allele frequencies... done.\n",
    "26 variants removed due to allele frequency threshold(s)\n",
    "(--maf/--max-maf/--mac/--max-mac).\n",
    "256 variants remaining after main filters.\n",
    "Warning: '_' present in original sample IDs; --export vcf will not be able to\n",
    "reconstruct them. Consider rerunning with a suitable --export id-delim= value.\n",
    "--export vcf bgz to ./UKB_and_AMP/AMP_282_from23andme.vcf.gz ... 1010111112121313141415151616171718181919202021212222232324252526262727282829293030313132323333343435353636373738383939404041414242434344444545464647474848495050515152525353545455555656575758585959606061616262636364646565666667676868696970707171727273737475757676777778787979808081818282838384848585868687878888898990909191929293939494959596969797989899done.\n",
    "End time: Wed Nov 23 15:40:35 2022"
   ]
  },
  {
   "cell_type": "code",
   "execution_count": null,
   "id": "c377fe17-f666-4e31-9163-7328b4d54561",
   "metadata": {},
   "outputs": [],
   "source": [
    "# new files\n",
    "AMP_282_from23andme.vcf.gz\n",
    "AMP_282_from23andme.vcf.gz.tbi"
   ]
  },
  {
   "cell_type": "code",
   "execution_count": null,
   "id": "7c72f8bc-18a3-43c6-8ae9-723c10ce0af8",
   "metadata": {},
   "outputs": [],
   "source": [
    "# Run Rvtest\n",
    "module load rvtests\n",
    "\n",
    "# don't correct for age in AMP\n",
    "rvtest --inVcf AMP_282_from23andme.vcf.gz --pheno /data/CARD/PD/AMP_NIH/no_relateds/COV_PD_NIH_AMPv2.5_samplestoKeep_EuroOnly_noDups_noNIHDups_wPheno_wSex_no_cousins.txt --pheno-name PD_PHENO --out AMP_256_from23andme_withcovars_score --single wald,score --covar /data/CARD/PD/AMP_NIH/no_relateds/COV_PD_NIH_AMPv2.5_samplestoKeep_EuroOnly_noDups_noNIHDups_wPheno_wSex_no_cousins.txt --covar-name SEX,PC1,PC2,PC3,PC4,PC5"
   ]
  },
  {
   "cell_type": "raw",
   "id": "dabb1170-e683-4202-87df-97417f10904b",
   "metadata": {},
   "source": [
    "[INFO]\tLoaded 1451 cases, 2556 controls, and 0 missing phenotypes\n",
    "[WARN]\t-- Enabling binary phenotype mode -- \n",
    "[INFO]\tAnalysis begins with [ 4007 ] samples...\n",
    "[INFO]\tImpute missing genotype to mean (by default)\n",
    "[INFO]\tAnalysis started\n",
    "[INFO]\tAnalyzed [ 256 ] variants"
   ]
  },
  {
   "cell_type": "raw",
   "id": "e16ea867-2a4d-44a7-9966-b172c2490942",
   "metadata": {},
   "source": [
    "# new files\n",
    "AMP_256_from23andme_withcovars_score.log\n",
    "AMP_256_from23andme_withcovars_score.SingleScore.assoc\n",
    "AMP_256_from23andme_withcovars_score.SingleWald.assoc\n",
    "\n",
    "# Pheno file\n",
    "AMP_pheno %>% group_by(PD_PHENO) %>% tally()\n",
    "# A tibble: 2 × 2\n",
    "  PD_PHENO     n\n",
    "     <int> <int>\n",
    "1        1  4610 \n",
    "2        2  3376\n",
    "\n",
    "(1 = CONTROL, 2 = CASE)"
   ]
  },
  {
   "cell_type": "markdown",
   "id": "c0a77a40-0870-449a-aca5-cba3bd4fc25d",
   "metadata": {},
   "source": [
    "## 10. Meta-analysis"
   ]
  },
  {
   "cell_type": "markdown",
   "id": "b2b98491-55a7-419f-90d2-262561d5da30",
   "metadata": {},
   "source": [
    "### 10.1 Prepare files to match"
   ]
  },
  {
   "cell_type": "markdown",
   "id": "cc758731-ced7-4488-8974-224531f3f468",
   "metadata": {},
   "source": [
    "#### 10.1.1 23andMe"
   ]
  },
  {
   "cell_type": "raw",
   "id": "fe232fda-f8f4-4d58-819c-f4a8c3daf68a",
   "metadata": {},
   "source": [
    "# Add weights (number of people) to 23andme file\n",
    "module load R\n",
    "R\n",
    "library(tidyverse)\n",
    "library(data.table)\n",
    "andme = fread(\"23andMe_834variants_annotated_and_stats.txt\")\n",
    "\n",
    "# derive weight, i.e how many samples analyzed\n",
    "andme =andme %>% dplyr::mutate(andme, \"N_controls\" = rowSums((andme[,AA.0:BB.0]), na.rm = TRUE))\n",
    "andme =andme %>% dplyr::mutate(andme, \"N_cases\" = rowSums((andme[,AA.1:BB.1]), na.rm = TRUE))\n",
    "# andme =andme %>% dplyr::mutate(N_INFORMATIVE = N_controls+N_cases)\n",
    "# i think this should've been the correct approach from the beginning, not the one below?\n",
    "\n",
    "andme %>% summarise_at(vars(N_controls, N_cases), funs(max), na.rm = T)\n",
    "N_controls N_cases\n",
    "  3065473   25034\n",
    "\n",
    "# 3065473+25034\n",
    "# [1] 3090507\n",
    "andme$N_INFORMATIVE = 3090507\n",
    "\n",
    "write.table(andme, \"834_in23andme_formeta_results_collaborators.txt\", row.names= F, sep = \"\\t\", quote =F)\n"
   ]
  },
  {
   "cell_type": "raw",
   "id": "e8eee57a-cfa1-4de8-a9ee-848c245fc045",
   "metadata": {},
   "source": [
    "andme1=andme\n",
    "\n",
    "andme1 = fread(\"834_in23andme_formeta_results_collaborators.txt\")\n",
    "andme1$MarkerName = andme1$`CHR.BP.REF.ALT`\n",
    "andme1 = andme1 %>% separate(CHR.BP.REF.ALT, c(\"CHR\", \"BP\", \"REF\", \"ALT\"), sep = \":\")\n",
    "andme1 = andme1 %>% unite(`CHR.BP`, c(\"CHR\", \"BP\"), sep = \":\")\n",
    "\n",
    "# add on alt/effect allele from original file\n",
    "original = fread(\"963_snps_alleles_correct_fasta.txt\")\n",
    "original = original %>% unite(\"MarkerName\", c(chr, start, REF, ALT), sep=\":\") %>% select(MarkerName, alternative_allele, effect_allele)\n",
    "\n",
    "# join files\n",
    "andme2 = left_join(andme1, original)\n",
    "dim(andme2)\n",
    "# 834 49\n",
    "\n",
    "write.table(andme2, \"23andMe_834variants_annotated_and_stats.txt\", row.names = F, sep = \"\\t\", quote =F)"
   ]
  },
  {
   "cell_type": "code",
   "execution_count": null,
   "id": "6ebbff6c-f77f-43f3-beb0-5dae4d077f55",
   "metadata": {},
   "outputs": [],
   "source": [
    "head 23andMe_834variants_annotated_and_stats.txt"
   ]
  },
  {
   "cell_type": "raw",
   "id": "3cedb852-295d-4a1f-9f63-6172400c87f0",
   "metadata": {},
   "source": [
    "# Initially 834 variants, this will be further reduced by filtering:\n",
    "\n",
    "# make 23andme data match this layout\n",
    "\n",
    "# apply suggested thresholds (suggested by Karl Heilbron @23andme)\n",
    "# this shows how many variants would be removed\n",
    "\n",
    "## gt.rate < 0.9 (genotyping rate)\n",
    "andme2 %>% filter(src == \"G\" & gt.rate <0.9) %>% tally()\n",
    "#  n\n",
    "#  5\n",
    "\n",
    "andme2 %>% filter(src == \"G\" & p.date <1e-50) %>% tally()\n",
    "#   n\n",
    "#  12\n",
    "\n",
    "andme2 %>% filter(src == \"I\" & avg.rsqr < 0.5) %>% tally()\n",
    "#  n\n",
    "#  76\n",
    "\n",
    "andme2 %>% filter(src == \"I\" & min.rsqr < 0.5) %>% tally()\n",
    "#   n\n",
    "# 122\n",
    "\n",
    "andme2 %>% filter(src == \"I\" & p.batch < 1e-50) %>% tally()\n",
    "#  n\n",
    "# 8\n",
    "\n",
    "\n",
    "# now apply them \n",
    "andme3 = andme2 %>% filter(src == \"G\" & gt.rate >0.9 | src == \"G\" & p.date >1e-50 | src == \"I\" & avg.rsqr > 0.5| src == \"I\" & min.rsqr > 0.5|src == \"I\" & p.batch > 1e-50)\n",
    "\n",
    "# Karl: I'd recommend keeping most of these thresholds, but experiment with relaxing p.date and p.batch. LRRK2 G2019S doesn't fail by much, so it may be sensible to use a slightly less stringent threshold there (instead of removing these filters altogether).\n",
    "\n",
    "dim(andme3)\n",
    "[1] 703  48"
   ]
  },
  {
   "cell_type": "raw",
   "id": "4f2a2986-54c4-4d50-bb02-a3a987ce627a",
   "metadata": {},
   "source": [
    "# Some imputed variants have the allele frequencies in a different column, so check this and make one frequency column\n",
    "\n",
    "# overall how many are genotyped vs imputed?\n",
    "andme3 %>% group_by(src) %>% tally()\n",
    "# A tibble: 2 × 2\n",
    "  src       n\n",
    "  <chr> <int>\n",
    "1 G       304\n",
    "2 I       399\n",
    "\n",
    "# correct those imputed ones with missing freq.b\n",
    "andme3$FREQ = andme3$freq.b\n",
    "andme_edit = andme3 %>% mutate(FREQ = if_else(src == \"I\" & is.na(freq.b), dose.b, FREQ))\n",
    "\n",
    "###NEW \n",
    "andme_edit = andme3 %>% mutate(freq.a = 1-freq.b)\n",
    "andme_edit = andme_edit %>% separate(alleles, c(\"Allele1\", \"Allele2\"), sep = \"/\")\n",
    "\n",
    "#minor/major allele\n",
    "andme_edit$REF_new <- ifelse(andme_edit$FREQ > 0.5, as.character(andme_edit$Allele2), as.character(andme_edit$Allele1))\n",
    "andme_edit$ALT_new <- ifelse(andme_edit$FREQ > 0.5, as.character(andme_edit$Allele1), as.character(andme_edit$Allele2))\n",
    "\n",
    "# flip frequencies: call it BETA\n",
    "class(andme_edit$FREQ)\n",
    "andme_edit = andme_edit %>% mutate(FREQ1 = if_else(FREQ > 0.5, 1-FREQ, FREQ))\n",
    "\n",
    "# which alleles need flippin? Flip betas/effects!\n",
    "andme_edit = andme_edit %>%\n",
    "  mutate(Flip = FREQ > 0.5, \n",
    "         effect1 = ifelse(Flip, -effect, effect)) \n",
    "\n",
    "## rename colnames\n",
    "andme_edit = andme_edit %>% dplyr::rename(\"effect_old\" = effect, \"effect\" = effect1, \"FREQ_old\" = FREQ, \"FREQ\" = FREQ1, \"REF_old\" = REF, \"ALT_old\" = ALT, \"REF\" = REF_new, \"ALT\" = ALT_new)\n",
    "\n",
    "### check if this is corret\n",
    "andme_edit %>% select(VariantName, Flip, effect_old, effect, FREQ_old, FREQ, REF_old, REF, ALT_old, ALT) %>% head()\n",
    "VariantName\tFlip\teffect_old\teffect\tFREQ_old\tFREQ\tREF_old\tREF\tALT_old\tALT\n",
    "<chr>\t<lgl>\t<dbl>\t<dbl>\t<dbl>\t<dbl>\t<chr>\t<chr>\t<chr>\t<chr>\n",
    "GBA_G517S\tFALSE\t0.000000\t0.000000\t6.809994e-07\t6.809994e-07\tC\tC\tT\tT\n",
    "GBA_R502H\tFALSE\t1.276524\t1.276524\t7.029013e-06\t7.029013e-06\tC\tC\tT\tT\n",
    "GBA_R502C\tTRUE\t-1.262212\t1.262212\t9.998007e-01\t1.992936e-04\tG\tG\tA\tA\n",
    "GBA_H490R\tTRUE\t1.009280\t-1.009280\t9.999993e-01\t6.583656e-07\tT\tT\tC\tC\n",
    "GBA_Y457C\tTRUE\t0.000000\t0.000000\t9.999964e-01\t3.573330e-06\tT\tT\tC\tC\n",
    "GBA_M455I\tFALSE\t0.000000\t0.000000\t1.787393e-06\t1.787393e-06\tC\tC\tT\tT\n",
    "\n",
    "\n",
    "write.table(andme_edit, \"META_23andme_summary_all_cols.txt\", row.names = F, sep = \"\\t\", quote=F)\n",
    "\n",
    "andme_edit1 = andme_edit %>% select(`CHR.BP`, REF, ALT, FREQ, effect, stderr, pvalue, N_INFORMATIVE)\n",
    "\n",
    "write.table(andme_edit1, \"toMETA_23andme_summary.txt\", row.names = F, sep = \"\\t\", quote=F)\n"
   ]
  },
  {
   "cell_type": "raw",
   "id": "e11f5c12-8ec0-4837-a19c-21983245aa91",
   "metadata": {},
   "source": [
    "# check if the REF alleles lign up with fasta REF alleles\n",
    "andme = fread(\"toMETA_23andme_summary.txt\")\n",
    "fasta = fread(\"963_snps_alleles_correct_fasta.txt\")\n",
    "\n",
    "fasta = fasta %>% select(chr, start, rsID, REF, ALT) %>% unite(\"CHR.BP\", c(\"chr\", \"start\"), sep = \":\") %>% rename(\"REF_fasta\" = REF, \"ALT_fasta\" = ALT)\n",
    "andme1 = andme %>% select(`CHR.BP`, REF, ALT)\n",
    "join = left_join(andme1, fasta)\n",
    "\n",
    "errors = join %>% filter(REF != REF_fasta) %>% select(`CHR.BP`)\n",
    "join %>% filter(REF != REF_fasta)\n",
    "A data.table: 4 × 6\n",
    "CHR.BP\tREF\tALT\trsID\tREF_fasta\tALT_fasta\n",
    "<chr>\t<chr>\t<chr>\t<chr>\t<chr>\t<chr>\n",
    "chr1:16986248\tT\tC\trs3170740\tC\tT\n",
    "chr15:61910283\tT\tC\trs10851704\tC\tT\n",
    "chr15:61967438\tT\tC\trs3784634\tC\tT\n",
    "chr3:184319745\tG\tA\trs13319149\tA\tG\n",
    "\n",
    "# 4 variants don't align with fasta REF allele - check individually"
   ]
  },
  {
   "cell_type": "raw",
   "id": "b642153c-b480-46ec-8ee9-46ca0fdbc48c",
   "metadata": {},
   "source": [
    "# check those 4 variants in 23andMe file\n",
    "check = fread(\"23andMe_834variants_annotated_and_stats.txt\")\n",
    "\n",
    "check %>% filter(`CHR.BP` == \"chr1:16986248\" | `CHR.BP` == \"chr15:61910283\" | `CHR.BP` == \"chr15:61967438\" |\n",
    "                 `CHR.BP` == \"chr3:184319745\") %>% select(`CHR.BP`, VariantName, REF, ALT, alleles, src, freq.b, dose.b)\n",
    "                 \n",
    "CHR.BP\tVariantName\tREF\tALT\talleles\tsrc\tfreq.b\tdose.b\n",
    "<chr>\t<chr>\t<chr>\t<chr>\t<chr>\t<chr>\t<dbl>\t<dbl>\n",
    "chr1:16986248\tATP13A2_A1072T\tC\tT\tC/T\tI\t0.5235960\t0.5213835\n",
    "chr15:61910283\tVPS13C_S2913N\tC\tT\tC/T\tI\t0.5257027\t0.5285263\n",
    "chr15:61967438\tVPS13C_R974K\tC\tT\tC/T\tI\t0.5860091\t0.5843622\n",
    "chr3:184319745\tEIF4G1_T161A\tA\tG\tA/G\tI\tNA\t0.9974979\n",
    "\n",
    "Check why they weren't flipped"
   ]
  },
  {
   "cell_type": "raw",
   "id": "ef6c23cd-212d-4d8c-a338-0532952080fc",
   "metadata": {},
   "source": [
    "# fasta file takes precedence over 23andMe, so fix them\n",
    "\n",
    "# fix them individually\n",
    "\n",
    "andme$REF[andme$`CHR.BP` == \"chr1:16986248\"] <- \"C\"\n",
    "andme$ALT[andme$`CHR.BP` == \"chr1:16986248\"] <- \"T\"\n",
    "\n",
    "andme$REF[andme$`CHR.BP` == \"chr15:61910283\"] <- \"C\"\n",
    "andme$ALT[andme$`CHR.BP` == \"chr15:61910283\"] <- \"T\"\n",
    "\n",
    "andme$REF[andme$`CHR.BP` == \"chr15:61967438\"] <- \"C\"\n",
    "andme$ALT[andme$`CHR.BP` == \"chr15:61967438\"] <- \"T\"\n",
    "\n",
    "andme$REF[andme$`CHR.BP` == \"chr3:184319745\"] <- \"A\"\n",
    "andme$ALT[andme$`CHR.BP` == \"chr3:184319745\"] <- \"G\"\n",
    "\n",
    "write.table(andme, \"toMETA_23andme_summary.txt\", quote =F, sep = \"\\t\", row.names = F)"
   ]
  },
  {
   "cell_type": "raw",
   "id": "cc6192fd-1437-4e61-950e-459928538ec8",
   "metadata": {},
   "source": [
    "allcols = fread(\"META_23andme_summary_all_cols.txt\")\n",
    "\n",
    "allcols$REF[allcols$`CHR.BP` == \"chr1:16986248\"] <- \"C\"\n",
    "allcols$ALT[allcols$`CHR.BP` == \"chr1:16986248\"] <- \"T\"\n",
    "\n",
    "allcols$REF[allcols$`CHR.BP` == \"chr15:61910283\"] <- \"C\"\n",
    "allcols$ALT[allcols$`CHR.BP` == \"chr15:61910283\"] <- \"T\"\n",
    "\n",
    "allcols$REF[allcols$`CHR.BP` == \"chr15:61967438\"] <- \"C\"\n",
    "allcols$ALT[allcols$`CHR.BP` == \"chr15:61967438\"] <- \"T\"\n",
    "\n",
    "allcols$REF[allcols$`CHR.BP` == \"chr3:184319745\"] <- \"A\"\n",
    "allcols$ALT[allcols$`CHR.BP` == \"chr3:184319745\"] <- \"G\"\n",
    "\n",
    "write.table(allcols, \"META_23andme_summary_all_cols.txt\", quote =F, sep = \"\\t\", row.names = F)"
   ]
  },
  {
   "cell_type": "raw",
   "id": "022ce1e6-4083-4085-bb63-7099ca0128b7",
   "metadata": {},
   "source": [
    "#########IMPORTANT NOTE#########\n",
    "After filtering, 47 (before its 174) of these don't have pvalues/statistics reported which I double checked in the original files I received. I decided to leave them in, because they are still relevant for our overall variant selection in UKB and AMP. The reason those don't have stats is because they failed QC within 23andMe, which doesn't mean they can't be present in the other data sets\n",
    "################################"
   ]
  },
  {
   "cell_type": "code",
   "execution_count": null,
   "id": "5c907589-90c6-4bfb-b653-9e6341b65aec",
   "metadata": {},
   "outputs": [],
   "source": [
    "head toMETA_23andme_summary.txt"
   ]
  },
  {
   "cell_type": "markdown",
   "id": "afa8749a-b53d-41fe-94f2-df445e25ccb4",
   "metadata": {},
   "source": [
    "#### 10.1.2 UKB"
   ]
  },
  {
   "cell_type": "raw",
   "id": "a84381c1-a7af-46dc-874c-93cce64b253f",
   "metadata": {},
   "source": [
    "UKB = fread(\"./UKB_and_AMP/UKB_608_from23andme_withcovars_score_ALL_PD.SingleScore.assoc\")\n",
    "\n",
    "#edit layout\n",
    "UKB$CHROM = paste0(\"chr\",UKB$CHROM)\n",
    "\n",
    "UKB = UKB %>% unite(\"CHR.BP\", c(\"CHROM\", \"POS\"), sep = \":\")\n",
    "\n",
    "# filter steps\n",
    "# data = data %>% filter(Beta <5 & Beta > -5 & !is.na(Pvalue))\n",
    "\n",
    "# are there any allele flips?\n",
    "summary(UKB$AF)\n",
    "     Min.   1st Qu.    Median      Mean   3rd Qu.      Max. \n",
    "0.000e+00 0.000e+00 3.271e-05 1.857e-03 3.053e-04 1.061e-01\n",
    "## max is 0.1, so no\n",
    "\n",
    "write.table(UKB, \"toMETA_SCORE_UKBALL.txt\", quote = F, sep = \"\\t\", row.names = F)"
   ]
  },
  {
   "cell_type": "code",
   "execution_count": null,
   "id": "bc359690-6ad7-4c8e-860e-c1f63a87da56",
   "metadata": {},
   "outputs": [],
   "source": [
    "head toMETA_SCORE_UKBALL.txt"
   ]
  },
  {
   "cell_type": "markdown",
   "id": "8e931852-8f4d-4da7-bba6-8daac47914f8",
   "metadata": {},
   "source": [
    "#### 10.1.3 AMP-PD"
   ]
  },
  {
   "cell_type": "raw",
   "id": "e866a83d-9d46-4f59-b468-d0eabd8314b6",
   "metadata": {},
   "source": [
    "AMP = fread(\"./UKB_and_AMP/AMP_256_from23andme_withcovars_score.SingleScore.assoc\")\n",
    "\n",
    "AMP$CHROM <- paste0(\"chr\",AMP$CHROM)\n",
    "\n",
    "AMP = AMP %>% unite(\"CHR.BP\", c(\"CHROM\", \"POS\"), sep = \":\")\n",
    "\n",
    "summary(AMP$AF)\n",
    "     Min.   1st Qu.    Median      Mean   3rd Qu.      Max. \n",
    "0.0001248 0.0002496 0.0006239 0.0115910 0.0021213 0.4849010 \n",
    "\n",
    "write.table(AMP, \"toMETA_SCORE_AMP.txt\", quote = F, sep = \"\\t\", row.names = F)"
   ]
  },
  {
   "cell_type": "code",
   "execution_count": null,
   "id": "178cc954-bd5f-43a7-a724-163bb8212536",
   "metadata": {},
   "outputs": [],
   "source": [
    "head toMETA_SCORE_AMP.txt"
   ]
  },
  {
   "cell_type": "markdown",
   "id": "5861ccbf-695e-4747-8e41-c12850537db5",
   "metadata": {},
   "source": [
    "### 10.2 Check ID overlap"
   ]
  },
  {
   "cell_type": "code",
   "execution_count": null,
   "id": "2c2bc405-0012-49d9-a852-c8308d7b2130",
   "metadata": {},
   "outputs": [],
   "source": [
    "cut -f 1 toMETA_23andme_summary.txt > 23andMe_IDs.txt\n",
    "cut -f 1 toMETA_SCORE_AMP.txt > AMP_IDs.txt\n",
    "cut -f 1 toMETA_SCORE_UKBALL.txt > UKB_IDs.txt"
   ]
  },
  {
   "cell_type": "code",
   "execution_count": null,
   "id": "0043a2bb-8db1-436f-bbfb-0d9d5251de80",
   "metadata": {},
   "outputs": [],
   "source": [
    "# they're all in the same layout, let's merge them and see how much we have left\n",
    "\n",
    "cat 23andMe_IDs.txt AMP_IDs.txt UKB_IDs.txt > merged_IDs_all3datasets.txt\n",
    "sort merged_IDs_all3datasets.txt | uniq > merged_IDs_all3datasets_nodupli.txt\n",
    "\n",
    "wc -l merged_IDs_all3datasets_nodupli.txt\n",
    "# 780 merged_IDs_all3datasets_nodupli.txt\n",
    "head merged_IDs_all3datasets_nodupli.txt\n",
    "\n",
    "# there's an overlap of 780 ID's for all studies, IF all rows have info, i.e. stderr and pvalue etc"
   ]
  },
  {
   "cell_type": "code",
   "execution_count": null,
   "id": "f3e0b7e2-d957-4c01-a5d8-0f812cbc739c",
   "metadata": {},
   "outputs": [],
   "source": [
    "## Check LRRK2 p.G2019S\n",
    "head -1 toMETA_SCORE_AMP.txt\n",
    "grep chr12:40340400 toMETA_SCORE_AMP.txt"
   ]
  },
  {
   "cell_type": "code",
   "execution_count": null,
   "id": "7a4edea5-1371-4510-a8ec-b5dc4646a341",
   "metadata": {},
   "outputs": [],
   "source": [
    "head -1 toMETA_SCORE_UKBALL.txt\n",
    "grep chr12:40340400 toMETA_SCORE_UKBALL.txt"
   ]
  },
  {
   "cell_type": "code",
   "execution_count": null,
   "id": "46a7ed48-3d6f-4a7d-8fdb-6f62bb589282",
   "metadata": {},
   "outputs": [],
   "source": [
    "head -1 toMETA_23andme_summary_VP_new.txt\n",
    "grep chr12:40340400 toMETA_23andme_summary_VP_new.txt"
   ]
  },
  {
   "cell_type": "raw",
   "id": "db544713-30d4-4ed0-a331-f14ea4eaa586",
   "metadata": {},
   "source": [
    "## check all REF and ALTs across studies if they match\n",
    "R\n",
    "library(tidyverse)\n",
    "library(data.table)\n",
    "\n",
    "UKB = fread(\"toMETA_SCORE_UKBALL.txt\")\n",
    "AMP = fread(\"toMETA_SCORE_AMP.txt\")\n",
    "andme = fread(\"toMETA_23andme_summary.txt\")\n",
    "\n",
    "\n",
    "UKB = UKB %>% select(`CHR.BP`, REF, ALT, AF, EFFECT, SE, PVALUE) %>% rename(\"REF_UKB\" = REF, \"ALT_UKB\" = ALT, \"FREQ_UKB\" = AF, \"EFFECT_UKB\" = EFFECT, \"SE_UKB\" = SE, \"P_UKB\" = PVALUE)\n",
    "AMP = AMP %>% select(`CHR.BP`, REF, ALT, AF, EFFECT, SE, PVALUE)%>% rename(\"REF_AMP\" = REF, \"ALT_AMP\" = ALT, \"FREQ_AMP\" = AF, \"EFFECT_AMP\" = EFFECT, \"SE_AMP\" = SE, \"P_AMP\" = PVALUE)\n",
    "andme = andme %>% select(`CHR.BP`, REF, ALT, FREQ, effect, stderr, pvalue) %>% rename(\"REF_23\" = REF, \"ALT_23\" = ALT, \"FREQ_23\" = FREQ, \"EFFECT_23\" = effect, \"SE_23\" = stderr, \"P_23\" = pvalue)\n",
    "\n",
    "data = full_join(andme, UKB)\n",
    "data = full_join(data, AMP)\n",
    "\n",
    "dim(data)\n",
    "\n",
    "write.table(data, \"Allele_comparisons_all_studies.txt\", quote =F, sep = \"\\t\", row.names = F)"
   ]
  },
  {
   "cell_type": "markdown",
   "id": "0c38a417-3e90-4bfb-902a-a5d7af848db6",
   "metadata": {},
   "source": [
    "### 10.3 Create METAL file"
   ]
  },
  {
   "cell_type": "raw",
   "id": "2fdddb35-d165-448f-a8f0-4ca44171b2a3",
   "metadata": {},
   "source": [
    "Adapted from: https://github.com/neurogenetics/GWAS-pipeline Create file and call it my_METAL.txt"
   ]
  },
  {
   "cell_type": "raw",
   "id": "1ffa89e9-9757-4b2d-b73f-de51df222f65",
   "metadata": {},
   "source": [
    "vim my_METAL.txt\n",
    "i\n",
    "\n",
    "#../generic-metal/metal metalAll.txt\n",
    "#THIS SCRIPT EXECUTES AN ANALYSIS OF THREE STUDIES\n",
    "#THE RESULTS FOR EACH STUDY ARE STORED IN FILES Inputfile1.txt THROUGH Inputfile3.txt\n",
    "SCHEME  STDERR\n",
    "AVERAGEFREQ ON\n",
    "MINMAXFREQ ON\n",
    "LABEL TotalSampleSize as N # If input files have a column for the sample size labeled as 'N'\n",
    "# LOAD THE FIRST TWO INPUT FILES\n",
    "\n",
    "# UNCOMMENT THE NEXT LINE TO ENABLE GenomicControl CORRECTION\n",
    "# GENOMICCONTROL ON\n",
    "\n",
    "# === DESCRIBE AND PROCESS THE FIRST INPUT FILE ===\n",
    "MARKER CHR.BP\n",
    "ALLELE REF ALT\n",
    "FREQ AF\n",
    "EFFECT EFFECT\n",
    "STDERR SE\n",
    "PVALUE PVALUE\n",
    "WEIGHT N_INFORMATIVE \n",
    "PROCESS toMETA_SCORE_AMP.txt\n",
    "\n",
    "# === DESCRIBE AND PROCESS THE SECOND INPUT FILE ===\n",
    "MARKER CHR.BP\n",
    "ALLELE REF ALT\n",
    "FREQ AF\n",
    "EFFECT EFFECT\n",
    "STDERR SE\n",
    "PVALUE PVALUE\n",
    "WEIGHT N_INFORMATIVE \n",
    "PROCESS toMETA_SCORE_UKBALL.txt\n",
    "\n",
    "# === DESCRIBE AND PROCESS THE THIRD INPUT FILE ===\n",
    "MARKER CHR.BP\n",
    "ALLELE REF ALT\n",
    "FREQ FREQ\n",
    "EFFECT effect\n",
    "STDERR stderr\n",
    "PVALUE pvalue\n",
    "WEIGHT N_INFORMATIVE \n",
    "PROCESS toMETA_23andme_summary.txt\n",
    "\n",
    "OUTFILE MY_META_AMP_UKB_23andme .tbl\n",
    "MINWEIGHT 10000\n",
    "ANALYZE HETEROGENEITY\n",
    "\n",
    "QUIT\n",
    "\n",
    "[exit]\n",
    ":w"
   ]
  },
  {
   "cell_type": "code",
   "execution_count": null,
   "id": "5716bc6d-8816-422f-bc96-1913c6223dfb",
   "metadata": {},
   "outputs": [],
   "source": [
    "pwd"
   ]
  },
  {
   "cell_type": "code",
   "execution_count": null,
   "id": "0c08566a-a99f-41c5-ade4-6f762aefe479",
   "metadata": {},
   "outputs": [],
   "source": [
    "cat my_METAL.txt"
   ]
  },
  {
   "cell_type": "raw",
   "id": "d4354f7e-df60-4d92-8836-4dea881ce70a",
   "metadata": {},
   "source": [
    "Using only chr:bp as ID ensures there’s no problem with the IDs anymore!"
   ]
  },
  {
   "cell_type": "markdown",
   "id": "eb5293ba-dd33-490a-86b6-4804cab27cf9",
   "metadata": {},
   "source": [
    "### 10.4 Run METAL"
   ]
  },
  {
   "cell_type": "code",
   "execution_count": null,
   "id": "491efdd0-4ba4-446c-a8e7-1449334bcee8",
   "metadata": {},
   "outputs": [],
   "source": [
    "module load metal\n",
    "metal my_METAL.txt"
   ]
  },
  {
   "cell_type": "raw",
   "id": "721ee6c2-c6a1-4b8f-a888-40374a9f42e0",
   "metadata": {},
   "source": [
    "## Executing meta-analysis ...\n",
    "## Complete results will be stored in file 'MY_META_AMP_UKB_23andme1.tbl'\n",
    "## Column descriptions will be stored in file 'MY_META_AMP_UKB_23andme1.tbl.info'\n",
    "## Completed meta-analysis for 679 markers!\n",
    "## Smallest p-value is 1.66e-383 at marker 'chr12:40340400'"
   ]
  },
  {
   "cell_type": "markdown",
   "id": "d4673f94-2d75-44fa-a3fa-9cb798dbcd06",
   "metadata": {},
   "source": [
    "#### 10.4.1 Check warning messages"
   ]
  },
  {
   "cell_type": "markdown",
   "id": "e69e2902-c0d9-4a6c-927b-5ba89185ac0a",
   "metadata": {},
   "source": [
    "AMP-PD"
   ]
  },
  {
   "cell_type": "raw",
   "id": "c3ada39e-35af-4f62-aa1c-975f5b13ed48",
   "metadata": {},
   "source": [
    "## Processing file 'toMETA_SCORE_AMP.txt'\n",
    "## Processed 256 markers ...\n",
    "\n",
    "AMP no issues"
   ]
  },
  {
   "cell_type": "markdown",
   "id": "1a059453-650a-4ca6-b784-b9a7fba8dd16",
   "metadata": {},
   "source": [
    "UKB"
   ]
  },
  {
   "cell_type": "raw",
   "id": "cc513b25-ad9a-4fdc-9440-1688c0327a4f",
   "metadata": {},
   "source": [
    "## Processing file 'toMETA_SCORE_UKBALL.txt'\n",
    "## WARNING: Invalid standard error for marker chr1:7965399, ignored\n",
    "## WARNING: Invalid standard error for marker chr1:7984930, ignored\n",
    "## WARNING: Invalid standard error for marker chr1:7984971, ignored\n",
    "## WARNING: Invalid standard error for marker chr1:16986235, ignored\n",
    "## WARNING: Invalid standard error for marker chr1:16987089, ignored\n",
    "## WARNING: Invalid standard error for marker chr1:16987187, ignored\n",
    "## WARNING: Invalid standard error for marker chr1:16991787, ignored\n",
    "## WARNING: Invalid standard error for marker chr1:16992042, ignored\n",
    "## WARNING: Invalid standard error for marker chr1:16992115, ignored\n",
    "## WARNING: Invalid standard error for marker chr1:16993690, ignored\n",
    "## WARNING: Invalid standard error for marker chr1:16996118, ignored\n",
    "## WARNING: Invalid standard error for marker chr1:16996484, ignored\n",
    "## WARNING: Invalid standard error for marker chr1:16997107, ignored\n",
    "## WARNING: Invalid standard error for marker chr1:16997136, ignored\n",
    "## WARNING: Invalid standard error for marker chr1:17011732, ignored\n",
    "## WARNING: Invalid standard error for marker chr1:20633615, ignored\n",
    "## WARNING: Invalid standard error for marker chr1:20633766, ignored\n",
    "## WARNING: Invalid standard error for marker chr1:20633840, ignored\n",
    "## WARNING: Invalid standard error for marker chr1:20639911, ignored\n",
    "## WARNING: Invalid standard error for marker chr1:20639934, ignored\n",
    "## WARNING: Invalid standard errors for 180 other markers also ignored\n",
    "## Processed 408 markers ...\n",
    "\n",
    "UKB has removed quite a few markers"
   ]
  },
  {
   "cell_type": "raw",
   "id": "8d96f4b5-27dc-4671-8cdb-68adab3dc749",
   "metadata": {},
   "source": [
    "#check in R how many missing stderrors in UKB\n",
    "UKB = fread(\"toMETA_SCORE_UKBALL.txt\")\n",
    "UKB %>% filter(is.na(SE)) %>% tally()\n",
    "    n\n",
    "1 200\n",
    "\n",
    "# 180+20=200 missing stats - makes sense"
   ]
  },
  {
   "cell_type": "markdown",
   "id": "a5122a10-5e53-474b-bfeb-bc1385fa12cf",
   "metadata": {},
   "source": [
    "23andMe"
   ]
  },
  {
   "cell_type": "raw",
   "id": "92cb8817-2e81-49b2-ab75-92735cb1d50e",
   "metadata": {},
   "source": [
    "## Processing file 'toMETA_23andme_summary.txt'\n",
    "## WARNING: Invalid standard error for marker chr1:155235057, ignored\n",
    "## WARNING: Invalid standard error for marker chr1:155235699, ignored\n",
    "## WARNING: Invalid standard error for marker chr1:155235704, ignored\n",
    "## WARNING: Invalid standard error for marker chr1:155235725, ignored\n",
    "## WARNING: Invalid standard error for marker chr1:155235726, ignored\n",
    "## WARNING: Invalid standard error for marker chr1:155235750, ignored\n",
    "## WARNING: Invalid standard error for marker chr1:155236420, ignored\n",
    "## WARNING: Invalid standard error for marker chr1:155237357, ignored\n",
    "## WARNING: Invalid standard error for marker chr1:155237369, ignored\n",
    "## WARNING: Invalid standard error for marker chr1:155238173, ignored\n",
    "## WARNING: Invalid standard error for marker chr1:155238186, ignored\n",
    "## WARNING: Invalid standard error for marker chr1:155238194, ignored\n",
    "## WARNING: Invalid standard error for marker chr1:155238233, ignored\n",
    "## WARNING: Invalid standard error for marker chr1:155239939, ignored\n",
    "## WARNING: Invalid standard error for marker chr1:155240078, ignored\n",
    "## WARNING: Invalid standard error for marker chr1:20639990, ignored\n",
    "## WARNING: Invalid standard error for marker chr1:20645640, ignored\n",
    "## WARNING: Invalid standard error for marker chr12:40259493, ignored\n",
    "## WARNING: Invalid standard error for marker chr12:40304079, ignored\n",
    "## WARNING: Invalid standard error for marker chr12:40310437, ignored\n",
    "## WARNING: Invalid standard errors for 27 other markers also ignored\n",
    "## Processed 656 markers ..."
   ]
  },
  {
   "cell_type": "raw",
   "id": "6637c2ce-2568-4d6d-bc37-2494aeeb79a2",
   "metadata": {},
   "source": [
    "# Check in R if this makes sense\n",
    "ANDME = fread(\"toMETA_23andme_summary.txt\")\n",
    "ANDME %>% filter(is.na(stderr)) %>% tally()\n",
    "  n\n",
    "1 6\n",
    "\n",
    "ANDME %>% filter(stderr ==0) %>% tally()\n",
    "   n\n",
    "1 41\n",
    "\n",
    "# this accounts for n=47 without stats -all good"
   ]
  },
  {
   "cell_type": "code",
   "execution_count": null,
   "id": "2f4d2882-555c-4f80-b78a-91bdeefab6c8",
   "metadata": {},
   "outputs": [],
   "source": [
    "head -1 MY_META_AMP_UKB_23andme1.tbl\n",
    "grep chr12:40340400 MY_META_AMP_UKB_23andme1.tbl\n",
    "grep chr1:16986248 MY_META_AMP_UKB_23andme1.tbl\n",
    "grep chr15:61910283 MY_META_AMP_UKB_23andme1.tbl\n",
    "grep chr15:61967438 MY_META_AMP_UKB_23andme1.tbl\n",
    "grep chr3:184319745 MY_META_AMP_UKB_23andme1.tbl"
   ]
  },
  {
   "cell_type": "code",
   "execution_count": null,
   "id": "8b39ad28-2ad9-47b4-ac13-84fc2424431b",
   "metadata": {},
   "outputs": [],
   "source": [
    "pwd"
   ]
  },
  {
   "cell_type": "markdown",
   "id": "e90ae296-a81a-4037-988d-f08b7af835fc",
   "metadata": {},
   "source": [
    "## 11. Clean files for analysis"
   ]
  },
  {
   "cell_type": "raw",
   "id": "ceebaee0-ca0e-4b90-9afc-b5336019fe2c",
   "metadata": {},
   "source": [
    "R\n",
    "library(data.table)\n",
    "library(tidyverse)\n",
    "\n",
    "all3_meta = fread(\"MY_META_AMP_UKB_23andme1.tbl\")\n",
    "dim(all3_meta)\n",
    "\n",
    "Annotations = fread(\"Edited_AAChange_23andMe_834_clean.txt\")\n",
    "Annotations$`CHR.BP` = Annotations$MarkerName\n",
    "\n",
    "all3_meta_annotations = left_join(all3_meta, Annotations)\n",
    "dim(all3_meta_annotations)\n",
    "# [1] 679  48\n",
    "\n",
    "write.table(all3_meta_annotations, \"Meta_results_679_AMP_UKB_23andMe_annotation.txt\", row.names = F, sep = \"\\t\", quote = F)"
   ]
  },
  {
   "cell_type": "code",
   "execution_count": 2,
   "id": "cf6ec764-13e9-4a49-a877-ecf5893864ea",
   "metadata": {
    "tags": []
   },
   "outputs": [
    {
     "name": "stdout",
     "output_type": "stream",
     "text": [
      "MarkerName\tAllele1\tAllele2\tFreq1\tFreqSE\tMinFreq\tMaxFreq\tEffect\tStdErr\tP-value\tDirection\tHetISq\tHetChiSq\tHetDf\tHetPVal\tEnd\tRef\tAlt\tFunc.refGene\tGene\tGeneDetail.refGene\tExonicFunc.refGene\tAAChange\tavsnp150\tCLNALLELEID\tCLNDN\tCLNDISDB\tCLNREVSTAT\tCLNSIG\tAF\tAF_popmax\tAF_male\tAF_female\tAF_raw\tAF_afr\tAF_sas\tAF_amr\tAF_eas\tAF_nfe\tAF_fin\tAF_asj\tAF_oth\tnon_topmed_AF_popmax\tnon_neuro_AF_popmax\tnon_cancer_AF_popmax\tcontrols_AF_popmax\tVariantName\tCHR.BP\n",
      "chr1:155236376\tt\tc\t0.9876\t0.0012\t0.9851\t0.9882\t-0.3632\t0.0342\t2.628e-26\t---\t53.9\t4.338\t2\t0.1143\t155236376\tC\tT\texonic\tGBA\t.\tnonsynonymous SNV\tGBA:NM_001171811:exon7:c.G832A:p.E278K,GBA:NM_001171812:exon7:c.G946A:p.E316K,GBA:NM_000157:exon8:c.G1093A:p.\u001b[01;31m\u001b[KE365K\u001b[m\u001b[K,GBA:NM_001005741:exon9:c.G1093A:p.\u001b[01;31m\u001b[KE365K\u001b[m\u001b[K,GBA:NM_001005742:exon9:c.G1093A:p.\u001b[01;31m\u001b[KE365K\u001b[m\u001b[K\trs2230288\t.\t.\t.\t.\t.\t0.0129\t0.0141\t0.0115\t0.0147\t0.0129\t0.0025\t.\t0.0035\t0\t0.0141\t0.0400\t0.0069\t0.0193\t0.0138\t0.0139\t.\t0.0134\tGBA_\u001b[01;31m\u001b[KE365K\u001b[m\u001b[K\tchr1:155236376\n"
     ]
    }
   ],
   "source": [
    "head -n 1 Meta_results_679_AMP_UKB_23andMe_annotation.txt\n",
    "grep E365K Meta_results_679_AMP_UKB_23andMe_annotation.txt"
   ]
  },
  {
   "cell_type": "markdown",
   "id": "7dc7a3b1-80e3-4db7-be8a-c7d4c1efd542",
   "metadata": {},
   "source": [
    "Now move files to local and make plots"
   ]
  },
  {
   "cell_type": "raw",
   "id": "d4facf73-e2d4-40c0-9545-1e8195c294f7",
   "metadata": {},
   "source": [
    "scp pitzv2@biowulf.nih.gov:/data/CARD/projects/23andme_annotation/Rare_variant_project_VP/Meta_results_679_AMP_UKB_23andMe_annotation.txt /Users/pitzv2/Documents/Projects/23andme_rare_variants/Final_Dec_2022/Sumstats"
   ]
  },
  {
   "cell_type": "raw",
   "id": "65bb7412-6efa-4f04-8064-7b0184e1c34d",
   "metadata": {},
   "source": [
    "scp pitzv2@biowulf.nih.gov:/data/CARD/projects/23andme_annotation/Rare_variant_project_VP/MY_META_AMP_UKB_23andme1.tbl /Users/pitzv2/Documents/Projects/23andme_rare_variants/Final_Dec_2022/Sumstats"
   ]
  },
  {
   "cell_type": "raw",
   "id": "8e9b21c2-a738-4227-bf98-77a0335a370f",
   "metadata": {},
   "source": [
    "scp pitzv2@biowulf.nih.gov:/data/CARD/projects/23andme_annotation/Rare_variant_project_VP/toMETA_23andme_summary.txt /Users/pitzv2/Documents/Projects/23andme_rare_variants/Final_Dec_2022/Sumstats"
   ]
  },
  {
   "cell_type": "markdown",
   "id": "e49064f2-385a-4bc2-97f6-511aa27de62a",
   "metadata": {},
   "source": [
    "## 12. Add identifier for variants passing of failing internal QC"
   ]
  },
  {
   "cell_type": "code",
   "execution_count": null,
   "id": "a0829f0d-c1a7-4224-b357-72ea6b0f200e",
   "metadata": {},
   "outputs": [],
   "source": [
    "## add identifier to initial file"
   ]
  },
  {
   "cell_type": "raw",
   "id": "8c36ee04-2e9a-4b07-a96b-4e27264494ed",
   "metadata": {},
   "source": [
    "failed = read.table(\"results_for_collaborators_failed_qc.csv\", header = T, sep = \",\")\n",
    "\n",
    "failed = failed %>% select(scaffold, position) %>% unite(\"MarkerName\", c(\"scaffold\", \"position\"), sep = \":\")\n",
    "failed$QC = \"FAIL\"\n",
    "\n",
    "merge = left_join(all3_meta_annotations, failed)\n",
    "dim(merge)\n",
    "\n",
    "merge %>% group_by(QC) %>% tally()\n",
    "\n",
    "merge$QC[is.na(merge$QC)] <- \"PASS\"\n",
    "\n",
    "merge %>% group_by(QC) %>% tally()\n",
    "A tibble: 2 × 2\n",
    "QC\tn\n",
    "<chr>\t<int>\n",
    "FAIL\t265\n",
    "PASS\t414\n",
    "\n",
    "write.table(merge, \"Meta_results_679_AMP_UKB_23andMe_annotation_QC.txt\", row.names = F, sep = \"\\t\", quote = F)"
   ]
  },
  {
   "cell_type": "code",
   "execution_count": null,
   "id": "50630809-7870-414a-9ae0-a8467c47adbc",
   "metadata": {},
   "outputs": [],
   "source": [
    "scp pitzv2@biowulf.nih.gov:/data/CARD/projects/23andme_annotation/Rare_variant_project_VP/Meta_results_679_AMP_UKB_23andMe_annotation_QC.txt /Users/pitzv2/Documents/Projects/23andme_rare_variants/Final_Dec_2022/Sumstats"
   ]
  },
  {
   "cell_type": "markdown",
   "id": "7f5b64a2-aebd-40a6-b555-0e39086516fb",
   "metadata": {},
   "source": [
    "## 13. Additional information for revision"
   ]
  },
  {
   "cell_type": "markdown",
   "id": "001e09cb-17a8-404f-86f8-d41a97cec869",
   "metadata": {},
   "source": [
    "### 13.1 Add cases and control minor allele counts (MACs) per variant"
   ]
  },
  {
   "cell_type": "raw",
   "id": "3c02a739-918a-4d0c-988b-475a3db6a909",
   "metadata": {},
   "source": [
    "library(tidyverse)\n",
    "library(data.table)\n",
    "\n",
    "# read in data\n",
    "meta = fread(\"Meta_results_679_AMP_UKB_23andMe_annotation.txt\")\n",
    "andme = fread(\"results_combined_23andMe.txt\")\n",
    "UKB = fread(\"UKB_608_from23andme_PhenoUpdate_GENO.model\")\n",
    "AMP = fread(\"AMP_282_from23andme_pheno_GENO.model\")\n",
    "\n",
    "# edit 23andMe data: merge columsn to get ID, derive homref, het, and homnonref counts basedon freq.b column\n",
    "andme1 = andme %>% unite(\"CHR.BP\", c(scaffold, position), sep = \":\") %>% mutate(`23andme_homref_cases` = case_when(`freq.b`>0.5~`BB.1`,\n",
    "                                                                                                                   `freq.b`<0.5~ `AA.1`),\n",
    "                                                                                `23andme_het_cases` = `AB.1`,\n",
    "                                                                                `23andme_homnonref_cases` = case_when(`freq.b`<0.5~`BB.1`,\n",
    "                                                                                                                   `freq.b`>0.5~ `AA.1`),\n",
    "                                                                                `23andme_homref_ctrls` = case_when(`freq.b`>0.5~`BB.0`,\n",
    "                                                                                                                   `freq.b`<0.5~ `AA.0`),\n",
    "                                                                                `23andme_het_ctrls` = `AB.0`,\n",
    "                                                                                `23andme_homnonref_ctrls` = case_when(`freq.b`<0.5~`BB.0`,\n",
    "                                                                                                                   `freq.b`>0.5~ `AA.0`))\n",
    "                                                                                                                   \n",
    "# Derive counts from .model file for each Affected and Unaffected groups\n",
    "UKB1 = UKB %>% separate(SNP, c(\"chr\", \"bp\", \"ref\", \"alt\"), sep = \":\") %>% unite(\"CHR.BP\", c(chr, bp), sep = \":\") %>% separate(AFF, c(\"UKB_homnonref_cases\", \"UKB_het_cases\", \"UKB_homref_cases\"), sep = \"/\") %>% separate(UNAFF, c(\"UKB_homnonref_ctrls\", \"UKB_het_ctrls\", \"UKB_homref_ctrls\"), sep = \"/\") %>% dplyr::select(2, 8:13)\n",
    "AMP1 = AMP %>% separate(SNP, c(\"chr\", \"bp\", \"ref\", \"alt\"), sep = \":\") %>% unite(\"CHR.BP\", c(chr, bp), sep = \":\") %>% separate(AFF, c(\"AMP_homnonref_cases\", \"AMP_het_cases\", \"AMP_homref_cases\"), sep = \"/\") %>% separate(UNAFF, c(\"AMP_homnonref_ctrls\", \"AMP_het_ctrls\", \"AMP_homref_ctrls\"), sep = \"/\") %>% dplyr::select(2, 8:13)\n",
    "\n",
    "# edit 23andMe to derive minor allele counts (MACs): use genotypes for src == \"G\", and dose.b for src == \"I\"\n",
    "andme1 <- andme1 %>% mutate_at(c(33:38), as.numeric)\n",
    "andme1$`23andMe_n_cases` <- rowSums(andme1[,c(33:35)], na.rm=TRUE)\n",
    "andme1$`23andMe_n_ctrls` <- rowSums(andme1[,c(36:38)], na.rm=TRUE)\n",
    "andme1 = andme1 %>% mutate('23andMe_MAC_cases' = `23andme_het_cases`+2*`23andme_homnonref_cases`)\n",
    "andme1 = andme1 %>% mutate('23andMe_MAC_ctrls' = `23andme_het_ctrls`+2*`23andme_homnonref_ctrls`)\n",
    "\n",
    "# derive MAC case from dosage, i.e. dose*2 and round it\n",
    "andme1 = andme1 %>% mutate(dose_MAC_case = case_when(src == \"I\"~ `dose.b.1`))\n",
    "andme1 %>% filter(src == \"I\") %>% select(dose_MAC_case, `dose.b.1`) %>% head()\n",
    "andme1$dose_MAC_case = as.numeric(andme1$dose_MAC_case)\n",
    "andme1 = andme1 %>% mutate(dose_MAC_case = round(dose_MAC_case, digits = 0))\n",
    "\n",
    "# derive MAC controls from dosage, i.e. dose*2 and round it\n",
    "andme1 = andme1 %>% mutate(dose_MAC_ctrls = case_when(src == \"I\"~ `dose.b.0`))\n",
    "andme1 %>% filter(src == \"I\") %>% select(dose_MAC_ctrls, `dose.b.0`) %>% head()\n",
    "andme1$dose_MAC_ctrls = as.numeric(andme1$dose_MAC_ctrls)\n",
    "andme1 = andme1 %>% mutate(dose_MAC_ctrls = round(dose_MAC_ctrls, digits = 0))\n",
    "\n",
    "# check empty ones\n",
    "andme1 %>% filter(src == \"I\" & is.na(`23andMe_MAC_cases`)) %>% tally()\n",
    "## 460\n",
    "andme1 %>% filter(src == \"I\" & is.na(`23andMe_MAC_ctrls`)) %>% tally()\n",
    "## 460\n",
    "\n",
    "# then add to those that are empty\n",
    "andme1 = andme1 %>% mutate(`23andMe_MAC_cases` = if_else(src == \"I\" & is.na(`23andMe_MAC_cases`), dose_MAC_case, `23andMe_MAC_cases`))\n",
    "andme1 = andme1 %>% mutate(`23andMe_MAC_ctrls` = if_else(src == \"I\" & is.na(`23andMe_MAC_ctrls`), dose_MAC_ctrls, `23andMe_MAC_ctrls`))\n",
    "\n",
    "# check empty ones\n",
    "andme1 %>% filter(src == \"I\" & is.na(`23andMe_MAC_cases`)) %>% tally()\n",
    "## 86\n",
    "andme1 %>% filter(src == \"I\" & is.na(`23andMe_MAC_ctrls`)) %>% tally()\n",
    "## 86\n",
    "\n",
    "# edit UKB, convert columns to numeric, then rowsum to derive number of cases and controls\n",
    "UKB1 <- UKB1 %>% mutate_at(c(2:7), as.numeric)\n",
    "UKB1$`UKB_n_cases` <- rowSums(UKB1[,c(2:4)], na.rm=TRUE)\n",
    "UKB1$`UKB_n_ctrls` <- rowSums(UKB1[,c(5:7)], na.rm=TRUE)\n",
    "# add MAC\n",
    "UKB1 = UKB1 %>% mutate(UKB_MAC_cases = UKB_het_cases+2*UKB_homnonref_cases)\n",
    "UKB1 = UKB1 %>% mutate(UKB_MAC_ctrls = UKB_het_ctrls+2*UKB_homnonref_ctrls)\n",
    "\n",
    "# edit AMP, convert columns to numeric, then rowsum to derive number of cases and controls\n",
    "AMP1 <- AMP1 %>% mutate_at(c(2:7), as.numeric)\n",
    "AMP1$`AMP_n_cases` <- rowSums(AMP1[,c(2:4)], na.rm=TRUE)\n",
    "AMP1$`AMP_n_ctrls` <- rowSums(AMP1[,c(5:7)], na.rm=TRUE)\n",
    "# add MAC\n",
    "AMP1 = AMP1 %>% mutate(AMP_MAC_cases = AMP_het_cases+2*AMP_homnonref_cases)\n",
    "AMP1 = AMP1 %>% mutate(AMP_MAC_ctrls = AMP_het_ctrls+2*AMP_homnonref_ctrls)\n",
    "\n",
    "dim(AMP1)\n",
    "dim(UKB1)\n",
    "dim(andme1)\n",
    "\n",
    "metajoin = left_join(meta, andme1)\n",
    "metajoin = left_join(metajoin, UKB1)\n",
    "metajoin = left_join(metajoin, AMP1)\n",
    "\n",
    "head(metajoin)\n",
    "metajoin$`TOTAL_homref_cases` <- rowSums(metajoin[,c('23andme_homref_cases', 'UKB_homref_cases', 'AMP_homref_cases')], na.rm=TRUE)\n",
    "metajoin$`TOTAL_het_cases` <- rowSums(metajoin[,c('23andme_het_cases', 'UKB_het_cases', 'AMP_het_cases')], na.rm=TRUE)\n",
    "metajoin$`TOTAL_homnonref_cases` <- rowSums(metajoin[,c('23andme_homnonref_cases', 'UKB_homnonref_cases', 'AMP_homnonref_cases')], na.rm=TRUE)\n",
    "\n",
    "metajoin$`TOTAL_homref_ctrls` <- rowSums(metajoin[,c('23andme_homref_ctrls', 'UKB_homref_ctrls', 'AMP_homref_ctrls')], na.rm=TRUE)\n",
    "metajoin$`TOTAL_het_ctrls` <- rowSums(metajoin[,c('23andme_het_ctrls', 'UKB_het_ctrls', 'AMP_het_ctrls')], na.rm=TRUE)\n",
    "metajoin$`TOTAL_homnonref_ctrls` <- rowSums(metajoin[,c('23andme_homnonref_ctrls', 'UKB_homnonref_ctrls', 'AMP_homnonref_ctrls')], na.rm=TRUE)\n",
    "\n",
    "metajoin$`TOTAL_n_cases` <- rowSums(metajoin[,c('23andMe_n_cases', 'UKB_n_cases', 'AMP_n_cases')], na.rm=TRUE)\n",
    "metajoin$`TOTAL_n_ctrls` <- rowSums(metajoin[,c('23andMe_n_ctrls', 'UKB_n_ctrls', 'AMP_n_ctrls')], na.rm=TRUE)\n",
    "\n",
    "metajoin= metajoin %>% mutate(Effect_allelefreq_meta = case_when(Freq1<0.5 ~ Freq1, \n",
    "                                                           Freq1>0.5 ~ 1-Freq1))\n",
    "                                                           \n",
    "metajoin = metajoin %>% mutate(Effectv2 = if_else(Effect <0, abs(Effect), Effect))\n",
    "metajoin = metajoin %>% mutate(OR = exp(Effectv2), L95 = exp(Effectv2 - 1.96*StdErr), U95 = exp(Effectv2 + 1.96*StdErr))\n",
    "\n",
    "metajoin = metajoin %>% mutate(MAF_case = (TOTAL_n_cases*Effect_allelefreq_meta)/(TOTAL_n_cases*2),\n",
    "                                MAF_ctrls = (TOTAL_n_ctrls*Effect_allelefreq_meta)/(TOTAL_n_ctrls*2))\n",
    "\n",
    "metajoin = metajoin %>% mutate(`23andMe_MAC_cases` = if_else(src == \"I\", MAF_case*`23andMe_n_cases`*`avg.rsqr`*2, `23andMe_MAC_cases`))\n",
    "metajoin = metajoin %>% mutate(`23andMe_MAC_ctrls` = if_else(src == \"I\", MAF_ctrls*`23andMe_n_ctrls`*`avg.rsqr`*2, `23andMe_MAC_ctrls`))\n",
    "\n",
    "metajoin$`TOTAL_MAC_cases` <- rowSums(metajoin[,c('23andMe_MAC_cases', 'UKB_MAC_cases', 'AMP_MAC_cases')], na.rm=TRUE)\n",
    "metajoin$`TOTAL_MAC_ctrls` <- rowSums(metajoin[,c('23andMe_MAC_ctrls', 'UKB_MAC_ctrls', 'AMP_MAC_ctrls')], na.rm=TRUE)\n",
    "\n",
    "metajoin = metajoin %>% mutate(MAF_case = (TOTAL_MAC_cases/TOTAL_n_cases),\n",
    "                                MAF_ctrls = (TOTAL_MAC_ctrls/TOTAL_n_ctrls))\n",
    "\n",
    "write.table(metajoin, \"Meta_results_679_AMP_UKB_23andMe_annotation_counts_revision_counts.txt\", row.names = F, sep = \"\\t\", quote =F)"
   ]
  },
  {
   "cell_type": "markdown",
   "id": "00020324-de94-4952-b58d-5e20704e9ceb",
   "metadata": {},
   "source": [
    "### 13.2 Imputation vs genotyped"
   ]
  },
  {
   "cell_type": "raw",
   "id": "60e00140-48fd-467f-a0fe-68bb0d4b329a",
   "metadata": {},
   "source": [
    "R\n",
    "\n",
    "library(data.table)\n",
    "library(tidyverse)\n",
    "\n",
    "andme = fread(\"results_combined_23andMe.txt\")\n",
    "meta = fread(\"Meta_results_679_AMP_UKB_23andMe_annotation_counts_revision_MAFs.txt\")\n",
    "\n",
    "andme1 = andme %>% unite(\"MarkerName\", c(\"scaffold\", \"position\"), sep = \":\")\n",
    "andme1 = andme1 %>% select(MarkerName, src, `avg.rsqr`)\n",
    "\n",
    "andme1 %>% filter(!is.na(`avg.rsqr`)) %>% tally()\n",
    "\n",
    "A data.frame: 1 × 1\n",
    "n\n",
    "<int>\n",
    "544\n",
    "\n",
    "meta1 = left_join(meta, andme1)\n",
    "\n",
    "# how many were imputed vs genotyped in meta-analysis?\n",
    "meta1 %>% group_by(src) %>% tally() %>% mutate(perc = n/sum(n)*100)\n",
    "A tibble: 2 × 3\n",
    "src\tn\tperc\n",
    "<chr>\t<int>\t<dbl>\n",
    "G\t265\t39.02798\n",
    "I\t414\t60.97202\n",
    "\n",
    "# how may were imputed vs genotyped in 23andMe data only (filtered for those with p-values)\n",
    "andme %>% filter(!is.na(pvalue)) %>% group_by(src) %>% tally() %>% mutate(perc = n/sum(n)*100) \n",
    "​\n",
    "A tibble: 2 × 3\n",
    "src\tn\tperc\n",
    "<chr>\t<int>\t<dbl>\n",
    "G\t303\t37.31527\n",
    "I\t509\t62.68473\n",
    "\n",
    "# how many variants with r2>0.5 in 23andMe were in meta-analysis?\n",
    "meta1 %>% filter(avg.rsqr >0.5) %>% tally()\n",
    "A data.frame: 1 × 1\n",
    "n\n",
    "<int>\n",
    "332\n",
    "\n",
    "# how many had r2>0.5 in 23andMe data?\n",
    "andme %>% filter(avg.rsqr >0.5) %>% tally()\n",
    "A data.frame: 1 × 1\n",
    "n\n",
    "<int>\n",
    "428\n",
    "\n",
    "write.table(meta1, \"Meta_results_679_AMP_UKB_23andMe_annotation_counts_impvsgeno.txt\", row.names = F, sep = \"\\t\", quote =F)\n",
    "# info all contained in read-in file also\n",
    "scp pitzv2@helix.nih.gov:/data/CARD/projects/Rare_variants_2023_VP/Meta_results_679_AMP_UKB_23andMe_annotation_counts_impvsgeno.txt /Users/pitzv2/Library/CloudStorage/OneDrive-NationalInstitutesofHealth/Projects/23andme_rare_variants/Revision_NPJ/"
   ]
  },
  {
   "cell_type": "markdown",
   "id": "bb00ec4f-f5d0-457f-9af7-f2812166dbe5",
   "metadata": {},
   "source": [
    "### 13.3 Write suppl table with frequencies from gnoMad"
   ]
  },
  {
   "cell_type": "raw",
   "id": "13c62e23-0b90-4451-a282-913ab3655c70",
   "metadata": {
    "tags": []
   },
   "source": [
    "data = fread(\"Meta_results_679_AMP_UKB_23andMe_annotation_counts_revision.txt\")\n",
    "Frequencies = data %>% select(MarkerName, Ref, Alt, Gene, Effect_allelefreq_meta, AF:controls_AF_popmax)\n",
    "\n",
    "write.table(Frequencies, \"meta_analysis_gnomad_and_metafreqs.txt\", row.names =F, sep = \"\\t\", quote =F)"
   ]
  },
  {
   "cell_type": "raw",
   "id": "f6d3e857-23be-4272-9ef0-09c50f10e166",
   "metadata": {},
   "source": [
    "scp pitzv2@helix.nih.gov:/data/CARD/projects/Rare_variants_2023_VP/meta_analysis_gnomad_and_metafreqs.txt /Users/pitzv2/Library/CloudStorage/OneDrive-NationalInstitutesofHealth/Projects/23andme_rare_variants/Revision_NPJ/"
   ]
  },
  {
   "cell_type": "markdown",
   "id": "c9571541-3a42-468f-9bf1-01e78560b8a9",
   "metadata": {},
   "source": [
    "### 13.4 Estimation of penetrance"
   ]
  },
  {
   "cell_type": "code",
   "execution_count": null,
   "id": "54e61586-85a0-4540-8c8f-90504bc2af93",
   "metadata": {},
   "outputs": [],
   "source": [
    "# https://www.cureffi.org/2016/10/19/estimation-of-penetrance/\n",
    "# penetrance is the probability of disease given a particular genotype. The lower the penetrance of a variant, the higher the frequency.\n",
    "# if penetrance is quite low (maybe less than 10%), cinical utility of that variant is also low.\n",
    "# almost all variants with clinical utility have freq <0.001% - more common variants contribute cumulatively little, if any, risk."
   ]
  },
  {
   "cell_type": "code",
   "execution_count": null,
   "id": "675c473c-be15-49bf-a53e-7e7a4c97b741",
   "metadata": {
    "tags": []
   },
   "outputs": [],
   "source": [
    "head -n 1 results_combined_23andMe.txt"
   ]
  },
  {
   "cell_type": "raw",
   "id": "9b885c88-0f8e-4c34-9a4c-d322f6b58132",
   "metadata": {},
   "source": [
    "# edited based on https://www.cureffi.org/2016/10/19/estimation-of-penetrance/ \n",
    "library(binom)\n",
    "library(data.table)\n",
    "library(tidyverse)\n",
    "\n",
    "meta = fread(\"Meta_results_679_AMP_UKB_23andMe_annotation_counts_revision_counts.txt\")\n",
    "\n",
    "penetrance = function(af_case, af_control, baseline_risk) {\n",
    "  calculated_penetrance = af_case * baseline_risk / af_control\n",
    "  estimated_penetrance = pmin(1,pmax(0,calculated_penetrance)) # trim to [0,1] support\n",
    "  return (estimated_penetrance)\n",
    "}\n",
    "\n",
    "penetrance_confint = function (ac_case, n_case, ac_control, n_control, baseline_risk) {\n",
    "  # for a genotypic model, use 1*n_case; for allelic, use 2*n_case\n",
    "  case_confint = binom.confint(x=ac_case,n=2*n_case,method='wilson')\n",
    "  control_confint = binom.confint(x=ac_control,n=2*n_control,method='wilson')\n",
    "  lower_bound = penetrance(case_confint$lower,control_confint$upper,baseline_risk)\n",
    "  best_estimate = penetrance(case_confint$mean,control_confint$mean,baseline_risk)\n",
    "  upper_bound = penetrance(case_confint$upper,control_confint$lower,baseline_risk)\n",
    "  return ( c(lower_bound, best_estimate, upper_bound) )\n",
    "}\n",
    "\n",
    "# Add column for penetrance calculation\n",
    "meta1 <- meta %>% \n",
    "  mutate(estimated_penetrance_perc = penetrance(meta$MAF_case, meta$MAF_ctrls, 0.02)*100)\n",
    "\n",
    "# Add columns for penetrance confidence interval calculation\n",
    "lower_bound <- vector(\"numeric\", nrow(meta1))\n",
    "best_estimate <- vector(\"numeric\", nrow(meta1))\n",
    "upper_bound <- vector(\"numeric\", nrow(meta1))\n",
    "\n",
    "for (i in 1:nrow(meta1)) {\n",
    "  ac_case <- meta1$TOTAL_MAC_cases[i]\n",
    "  n_case <- meta1$TOTAL_n_cases[i]\n",
    "  ac_control <- meta1$TOTAL_MAC_ctrls[i]\n",
    "  n_control <- meta1$TOTAL_n_ctrls[i]\n",
    "  \n",
    "  # Check if ac_case is greater than 2 * n_case\n",
    "  if (ac_case > 2 * n_case) {\n",
    "    # Skip this row and assign NA values\n",
    "    lower_bound[i] <- NA\n",
    "    best_estimate[i] <- NA\n",
    "    upper_bound[i] <- NA\n",
    "  } else {\n",
    "    # Calculate the penetrance confidence interval\n",
    "    confint_result <- penetrance_confint(ac_case, n_case, ac_control, n_control, 0.02)\n",
    "    \n",
    "    lower_bound[i] <- confint_result[1]\n",
    "    best_estimate[i] <- confint_result[2]\n",
    "    upper_bound[i] <- confint_result[3]\n",
    "  }\n",
    "}\n",
    "\n",
    "meta1$lower_bound <- lower_bound\n",
    "meta1$best_estimate <- best_estimate\n",
    "meta1$upper_bound <- upper_bound\n",
    "\n",
    "# remove for recessive genes\n",
    "meta1$lower_bound[meta1$Gene == \"VPS13C\" | meta1$Gene == \"PLA2G6\" |meta1$Gene == \"PINK1\" |meta1$Gene == \"PRKN\" |meta1$Gene == \"ATP13A2\"| meta1$Gene ==\"DNAJC6\" | meta1$Gene == \"FBXO7\" | meta1$Gene == \"RAB39B\"] <- \"\"\n",
    "meta1$best_estimate[meta1$Gene == \"VPS13C\" | meta1$Gene == \"PLA2G6\" |meta1$Gene == \"PINK1\" |meta1$Gene == \"PRKN\" |meta1$Gene == \"ATP13A2\"| meta1$Gene ==\"DNAJC6\" | meta1$Gene == \"FBXO7\" | meta1$Gene == \"RAB39B\"] <- \"\"\n",
    "meta1$upper_bound[meta1$Gene == \"VPS13C\" | meta1$Gene == \"PLA2G6\" |meta1$Gene == \"PINK1\" |meta1$Gene == \"PRKN\" |meta1$Gene == \"ATP13A2\"| meta1$Gene ==\"DNAJC6\" | meta1$Gene == \"FBXO7\" | meta1$Gene == \"RAB39B\"] <- \"\"\n",
    "\n",
    "meta1 = meta1 %>% select(-c(estimated_penetrance_perc))\n",
    "meta1$Gene <- gsub(\"GBA\", \"GBA1\", meta1$Gene)\n",
    "meta1$VariantName <- gsub(\"GBA\", \"GBA1\", meta1$VariantName)\n",
    "\n",
    "write.table(meta1, \"Meta_results_679_AMP_UKB_23andMe_annotation_counts_revision_penetrance.txt\", row.names = F, sep =\"\\t\", quote = F)"
   ]
  },
  {
   "cell_type": "markdown",
   "id": "d884e41d-3c0d-4dc2-b5bf-328a4ce2ae62",
   "metadata": {},
   "source": [
    "### 13.5 Haplotype counts for LD on AMP-PD + UKB data (not possible for 23andMe)"
   ]
  },
  {
   "cell_type": "code",
   "execution_count": 1,
   "id": "ced40d8c-9c2f-45f0-ba9c-cdd3cecec9e8",
   "metadata": {
    "tags": []
   },
   "outputs": [
    {
     "name": "stdout",
     "output_type": "stream",
     "text": [
      "[+] Loading plink  1.9.0-beta4.4  on cn4318 \n",
      "PLINK v1.90b4.4 64-bit (21 May 2017)           www.cog-genomics.org/plink/1.9/\n",
      "(C) 2005-2017 Shaun Purcell, Christopher Chang   GNU General Public License v3\n",
      "Logging to UKB.log.\n",
      "Options in effect:\n",
      "  --allow-no-sex\n",
      "  --bfile UKB_608_from23andme_PhenoUpdate\n",
      "  --ld chr1:155238570:C:G chr1:155236376:C:T\n",
      "  --out UKB\n",
      "  --r2\n",
      "\n",
      "515436 MB RAM detected; reserving 257718 MB for main workspace.\n",
      "608 variants loaded from .bim file.\n",
      "45857 people (0 males, 0 females, 45857 ambiguous) loaded from .fam.\n",
      "Ambiguous sex IDs written to UKB.nosex .\n",
      "45857 phenotype values loaded from .fam.\n",
      "Using up to 127 threads (change this with --threads).\n",
      "Before main variant filters, 45857 founders and 0 nonfounders present.\n",
      "Calculating allele frequencies... 10111213141516171819202122232425262728293031323334353637383940414243444546474849505152535455565758596061626364656667686970717273747576777879808182838485868788899091929394959697989 done.\n",
      "Total genotyping rate is 0.999064.\n",
      "608 variants and 45857 people pass filters and QC.\n",
      "Among remaining phenotypes, 7806 are cases and 38051 are controls.\n",
      "\n",
      "--ld chr1:155238570:C:G chr1:155236376:C:T:\n",
      "Multiple haplotype phasing solutions; sample size, HWE, or random mating\n",
      "assumption may be violated.\n",
      "\n",
      "HWE exact test p-values\n",
      "-----------------------\n",
      "   chr1:155238570:C:G: 1\n",
      "   chr1:155236376:C:T: 1\n",
      "\n",
      "Solution #1:\n",
      "   R-sq = 1.98239e-06    D' = 1\n",
      "\n",
      "   Haplotype     Frequency    Expectation under LE\n",
      "   ---------     ---------    --------------------\n",
      "          GT      0                       0.000002\n",
      "          CT      0.014920                0.014918\n",
      "          GC      0.000131                0.000129\n",
      "          CC      0.984950                0.984952\n",
      "\n",
      "   In phase alleles are GC/CT\n",
      "\n",
      "Solution #2:\n",
      "   R-sq = 0.00864219     D' = 1\n",
      "\n",
      "   Haplotype     Frequency    Expectation under LE\n",
      "   ---------     ---------    --------------------\n",
      "          GT      0.000131                0.000002\n",
      "          CT      0.014789                0.014918\n",
      "          GC      0                       0.000129\n",
      "          CC      0.985080                0.984952\n",
      "\n",
      "   In phase alleles are GT/CC\n",
      "\n",
      "--r2 to UKB.ld ... 0% [processingwriting]          done.\n"
     ]
    }
   ],
   "source": [
    "# LD estimate in UKB\n",
    "module load plink/1.9.0-beta4.4\n",
    "plink --bfile UKB_608_from23andme_PhenoUpdate --allow-no-sex --r2 --ld 'chr1:155238570:C:G' 'chr1:155236376:C:T' --out UKB"
   ]
  },
  {
   "cell_type": "code",
   "execution_count": null,
   "id": "f06049e0-bb39-454f-97d7-3e91e90884aa",
   "metadata": {
    "tags": []
   },
   "outputs": [],
   "source": [
    "cat UKB.ld"
   ]
  },
  {
   "cell_type": "code",
   "execution_count": null,
   "id": "ddb261aa-7a96-4e44-8b12-62ef74ead4b0",
   "metadata": {
    "tags": []
   },
   "outputs": [],
   "source": [
    "# extract variant info from datasets\n",
    "## D179H\n",
    "grep 'chr1:155238570:C:G' UKB_608_from23andme_PhenoUpdate_GENO.model\n",
    "## E365K\n",
    "grep 'chr1:155236376:C:T' UKB_608_from23andme_PhenoUpdate_GENO.model\n",
    "\n",
    "# xx/xx/xx = homozygous alternative(non-ref)/heterozygous/homozygous reference"
   ]
  },
  {
   "cell_type": "code",
   "execution_count": null,
   "id": "83b8d7bf-630a-4ecb-8117-0bd3082e8d07",
   "metadata": {
    "tags": []
   },
   "outputs": [],
   "source": [
    "# extract frequency\n",
    "module load plink/1.9.0-beta4.4\n",
    "plink --bfile UKB_608_from23andme_PhenoUpdate --freq --out UKB_freq"
   ]
  },
  {
   "cell_type": "code",
   "execution_count": null,
   "id": "03415ba6-b52e-44c7-a87f-083a6e646f90",
   "metadata": {
    "tags": []
   },
   "outputs": [],
   "source": [
    "## head\n",
    "head -n 1 UKB_freq.frq\n",
    "## D179H\n",
    "grep 'chr1:155238570:C:G' UKB_freq.frq\n",
    "## E365K\n",
    "grep 'chr1:155236376:C:T' UKB_freq.frq"
   ]
  },
  {
   "cell_type": "code",
   "execution_count": null,
   "id": "0f6b1731-f123-48f0-b48d-1a0145608f2a",
   "metadata": {},
   "outputs": [],
   "source": [
    "# LD estimate in AMP-PD\n",
    "module load plink/1.9.0-beta4.4\n",
    "plink --bfile AMP_282_from23andme --r2 --ld 'chr1:155238570:C:G' 'chr1:155236376:C:T' --out AMP"
   ]
  },
  {
   "cell_type": "code",
   "execution_count": null,
   "id": "0d33f0ec-4ed2-4c5c-aed6-b43f47254edd",
   "metadata": {
    "tags": []
   },
   "outputs": [],
   "source": [
    "ls Meta*"
   ]
  },
  {
   "cell_type": "code",
   "execution_count": null,
   "id": "4a3fbd29-1e7f-49e1-a1cd-5e599254fb7b",
   "metadata": {
    "tags": []
   },
   "outputs": [],
   "source": [
    "# extract variant info from datasets\n",
    "## D179H\n",
    "grep 'chr1:155238570:C:G' AMP_282_from23andme_pheno_GENO.model\n",
    "## E365K\n",
    "grep 'chr1:155236376:C:T' AMP_282_from23andme_pheno_GENO.model\n",
    "\n",
    "# xx/xx/xx = homozygous alternative(non-ref)/heterozygous/homozygous reference"
   ]
  },
  {
   "cell_type": "code",
   "execution_count": null,
   "id": "c7c18b0b-67f9-4b5e-8417-90b3abafb010",
   "metadata": {},
   "outputs": [],
   "source": [
    "# extract frequency\n",
    "module load plink/1.9.0-beta4.4\n",
    "plink --bfile AMP_282_from23andme --freq --out AMP_freq"
   ]
  },
  {
   "cell_type": "code",
   "execution_count": null,
   "id": "cfb43cd5-1bc2-4331-bdd8-1ce855415405",
   "metadata": {
    "tags": []
   },
   "outputs": [],
   "source": [
    "## head\n",
    "head -n 1 AMP_freq.frq\n",
    "## D179H\n",
    "grep 'chr1:155238570:C:G' AMP_freq.frq\n",
    "## E365K\n",
    "grep 'chr1:155236376:C:T' AMP_freq.frq"
   ]
  },
  {
   "cell_type": "markdown",
   "id": "667aed14-da73-4c43-ba84-14586668cead",
   "metadata": {},
   "source": [
    "### 13.6 Maximum credible allele frequency"
   ]
  },
  {
   "cell_type": "raw",
   "id": "94c6a26f-1522-43dd-a64c-bbdc2b7df331",
   "metadata": {},
   "source": [
    "meta = fread(\"Meta_results_679_AMP_UKB_23andMe_annotation_counts_revision_penetrance.txt\")\n",
    "\n",
    "# Function to calculate maximum credible allele frequency\n",
    "calculate_max_credible_AF <- function(prevalence, allelic_heterogeneity, penetrance) {\n",
    "  max_credible_AF <- (prevalence * allelic_heterogeneity) / (penetrance * 2)\n",
    "  return(max_credible_AF)\n",
    "}\n",
    "\n",
    "# Calculate the maximum credible allele frequency\n",
    "meta$max_credible_AF <- (0.02 * meta$MAF_case) / (meta$best_estimate * 2)\n",
    "\n",
    "# Calculate the maximum credible allele frequency based on 30% penetrance\n",
    "meta$max_credible_AF_30pen <- (0.02 * meta$MAF_case) / (0.3 * 2)\n",
    "\n",
    "write.table(meta, \"Meta_results_679_AMP_UKB_23andMe_annotation_counts_revision_maxfreq.txt\", quote =F, sep = \"\\t\", row.names = F)"
   ]
  },
  {
   "cell_type": "markdown",
   "id": "f0cdbfd7-c95c-4fed-a8a3-f29c92b84d1d",
   "metadata": {},
   "source": [
    "### 13.7 Write new files"
   ]
  },
  {
   "cell_type": "code",
   "execution_count": null,
   "id": "96b4f8fa-d90f-42ec-9264-48de7b61a341",
   "metadata": {},
   "outputs": [],
   "source": [
    "head Power_file_OR1_OR2_OR3_Jan5th2023.txt"
   ]
  },
  {
   "cell_type": "raw",
   "id": "d81776d2-1875-4eb5-854e-4b11624c4e15",
   "metadata": {},
   "source": [
    "library(data.table)\n",
    "library(tidyverse)\n",
    "\n",
    "power = fread(\"Power_file_OR1_OR2_OR3_Jan5th2023.txt\")\n",
    "meta = fread(\"Meta_results_679_AMP_UKB_23andMe_annotation_counts_revision_maxfreq.txt\")\n",
    "\n",
    "power1 = power %>% unite(\"MarkerName\", c(\"Chr\", \"Start\"), sep =\":\")\n",
    "power1$VariantName <- gsub(\"GBA\", \"GBA1\", power1$VariantName)\n",
    "\n",
    "data = left_join(meta, power1)\n",
    "\n",
    "data$`P-value` = as.numeric(data$`P-value`)\n",
    "\n",
    "write.table(data, \"Meta_results_679_AMP_UKB_23andMe_annotation_counts_revision.txt\", quote = F, sep = \"\\t\", row.names = F)"
   ]
  },
  {
   "cell_type": "raw",
   "id": "8e6c653d-d18a-455e-a83a-8a1c5344cf5e",
   "metadata": {},
   "source": [
    "R\n",
    "library(data.table)\n",
    "library(tidyverse)\n",
    "\n",
    "data = fread(\"Meta_results_679_AMP_UKB_23andMe_annotation_counts_revision.txt\")\n",
    "data$PD_known[grepl(\"arkinson\", data$CLNDN)] <- \"PD_known\"\n",
    "data$PD_known[!grepl(\"arkinson\", data$CLNDN)] <- \"Not_PD_known\"\n",
    "write.table(data, \"Meta_results_679_master_file_revision.txt\", row.names = F, sep = \"\\t\", quote =F)\n",
    "\n",
    "data2 = data %>% select(MarkerName, avsnp150, VariantName, Ref, Alt, Gene, `P-value`, OR, L95, U95, CLNDN, PD_known, CLNSIG, pass, src, `avg.rsqr`, max_credible_AF, max_credible_AF_30pen, lower_bound, best_estimate, upper_bound, `Power_at_alpha005_OR1.5`, Power_at_alpha005_OR2, Power_at_alpha005_OR3)                       \n",
    "data2 = data2 %>% rename(\"rsID\" = avsnp150, \"Clinical_diagnosis\" = CLNDN, \"Clinical_significance\" = CLNSIG, \"Pass_23andMe_QC\" = pass, \"Genotyped_vs_imputed_in_23andMe\" = src, \"Imputation_R2_23andMe\" = `avg.rsqr`, \"Maximum_credible_AF\" = max_credible_AF, \"Maximum_credible_AF_at_30perc_penetrance\" = max_credible_AF_30pen, \"Estimated_penetrance\" = best_estimate, \"L95_estimated_penetrance\" = lower_bound, \"U95_estimated_penetrance\" = upper_bound)  \n",
    "write.table(data2, \"Meta_analysis_annotations_statistics_penetrance_power.txt\", row.names = F, sep = \"\\t\", quote =F)\n",
    "\n",
    "counts = data %>% select(MarkerName, avsnp150, VariantName, Ref, Alt, src, TOTAL_n_cases, MAF_case, TOTAL_MAC_cases, `23andMe_MAC_cases`, UKB_MAC_cases, AMP_MAC_cases, TOTAL_n_ctrls, MAF_ctrls, TOTAL_MAC_ctrls, `23andMe_MAC_ctrls`, UKB_MAC_ctrls, AMP_MAC_ctrls)   \n",
    "counts1 = counts %>% rename(\"rsID\" = avsnp150, \"Genotyped_vs_imputed\" = src) \n",
    "\n",
    "write.table(counts1, \"Meta_analysis_minor_allele_counts.txt\", row.names = F, sep = \"\\t\", quote =F)"
   ]
  },
  {
   "cell_type": "code",
   "execution_count": null,
   "id": "39156c17-6d32-4fb2-a051-db74dacf82af",
   "metadata": {},
   "outputs": [],
   "source": [
    "# New results file\n",
    "candidates = data %>% filter(`Power_at_alpha005_OR2` >=0.8 & `P-value`<7.36377025036819e-05 |  `Power_at_alpha005_OR2` >=0.8 & `P-value`>7.36377025036819e-05 & `P-value` <0.5 | `Power_at_alpha005_OR2` <0.8 & `P-value`<7.36377025036819e-05) %>% tally()"
   ]
  },
  {
   "cell_type": "code",
   "execution_count": 1,
   "id": "a81c0998-07aa-4a0b-8070-8f02935ab96e",
   "metadata": {
    "tags": []
   },
   "outputs": [
    {
     "name": "stdout",
     "output_type": "stream",
     "text": [
      "/data/CARD/projects/Rare_variants_2023_VP\n"
     ]
    }
   ],
   "source": [
    "pwd"
   ]
  },
  {
   "cell_type": "code",
   "execution_count": 2,
   "id": "8a156350-bde9-4dbd-82f0-e8710ea6f883",
   "metadata": {
    "tags": []
   },
   "outputs": [
    {
     "name": "stdout",
     "output_type": "stream",
     "text": [
      "ssh: Could not resolve hostname nih.gov: Name or service not known\n"
     ]
    },
    {
     "ename": "",
     "evalue": "1",
     "output_type": "error",
     "traceback": []
    }
   ],
   "source": [
    "scp pitzv2@helix.nih.gov:/data/CARD/projects/Rare_variants_2023_VP/Meta_analysis_annotations_statistics_penetrance_power.txt /Users/pitzv2/Library/CloudStorage/OneDrive-NationalInstitutesofHealth/Projects/23andme_rare_variants/Revision_NPJ/Final_files\n",
    "scp pitzv2@helix.nih.gov:/data/CARD/projects/Rare_variants_2023_VP/Meta_analysis_minor_allele_counts.txt /Users/pitzv2/Library/CloudStorage/OneDrive-NationalInstitutesofHealth/Projects/23andme_rare_variants/Revision_NPJ/Final_files\n",
    "scp pitzv2@helix.nih.gov:/data/CARD/projects/Rare_variants_2023_VP/Results_Bonferroni_PoweratOR2.txt /Users/pitzv2/Library/CloudStorage/OneDrive-NationalInstitutesofHealth/Projects/23andme_rare_variants/Revision_NPJ/Final_files"
   ]
  },
  {
   "cell_type": "markdown",
   "id": "f12e0edc-0d72-41b4-a928-46970b7cc2fb",
   "metadata": {},
   "source": [
    "### 13.8 Change results layout based on power"
   ]
  },
  {
   "cell_type": "code",
   "execution_count": null,
   "id": "b4f64a1a-cc75-4549-97f4-c8c803a7df38",
   "metadata": {},
   "outputs": [],
   "source": [
    "data = fread(\"Meta_results_679_master_file_revision.txt\")\n",
    "data %>% group_by(src) %>% tally() %>% mutate(perc = n/sum(n)*100)"
   ]
  },
  {
   "cell_type": "raw",
   "id": "69b88b79-f209-4493-a41f-dabe28bf3da4",
   "metadata": {},
   "source": [
    "# add FDR\n",
    "data$p.fdr <- p.adjust(p=data$`P-value`, method=\"fdr\" )\n",
    "write.table(data, \"Meta_results_679_master_file_revision.txt\", row.names =F , sep = \"\\t\", quote = F)"
   ]
  },
  {
   "cell_type": "code",
   "execution_count": null,
   "id": "132af5d6-6417-45a5-9361-490dc5c42854",
   "metadata": {},
   "outputs": [],
   "source": [
    "# filter down to those with power calculations\n",
    "data = data %>% filter(!is.na(Power_at_alpha005_OR2))"
   ]
  },
  {
   "cell_type": "code",
   "execution_count": null,
   "id": "92e571d9-0ba2-4fad-b2d0-32157ccb79bb",
   "metadata": {},
   "outputs": [],
   "source": [
    "data %>% group_by(CLNSIG) %>% tally() %>% mutate(perc = n/sum(n)*100) %>% arrange(-n)"
   ]
  },
  {
   "cell_type": "code",
   "execution_count": null,
   "id": "8938df78-3443-4a97-9b8c-2b1ed1accc42",
   "metadata": {},
   "outputs": [],
   "source": [
    "genes = data %>% group_by(Gene) %>% tally() %>% mutate(perc = n/sum(n)*100)%>% arrange(-n)\n",
    "write.table(genes, \"List_of_all_genes.txt\", row.names = F, sep = \"\\t\", quote = F)"
   ]
  },
  {
   "cell_type": "code",
   "execution_count": null,
   "id": "d7d2c4cc-3b45-4ada-b2b4-445949b5a2fa",
   "metadata": {},
   "outputs": [],
   "source": [
    "scp pitzv2@helix.nih.gov:/data/CARD/projects/Rare_variants_2023_VP/List_of_all_genes.txt /Users/pitzv2/Library/CloudStorage/OneDrive-NationalInstitutesofHealth/Projects/23andme_rare_variants/Revision_NPJ/Final_files\n",
    "scp pitzv2@helix.nih.gov:/data/CARD/projects/Rare_variants_2023_VP/Meta_results_679_master_file_revision.txt /Users/pitzv2/Library/CloudStorage/OneDrive-NationalInstitutesofHealth/Projects/23andme_rare_variants/Revision_NPJ/Final_files"
   ]
  },
  {
   "cell_type": "markdown",
   "id": "e6a2e652-0f6e-4328-a9b1-8efa025aa6b7",
   "metadata": {},
   "source": [
    "#### 13.8.1 sufficient power at OR=2"
   ]
  },
  {
   "cell_type": "code",
   "execution_count": null,
   "id": "3d1e5dc6-1530-48ed-8a9b-c09094f4b7cc",
   "metadata": {},
   "outputs": [],
   "source": [
    "data %>% filter(Power_at_alpha005_OR2 >= 0.8) %>% tally()\n",
    "# 162/669=24.2%\n",
    "\n",
    "data %>% filter(Power_at_alpha005_OR2 >= 0.8) %>% group_by(CLNSIG) %>% tally() %>% mutate(perc = n/sum(n)*100)\n",
    "A tibble: 5 × 3\n",
    "CLNSIG\tn\tperc\n",
    "<chr>\t<int>\t<dbl>\n",
    "Benign\t47\t29.012346\n",
    "Conflicting/Uncertain/Unknown\t105\t64.814815\n",
    "Pathogenic\t6\t3.703704\n",
    "Pathogenic/Risk_factor\t2\t1.234568\n",
    "Risk_factor\t2\t1.234568"
   ]
  },
  {
   "cell_type": "raw",
   "id": "8ab8a244-418c-441a-af5c-88cc18ef026b",
   "metadata": {},
   "source": [
    "# how may significant\n",
    "data %>% filter(Power_at_alpha005_OR2 >= 0.8 & `P-value` < 7.36377025036819e-05) %>% tally()\n",
    "# 5\n",
    "data %>% filter(Power_at_alpha005_OR2 >= 0.8 & `P-value` < 7.36377025036819e-05) %>% group_by(CLNSIG) %>% tally() %>% mutate(perc = n/sum(n)*100)\n",
    "data %>% filter(Power_at_alpha005_OR2 >= 0.8 & `P-value` < 7.36377025036819e-05) %>% group_by(CLNSIG) %>% tally() %>% mutate(perc = n/sum(n)*100)\n",
    "A tibble: 3 × 3\n",
    "CLNSIG\tn\tperc\n",
    "<chr>\t<int>\t<dbl>\n",
    "Conflicting/Uncertain/Unknown\t2\t40\n",
    "Pathogenic\t1\t20\n",
    "Pathogenic/Risk_factor\t2\t40\n",
    "\n",
    "# write.table\n",
    "Bonferroni_power = data %>% filter(Power_at_alpha005_OR2 >= 0.8 & `P-value` < 7.36377025036819e-05) %>% select(MarkerName, avsnp150, VariantName, Ref, Alt, MAF_23, AF_nfe, CLNSIG, Power_at_alpha005_OR2, OR, L95, U95, lower_bound, best_estimate, upper_bound, MAF_case, TOTAL_MAC_cases, MAF_ctrls, TOTAL_MAC_ctrls, `P-value`, `p.fdr`) %>% arrange(-OR)\n",
    "Bonferroni_power$MAF_MAC_cases <- paste(round(Bonferroni_power$MAF_cases,digits =4), \"(\", Bonferroni_power$TOTAL_MAC_cases, \")\")\n",
    "Bonferroni_power$MAF_MAC_ctrls <- paste(round(Bonferroni_power$MAF_ctrls, digits = 4), \"(\", Bonferroni_power$TOTAL_MAC_ctrls, \")\")\n",
    "\n",
    "write.table(Bonferroni_power, \"Results_Bonferroni_PoweratOR2.txt\", row.names = F, sep = \"\\t\", quote = F)\n",
    "\n",
    "# make plot\n",
    "Plot_Bon_OR = ggplot(Bonferroni_power, mapping = aes(x= log(OR), y = reorder(VariantName, -OR)))+\n",
    "  geom_vline(aes(xintercept =0), size = .5, linetype = \"dashed\")+\n",
    "  geom_errorbarh(aes(xmax = log(U95), xmin = log(L95)), size = .5, height = .2) +\n",
    "  geom_point(size = 3.5, aes(color = CLNSIG)) +\n",
    "  scale_x_continuous(breaks = seq(0,3,1), labels = seq(0,3,1), limits = c(0,3)) +\n",
    "  theme_bw()+\n",
    "  theme(panel.grid.minor = element_blank()) +\n",
    "  ylab(\"Variants\")+\n",
    "  xlab(\"OR and 95% CI on a log scale\")+\n",
    "  ggtitle(\"Results 1 \\n Variants passing Bonferroni and 80% power at OR=2\")+\n",
    "  theme(plot.title = element_text(hjust=0.5)) +\n",
    " theme(plot.title = element_text(hjust=0.5),\n",
    "       legend.position=\"bottom\")\n",
    "\n",
    "Plot_Bon_OR\n",
    "ggsave(\"Forest_plot_Bonferoni_OR2.png\", Plot_Bon_OR, width = 8, height = 5, dpi=300, units = \"in\")\n"
   ]
  },
  {
   "cell_type": "raw",
   "id": "7771057a-508d-493b-b948-524d8d8cc9a9",
   "metadata": {},
   "source": [
    "# how many not Bonferroni significant\n",
    "data %>% filter(Power_at_alpha005_OR2 >= 0.8 & `P-value` > 7.36377025036819e-05) %>% tally()\n",
    "# 157\n",
    "\n",
    "# how many not Bonferroni significant but p<0.05 & PD assoc\n",
    "data %>% filter(Power_at_alpha005_OR2 >= 0.8 & `P-value` > 7.36377025036819e-05 & `P-value` <0.05)%>% group_by(PD_known) %>% tally() %>% mutate(perc = n/sum(n)*100)\n",
    "A tibble: 2 × 3\n",
    "PD_known\tn\tperc\n",
    "<chr>\t<int>\t<dbl>\n",
    "Not_PD_known\t4\t50\n",
    "PD_known\t4\t50\n",
    "\n",
    "data %>% filter(Power_at_alpha005_OR2 >= 0.8 & `P-value` > 7.36377025036819e-05 &`P-value` <0.05 & PD_known == \"PD_known\") %>% group_by(CLNSIG) %>% tally() %>% mutate(perc = n/sum(n)*100)\n",
    "A tibble: 1 × 3\n",
    "CLNSIG\tn\tperc\n",
    "<chr>\t<int>\t<dbl>\n",
    "Conflicting/Uncertain/Unknown\t4\t100\n",
    "\n",
    "data %>% filter(Power_at_alpha005_OR2 >= 0.8 & `P-value` > 7.36377025036819e-05 &`P-value` <0.05 & PD_known == \"PD_known\") %>% select(MarkerName, avsnp150, VariantName, Ref, Alt, MAF_23, AF_nfe, CLNSIG, Power_at_alpha005_OR2, OR, L95, U95, lower_bound, best_estimate, upper_bound, TOTAL_MAC_cases, TOTAL_MAC_ctrls) %>% arrange(-OR)\n",
    "\n",
    "# how many had p<0.05\n",
    "data %>% filter(Power_at_alpha005_OR2 >= 0.8 & `P-value` >0.05) %>% tally()\n",
    "\n",
    "data %>% filter(Power_at_alpha005_OR2 >= 0.8 & `P-value` >0.05)%>% group_by(PD_known) %>% tally() %>% mutate(perc = n/sum(n)*100)\n",
    "A tibble: 2 × 3\n",
    "PD_known\tn\tperc\n",
    "<chr>\t<int>\t<dbl>\n",
    "Not_PD_known\t116\t77.85235\n",
    "PD_known\t33\t22.14765\n",
    "\n",
    "data %>% filter(Power_at_alpha005_OR2 >= 0.8 & `P-value` >0.05 & PD_known == \"PD_known\")%>% group_by(CLNSIG) %>% tally() %>% mutate(perc = n/sum(n)*100)\n",
    "A tibble: 3 × 3\n",
    "CLNSIG\tn\tperc\n",
    "<chr>\t<int>\t<dbl>\n",
    "Conflicting/Uncertain/Unknown\t30\t90.909091\n",
    "Pathogenic\t1\t3.030303\n",
    "Risk_factor\t2\t6.060606\n",
    "\n",
    "## hone in on pathogenic and risk\n",
    "data %>% filter(Power_at_alpha005_OR2 >= 0.8 & `P-value` >0.05 &PD_known == \"PD_known\" & CLNSIG == \"Pathogenic\" | Power_at_alpha005_OR2 >= 0.8 & `P-value` >0.05 &PD_known == \"PD_known\" & CLNSIG == \"Risk_factor\")%>% group_by(Gene) %>% tally() %>% mutate(perc = n/sum(n)*100)\n",
    "A tibble: 2 × 3\n",
    "Gene\tn\tperc\n",
    "<chr>\t<int>\t<dbl>\n",
    "GIGYF2\t2\t66.66667\n",
    "GLUD2\t1\t33.33333\n",
    "\n",
    "# write.table\n",
    "NoBonferroni_power = data %>% filter(Power_at_alpha005_OR2 >= 0.8 & `P-value`>7.36377025036819e-05 & PD_known == \"PD_known\") %>% select(MarkerName, avsnp150, VariantName, Ref, Alt, MAF_23, AF_nfe, CLNSIG, Power_at_alpha005_OR2, OR, L95, U95, lower_bound, best_estimate, upper_bound, TOTAL_MAC_cases, TOTAL_MAC_ctrls) %>% arrange(-OR)\n",
    "\n",
    "NoBonferroni_power_pathrisk = data %>% filter(Power_at_alpha005_OR2 >= 0.8 & `P-value` > 7.36377025036819e-05 & PD_known == \"PD_known\" & CLNSIG == \"Pathogenic\" | Power_at_alpha005_OR2 >= 0.8 & `P-value` > 7.36377025036819e-05 & PD_known == \"PD_known\" & CLNSIG == \"Risk_factor\") %>% select(MarkerName, avsnp150, VariantName, Ref, Alt, MAF_23, AF_nfe, CLNSIG, Power_at_alpha005_OR2, OR, L95, U95, lower_bound, best_estimate, upper_bound, TOTAL_MAC_cases, TOTAL_MAC_ctrls) %>% arrange(-OR)\n",
    "\n",
    "write.table(NoBonferroni_power, \"Results_NoBonferroni_PoweratOR2.txt\", row.names = F, sep = \"\\t\", quote = F)\n",
    "\n",
    "# make plot\n",
    "Plot_Bon_OR = ggplot(NoBonferroni_power_pathrisk, mapping = aes(x= OR, y = reorder(VariantName, -OR)))+\n",
    "  geom_vline(aes(xintercept =1), size = .5, linetype = \"dashed\")+\n",
    "  geom_errorbarh(aes(xmax = U95, xmin = L95), size = .5, height = .2) +\n",
    "  geom_point(size = 3.5, aes(color = CLNSIG)) +\n",
    "  scale_x_continuous(breaks = seq(0,4,1), labels = seq(0,4,1), limits = c(0,4)) +\n",
    "  theme_bw()+\n",
    "  theme(panel.grid.minor = element_blank()) +\n",
    "  ylab(\"Variants\")+\n",
    "  xlab(\"OR and 95% CI\")+\n",
    "  ggtitle(\"Variants not passing Bonferroni with 80% power at OR=2\")+\n",
    "  theme(plot.title = element_text(hjust=0.5)) +\n",
    " theme(plot.title = element_text(hjust=0.5),\n",
    "       legend.position=\"bottom\")\n",
    "\n",
    "ggsave(\"Forest_plot_NoBonferoni_OR2.png\", Plot_Bon_OR, width = 8, height = 5, dpi=300, units = \"in\")\n",
    "Plot_Bon_OR\n",
    "\n",
    "# how many in the others\n",
    "data %>% filter(Power_at_alpha005_OR2 >= 0.8 ≈ & PD_known == \"PD_known\") %>% group_by(Gene) %>% tally() %>% mutate(perc = n/sum(n)*100)"
   ]
  },
  {
   "cell_type": "code",
   "execution_count": 2,
   "id": "3221c163-e9ba-4dce-b562-701ee7580fd0",
   "metadata": {
    "tags": []
   },
   "outputs": [
    {
     "name": "stdout",
     "output_type": "stream",
     "text": [
      "/data/CARD/projects/Rare_variants_2023_VP\n"
     ]
    }
   ],
   "source": [
    "pwd\n"
   ]
  },
  {
   "cell_type": "markdown",
   "id": "ba51b9e5-84d4-4702-ae57-0e622fb320e5",
   "metadata": {},
   "source": [
    "#### 13.8.2 not sufficient power at OR=2"
   ]
  },
  {
   "cell_type": "raw",
   "id": "3b12419c-0c3e-41cc-ad6f-c941c7556a33",
   "metadata": {},
   "source": [
    "data %>% filter(Power_at_alpha005_OR2 < 0.8) %>% tally()\n",
    "# 507/669=75.8%\n",
    "\n",
    "# what genes?\n",
    "data %>% filter(Power_at_alpha005_OR2 < 0.8) %>% group_by(Gene) %>% tally() %>% mutate(perc = n/sum(n)*100)\n",
    "\n",
    "# what clinical significances?\n",
    "data %>% filter(Power_at_alpha005_OR2 < 0.8) %>% group_by(CLNSIG) %>% tally() %>% mutate(perc = n/sum(n)*100)\n",
    "\n",
    "A tibble: 4 × 3\n",
    "CLNSIG\tn\tperc\n",
    "<chr>\t<int>\t<dbl>\n",
    "Benign\t35\t6.903353\n",
    "Conflicting/Uncertain/Unknown\t366\t72.189349\n",
    "Pathogenic\t103\t20.315582\n",
    "Risk_factor\t3\t0.591716\n",
    "\n",
    "data %>% filter(Power_at_alpha005_OR2 < 0.8 & CLNSIG == \"Pathogenic\") %>% group_by(Gene) %>% tally() %>% mutate(perc = n/sum(n)*100) %>% arrange(-n)\n",
    "A tibble: 14 × 3\n",
    "Gene\tn\tperc\n",
    "<chr>\t<int>\t<dbl>\n",
    "PLA2G6\t26\t25.2427184\n",
    "GBA1\t23\t22.3300971\n",
    "POLG\t16\t15.5339806\n",
    "PINK1\t11\t10.6796117\n",
    "PRKN\t9\t8.7378641\n",
    "LRRK2\t7\t6.7961165\n",
    "FBXO7\t2\t1.9417476\n",
    "MAPT\t2\t1.9417476\n",
    "PARK7\t2\t1.9417476\n",
    "ATP13A2\t1\t0.9708738\n",
    "RAB39B\t1\t0.9708738\n",
    "SNCA\t1\t0.9708738\n",
    "VPS13C\t1\t0.9708738\n",
    "VPS35\t1\t0.9708738\n",
    "\n",
    "# how many have meta-analysis OR>2 (i.e. greater than power calculation?)\n",
    "data %>% filter(Power_at_alpha005_OR2 < 0.8 & OR >2) %>% tally()\n",
    "# 336/507\n",
    "\n",
    "data %>% filter(Power_at_alpha005_OR2 < 0.8 & OR >2) %>% group_by(CLNSIG) %>% tally() %>% mutate(perc = n/sum(n)*100)\n",
    "\n",
    "# how many passed p<0.05\n",
    "data %>% filter(Power_at_alpha005_OR2 < 0.8 & OR >2 & `P-value` <0.05 & `P-value` >7.36377025036819e-05) %>% tally()\n",
    "# 43\n",
    "\n",
    "NoPower_05 = data %>% filter(Power_at_alpha005_OR2 < 0.8 & OR >2 & `P-value` <0.05) %>% select(MarkerName, avsnp150, VariantName, Gene, Ref, Alt, MAF_23, AF_nfe, PD_known, CLNSIG, Power_at_alpha005_OR2, OR, L95, U95, lower_bound, best_estimate, upper_bound, TOTAL_MAC_cases, TOTAL_MAC_ctrls, `P-value`)\n",
    "\n",
    "write.table(NoPower_05, \"43_variants_ORo2_p0.05.txt\", row.names =F, sep = \"\\t\", quote = F)\n",
    "\n",
    "# how many passed Bonferroni\n",
    "data %>% filter(Power_at_alpha005_OR2 < 0.8 & `P-value`<7.36377025036819e-05) %>% group_by(CLNSIG) %>% tally() %>% mutate(perc = n/sum(n)*100)\n",
    "A tibble: 2 × 3\n",
    "CLNSIG\tn\tperc\n",
    "<chr>\t<int>\t<dbl>\n",
    "Conflicting/Uncertain/Unknown\t3\t50\n",
    "Pathogenic\t3\t50\n",
    "\n",
    "NoPower_Bon = data %>% filter(Power_at_alpha005_OR2 < 0.8 & `P-value`<7.36377025036819e-05) %>% select(MarkerName, avsnp150, VariantName, Gene, Ref, Alt, MAF_23, AF_nfe, PD_known, CLNSIG, Power_at_alpha005_OR2, OR, L95, U95, lower_bound, best_estimate, upper_bound, TOTAL_MAC_cases, TOTAL_MAC_ctrls)\n",
    "\n",
    "NoPower_005 = data %>% filter(`Power_at_alpha005_OR2` < 0.8 & `P-value` >7.4e-5 & `P-value` <0.05 & OR>2 & OR<10 & PD_known == \"PD_known\" & !is.na(best_estimate)) %>% select(MarkerName, avsnp150, VariantName, Gene, Ref, Alt, MAF_23, AF_nfe, PD_known, CLNSIG, Power_at_alpha005_OR2, OR, L95, U95, lower_bound, best_estimate, upper_bound, TOTAL_MAC_cases, TOTAL_MAC_ctrls)\n",
    "\n",
    "NoPower_005$Result = \"P-value<0.05\"\n",
    "NoPower_Bon$Result = \"P-value<7.4e-05\"\n",
    "bound = rbind(NoPower_Bon, NoPower_005)\n",
    "bound = bound %>% filter(VariantName != \"GBA1_S146L\")\n",
    "\n",
    "write.table(bound, \"Results_NoPoweratOR2.txt\", row.names = F, sep = \"\\t\", quote = F)\n",
    "\n",
    "# make plot\n",
    "bound$U95 = as.numeric(bound$U95)\n",
    "\n",
    "Plot_Bon_OR = ggplot(bound, mapping = aes(x= log(OR), y = reorder(VariantName, -OR)))+\n",
    "  geom_vline(aes(xintercept =0), size = .5, linetype = \"dashed\")+\n",
    "  geom_errorbarh(aes(xmax = log(U95), xmin = log(L95)), size = .5, height = .2) +\n",
    "  geom_point(size = 3.5, aes(color = CLNSIG)) +\n",
    "  scale_x_continuous(breaks = seq(0,6,1), labels = seq(0,6,1), limits = c(0,6)) +\n",
    "  theme_bw()+\n",
    "  theme(panel.grid.minor = element_blank()) +\n",
    "  facet_grid(~Result) +\n",
    "  ylab(\"Variants\")+\n",
    "  xlab(\"OR and 95% CI on a log scale\")+\n",
    "  ggtitle(\"Results 2 \\n Variants with <80% power, OR>2, different significance thresholds\")+\n",
    "  theme(plot.title = element_text(hjust=0.5)) +\n",
    " theme(plot.title = element_text(hjust=0.5),\n",
    "       legend.position=\"bottom\")\n",
    "\n",
    "ggsave(\"Forest_plot_nopowerOR2.png\", Plot_Bon_OR, width = 8, height = 5, dpi=300, units = \"in\")\n",
    "Plot_Bon_OR"
   ]
  },
  {
   "cell_type": "code",
   "execution_count": 7,
   "id": "57e49e3e-9d49-47d4-9e42-a23a2a54db9f",
   "metadata": {
    "tags": []
   },
   "outputs": [
    {
     "name": "stdout",
     "output_type": "stream",
     "text": [
      "/data/CARD/projects/Rare_variants_2023_VP\n"
     ]
    }
   ],
   "source": [
    "pwd"
   ]
  },
  {
   "cell_type": "code",
   "execution_count": 6,
   "id": "08b11e55-a6a1-4776-8a49-2cd8dbf6801c",
   "metadata": {
    "tags": []
   },
   "outputs": [
    {
     "name": "stdout",
     "output_type": "stream",
     "text": [
      "7 Results_Bonferroni_NoPoweratOR2.txt\n"
     ]
    }
   ],
   "source": [
    "scp pitzv2@helix.nih.gov:/data/CARD/projects/Rare_variants_2023_VP/Forest_plot_nopowerOR2.png /Users/pitzv2/Library/CloudStorage/OneDrive-NationalInstitutesofHealth/Projects/23andme_rare_variants/Revision_NPJ/Final_files\n",
    "scp pitzv2@helix.nih.gov:/data/CARD/projects/Rare_variants_2023_VP/Results_Bonferroni_NoPoweratOR2.txt /Users/pitzv2/Library/CloudStorage/OneDrive-NationalInstitutesofHealth/Projects/23andme_rare_variants/Revision_NPJ/Final_files"
   ]
  },
  {
   "cell_type": "code",
   "execution_count": null,
   "id": "b09b475c-a35c-4110-afbd-368b68c2f6ba",
   "metadata": {},
   "outputs": [],
   "source": [
    "# Power at OR=2\n",
    "\n",
    "data %>% filter(is.na(Power_at_alpha005_OR2))  %>% select(MarkerName, VariantName, allfreq, AF_nfe, TOTAL_MAC_cases, TOTAL_MAC_ctrls)\n",
    "\n",
    "A data.table: 10 × 6\n",
    "MarkerName\tVariantName\tallfreq\tAF_nfe\tTOTAL_MAC_cases\tTOTAL_MAC_ctrls\n",
    "<chr>\t<chr>\t<dbl>\t<chr>\t<int>\t<int>\n",
    "chr1:16986321\tATP13A2_R1148H\tNA\t0\t0\t1\n",
    "chr15:61961728\tVPS13C_I1257V\tNA\t0\t1\t4\n",
    "chr6:161569357\tPRKN_Q311X\tNA\t.\t0\t0\n",
    "chr14:22875844\tLRP10_N299S\tNA\t.\t0\t1\n",
    "chr21:32639773\tSYNJ1_P1238S\tNA\t.\t0\t2\n",
    "chr3:132522832\tDNAJC13_R1893Q\tNA\t.\t1\t2\n",
    "chr21:32701973\tSYNJ1_R106W\tNA\t.\t0\t1\n",
    "chr3:184327628\tEIF4G1_A1236V\tNA\t0\t0\t4\n",
    "chr1:16986208\tATP13A2_G1085E\tNA\t.\t0\t0\n",
    "chr15:61984004\tVPS13C_A577V\tNA\t0\t0\t1\n",
    "\n",
    "\n",
    "# calculate them manually\n"
   ]
  },
  {
   "cell_type": "code",
   "execution_count": 1,
   "id": "04289470-758e-4a75-a0a3-47d543d0f8e2",
   "metadata": {
    "tags": []
   },
   "outputs": [
    {
     "name": "stdout",
     "output_type": "stream",
     "text": [
      "/data/CARD/projects/Rare_variants_2023_VP\n"
     ]
    }
   ],
   "source": [
    "pwd"
   ]
  },
  {
   "cell_type": "code",
   "execution_count": null,
   "id": "9c96fd12-843a-4dfa-ad95-bb9f16fe77fb",
   "metadata": {},
   "outputs": [],
   "source": [
    "### GLUD2 variant"
   ]
  },
  {
   "cell_type": "code",
   "execution_count": 4,
   "id": "0a2d0de2-f5a2-4a59-8e9e-60ea4689cee7",
   "metadata": {},
   "outputs": [
    {
     "name": "stdout",
     "output_type": "stream",
     "text": [
      "grep: UKB_608_from23andme_PhenoUpdate_GENO.txt: No such file or directory\n",
      "grep: AMP_282_from23andme_pheno_GENO.txt: No such file or directory\n",
      "assay.name\tscaffold\tposition\talleles\tpvalue\tpval.unadj\teffect\tstderr\tpass\tsrc\tdose.b\tAA.0\tAB.0\tBB.0\tim.num.0\tdose.b.0\tAA.1\tAB.1\tBB.1\tdose.b.1\tim.num.1\tis.v1\tis.v2\tis.v3\tis.v4\tis.v5\tgt.rate\thw.p.value\tp.date\tfreq.b\tavg.rsqr\tmin.rsqr\tp.batch\n",
      "rs9697983\tchrX\t\u001b[01;31m\u001b[K121049176\u001b[m\u001b[K\tG/T\t0.445079031345993\t0.440383554839232\t-0.0182062167879176\t0.0237319236009759\tTRUE\tI\t0.975521698594093\t966\t1349\t64455\t1532737\t1.95097365424228\t54\t67\t3718\t1.95085609558383\t12517.5\tFALSE\tFALSE\tTRUE\tFALSE\tFALSE\t0.895637605469783\t1.4153659380274e-07\t0.85840750882487\t0.977136481846681\t0.979696094989777\t0.938883066177368\t5.13236845035346e-06\n"
     ]
    }
   ],
   "source": [
    "grep \"121049176\" UKB_608_from23andme_PhenoUpdate_GENO.txt\n",
    "grep \"121049176\" AMP_282_from23andme_pheno_GENO.txt\n",
    "\n",
    "head -n 1 results_combined_23andMe.txt\n",
    "grep \"121049176\" results_combined_23andMe.txt"
   ]
  },
  {
   "cell_type": "code",
   "execution_count": 8,
   "id": "e2fead60-8394-479c-a42d-debd87a49ecc",
   "metadata": {},
   "outputs": [
    {
     "name": "stdout",
     "output_type": "stream",
     "text": [
      "chr12:40322386\tt\tg\t0.9999\t0\t0.9998\t0.9999\t-0.9109\t0.2097\t1.397e-05\t-?-\t52.1\t2.087\t1\t0.1486\t40322386\tG\tT\texonic\tLRRK2\t.\tnonsynonymous SNV\tLRRK2:NM_198578:exon37:c.G5385T:p.\u001b[01;31m\u001b[KL1795F\u001b[m\u001b[K\trs111910483\t47814\tParkinson_disease_8,_autosomal_dominant|not_provided\tMONDO:MONDO:0011764,MedGen:C1846862,OMIM:607060|MedGen:CN517202\tcriteria_provided,_single_submitter\tConflicting/Uncertain/Unknown\t.\t.\t.\t.\t.\t.\t.\t.\t.\t.\t.\t.\t.\t.\t.\t.\t.\tLRRK2_\u001b[01;31m\u001b[KL1795F\u001b[m\u001b[K\tchr12:40322386\trs111910483\tG/T\t0.00027541352522454\t0.000237825823345977\t0.868630990685036\t0.211719085084283\tTRUE\tI\t0.000311791896820068\t620832\t101\t0\t1532737\t0.000628566708430991\t4350\t0\t0\t0.00106454884730005\t12517.5\tFALSE\tFALSE\tFALSE\tTRUE\tFALSE\t0.999784651951752\t1\t0.211616095431841\t8.47914652366555e-05\t0.849218487739563\t0.838042914867401\t0.255805737850563\t4350\t0\t0\t620832\t101\t0\t4350\t620933\t0\t101\t0\t0\tNA\tNA\tNA\tNA\tNA\tNA\tNA\tNA\tNA\tNA\t0\t2\t1449\t0\t0\t2556\t1451\t2556\t2\t0\t5799\t2\t0\t623388\t101\t0\t5801\t623489\t2\t101\t0.000344768143423548\t0.000161991630967026\t9.9999999999989e-05\t4.2566167321783\t0.0096081749059371\t0.042566167321783\t0.188514934198879\t8.47914652366555e-05\tNA\t0.868630990685036\t0.868630990685036\t2.3836453860695\t2.3836453860695\t8.47914652366555e-05\t0.126508754844242\t0.300880430984463\tNA\t8.09958154835131e-05\t1.14922714474516e-05\t0.9109\t2.4865594301174\t1.6485366242582\t3.75058564579234\tPD_known\n"
     ]
    }
   ],
   "source": [
    "grep 'L1795F' Meta_results_679_AMP_UKB_23andMe_annotation_counts_revision.txt"
   ]
  },
  {
   "cell_type": "code",
   "execution_count": 1,
   "id": "ed5d42a0-0242-4802-80fb-e97bb31109a7",
   "metadata": {},
   "outputs": [
    {
     "name": "stdout",
     "output_type": "stream",
     "text": [
      "chr1:155238570\tc\tg\t1e-04\t0\t1e-04\t1e-04\t1.1863\t0.2163\t4.143e-08\t?++\t0\t0.182\t1\t0.6695\t155238570\tC\tG\texonic\tGBA\t.\tnonsynonymous SNV\tGBA:NM_001171811:exon4:c.G274C:p.D92H,GBA:NM_001171812:exon4:c.G388C:p.D130H,GBA:NM_000157:exon5:c.G535C:p.\u001b[01;31m\u001b[KD179H\u001b[m\u001b[K,GBA:NM_001005741:exon6:c.G535C:p.\u001b[01;31m\u001b[KD179H\u001b[m\u001b[K,GBA:NM_001005742:exon6:c.G535C:p.\u001b[01;31m\u001b[KD179H\u001b[m\u001b[K\trs147138516\t.\t.\t.\t.\tConflicting/Uncertain/Unknown\t6.391e-05\t0.0001\t5.739e-05\t7.212e-05\t6.366e-05\t0\t.\t0\t0\t0.0001\t0\t0\t0\t0.0002\t7.364e-05\t.\t0.0002\tGBA_\u001b[01;31m\u001b[KD179H\u001b[m\u001b[K\tchr1:155238570\trs147138516\tC/G\t4.26925619013227e-06\t3.3942529979508e-06\t1.21310434188877\t0.225231377391631\tTRUE\tI\t0.000195622444152832\t3054396\t740\t0\t1532737\t0.000382138388424644\t22820\t12\t0\t0.000941897030431905\t12517.5\tFALSE\tFALSE\tTRUE\tTRUE\tTRUE\t0.998777171999375\t1\t7.5413637304533e-46\t0.000124064524961165\t0.865636765956879\t0.849082350730896\t0.256638323471983\t22820\t12\t0\t3054396\t740\t0\t22832\t3055136\t12\t740\t0\t0\t0\t4\t7802\t0\t8\t38042\t7806\t38050\t4\t8\t0\t0\t1451\t0\t0\t2556\t1451\t2556\t0\t0\t32073\t16\t0\t3094994\t748\t0\t32089\t3095742\t16\t748\t0.000498613231948643\t0.000241622202366993\t1e-04\t4.12721370026513\t0.0236500128809234\t0.0412721370026512\t0.0720206118120659\t0.000124064524961165\t1e-04\t1.21310434188877\t1.21310434188877\t3.36391119082572\t3.36391119082572\t0.000124064524961165\t0.163501671515644\t0.412319210947514\t0.822880802955334\t0.000120811101183497\t1.66204410649548e-05\t1.1863\t3.27494147926223\t2.14331136517641\t5.00405207887726\tNot_PD_known\n"
     ]
    }
   ],
   "source": [
    "grep \"D179H\" Meta_results_679_AMP_UKB_23andMe_annotation_counts_revision.txt"
   ]
  },
  {
   "cell_type": "code",
   "execution_count": 7,
   "id": "dbb9b954-a8ec-4258-8745-f72ec3509466",
   "metadata": {
    "tags": []
   },
   "outputs": [
    {
     "name": "stdout",
     "output_type": "stream",
     "text": [
      "1\tchr1:\u001b[01;31m\u001b[K155238570\u001b[m\u001b[K:C:G\tG\tC\tGENO\t0/4/7802\t0/8/38042\tNA\tNA\tNA\n"
     ]
    }
   ],
   "source": [
    "grep '155238570' UKB_608_from23andme_PhenoUpdate_GENO.model"
   ]
  },
  {
   "cell_type": "code",
   "execution_count": 6,
   "id": "ff84e420-70e4-4110-8169-3993ea46d5cd",
   "metadata": {
    "tags": []
   },
   "outputs": [
    {
     "name": "stdout",
     "output_type": "stream",
     "text": [
      "1\tchr1:\u001b[01;31m\u001b[K155238570\u001b[m\u001b[K:C:G\tG\tC\tGENO\t0/0/1451\t0/0/2556\tNA\tNA\tNA\n"
     ]
    }
   ],
   "source": [
    "grep '155238570'  AMP_282_from23andme_pheno_GENO.model"
   ]
  },
  {
   "cell_type": "code",
   "execution_count": 9,
   "id": "f782aea0-3b06-40ce-bd28-2f6529f51e90",
   "metadata": {
    "tags": []
   },
   "outputs": [
    {
     "name": "stdout",
     "output_type": "stream",
     "text": [
      "rs147138516\tchr1\t\u001b[01;31m\u001b[K155238570\u001b[m\u001b[K\tC/G\t4.26925619013227e-06\t3.3942529979508e-06\t1.21310434188877\t0.225231377391631\tTRUE\tI\t0.000195622444152832\t3054396\t740\t0\t1532737\t0.000382138388424644\t22820\t12\t0\t0.000941897030431905\t12517.5\tFALSE\tFALSE\tTRUE\tTRUE\tTRUE\t0.998777171999375\t1\t7.5413637304533e-46\t0.000124064524961165\t0.865636765956879\t0.849082350730896\t0.256638323471983\n"
     ]
    }
   ],
   "source": [
    "grep '155238570' results_combined_23andMe.txt"
   ]
  },
  {
   "cell_type": "code",
   "execution_count": 10,
   "id": "b36facf4-6210-4ba1-8489-75da04f0c061",
   "metadata": {
    "tags": []
   },
   "outputs": [
    {
     "name": "stdout",
     "output_type": "stream",
     "text": [
      "/data/CARD/projects/Rare_variants_2023_VP\n"
     ]
    }
   ],
   "source": [
    "pwd"
   ]
  },
  {
   "cell_type": "markdown",
   "id": "6026a34e-2a72-46f7-8d48-b5b54f773702",
   "metadata": {},
   "source": [
    "#### 13.8.3 Total new plots"
   ]
  },
  {
   "cell_type": "raw",
   "id": "815d9cdf-4a15-43f0-bc89-6845c5ca84aa",
   "metadata": {
    "tags": []
   },
   "source": [
    "Bonferroni_power = data %>% filter(Power_at_alpha005_OR2 >= 0.8 & `P-value` < 7.36377025036819e-05) %>% select(MarkerName, avsnp150, VariantName, Ref, Alt, MAF_23, AF_nfe, CLNSIG, Power_at_alpha005_OR2, OR, L95, U95, lower_bound, best_estimate, upper_bound, MAF_case, TOTAL_MAC_cases, MAF_ctrls, TOTAL_MAC_ctrls)\n",
    "Bonferroni_power$Results = \"Results_1\"\n",
    "\n",
    "Bonferroni_nopowerBon = data %>% filter(Power_at_alpha005_OR2 < 0.8 & `P-value` < 7.36377025036819e-05) %>% select(MarkerName, avsnp150, VariantName, Ref, Alt, MAF_23, AF_nfe, CLNSIG, Power_at_alpha005_OR2, OR, L95, U95, lower_bound, best_estimate, upper_bound, MAF_case, TOTAL_MAC_cases, MAF_ctrls, TOTAL_MAC_ctrls)\n",
    "Bonferroni_nopowerBon$Results = \"Results_2\"\n",
    "\n",
    "Bonferroni_nopower5 = data %>% filter(`Power_at_alpha005_OR2` < 0.8 & `P-value` >7.4e-5 & `P-value` <0.05 & OR>2 & OR<10 & PD_known == \"PD_known\" & !is.na(best_estimate)) %>% select(MarkerName, avsnp150, VariantName, Ref, Alt, MAF_23, AF_nfe, CLNSIG, Power_at_alpha005_OR2, OR, L95, U95, lower_bound, best_estimate, upper_bound, MAF_case, TOTAL_MAC_cases, MAF_ctrls, TOTAL_MAC_ctrls)\n",
    "Bonferroni_nopower5$Results = \"Results_2\"\n",
    "\n",
    "results = rbind(Bonferroni_nopowerBon, Bonferroni_nopower5, Bonferroni_power)\n",
    "results = results %>% filter(VariantName != \"GBA1_S146L\")\n",
    "results$U95 = as.numeric(results$U95)\n",
    "\n",
    "results$CLNSIG[results$CLNSIG == \"Likely_pathogenic\"] <- \"Pathogenic\"\n",
    "results$CLNSIG[results$CLNSIG == \"Pathogenic/Likely_pathogenic\"] <- \"Pathogenic\"\n",
    "results$CLNSIG[results$CLNSIG == \"Likely_benign\"] <- \"Benign\"\n",
    "results$CLNSIG[results$CLNSIG == \"Benign/Likely_benign\"] <- \"Benign\"\n",
    "results$CLNSIG[results$CLNSIG == \"Uncertain_significance\"] <- \"Conflicting/Uncertain/Unknown\"\n",
    "results$CLNSIG[results$CLNSIG == \"Conflicting_interpretations_of_pathogenicity\"] <- \"Conflicting/Uncertain/Unknown\"\n",
    "results$CLNSIG[results$CLNSIG == \".\"] <- \"Conflicting/Uncertain/Unknown\"\n",
    "results$CLNSIG[results$CLNSIG == \"Conflicting_interpretations_of_pathogenicity|_risk_factor\"] <- \"Conflicting/Uncertain/Unknown\"\n",
    "results$CLNSIG[results$CLNSIG == \"Pathogenic/Likely_pathogenic|_risk_factor\"] <- \"Pathogenic/Risk_factor\"\n",
    "results$CLNSIG[results$CLNSIG == \"Pathogenic|_risk_factor\"] <- \"Pathogenic/Risk_factor\"  \n",
    "results$CLNSIG[results$CLNSIG == \"risk_factor\"] <- \"Risk_factor\"\n",
    "\n",
    "write.table(results, \"Meta_15variants_results.txt\", row.names = F, sep = \"\\t\", quote = F)\n",
    "\n",
    "results$MAF_MAC_cases <- paste(round(results$MAF_case,digits =4), \"(\", round(results$TOTAL_MAC_cases), \")\")\n",
    "results$MAF_MAC_ctrls <- paste(round(results$MAF_ctrls, digits = 4), \"(\", round(results$TOTAL_MAC_ctrls), \")\")\n",
    "write.table(results, \"Meta_15variants_results_clean.txt\", row.names = F, sep = \"\\t\", quote = F)"
   ]
  },
  {
   "cell_type": "code",
   "execution_count": null,
   "id": "b11e46ed-271d-4ebf-9e21-3235440a72d2",
   "metadata": {},
   "outputs": [],
   "source": [
    "results1 = results %>% filter(Results == \"Results_1\")\n",
    "plot1 = ggplot(results1, mapping = aes(x= OR, y = reorder(VariantName, -OR)))+\n",
    "  geom_vline(aes(xintercept =1), size = .5, linetype = \"dashed\")+\n",
    "  geom_errorbarh(aes(xmax = U95, xmin = L95), size = .5, height = .2) +\n",
    "  geom_point(size = 3.5, aes(color = CLNSIG)) +\n",
    "  scale_x_continuous(breaks = seq(0,14,2), labels = seq(0,14,2), limits = c(0,14)) +\n",
    "  theme_bw()+\n",
    "  theme(panel.grid.minor = element_blank()) +\n",
    "  ylab(\"Variants\")+\n",
    "  xlab(\"OR and 95% CI\")+\n",
    "  ggtitle(\"Sufficiently powered and passing multiple test correction\")+\n",
    "  theme(plot.title = element_text(hjust=0.5)) +\n",
    " theme(plot.title = element_text(hjust=0.5),\n",
    "       legend.position=\"bottom\")\n",
    "       \n",
    "ggsave(\"Forest_plot_Top5_variants.png\", plot1, width = 8, height = 5, dpi=300, units = \"in\")"
   ]
  },
  {
   "cell_type": "code",
   "execution_count": null,
   "id": "d68d9b16-56e7-4856-a872-99cb52092ee0",
   "metadata": {},
   "outputs": [],
   "source": [
    "results2 = results %>% filter(Results == \"Tier_2\")\n",
    "\n",
    "plot2 = ggplot(results2, mapping = aes(x= log(OR), y = reorder(VariantName, -OR)))+\n",
    "  geom_vline(aes(xintercept =0), size = .5, linetype = \"dashed\")+\n",
    "  geom_errorbarh(aes(xmax = log(U95), xmin = log(L95)), size = .5, height = .2) +\n",
    "  geom_point(size = 3.5, aes(color = CLNSIG)) +\n",
    "  scale_x_continuous(breaks = seq(0,5,1), labels = seq(0,5,1), limits = c(0,5)) +\n",
    "  theme_bw()+\n",
    "  theme(panel.grid.minor = element_blank()) +\n",
    "  ylab(\"Variants\")+\n",
    "  xlab(\"OR and 95% CI on log scale\")+\n",
    "  ggtitle(\"Strong candidate variants based on power and p-value\")+\n",
    "  theme(plot.title = element_text(hjust=0.5)) +\n",
    " theme(plot.title = element_text(hjust=0.5),\n",
    "       legend.position=\"bottom\")\n",
    "plot2\n",
    "       \n",
    "ggsave(\"Forest_plot_candidate_variants.png\", plot2, width = 8, height = 5, dpi=300, units = \"in\")"
   ]
  },
  {
   "cell_type": "code",
   "execution_count": 4,
   "id": "e49cc222-d397-4950-9175-c53b81358748",
   "metadata": {
    "tags": []
   },
   "outputs": [
    {
     "name": "stdout",
     "output_type": "stream",
     "text": [
      "MarkerName\tAllele1\tAllele2\tFreq1\tFreqSE\tMinFreq\tMaxFreq\tEffect\tStdErr\tP-value\tDirection\tHetISq\tHetChiSq\tHetDf\tHetPVal\tEnd\tRef\tAlt\tFunc.refGene\tGene\tGeneDetail.refGene\tExonicFunc.refGene\tAAChange\tavsnp150\tCLNALLELEID\tCLNDN\tCLNDISDB\tCLNREVSTAT\tCLNSIG\tAF\tAF_popmax\tAF_male\tAF_female\tAF_raw\tAF_afr\tAF_sas\tAF_amr\tAF_eas\tAF_nfe\tAF_fin\tAF_asj\tAF_oth\tnon_topmed_AF_popmax\tnon_neuro_AF_popmax\tnon_cancer_AF_popmax\tcontrols_AF_popmax\tVariantName\tCHR.BP\tassay.name\talleles\tpvalue\tpval.unadj\teffect\tstderr\tpass\tsrc\tdose.b\tAA.0\tAB.0\tBB.0\tim.num.0\tdose.b.0\tAA.1\tAB.1\tBB.1\tdose.b.1\tim.num.1\tis.v1\tis.v2\tis.v3\tis.v4\tis.v5\tgt.rate\thw.p.value\tp.date\tfreq.b\tavg.rsqr\tmin.rsqr\tp.batch\t23andme_homref_cases\t23andme_het_cases\t23andme_homnonref_cases\t23andme_homref_ctrls\t23andme_het_ctrls\t23andme_homnonref_ctrls\t23andMe_n_cases\t23andMe_n_ctrls\t23andMe_MAC_cases\t23andMe_MAC_ctrls\tdose_MAC_case\tdose_MAC_ctrls\tUKB_homnonref_cases\tUKB_het_cases\tUKB_homref_cases\tUKB_homnonref_ctrls\tUKB_het_ctrls\tUKB_homref_ctrls\tUKB_n_cases\tUKB_n_ctrls\tUKB_MAC_cases\tUKB_MAC_ctrls\tAMP_homnonref_cases\tAMP_het_cases\tAMP_homref_cases\tAMP_homnonref_ctrls\tAMP_het_ctrls\tAMP_homref_ctrls\tAMP_n_cases\tAMP_n_ctrls\tAMP_MAC_cases\tAMP_MAC_ctrls\tTOTAL_homref_cases\tTOTAL_het_cases\tTOTAL_homnonref_cases\tTOTAL_homref_ctrls\tTOTAL_het_ctrls\tTOTAL_homnonref_ctrls\tTOTAL_n_cases\tTOTAL_n_ctrls\tEffect_allelefreq_meta\tEffectv2\tOR\tL95\tU95\tMAF_case\tMAF_ctrls\tTOTAL_MAC_cases\tTOTAL_MAC_ctrls\tlower_bound\tbest_estimate\tupper_bound\tmax_credible_AF\tmax_credible_AF_30pen\tMAF_23\tMAF_NFE\tEffect_meta3\tEffect_23andMe\tOR_meta3\tOR_23andMe\tallfreq\tPower_at_alpha005_OR1.5\tPower_at_alpha005_OR2\tPower_at_alpha005_OR3\tPD_known\n",
      "chr1:155236376\tt\tc\t0.9876\t0.0012\t0.9851\t0.9882\t-0.3632\t0.0342\t2.628e-26\t---\t53.9\t4.338\t2\t0.1143\t155236376\tC\tT\texonic\tGBA1\t.\tnonsynonymous SNV\tGBA:NM_001171811:exon7:c.G832A:p.E278K,GBA:NM_001171812:exon7:c.G946A:p.E316K,GBA:NM_000157:exon8:c.G1093A:p.\u001b[01;31m\u001b[KE365K\u001b[m\u001b[K,GBA:NM_001005741:exon9:c.G1093A:p.\u001b[01;31m\u001b[KE365K\u001b[m\u001b[K,GBA:NM_001005742:exon9:c.G1093A:p.\u001b[01;31m\u001b[KE365K\u001b[m\u001b[K\trs2230288\t.\t.\t.\t.\t.\t0.0129\t0.0141\t0.0115\t0.0147\t0.0129\t0.0025\t.\t0.0035\t0\t0.0141\t0.0400\t0.0069\t0.0193\t0.0138\t0.0139\t.\t0.0134\tGBA1_\u001b[01;31m\u001b[KE365K\u001b[m\u001b[K\tchr1:155236376\trs2230288\tC/T\t1.0243822126785e-19\t4.29725366486489e-20\t0.368687284349081\t0.0385236303826854\tFALSE\tG\t0.0121118426322937\t2981619\t73640\t0\t1532737\t0.0245758110504025\t21953\t743\t0\t0.0366284065054022\t12517.5\tFALSE\tFALSE\tTRUE\tTRUE\tTRUE\t0.99839878688879\t0\t0\t0.0118229322945371\t0.999916970729828\t0.984307706356049\t0\t21953\t743\t0\t2981619\t73640\t0\t22696\t3055259\t743\t73640\tNA\tNA\t3\t291\t7509\t7\t1057\t36980\t7803\t38044\t297\t1071\t0\t59\t1392\t0\t48\t2508\t1451\t2556\t59\t48\t30854\t1093\t3\t3021107\t74745\t7\t31950\t3095859\t0.0124\t0.3632\t1.43792341516769\t1.34469604679263\t1.53761420866762\t0.00619999999999998\t0.00619999999999998\t1099\t74759\t0.0266757545717539\t0.0284888235103133\t0.030423311091013\t0.0021762920458107\t0.000206666666666666\t0.0118229322945371\t0.0141\t0.368687284349081\t0.368687284349081\t1.44583539761498\t1.44583539761498\t0.0118229322945371\t0.999999999999958\t1\t1\tNot_PD_known\n"
     ]
    }
   ],
   "source": [
    "head -n 1 Meta_results_679_master_file_revision.txt\n",
    "grep E365K Meta_results_679_master_file_revision.txt"
   ]
  },
  {
   "cell_type": "code",
   "execution_count": null,
   "id": "efe404e1-aa27-4d3d-8648-1f0d2046a762",
   "metadata": {},
   "outputs": [],
   "source": []
  }
 ],
 "metadata": {
  "kernelspec": {
   "display_name": "Bash",
   "language": "bash",
   "name": "bash"
  },
  "language_info": {
   "codemirror_mode": "shell",
   "file_extension": ".sh",
   "mimetype": "text/x-sh",
   "name": "bash"
  }
 },
 "nbformat": 4,
 "nbformat_minor": 5
}
