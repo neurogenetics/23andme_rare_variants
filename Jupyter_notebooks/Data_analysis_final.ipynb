{
 "cells": [
  {
   "cell_type": "markdown",
   "id": "effd8e55-5d98-4dd6-be9f-91e00829be86",
   "metadata": {},
   "source": [
    "# Data preparation final approach"
   ]
  },
  {
   "cell_type": "markdown",
   "id": "7c1934cc-c0e9-4811-b756-4eb7e114a175",
   "metadata": {},
   "source": [
    "## Overview\n",
    "1. Read in files received from 23andMe\n",
    "2. Fasta - generate correct REF allele\n",
    "3. Annotation\n",
    "4. Remove synonymous variants and benign/likely benign\n",
    "5. Fix AA change for 23andMe file\n",
    "6. Merge annotated clean file with original values\n",
    "7. Extract info from 23andMe\n",
    "8. Extract variants from UKB and AMP-PD\n",
    "9. Association testing\n",
    "10. Meta-analysis\n",
    "11. Clean files for analysis"
   ]
  },
  {
   "cell_type": "markdown",
   "id": "24a97fa7-9884-4121-983b-465c62580bc6",
   "metadata": {},
   "source": [
    "## 1. Read in files from 23andMe"
   ]
  },
  {
   "cell_type": "raw",
   "id": "09842031-f300-4e2c-8f8a-e118db6da39c",
   "metadata": {},
   "source": [
    "module load R\n",
    "R\n",
    "library(dplyr)\n",
    "library(tidyr)\n",
    "\n",
    "failed = read.table(\"results_for_collaborators_failed_qc.csv\", header = T, sep = \",\")\n",
    "dim(failed)\n",
    "#459 33\n",
    "\n",
    "old = read.table(\"results_for_collaborators.csv\", sep = \",\", header = T)\n",
    "dim(old)\n",
    "# 504 33\n",
    "\n",
    "fulljoin_old_failed = full_join(failed, old) \n",
    "# looks like they're all new (distinct)\n",
    "dim(fulljoin_old_failed)\n",
    "# 963 33\n",
    "head(fulljoin_old_failed)\n",
    "fulljoin_old_failed %>% group_by(position) %>% tally() %>% filter(n>1) #no duplicates\n",
    "\n",
    "write.table(fulljoin_old_failed, \"results_combined_23andMe.txt\", quote = F, sep = \"\\t\", row.names =F)"
   ]
  },
  {
   "cell_type": "markdown",
   "id": "dbeb962b-2086-4d43-a297-c05e64eaddf9",
   "metadata": {},
   "source": [
    "## 2. Fasta - generate correct REF allele"
   ]
  },
  {
   "cell_type": "raw",
   "id": "06dbb9c1-0595-4a73-b4bb-c2384122eec4",
   "metadata": {},
   "source": [
    "new = fulljoin_old_failed %>% select(scaffold, position) %>% rename(\"chr\" = scaffold, \"start\" = position)\n",
    "\n",
    "write.table(new, \"prep_for_ref_allele_input.txt\", row.names=F, sep = \"\\t\", quote =F)\n",
    "\n",
    "# chr\tstart\n",
    "chr10\t100003915\n",
    "\n",
    "wc -l prep_for_ref_allele_input.txt\n",
    "# 964 prep_for_ref_allele_input.txt (header)"
   ]
  },
  {
   "cell_type": "markdown",
   "id": "32716441-0ed9-4793-be5a-17e4336203df",
   "metadata": {},
   "source": [
    "Now run it with the fasta file\n",
    "(had to download the correct file according to this https://lh3.github.io/2017/11/13/which-human-reference-genome-to-use)"
   ]
  },
  {
   "cell_type": "raw",
   "id": "429bf40c-bd70-486f-8b2b-fad6b609bc94",
   "metadata": {},
   "source": [
    "module load R/3.6.0 \n",
    "R\n",
    "library(Rsamtools)\n",
    "library(BSgenome)\n",
    "# source(\"https://bioconductor.org/biocLite.R\")\n",
    "# biocLite(\"BSgenome\")\n",
    "\n",
    "dat = new\n",
    "# dat <- read.table(\"prep_for_ref_allele_input.txt\", header=T)\n",
    "\n",
    "# if you have a genome fasta file, this file can be imported using \"FaFile\", the format of chromosomes should match that in the fasta file. The labeling has to be the same in the fasta and dat file, e.g. 1, 2, 3 or chr1, chr2, chr3 in both\n",
    "\n",
    "fasta_file <- FaFile(file='/data/CARD/projects/23andme_annotation/Rare_variant_project_VP/GRCh38_correct_fasta/GCA_000001405.15_GRCh38_no_alt_analysis_set.fna')\n",
    "# Files with the .fa extension use the FASTA format, which is a file type used for the storage of numerous sequences in one file.\n",
    "\n",
    "gr1 <- GRanges(dat$chr,IRanges(start=as.numeric(dat$start), end=as.numeric(dat$start)))\n",
    "# GRanges = genomic ranges that each have a single start and end location on the genome\n",
    "\n",
    "refbase <- getSeq(fasta_file, gr1)\n",
    "# getSeq extracts a set of sequences (or subsequences) from a BSgenome or XStringSet object\n",
    "\n",
    "refbase <- as.data.frame(refbase)$x\n",
    "\n",
    "dat$REF <- refbase\n",
    "\n",
    "write.table(dat,\"963_coding_alleles_ref_allele.txt\",quote=F,row.names=F,sep=\"\\t\")\n",
    "q()\n",
    "n"
   ]
  },
  {
   "cell_type": "raw",
   "id": "18815a88-f174-422e-bfd2-d8bb34cef8b0",
   "metadata": {},
   "source": [
    "# Now merge REF allele onto file and fix alleles\n",
    "fulljoin_old_failed = fread(\"results_combined_23andMe.txt\")\n",
    "\n",
    "data_original = fulljoin_old_failed %>% select(scaffold, position, alleles, assay.name) %>% separate(alleles, c(\"alternative_allele\", \"effect_allele\"), sep = \"/\") \n",
    "\n",
    "data_original = data_original %>% rename(\"chr\" = scaffold, \"start\" = position, \"rsID\" = assay.name)\n",
    "data_original$end = data_original$start\n",
    "data_original = data_original %>% select(chr, start, end, rsID, alternative_allele, effect_allele)\n",
    "\n",
    "merge = left_join(data_original, dat)\n",
    "head(merge)"
   ]
  },
  {
   "cell_type": "raw",
   "id": "aaa49319-e4e5-4eb9-a455-a9d8e390e6ba",
   "metadata": {},
   "source": [
    "# Check if there are strand flips\n",
    "\n",
    "merge %>% filter(REF != alternative_allele & REF != effect_allele) %>% tally\n",
    "#0"
   ]
  },
  {
   "cell_type": "raw",
   "id": "97d0f236-8d82-4b38-affc-468fe124c89c",
   "metadata": {},
   "source": [
    "# If REF matches alternative allele, ALT is effect\n",
    "\n",
    "alleles = merge %>% mutate(ALT = if_else(REF == alternative_allele, effect_allele, alternative_alle)"
   ]
  },
  {
   "cell_type": "raw",
   "id": "0ff7efb6-5d49-41b0-9123-a3fb917aff5d",
   "metadata": {},
   "source": [
    "# write new file\n",
    "\n",
    "write.table(alleles, \"963_snps_alleles_correct_fasta.txt\", row.names =F, sep = \"\\t\", quote =F)"
   ]
  },
  {
   "cell_type": "markdown",
   "id": "2d8d5eb9-e476-42c2-9083-185327ade172",
   "metadata": {},
   "source": [
    "## 3. Annotation"
   ]
  },
  {
   "cell_type": "markdown",
   "id": "ccfe3a29-0cd3-4b98-af62-0c0b185e1ba1",
   "metadata": {},
   "source": [
    "Write file for annotation"
   ]
  },
  {
   "cell_type": "code",
   "execution_count": null,
   "id": "ada85758-01ad-4bc4-85d7-1154d0ab82d8",
   "metadata": {},
   "outputs": [],
   "source": [
    "cut -f 1,2,3,7,8 963_snps_alleles_correct_fasta.txt > for_annotation.txt\n",
    "\n",
    "tail -n +2 for_annotation.txt > for_annotation_nohead.txt"
   ]
  },
  {
   "cell_type": "markdown",
   "id": "dc7adc3c-492a-496e-a528-992fc1f1effe",
   "metadata": {},
   "source": [
    "Annotate"
   ]
  },
  {
   "cell_type": "code",
   "execution_count": null,
   "id": "9899088d-f4ed-4064-a470-59101ad9f593",
   "metadata": {},
   "outputs": [],
   "source": [
    "module load annovar\n",
    "\n",
    "table_annovar.pl for_annotation_nohead.txt $ANNOVAR_DATA/hg38/ -buildver hg38 -protocol refGene,avsnp150,clinvar_20220320,gnomad211_genome -operation g,f,f,f -outfile 963_23andMe_annotated_all -nastring ."
   ]
  },
  {
   "cell_type": "markdown",
   "id": "007b4ded-be2e-4bbd-930b-6f41b0f66e43",
   "metadata": {},
   "source": [
    "Check file in R"
   ]
  },
  {
   "cell_type": "raw",
   "id": "6205a55c-f385-4e09-a9ed-1e628c4d270d",
   "metadata": {},
   "source": [
    "R\n",
    "library(data.table)\n",
    "library(tidyverse)\n",
    "\n",
    "data = fread(\"963_23andMe_annotated_all.hg38_multianno.txt\")\n",
    "\n",
    "data %>% group_by(ExonicFunc.refGene) %>% tally()\n",
    "# A tibble: 5 x 2\n",
    "  ExonicFunc.refGene     n\n",
    "  <chr>              <int>\n",
    "1 .                     25\n",
    "2 nonsynonymous SNV    863\n",
    "3 startloss              2\n",
    "4 stopgain              33\n",
    "5 synonymous SNV        40\n",
    "\n",
    "Synonymous_excluded = data %>% filter(ExonicFunc.refGene == \"synonymous SNV\") \n",
    "\n",
    "write.table(Synonymous_excluded, \"Synonymous_variants_excluded.txt\", quote = F, sep = \"\\t\", row.names = F)"
   ]
  },
  {
   "cell_type": "markdown",
   "id": "8acd06ed-d739-47a1-a754-9d22d2bffb0c",
   "metadata": {},
   "source": [
    "## 4. Remove synonymous variants and benign/likely_benign for certain genes"
   ]
  },
  {
   "cell_type": "raw",
   "id": "96033804-2034-441a-b957-eba62c825049",
   "metadata": {},
   "source": [
    "# now remove them\n",
    "data_1 = data %>% filter(ExonicFunc.refGene != \"synonymous SNV\") \n",
    "dim(data_1)\n",
    "[1] 923  33\n",
    "\n",
    "data_1 %>% group_by(CLNSIG) %>% tally()\n",
    "# A tibble: 13 × 2\n",
    "CLNSIG\tn\n",
    "<chr>\t<int>\n",
    ".\t342\n",
    "Benign\t83\n",
    "Benign/Likely_benign\t31\n",
    "Conflicting_interpretations_of_pathogenicity\t102\n",
    "Conflicting_interpretations_of_pathogenicity|_risk_factor\t1\n",
    "Likely_benign\t54\n",
    "Likely_pathogenic\t32\n",
    "Pathogenic\t83\n",
    "Pathogenic/Likely_pathogenic\t18\n",
    "Pathogenic/Likely_pathogenic|_risk_factor\t1\n",
    "Pathogenic|_risk_factor\t1\n",
    "risk_factor\t6\n",
    "Uncertain_significance\t169"
   ]
  },
  {
   "cell_type": "raw",
   "id": "876474c2-ba70-4d4b-8944-4e9df2d4bcc1",
   "metadata": {},
   "source": [
    "# Again, check that for GBA, Parkinson’s, and Lewy, there aren’t any benign or likely benign variants\n",
    "\n",
    "# GBA\n",
    "data_1 %>% filter(Gene.refGene == \"GBA\") %>% group_by(CLNSIG) %>% tally()\n",
    "# there are 3 \n",
    "\n",
    "# remove them\n",
    "remove = data_1 %>% filter(Gene.refGene == \"GBA\" & CLNSIG == \"Benign\" | Gene.refGene == \"GBA\" & CLNSIG == \"Benign/Likely_benign\" | Gene.refGene == \"GBA\" & CLNSIG == \"Likely_benign\") \n",
    "\n",
    "anti = anti_join(data_1, remove)\n",
    "dim(anti)\n",
    "[1] 920  33"
   ]
  },
  {
   "cell_type": "code",
   "execution_count": null,
   "id": "4674b192-4446-43a2-ab11-dc03155a2afa",
   "metadata": {},
   "outputs": [],
   "source": [
    "# Parkinson's\n",
    "anti %>% filter(grepl(\"arkinson\", CLNDN)) %>% tally()\n",
    "    n\n",
    "1 281\n",
    "\n",
    "anti %>% filter(grepl(\"arkinson\", CLNDN)) %>% group_by(CLNSIG) %>% tally()\n",
    "# A tibble: 12 × 2\n",
    "CLNSIG\tn\n",
    "<chr>\t<int>\n",
    "Benign\t34\n",
    "Benign/Likely_benign\t18\n",
    "Conflicting_interpretations_of_pathogenicity\t43\n",
    "Conflicting_interpretations_of_pathogenicity|_risk_factor\t1\n",
    "Likely_benign\t29\n",
    "Likely_pathogenic\t4\n",
    "Pathogenic\t39\n",
    "Pathogenic/Likely_pathogenic\t6\n",
    "Pathogenic/Likely_pathogenic|_risk_factor\t1\n",
    "Pathogenic|_risk_factor\t1\n",
    "risk_factor\t6\n",
    "Uncertain_significance\t99\n",
    "\n",
    "#another 52 to be removed\n",
    "\n",
    "\n",
    "remove2=anti %>% filter(grepl(\"arkinson\", CLNDN) & CLNSIG == \"Benign\" | grepl(\"arkinson\", CLNDN) & CLNSIG == \"Benign/Likely_benign\" | grepl(\"arkinson\", CLNDN) & CLNSIG == \"Likely_benign\")\n",
    "\n",
    "anti2 = anti_join(anti, remove2)\n",
    "dim(anti2)\n",
    "[1] 839  33\n",
    "\n",
    "anti2 %>% filter(grepl(\"arkinson\", CLNDN)) %>% group_by(CLNSIG) %>% tally()\n",
    "\n",
    "#A tibble: 9 × 2\n",
    "CLNSIG\tn\n",
    "<chr>\t<int>\n",
    "Conflicting_interpretations_of_pathogenicity\t43\n",
    "Conflicting_interpretations_of_pathogenicity|_risk_factor\t1\n",
    "Likely_pathogenic\t4\n",
    "Pathogenic\t39\n",
    "Pathogenic/Likely_pathogenic\t6\n",
    "Pathogenic/Likely_pathogenic|_risk_factor\t1\n",
    "Pathogenic|_risk_factor\t1\n",
    "risk_factor\t6\n",
    "Uncertain_significance\t99"
   ]
  },
  {
   "cell_type": "raw",
   "id": "5a711753-bff8-47ae-bdcf-3049b5872781",
   "metadata": {},
   "source": [
    "# Lewy body disease\n",
    "\n",
    "anti2 %>% filter(grepl(\"Lewy\", CLNDN)) %>% tally()\n",
    "# 9\n",
    "\n",
    "anti2 %>% filter(grepl(\"Lewy\", CLNDN)) %>% group_by(CLNSIG) %>% tally()\n",
    "# A tibble: 5 × 2\n",
    "CLNSIG\tn\n",
    "<chr>\t<int>\n",
    "Likely_pathogenic\t1\n",
    "Pathogenic\t5\n",
    "Pathogenic/Likely_pathogenic\t1\n",
    "Pathogenic/Likely_pathogenic|_risk_factor\t1\n",
    "Uncertain_significance\t1\n",
    "\n",
    "# no need to remove anything here"
   ]
  },
  {
   "cell_type": "raw",
   "id": "28954e97-124a-465b-bd82-644196238038",
   "metadata": {},
   "source": [
    "# Remove ‘-AS’\n",
    "\n",
    "anti2 = anti2 %>% filter(!grepl(\"-AS\", Gene.refGene))\n",
    "dim(anti2)\n",
    "# 834  33\n",
    "\n",
    "write.table(anti2, \"834_23andMe_rare_variants_annotated_fullfile.txt\", row.names = F, sep = \"\\t\", quote =F)\n",
    "\n",
    "final = anti2 %>% select(Chr, Start, avsnp150) %>% unite(\"chr:bp\", c(Chr, Start), sep = \":\")\n",
    "write.table(final, \"834_23andMe_rare_variants_IDs.txt\", row.names =F, sep = \"\\t\", quote =F)"
   ]
  },
  {
   "cell_type": "code",
   "execution_count": 2,
   "id": "3a26b6e0-7581-470e-b718-c5700acbe87b",
   "metadata": {},
   "outputs": [],
   "source": [
    "# Write file with chr, start, rsID, REF, ALT\n",
    "\n",
    "cut -f 1,2,4,5,11 834_23andMe_rare_variants_annotated_fullfile.txt > 834_23andMe_rare_variants_annotated_short.txt"
   ]
  },
  {
   "cell_type": "code",
   "execution_count": 27,
   "id": "72a48972-984d-4ab7-a4e1-3d2823c17e1d",
   "metadata": {},
   "outputs": [
    {
     "name": "stdout",
     "output_type": "stream",
     "text": [
      "Chr\tStart\tRef\tAlt\tavsnp150\n",
      "chr1\t155235024\tT\tC\trs536425950\n",
      "chr1\t155235057\tC\tT\trs121908301\n",
      "chr1\t155235195\tC\tT\trs80356772\n",
      "chr1\t155235196\tG\tA\trs80356771\n",
      "chr1\t155235197\tG\tC\t.\n",
      "chr1\t155235231\tT\tC\trs76071730\n",
      "chr1\t155235252\tA\tG\trs421016\n",
      "chr1\t155235699\tT\tC\trs74752878\n",
      "chr1\t155235703\tA\tC\t.\n"
     ]
    }
   ],
   "source": [
    "head 834_23andMe_rare_variants_annotated_short.txt"
   ]
  },
  {
   "cell_type": "raw",
   "id": "18417258-bb8e-4e63-ad3d-0848305635e7",
   "metadata": {},
   "source": [
    "# variants per gene plot\n",
    "library(ggplot2)\n",
    "library(data.table)\n",
    "library(tidyverse)\n",
    "\n",
    "andmeonly1 = fread(\"834_23andMe_rare_variants_annotated_fullfile.txt\")\n",
    "andmeonly1$Gene.refGene[andmeonly1$Gene.refGene == \"FBXO7;FBXO7\"] <- \"FBXO7\"\n",
    "genes23andMe_874 = andmeonly1 %>% group_by(Gene.refGene) %>% tally() %>% mutate(perc = n/sum(n)*100) %>% arrange(-n)\n",
    "\n",
    "genelist = ggplot(genes23andMe_874,\n",
    "       aes(x = n,\n",
    "           y = reorder(Gene.refGene, n)\n",
    "       )\n",
    ") +\n",
    "  theme_bw()+\n",
    "  ggtitle(\"List of variants per gene\")+\n",
    "  theme(plot.title = element_text(hjust=0.5))+\n",
    "  scale_fill_brewer(palette = \"Pastel1\")+\n",
    "  labs(title=\"List of variants per gene\", \n",
    "       x=\"Number of variants per gene\", y = \"Gene name\")+\n",
    "  geom_col()\n",
    "\n",
    "genelist"
   ]
  },
  {
   "cell_type": "markdown",
   "id": "c90660d6-8a76-477e-bec5-2be6bec4601c",
   "metadata": {},
   "source": [
    "## 5. Fix AA change for 23andMe file only"
   ]
  },
  {
   "cell_type": "code",
   "execution_count": null,
   "id": "2bb9e6d5-572b-423e-9613-67d770d72f5c",
   "metadata": {},
   "outputs": [],
   "source": [
    "Use this file: 834_23andMe_rare_variants_annotated_fullfile.txt\n",
    "\n",
    "and this script: AA_change_column.ipynb\n",
    "# these chunks are only the differences to the above mentioned script\n",
    "\n",
    "#write.table(fulljoin2, \"NM_transcript_list.txt.txt\", row.names=F, sep = \"\\t\", quote = F)\n",
    "\n",
    "merge_empty %>% filter(AAChange != \".\")"
   ]
  },
  {
   "cell_type": "code",
   "execution_count": 15,
   "id": "a8d3efff-8503-4023-834a-ab7fea27d0c8",
   "metadata": {},
   "outputs": [
    {
     "name": "stdout",
     "output_type": "stream",
     "text": [
      "835 Edited_AAChange_23andMe_834_clean.txt\n"
     ]
    }
   ],
   "source": [
    "# write.table(leftjoin, \"Edited_AAChange_23andMe_834_clean.txt\", quote = F, sep = \"\\t\", row.names = F) # this has all the VariantNames automatically edited to only one name\n",
    "wc -l Edited_AAChange_23andMe_834_clean.txt"
   ]
  },
  {
   "cell_type": "raw",
   "id": "c944c434-5241-4c66-8d2e-70d4c223be91",
   "metadata": {},
   "source": [
    "# make Pie chart of all variants used\n",
    "R\n",
    "library(data.table)\n",
    "library(dplyr)\n",
    "library(tidyverse)\n",
    "library(data.table)\n",
    "library(ggrepel)\n",
    "\n",
    "data = fread(\"Edited_AAChange_23andMe_834_clean.txt\")\n",
    "data$CLNSIG[data$CLNSIG == \"Likely_pathogenic\"] <- \"Pathogenic\"\n",
    "data$CLNSIG[data$CLNSIG == \"Pathogenic/Likely_pathogenic\"] <- \"Pathogenic\"\n",
    "data$CLNSIG[data$CLNSIG == \"Likely_benign\"] <- \"Benign\"\n",
    "data$CLNSIG[data$CLNSIG == \"Benign/Likely_benign\"] <- \"Benign\"\n",
    "data$CLNSIG[data$CLNSIG == \"Uncertain_significance\"] <- \"Conflicting/Uncertain/Unknown\"\n",
    "data$CLNSIG[data$CLNSIG == \"Conflicting_interpretations_of_pathogenicity\"] <- \"Conflicting/Uncertain/Unknown\"\n",
    "data$CLNSIG[data$CLNSIG == \".\"] <- \"Conflicting/Uncertain/Unknown\"\n",
    "data$CLNSIG[data$CLNSIG == \"Conflicting_interpretations_of_pathogenicity|_risk_factor\"] <- \"Conflicting/Uncertain/Unknown\"\n",
    "data$CLNSIG[data$CLNSIG == \"Pathogenic/Likely_pathogenic|_risk_factor\"] <- \"Pathogenic/Risk_factor\"\n",
    "data$CLNSIG[data$CLNSIG == \"Pathogenic|_risk_factor\"] <- \"Pathogenic/Risk_factor\"  \n",
    "data$CLNSIG[data$CLNSIG == \"risk_factor\"] <- \"Risk_factor\"\n",
    "\n",
    "\n",
    "group_CLNSIG = data\n",
    "group_CLNSIG = group_CLNSIG %>% group_by(CLNSIG) %>% tally() %>% arrange(-n) %>% mutate(perc = n/sum(n)*100) %>% ungroup()\n",
    "group_CLNSIG\n",
    "\n",
    "\n",
    "# Get the positions\n",
    "df2 <- group_CLNSIG %>% \n",
    "  mutate(csum = rev(cumsum(rev(perc))), \n",
    "         pos = perc/2 + lead(csum, 1),\n",
    "         pos = if_else(is.na(pos), perc/2, pos))\n",
    "\n",
    "png(\"./Clinical_significance_of_all_834_variants.txt\", width=400,height=600,bg = \"white\")\n",
    "Pie_chart = ggplot(group_CLNSIG, aes(x = \"\" , y = perc, fill = CLNSIG)) +\n",
    "  geom_col(width = 1, color = 1) +\n",
    "  coord_polar(theta = \"y\") +\n",
    "  scale_fill_brewer(palette = \"Pastel1\") +\n",
    "  geom_label_repel(data = df2,\n",
    "                   aes(y = pos, label = paste0(round(perc, digits = 1), \"%\")),\n",
    "                   size = 4.5, nudge_x = 1, show.legend = FALSE) +\n",
    "  guides(fill = guide_legend(title = \"CLNSIG\")) +\n",
    "  theme_void()\n",
    "dev.off()\n",
    "\n",
    "Pie_chart\n"
   ]
  },
  {
   "cell_type": "raw",
   "id": "97c8e5b8-b47d-4944-a64c-8520ecc7f0fa",
   "metadata": {},
   "source": [
    "# how many genes?\n",
    "library(gridExtra)\n",
    "Genes = data %>% group_by(Gene) %>% tally() %>% arrange(-n) %>% mutate(perc = n/sum(n)*100)\n",
    "\n",
    "head(Genes)\n",
    "#png(\"./Tables_Manuscript/List_of_genes_table_all834.png\", width=400,height=900,bg = \"white\")\n",
    "grid.table(Genes)\n"
   ]
  },
  {
   "cell_type": "markdown",
   "id": "e1dc4a69-df9f-454b-a077-4ab24f7b5797",
   "metadata": {},
   "source": [
    "## 6. Merge annotated clean file with original values"
   ]
  },
  {
   "cell_type": "raw",
   "id": "f8172090-44b9-415a-801b-e952f381742d",
   "metadata": {},
   "source": [
    "R\n",
    "library(data.table)\n",
    "library(tidyverse)\n",
    "\n",
    "stats = fread(\"results_combined_23andMe.txt\")\n",
    "dim(stats)\n",
    "# [1] 963  33\n",
    "\n",
    "annotated = fread(\"Edited_AAChange_23andMe_834_clean.txt\")\n",
    "annotated1 = annotated %>% select(MarkerName, Ref, Alt, End, Gene, avsnp150, AF_nfe, ExonicFunc.refGene, VariantName, CLNDN, CLNREVSTAT, CLNSIG) %>% rename(\"assay.name\" = avsnp150, \"position\" = End)\n",
    "dim(annotated1)\n",
    "# [1] 834   12\n",
    "\n",
    "join = left_join(annotated1, stats)\n",
    "# Joining, by = c(\"position\", \"assay.name\")\n",
    "dim(join)\n",
    "# [1] 834  43\n",
    "\n",
    "# fix marker ID\n",
    "join = join %>% unite(\"CHR.BP.REF.ALT\", c(\"MarkerName\",\"Ref\", \"Alt\"), sep = \":\")\n",
    "\n",
    "write.table(join, \"23andMe_834variants_annotated_and_stats.txt\", row.names = F, sep = \"\\t\", quote = F)\n",
    "\n",
    "# only write marker ID for variants to grep\n",
    "join1 = join %>% select(`CHR.BP.REF.ALT`)\n",
    "write.table(join1, \"variants_to_grep.txt\", quote=F, sep =\"\\t\", row.names =F)"
   ]
  },
  {
   "cell_type": "code",
   "execution_count": 17,
   "id": "fbeb2fb0-4152-4280-9be5-0a5886c4854a",
   "metadata": {},
   "outputs": [
    {
     "name": "stdout",
     "output_type": "stream",
     "text": [
      "CHR.BP.REF.ALT\n",
      "chr1:155235024:T:C\n",
      "chr1:155235057:C:T\n",
      "chr1:155235195:C:T\n",
      "chr1:155235196:G:A\n",
      "chr1:155235197:G:C\n",
      "chr1:155235231:T:C\n",
      "chr1:155235252:A:G\n",
      "chr1:155235699:T:C\n",
      "chr1:155235703:A:C\n"
     ]
    }
   ],
   "source": [
    "head variants_to_grep.txt"
   ]
  },
  {
   "cell_type": "markdown",
   "id": "5303735a-b426-4a55-a1be-0eb9807c1c1b",
   "metadata": {},
   "source": [
    "## 7. Extract info from 23andMe sumstats"
   ]
  },
  {
   "cell_type": "raw",
   "id": "d9cefda2-89fe-4063-a5b8-d98758af9400",
   "metadata": {},
   "source": [
    "library(ggplot2)\n",
    "library(data.table)\n",
    "library(tidyverse)\n",
    "library(dplyr)\n",
    "library(gridExtra)\n",
    "\n",
    "sumstats = fread(\"23andMe_834variants_annotated_and_stats.txt\", header = T)\n",
    "colnames(sumstats)\n",
    "\n",
    "sumstats = sumstats %>% mutate(Effectv2 = if_else(effect <0, abs(effect), effect))\n",
    "sumstats = sumstats %>% mutate(OR = exp(Effectv2), L95 = exp(Effectv2 - 1.96*stderr), U95 = exp(Effectv2 + 1.96*stderr))\n",
    "sumstats$U95 = as.numeric(sumstats$U95)\n",
    "\n",
    "\n",
    "sumstats$CLNSIG[sumstats$CLNSIG == \"Likely_pathogenic\"] <- \"Pathogenic\"\n",
    "sumstats$CLNSIG[sumstats$CLNSIG == \"Pathogenic/Likely_pathogenic\"] <- \"Pathogenic\"\n",
    "sumstats$CLNSIG[sumstats$CLNSIG == \"Likely_benign\"] <- \"Benign\"\n",
    "sumstats$CLNSIG[sumstats$CLNSIG == \"Benign/Likely_benign\"] <- \"Benign\"\n",
    "sumstats$CLNSIG[sumstats$CLNSIG == \"Uncertain_significance\"] <- \"Conflicting/Uncertain/Unknown\"\n",
    "sumstats$CLNSIG[sumstats$CLNSIG == \"Conflicting_interpretations_of_pathogenicity\"] <- \"Conflicting/Uncertain/Unknown\"\n",
    "sumstats$CLNSIG[sumstats$CLNSIG == \".\"] <- \"Conflicting/Uncertain/Unknown\"\n",
    "sumstats$CLNSIG[sumstats$CLNSIG == \"Conflicting_interpretations_of_pathogenicity|_risk_factor\"] <- \"Conflicting/Uncertain/Unknown\"\n",
    "sumstats$CLNSIG[sumstats$CLNSIG == \"Pathogenic/Likely_pathogenic|_risk_factor\"] <- \"Pathogenic/Risk_factor\"\n",
    "sumstats$CLNSIG[sumstats$CLNSIG == \"Pathogenic|_risk_factor\"] <- \"Pathogenic/Risk_factor\"  \n",
    "sumstats$CLNSIG[sumstats$CLNSIG == \"risk_factor\"] <- \"Risk_factor\"\n",
    "\n",
    "\n",
    "sumstats %>% group_by(CLNSIG) %>% tally()\n",
    "\n",
    "A tibble: 5 × 3\n",
    "CLNSIG\tn\tperc\n",
    "<chr>\t<int>\t<dbl>\n",
    "Benign\t84\t10.1\n",
    "Conflicting/Uncertain/Unknown\t609\t73.0\n",
    "Pathogenic\t133\t15.9\n",
    "Pathogenic/Risk_factor\t2\t0.2\n",
    "Risk_factor\t6\t0.7\n"
   ]
  },
  {
   "cell_type": "markdown",
   "id": "65bc591b-840e-497a-bc26-3abb1eae8ce3",
   "metadata": {},
   "source": [
    "## 8. Extract variants from UKB and AMP"
   ]
  },
  {
   "cell_type": "code",
   "execution_count": 18,
   "id": "8b8dafe2-681a-4b50-9dc9-0177dc6ebaad",
   "metadata": {},
   "outputs": [
    {
     "name": "stdout",
     "output_type": "stream",
     "text": [
      "CHR.BP.REF.ALT\n",
      "chr1:155235024:T:C\n",
      "chr1:155235057:C:T\n",
      "chr1:155235195:C:T\n",
      "chr1:155235196:G:A\n",
      "chr1:155235197:G:C\n",
      "chr1:155235231:T:C\n",
      "chr1:155235252:A:G\n",
      "chr1:155235699:T:C\n",
      "chr1:155235703:A:C\n"
     ]
    }
   ],
   "source": [
    "# Write file for that\n",
    "head variants_to_grep.txt\n",
    "#cut -f 2 23andMe_834variants_annotated_and_stats.txt > variants_to_grep.txt\n",
    "# format chr1:bp:REF:ALT"
   ]
  },
  {
   "cell_type": "code",
   "execution_count": 19,
   "id": "4c9b9847-9a83-45eb-bfaa-0530ca49d5b5",
   "metadata": {},
   "outputs": [
    {
     "name": "stdout",
     "output_type": "stream",
     "text": [
      "834 variants_to_grep_nohead.txt\n",
      "chr1:155235024:T:C\n",
      "chr1:155235057:C:T\n",
      "chr1:155235195:C:T\n",
      "chr1:155235196:G:A\n",
      "chr1:155235197:G:C\n",
      "chr1:155235231:T:C\n",
      "chr1:155235252:A:G\n",
      "chr1:155235699:T:C\n",
      "chr1:155235703:A:C\n",
      "chr1:155235704:C:T\n"
     ]
    }
   ],
   "source": [
    "tail -n +2 variants_to_grep.txt > variants_to_grep_nohead.txt\n",
    "wc -l variants_to_grep_nohead.txt\n",
    "\n",
    "head variants_to_grep_nohead.txt"
   ]
  },
  {
   "cell_type": "markdown",
   "id": "4c04317d-7e43-4b25-85fd-0fb438cf91b4",
   "metadata": {},
   "source": [
    "### 8.1 UKB"
   ]
  },
  {
   "cell_type": "code",
   "execution_count": 10,
   "id": "aa8426a5-0037-4c8b-acdd-5bf9915e10b7",
   "metadata": {},
   "outputs": [],
   "source": [
    "# Clean UKB first\n",
    "\n",
    "#mkdir UKB_and_AMP\n",
    "# cd ./UKB_and_AMP\n",
    "# UKB data contains indels\n",
    "# PLINK file merged with no relateds\n",
    "# /data/CARD/UKBIOBANK/EXOME_DATA_200K/PVCF_FILES/MERGED_UKB_first_pass.*"
   ]
  },
  {
   "cell_type": "code",
   "execution_count": null,
   "id": "46cdb905-bbf6-4f8b-a099-a8a9c568686b",
   "metadata": {},
   "outputs": [],
   "source": [
    "# these files are in plink2 format - convert\n",
    "\n",
    "## .psam IDs\n",
    "#IID\tSEX\n",
    "#-000001\tNA\n",
    "#-000002\tNA\n",
    "\n",
    "module load plink/2\n",
    "plink2 --pfile /data/CARD/UKBIOBANK/EXOME_DATA_200K/PVCF_FILES/MERGED_UKB_first_pass --make-bed --out MERGED_UKB_first_pass\n",
    "\n",
    "wc -l MERGED_UKB_first_pass.bim\n",
    "# 16285684 MERGED_UKB_first_pass.bim\n",
    "\n",
    "\n",
    "# Remove potential indels from UKB\n",
    "## Write \"no_indel\" file\n",
    "#In bash\n",
    "awk 'length($NF)==1 && length($(NF-1))==1' MERGED_UKB_first_pass.bim > MERGED_UKB_no_indels.txt\n",
    "wc -l MERGED_UKB_no_indels.txt\n",
    "# 14908659 MERGED_UKB_no_indels.txt\n",
    "\n",
    "awk 'length($NF)>1 || length($(NF-1))>1' MERGED_UKB_first_pass.bim > UKB_indels.txt\n",
    "wc -l UKB_indels.txt\n",
    "# 1377025 UKB_indels.txt\n",
    "\n",
    "cut -f 2 MERGED_UKB_no_indels.txt > UKB_noindels_tokeep.txt\n",
    "module load plink\n",
    "\n",
    "plink --bfile MERGED_UKB_first_pass --extract UKB_noindels_tokeep.txt --make-bed --out MERGED_UKB_no_indels\n",
    "# 14908659 variants and 200648 people pass filters and QC.\n",
    "# Note: No phenotypes present.\n",
    "\n",
    "# new working files: MERGED_UKB_no_indels"
   ]
  },
  {
   "cell_type": "code",
   "execution_count": null,
   "id": "b4551cc2-3e36-46ce-943d-41454be9f20e",
   "metadata": {},
   "outputs": [],
   "source": [
    "# Grep variants"
   ]
  },
  {
   "cell_type": "code",
   "execution_count": 1,
   "id": "6161085e-8fe3-4e80-bcaf-55b83f54f664",
   "metadata": {},
   "outputs": [
    {
     "name": "stdout",
     "output_type": "stream",
     "text": [
      "chr1:155235024:T:C\n",
      "chr1:155235057:C:T\n",
      "chr1:155235195:C:T\n",
      "chr1:155235196:G:A\n",
      "chr1:155235197:G:C\n",
      "chr1:155235231:T:C\n",
      "chr1:155235252:A:G\n",
      "chr1:155235699:T:C\n",
      "chr1:155235703:A:C\n",
      "chr1:155235704:C:T\n",
      "608 UKB_variants_extracted_from23andMe.txt\n"
     ]
    }
   ],
   "source": [
    "# files written to ./UKB_and_AMP\n",
    "head variants_to_grep_nohead.txt\n",
    "\n",
    "grep -w -f variants_to_grep_nohead.txt MERGED_UKB_no_indels.bim > UKB_variants_extracted_from23andMe.txt\n",
    "\n",
    "wc -l UKB_variants_extracted_from23andMe.txt\n",
    "# 608 variants"
   ]
  },
  {
   "cell_type": "markdown",
   "id": "158edf18-4346-4016-b63e-6fd72333538d",
   "metadata": {},
   "source": [
    "#### 8.1.1 Write binary file"
   ]
  },
  {
   "cell_type": "code",
   "execution_count": 2,
   "id": "8db4fbe9-9f97-4c24-ba36-dd7930f3e0c5",
   "metadata": {},
   "outputs": [
    {
     "name": "stdout",
     "output_type": "stream",
     "text": [
      "[+] Loading plink  1.9.0-beta4.4  on cn4271 \n",
      "PLINK v1.90b4.4 64-bit (21 May 2017)           www.cog-genomics.org/plink/1.9/\n",
      "(C) 2005-2017 Shaun Purcell, Christopher Chang   GNU General Public License v3\n",
      "Logging to UKB_608_from23andme.log.\n",
      "Options in effect:\n",
      "  --bfile MERGED_UKB_no_indels\n",
      "  --extract UKB_variants_extracted_from23andMe.txt\n",
      "  --make-bed\n",
      "  --out UKB_608_from23andme\n",
      "\n",
      "515537 MB RAM detected; reserving 257768 MB for main workspace.\n",
      "14908659 variants loaded from .bim file.\n",
      "200648 people (0 males, 0 females, 200648 ambiguous) loaded from .fam.\n",
      "Ambiguous sex IDs written to UKB_608_from23andme.nosex .\n",
      "--extract: 608 variants remaining.\n",
      "Using 1 thread (no multithreaded calculations invoked).\n",
      "Before main variant filters, 200648 founders and 0 nonfounders present.\n",
      "Calculating allele frequencies... 10111213141516171819202122232425262728293031323334353637383940414243444546474849505152535455565758596061626364656667686970717273747576777879808182838485868788899091929394959697989 done.\n",
      "Total genotyping rate is 0.999036.\n",
      "608 variants and 200648 people pass filters and QC.\n",
      "Note: No phenotypes present.\n",
      "--make-bed to UKB_608_from23andme.bed + UKB_608_from23andme.bim +\n",
      "UKB_608_from23andme.fam ... 101112131415161718192021222324252627282930313233343536373839404142434445464748495051525354555657585960616263646566676869707172737475767778798081828384858687888990919293949596979899done.\n"
     ]
    }
   ],
   "source": [
    "module load plink/1.9.0-beta4.4\n",
    "\n",
    "plink --bfile MERGED_UKB_no_indels --extract UKB_variants_extracted_from23andMe.txt --make-bed --out UKB_608_from23andme\n",
    "\n",
    "# 608 variants and 200648 people pass filters and QC.\n",
    "# Note: No phenotypes present.\n"
   ]
  },
  {
   "cell_type": "code",
   "execution_count": 3,
   "id": "d9e48fa6-62c5-425f-9aa2-db35bb5bf436",
   "metadata": {},
   "outputs": [
    {
     "name": "stdout",
     "output_type": "stream",
     "text": [
      "0 -000001 0 0 0 -9\n",
      "0 -000002 0 0 0 -9\n",
      "0 -000003 0 0 0 -9\n",
      "0 -000004 0 0 0 -9\n",
      "0 -000005 0 0 0 -9\n",
      "0 -000006 0 0 0 -9\n",
      "0 -000007 0 0 0 -9\n",
      "0 -000008 0 0 0 -9\n",
      "0 -000009 0 0 0 -9\n",
      "0 -000010 0 0 0 -9\n"
     ]
    }
   ],
   "source": [
    "head UKB_608_from23andme.fam"
   ]
  },
  {
   "cell_type": "code",
   "execution_count": 4,
   "id": "c674e1c1-0bc7-4095-a859-3d29e5faf706",
   "metadata": {},
   "outputs": [],
   "source": [
    "# This file needs to be fixed because of an odd format where column 1 is all zeros (column 1 & 2 need to be same)\n",
    "#cd ./UKB_and_AMP/\n",
    "cut -d \" \" -f 2 UKB_608_from23andme.fam > column2.txt\n",
    "cut -d \" \" -f 2,3,4,5,6 UKB_608_from23andme.fam > column23456.txt\n",
    "scp UKB_608_from23andme.fam UKB_608_from23andme_ORIGINAL.fam\n",
    "paste column2.txt column23456.txt > UKB_608_from23andme.fam"
   ]
  },
  {
   "cell_type": "code",
   "execution_count": 5,
   "id": "9ec3e268-4a79-465e-8ba7-a7d38980447e",
   "metadata": {},
   "outputs": [
    {
     "name": "stdout",
     "output_type": "stream",
     "text": [
      "-000001\t-000001 0 0 0 -9\n",
      "-000002\t-000002 0 0 0 -9\n",
      "-000003\t-000003 0 0 0 -9\n",
      "-000004\t-000004 0 0 0 -9\n",
      "-000005\t-000005 0 0 0 -9\n",
      "-000006\t-000006 0 0 0 -9\n",
      "-000007\t-000007 0 0 0 -9\n",
      "-000008\t-000008 0 0 0 -9\n",
      "-000009\t-000009 0 0 0 -9\n",
      "-000010\t-000010 0 0 0 -9\n"
     ]
    }
   ],
   "source": [
    "head UKB_608_from23andme.fam"
   ]
  },
  {
   "cell_type": "markdown",
   "id": "df0ec0ed-a42c-48fb-9b02-54a319d946a8",
   "metadata": {},
   "source": [
    "#### 8.1.2 Write frequency file"
   ]
  },
  {
   "cell_type": "code",
   "execution_count": 6,
   "id": "03decdfd-164b-400e-ab7a-864f3b5529c9",
   "metadata": {},
   "outputs": [
    {
     "name": "stdout",
     "output_type": "stream",
     "text": [
      "[-] Unloading plink  1.9.0-beta4.4  on cn4271 \n",
      "[+] Loading plink  1.9.0-beta4.4  on cn4271 \n",
      "PLINK v1.90b4.4 64-bit (21 May 2017)           www.cog-genomics.org/plink/1.9/\n",
      "(C) 2005-2017 Shaun Purcell, Christopher Chang   GNU General Public License v3\n",
      "Logging to UKB_608_from23andme.log.\n",
      "Options in effect:\n",
      "  --bfile UKB_608_from23andme\n",
      "  --freq\n",
      "  --out UKB_608_from23andme\n",
      "\n",
      "515537 MB RAM detected; reserving 257768 MB for main workspace.\n",
      "608 variants loaded from .bim file.\n",
      "200648 people (0 males, 0 females, 200648 ambiguous) loaded from .fam.\n",
      "Ambiguous sex IDs written to UKB_608_from23andme.nosex .\n",
      "Using 1 thread (no multithreaded calculations invoked).\n",
      "Before main variant filters, 200648 founders and 0 nonfounders present.\n",
      "Calculating allele frequencies... 10111213141516171819202122232425262728293031323334353637383940414243444546474849505152535455565758596061626364656667686970717273747576777879808182838485868788899091929394959697989 done.\n",
      "Total genotyping rate is 0.999036.\n",
      "--freq: Allele frequencies (founders only) written to UKB_608_from23andme.frq .\n"
     ]
    }
   ],
   "source": [
    "module load plink/1.9.0-beta4.4\n",
    "plink --bfile UKB_608_from23andme --freq --out UKB_608_from23andme\n",
    "# Total genotyping rate is 0.998984.\n",
    "# 200648 people (0 males, 0 females, 200648 ambiguous) loaded from .fam.\n",
    "#Ambiguous sex IDs written to UKB_644_from23andme.nosex ."
   ]
  },
  {
   "cell_type": "code",
   "execution_count": 7,
   "id": "60efc17f-d517-4422-bdd1-8a0b41a08289",
   "metadata": {},
   "outputs": [
    {
     "name": "stdout",
     "output_type": "stream",
     "text": [
      " CHR                SNP   A1   A2          MAF  NCHROBS\n",
      "   1   chr1:7965399:G:A    A    G     0.000304   401272\n",
      "   1   chr1:7984930:A:C    C    A    3.987e-05   401284\n",
      "   1   chr1:7984971:G:A    A    G    2.492e-06   401286\n",
      "   1   chr1:7985019:G:A    A    G    0.0004685   401250\n",
      "   1  chr1:16985990:C:T    T    C    0.0004585   401280\n",
      "   1  chr1:16986065:C:T    T    C    0.0001744   401276\n",
      "   1  chr1:16986091:G:A    A    G     0.006444   401014\n",
      "   1  chr1:16986097:G:A    A    G      0.05694   400590\n",
      "   1  chr1:16986101:T:A    A    T     0.006382   401128\n"
     ]
    }
   ],
   "source": [
    "head UKB_608_from23andme.frq"
   ]
  },
  {
   "cell_type": "markdown",
   "id": "7f5a720e-a903-4db9-b291-680371341ccd",
   "metadata": {},
   "source": [
    "#### 8.1.3 Cohort age per group"
   ]
  },
  {
   "cell_type": "raw",
   "id": "ada53443-8b4e-4be7-b960-590ef1a2cf8c",
   "metadata": {},
   "source": [
    "Update phenotype in binary file\n",
    "\n",
    "# create file\n",
    "R\n",
    "cov = read.table(\"/data/CARD/UKBIOBANK/PHENOTYPE_DATA/disease_groups/UKB_EXOM_ALL_PD_PHENOTYPES_CONTROL_2021_with_PC.txt\", header = T, sep = \"\\t\")\n",
    "Pheno = cov %>% select(FID, IID, PHENO)\n",
    "names(Pheno)<-NULL #make sure you don't have data.table loaded, this won't work then\n",
    "write.table(Pheno, \"./UKB_and_AMP/updatePheno_UKB.txt\", quote = F, sep = \"\\t\", row.names=F)"
   ]
  },
  {
   "cell_type": "code",
   "execution_count": 8,
   "id": "8c6a6e51-9ae0-4a01-b82c-46a906dbac75",
   "metadata": {},
   "outputs": [
    {
     "name": "stdout",
     "output_type": "stream",
     "text": [
      "[-] Unloading plink  1.9.0-beta4.4  on cn4271 \n",
      "[+] Loading plink  1.9.0-beta4.4  on cn4271 \n",
      "PLINK v1.90b4.4 64-bit (21 May 2017)           www.cog-genomics.org/plink/1.9/\n",
      "(C) 2005-2017 Shaun Purcell, Christopher Chang   GNU General Public License v3\n",
      "Logging to UKB_608_from23andme_PhenoUpdate.log.\n",
      "Options in effect:\n",
      "  --allow-no-sex\n",
      "  --bfile UKB_608_from23andme\n",
      "  --keep updatePheno_UKB.txt\n",
      "  --make-bed\n",
      "  --out UKB_608_from23andme_PhenoUpdate\n",
      "  --pheno updatePheno_UKB.txt\n",
      "\n",
      "515537 MB RAM detected; reserving 257768 MB for main workspace.\n",
      "608 variants loaded from .bim file.\n",
      "200648 people (0 males, 0 females, 200648 ambiguous) loaded from .fam.\n",
      "Ambiguous sex IDs written to UKB_608_from23andme_PhenoUpdate.nosex .\n",
      "45857 phenotype values present after --pheno.\n",
      "--keep: 45857 people remaining.\n",
      "Using 1 thread (no multithreaded calculations invoked).\n",
      "Before main variant filters, 45857 founders and 0 nonfounders present.\n",
      "Calculating allele frequencies... 10111213141516171819202122232425262728293031323334353637383940414243444546474849505152535455565758596061626364656667686970717273747576777879808182838485868788899091929394959697989 done.\n",
      "Total genotyping rate in remaining samples is 0.999064.\n",
      "608 variants and 45857 people pass filters and QC.\n",
      "Among remaining phenotypes, 7806 are cases and 38051 are controls.\n",
      "--make-bed to UKB_608_from23andme_PhenoUpdate.bed +\n",
      "UKB_608_from23andme_PhenoUpdate.bim + UKB_608_from23andme_PhenoUpdate.fam ...\n",
      "101112131415161718192021222324252627282930313233343536373839404142434445464748495051525354555657585960616263646566676869707172737475767778798081828384858687888990919293949596979899done.\n"
     ]
    }
   ],
   "source": [
    "module load plink/1.9.0-beta4.4\n",
    "plink --bfile UKB_608_from23andme --allow-no-sex --pheno updatePheno_UKB.txt --keep updatePheno_UKB.txt  --make-bed --out UKB_608_from23andme_PhenoUpdate\n",
    "# 608 variants and 45857 people pass filters and QC.\n",
    "# Among remaining phenotypes, 7806 are cases and 38051 are controls."
   ]
  },
  {
   "cell_type": "code",
   "execution_count": 9,
   "id": "10fe2496-3b5a-4f83-a047-5263b9b820b7",
   "metadata": {},
   "outputs": [
    {
     "name": "stdout",
     "output_type": "stream",
     "text": [
      "1000012 1000012 0 0 0 1\n",
      "1000047 1000047 0 0 0 1\n",
      "1000068 1000068 0 0 0 1\n",
      "1000085 1000085 0 0 0 1\n",
      "1000220 1000220 0 0 0 1\n",
      "1000369 1000369 0 0 0 2\n",
      "1000425 1000425 0 0 0 1\n",
      "1000580 1000580 0 0 0 1\n",
      "1000741 1000741 0 0 0 1\n",
      "1000777 1000777 0 0 0 1\n"
     ]
    }
   ],
   "source": [
    "head UKB_608_from23andme_PhenoUpdate.fam\n",
    "# this step also removes weird IDs"
   ]
  },
  {
   "cell_type": "code",
   "execution_count": 10,
   "id": "bd989ac4-b2ea-4494-94aa-5cb751a45537",
   "metadata": {},
   "outputs": [
    {
     "name": "stdout",
     "output_type": "stream",
     "text": [
      "FID\tIID\tBIRTH_YEAR\tTOWNSEND\tAGE_OF_RECRUIT\tBATCH\tGENETIC_SEX\tEUROPEAN\tPHENO\tSEX\tEXOMEBATCH\tPHENO_NAME\tPC1\tPC2\tPC3\tPC4\tPC5\tPC6\tPC7\tPC8\tPC9\tPC10\n",
      "1000012\t1000012\t1949\t-4.90174\t61\t3\t1\t1\t1\t1\t1\tCONTROL\t0.004693123\t0.01022435\t0.002983434\t-0.02391978\t-0.0009319563\t-0.009654937\t-2.472167e-05\t0.02195255\t-0.03584618\t0.03827368\n",
      "1000047\t1000047\t1943\t-2.44014\t65\t34\t0\t1\t1\t2\t2\tCONTROL\t-0.01540129\t0.01213101\t-0.0419949\t0.01037456\t0.002587751\t-0.008139144\t0.006751324\t-0.007508589\t-0.03538605\t-0.009730054\n",
      "1000068\t1000068\t1948\t-4.37721\t61\t41\t1\t1\t1\t1\t2\tCONTROL\t-0.01141674\t0.01838264\t-0.002818214\t0.006112886\t0.00955852\t-0.004763706\t0.01867819\t-0.007523244\t0.005544525\t-0.009509542\n",
      "1000085\t1000085\t1944\t-0.774111\t65\t69\t0\t1\t1\t2\t2\tCONTROL\t0.01709672\t0.01037233\t0.004323209\t0.02104864\t-0.007535406\t0.007889541\t-0.01520523\t-0.004904777\t-0.0005962849\t-0.02620082\n",
      "1000220\t1000220\t1940\t-2.52582\t68\t25\t0\t1\t1\t2\t2\tCONTROL\t0.002730831\t0.02571671\t0.008347779\t-0.01671972\t0.005950087\t-0.005401692\t0.0005578872\t0.0114738\t-0.0474279\t0.002096543\n",
      "1000369\t1000369\t1954\t-5.38678\t55\t40\t1\t1\t2\t1\t1\tparent\t-0.01220247\t0.01626981\t0.01213219\t-0.02106483\t-0.02596835\t0.0005248337\t0.005159108\t0.01420802\t-0.002574414\t-0.006859234\n",
      "1000425\t1000425\t1939\t1.21423\t68\t7\t0\t1\t1\t2\t2\tCONTROL\t0.03080043\t0.00245261\t-0.01930332\t0.01515835\t-0.02346035\t0.0007183391\t-0.009073737\t0.001583893\t-0.01335594\t0.003127257\n",
      "1000580\t1000580\t1949\t-2.5371\t60\t71\t0\t1\t1\t2\t2\tCONTROL\t0.003827851\t-0.007068265\t-0.02270629\t0.03338593\t0.01872383\t-0.01830688\t-0.01088841\t-0.007034128\t0.01281099\t0.02133583\n",
      "1000741\t1000741\t1940\t-3.51056\t68\t56\t0\t1\t1\t2\t2\tCONTROL\t0.01893733\t0.05011851\t0.005562678\t0.01938918\t-0.002539575\t0.003938171\t0.002467076\t-0.01457657\t-0.01021485\t-0.0233928\n"
     ]
    }
   ],
   "source": [
    "head /data/CARD/UKBIOBANK/PHENOTYPE_DATA/disease_groups/UKB_EXOM_ALL_PD_PHENOTYPES_CONTROL_2021_with_PC.txt"
   ]
  },
  {
   "cell_type": "raw",
   "id": "8d40285c-3afd-423c-8eb4-e35ac8010afb",
   "metadata": {},
   "source": [
    "R\n",
    "library(tidyverse)\n",
    "library(data.table)\n",
    "\n",
    "# read in files\n",
    "cov = fread(\"/data/CARD/UKBIOBANK/PHENOTYPE_DATA/disease_groups/UKB_EXOM_ALL_PD_PHENOTYPES_CONTROL_2021_with_PC.txt\")\n",
    "IID = fread(\"./UKB_and_AMP/UKB_608_from23andme_PhenoUpdate.fam\")\n",
    "\n",
    "# change layout\n",
    "IID_1 = IID %>% select(V1) %>% rename(\"FID\" = V1)\n",
    "\n",
    "# join \n",
    "join = left_join(IID_1, cov)\n",
    "dim(join)\n",
    "\n",
    "# sex\n",
    "join_1 = join\n",
    "join_1$GENETIC_SEX[join_1$GENETIC_SEX ==0] <- \"MALE\"\n",
    "join_1$GENETIC_SEX[join_1$GENETIC_SEX ==1] <- \"FEMALE\"\n",
    "\n",
    "A tibble: 2 × 2\n",
    "GENETIC_SEX\tn\n",
    "<chr>\t<int>\n",
    "FEMALE\t22040\n",
    "MALE\t23817\n",
    "\n",
    "# Pheno group\n",
    "join_1 %>% group_by(PHENO_NAME) %>% tally()\n",
    "A tibble: 4 × 2\n",
    "PHENO_NAME\tn\n",
    "<chr>\t<int>\n",
    "CONTROL\t38051\n",
    "parent\t6033\n",
    "PD\t1105\n",
    "sibling\t668\n",
    "\n",
    "# Pheno binary\n",
    "join_1$PHENO[join_1$PHENO ==1] <- \"CONTROL\"\n",
    "join_1$PHENO[join_1$PHENO ==2] <- \"CASE\"\n",
    "\n",
    "join_1 %>% group_by(PHENO) %>% tally()\n",
    "A tibble: 2 × 2\n",
    "PHENO\tn\n",
    "<chr>\t<int>\n",
    "CASE\t7806\n",
    "CONTROL\t38051"
   ]
  },
  {
   "cell_type": "raw",
   "id": "a91d45b8-512d-4325-b38b-77c781b8cb62",
   "metadata": {},
   "source": [
    "# Age (mean and sd)\n",
    "\n",
    "## binary pheno\n",
    "join_1 %>% group_by(PHENO) %>% summarise(mean = mean(AGE_OF_RECRUIT, na.rm = T),\n",
    "                                           sd =sd(AGE_OF_RECRUIT, na.rm = T))\n",
    "                                           \n",
    "A tibble: 2 × 3\n",
    "PHENO\tmean\tsd\n",
    "<chr>\t<dbl>\t<dbl>\n",
    "CASE\t59.12349\t7.118355\n",
    "CONTROL\t64.05845\t2.827749\n",
    "\n",
    "## group pheno\n",
    "join_1 %>% group_by(PHENO_NAME) %>% summarise(mean = mean(AGE_OF_RECRUIT, na.rm = T),\n",
    "                                           sd =sd(AGE_OF_RECRUIT, na.rm = T))\n",
    "                                           \n",
    "A tibble: 4 × 3\n",
    "PHENO_NAME\tmean\tsd\n",
    "<chr>\t<dbl>\t<dbl>\n",
    "CONTROL\t64.05845\t2.827749\n",
    "parent\t58.08221\t7.230196\n",
    "PD\t62.94299\t5.238809\n",
    "sibling\t62.20958\t5.589219"
   ]
  },
  {
   "cell_type": "raw",
   "id": "585760dc-d92c-434d-a8e9-664a06c61b35",
   "metadata": {},
   "source": [
    "# Sex (percentage)\n",
    "\n",
    "## binary pheno \n",
    "join_1 %>% group_by(PHENO, GENETIC_SEX) %>% tally() %>% mutate(perc = n/sum(n)*100)\n",
    "\n",
    "A grouped_df: 4 × 4\n",
    "PHENO\tGENETIC_SEX\tn\tperc\n",
    "<chr>\t<chr>\t<int>\t<dbl>\n",
    "CASE\tFEMALE\t3557\t45.56751\n",
    "CASE\tMALE\t4249\t54.43249\n",
    "CONTROL\tFEMALE\t18483\t48.57428\n",
    "CONTROL\tMALE\t19568\t51.42572\n",
    "\n",
    "## group pheno\n",
    "join_1 %>% group_by(PHENO_NAME, GENETIC_SEX) %>% tally() %>% mutate(perc = n/sum(n)*100)\n",
    "\n",
    "A grouped_df: 8 × 4\n",
    "PHENO_NAME\tGENETIC_SEX\tn\tperc\n",
    "<chr>\t<chr>\t<int>\t<dbl>\n",
    "CONTROL\tFEMALE\t18483\t48.57428\n",
    "CONTROL\tMALE\t19568\t51.42572\n",
    "parent\tFEMALE\t2564\t42.49959\n",
    "parent\tMALE\t3469\t57.50041\n",
    "PD\tFEMALE\t689\t62.35294\n",
    "PD\tMALE\t416\t37.64706\n",
    "sibling\tFEMALE\t304\t45.50898\n",
    "sibling\tMALE\t364\t54.49102"
   ]
  },
  {
   "cell_type": "markdown",
   "id": "bde65677-7c17-432e-951e-392ac464bdd4",
   "metadata": {},
   "source": [
    "### 8.2 AMP-PD"
   ]
  },
  {
   "cell_type": "raw",
   "id": "4f8c5a72-287f-4e47-bf2f-11170c3f46d3",
   "metadata": {},
   "source": [
    "# File locations\n",
    "\n",
    "AMP-PD (no NIH samples)\n",
    "/data/CARD/PD/AMP_NIH/no_relateds/DALGB_12MAR2022/AMPv2.5_samplestoKeep_EuroOnly_noDups_noNIHDups_wPheno_wSex_no_cousins*\n",
    "\n",
    "#covariate file for burdens\n",
    "/data/CARD/PD/AMP_NIH/no_relateds/COV_PD_NIH_AMPv2.5_samplestoKeep_EuroOnly_noDups_noNIHDups_wPheno_wSex_no_cousins.txt\n"
   ]
  },
  {
   "cell_type": "markdown",
   "id": "cf25a1ea-29e0-40cb-9cb1-0a51032aae43",
   "metadata": {},
   "source": [
    "#### 8.2.1 Write binary files"
   ]
  },
  {
   "cell_type": "code",
   "execution_count": 11,
   "id": "16cf4873-d53c-49f5-895d-52561c57248e",
   "metadata": {},
   "outputs": [
    {
     "name": "stdout",
     "output_type": "stream",
     "text": [
      "282 AMPonly_variants_extracted_from23andMe.txt\n"
     ]
    }
   ],
   "source": [
    "grep -w -f variants_to_grep_nohead.txt /data/CARD/PD/AMP_NIH/no_relateds/DALGB_12MAR2022/AMPv2.5_samplestoKeep_EuroOnly_noDups_noNIHDups_wPheno_wSex_no_cousins.bim > AMPonly_variants_extracted_from23andMe.txt\n",
    "wc -l AMPonly_variants_extracted_from23andMe.txt\n",
    "# 282 AMPonly_variants_extracted_from23andMe.txt"
   ]
  },
  {
   "cell_type": "code",
   "execution_count": 12,
   "id": "72a62805-5492-4f80-a698-6c2678fff801",
   "metadata": {},
   "outputs": [
    {
     "name": "stdout",
     "output_type": "stream",
     "text": [
      "PLINK v1.90b4.4 64-bit (21 May 2017)           www.cog-genomics.org/plink/1.9/\n",
      "(C) 2005-2017 Shaun Purcell, Christopher Chang   GNU General Public License v3\n",
      "Logging to AMP_282_from23andme.log.\n",
      "Options in effect:\n",
      "  --bfile /data/CARD/PD/AMP_NIH/no_relateds/DALGB_12MAR2022/AMPv2.5_samplestoKeep_EuroOnly_noDups_noNIHDups_wPheno_wSex_no_cousins\n",
      "  --extract AMPonly_variants_extracted_from23andMe.txt\n",
      "  --make-bed\n",
      "  --out AMP_282_from23andme\n",
      "\n",
      "515537 MB RAM detected; reserving 257768 MB for main workspace.\n",
      "Allocated 193326 MB successfully, after larger attempt(s) failed.\n",
      "937983 variants loaded from .bim file.\n",
      "4007 people (2197 males, 1810 females) loaded from .fam.\n",
      "4007 phenotype values loaded from .fam.\n",
      "--extract: 282 variants remaining.\n",
      "Using 1 thread (no multithreaded calculations invoked).\n",
      "Before main variant filters, 4007 founders and 0 nonfounders present.\n",
      "Calculating allele frequencies... 10111213141516171819202122232425262728293031323334353637383940414243444546474849505152535455565758596061626364656667686970717273747576777879808182838485868788899091929394959697989 done.\n",
      "282 variants and 4007 people pass filters and QC.\n",
      "Among remaining phenotypes, 1451 are cases and 2556 are controls.\n",
      "--make-bed to AMP_282_from23andme.bed + AMP_282_from23andme.bim +\n",
      "AMP_282_from23andme.fam ... 101112131415161718192021222324252627282930313233343536373839404142434445464748495051525354555657585960616263646566676869707172737475767778798081828384858687888990919293949596979899done.\n"
     ]
    }
   ],
   "source": [
    "# Write new binary files\n",
    "#module load plink/1.9.0-beta4.4\n",
    "\n",
    "plink --bfile /data/CARD/PD/AMP_NIH/no_relateds/DALGB_12MAR2022/AMPv2.5_samplestoKeep_EuroOnly_noDups_noNIHDups_wPheno_wSex_no_cousins \\\n",
    "--extract AMPonly_variants_extracted_from23andMe.txt \\\n",
    "--make-bed \\\n",
    "--out AMP_282_from23andme\n",
    "\n",
    "# 282 variants and 4007 people pass filters and QC.\n",
    "# Among remaining phenotypes, 1451 are cases and 2556 are controls.\n",
    "# --make-bed to AMP_282_from23andme.bed + AMP_282_from23andme.bim +\n",
    "# AMP_282_from23andme.fam ... done.\n",
    "# AMP only contains 282 out of x variants provided by 23andme"
   ]
  },
  {
   "cell_type": "markdown",
   "id": "ffbd443d-bcb6-4e30-8d4d-a5f9488d37d1",
   "metadata": {},
   "source": [
    "#### 8.2.2 Generate frequency file"
   ]
  },
  {
   "cell_type": "code",
   "execution_count": 13,
   "id": "52c6d4bd-461f-4375-ac92-274146916cb5",
   "metadata": {},
   "outputs": [
    {
     "name": "stdout",
     "output_type": "stream",
     "text": [
      "PLINK v1.90b4.4 64-bit (21 May 2017)           www.cog-genomics.org/plink/1.9/\n",
      "(C) 2005-2017 Shaun Purcell, Christopher Chang   GNU General Public License v3\n",
      "Logging to AMP_282_from23andme.log.\n",
      "Options in effect:\n",
      "  --bfile AMP_282_from23andme\n",
      "  --freq\n",
      "  --out AMP_282_from23andme\n",
      "\n",
      "515537 MB RAM detected; reserving 257768 MB for main workspace.\n",
      "282 variants loaded from .bim file.\n",
      "4007 people (2197 males, 1810 females) loaded from .fam.\n",
      "4007 phenotype values loaded from .fam.\n",
      "Using 1 thread (no multithreaded calculations invoked).\n",
      "Before main variant filters, 4007 founders and 0 nonfounders present.\n",
      "Calculating allele frequencies... 10111213141516171819202122232425262728293031323334353637383940414243444546474849505152535455565758596061626364656667686970717273747576777879808182838485868788899091929394959697989 done.\n",
      "--freq: Allele frequencies (founders only) written to AMP_282_from23andme.frq .\n"
     ]
    }
   ],
   "source": [
    "# module load plink/1.9.0-beta4.4\n",
    "plink --bfile AMP_282_from23andme --freq --out AMP_282_from23andme\n",
    "\n",
    "# 4007 people (2197 males, 1810 females) loaded from .fam.\n",
    "# 4007 phenotype values loaded from .fam."
   ]
  },
  {
   "cell_type": "markdown",
   "id": "af3328b0-5a33-4880-91d8-9f14fe322965",
   "metadata": {},
   "source": [
    "#### 8.2.3 Cohort age per group"
   ]
  },
  {
   "cell_type": "raw",
   "id": "0520a97b-64ad-4f41-8577-2742126a293a",
   "metadata": {},
   "source": [
    "# read in files\n",
    "cov = fread(\"/data/CARD/PD/AMP_NIH/no_relateds/COV_PD_NIH_AMPv2.5_samplestoKeep_EuroOnly_noDups_noNIHDups_wPheno_wSex_no_cousins.txt\")\n",
    "IID = fread(\"/data/CARD/PD/AMP_NIH/no_relateds/DALGB_12MAR2022/AMPv2.5_samplestoKeep_EuroOnly_noDups_noNIHDups_wPheno_wSex_no_cousins.fam\")\n",
    "\n",
    "# change layout\n",
    "IID_1 = IID %>% select(V1) %>% rename(\"FID\" = V1)\n",
    "\n",
    "# join \n",
    "join = left_join(IID_1, cov)\n",
    "dim(join)\n",
    "\n",
    "# sex\n",
    "join_1 = join\n",
    "join_1$SEX[join_1$SEX ==1] <- \"MALE\"\n",
    "join_1$SEX[join_1$SEX ==2] <- \"FEMALE\"\n",
    "\n",
    "# binary pheno\n",
    "join_1$PD_PHENO[join_1$PD_PHENO ==1] <- \"CONTROL\"\n",
    "join_1$PD_PHENO[join_1$PD_PHENO ==2] <- \"CASE\"\n",
    "join_1 %>% group_by(PD_PHENO) %>% tally()\n",
    "                                           \n",
    "                                           "
   ]
  },
  {
   "cell_type": "raw",
   "id": "c45d56bf-38bf-4339-8382-d909abc346cf",
   "metadata": {},
   "source": [
    "# Age (mean, sd)\n",
    "\n",
    "join_1 %>% group_by(PD_PHENO) %>% summarise(mean = mean(AGE_ANALYSIS, na.rm = T),\n",
    "                                           sd =sd(AGE_ANALYSIS, na.rm = T))"
   ]
  },
  {
   "cell_type": "code",
   "execution_count": null,
   "id": "b73a1df6-ba01-47e2-93f6-59b898666a03",
   "metadata": {},
   "outputs": [],
   "source": [
    "# Sex (percentage)\n",
    "\n",
    "# binary pheno\n",
    "join_1 %>% group_by(PD_PHENO, SEX) %>% tally() %>% mutate(perc =n/sum(n)*100)"
   ]
  },
  {
   "cell_type": "markdown",
   "id": "74499353-9b43-452b-8c78-ccef08be9c9b",
   "metadata": {
    "tags": []
   },
   "source": [
    "## 9. Association testing"
   ]
  },
  {
   "cell_type": "markdown",
   "id": "6e68a836-702d-4d17-9989-941805b6b6f4",
   "metadata": {},
   "source": [
    "### 9.1 Associatino testing in Plink"
   ]
  },
  {
   "cell_type": "markdown",
   "id": "60312d06-c492-42c6-b41a-fbaa770b8106",
   "metadata": {},
   "source": [
    "#### 9.1.1 UKB"
   ]
  },
  {
   "cell_type": "code",
   "execution_count": 14,
   "id": "1851cbd1-6166-4e61-bde5-768d07fc1d7a",
   "metadata": {},
   "outputs": [
    {
     "name": "stdout",
     "output_type": "stream",
     "text": [
      "[-] Unloading plink  1.9.0-beta4.4  on cn4271 \n",
      "[+] Loading plink  1.9.0-beta4.4  on cn4271 \n",
      "PLINK v1.90b4.4 64-bit (21 May 2017)           www.cog-genomics.org/plink/1.9/\n",
      "(C) 2005-2017 Shaun Purcell, Christopher Chang   GNU General Public License v3\n",
      "Logging to UKB_608_from23andme_ALL_PD.log.\n",
      "Options in effect:\n",
      "  --allow-no-sex\n",
      "  --assoc\n",
      "  --bfile UKB_608_from23andme\n",
      "  --out UKB_608_from23andme_ALL_PD\n",
      "  --pheno /data/CARD/UKBIOBANK/PHENOTYPE_DATA/disease_groups/UKB_EXOM_ALL_PD_PHENOTYPES_CONTROL_2021_with_PC.txt\n",
      "  --pheno-name PHENO\n",
      "\n",
      "515537 MB RAM detected; reserving 257768 MB for main workspace.\n",
      "608 variants loaded from .bim file.\n",
      "200648 people (0 males, 0 females, 200648 ambiguous) loaded from .fam.\n",
      "Ambiguous sex IDs written to UKB_608_from23andme_ALL_PD.nosex .\n",
      "45857 phenotype values present after --pheno.\n",
      "Using 1 thread (no multithreaded calculations invoked).\n",
      "Before main variant filters, 200648 founders and 0 nonfounders present.\n",
      "Calculating allele frequencies... 10111213141516171819202122232425262728293031323334353637383940414243444546474849505152535455565758596061626364656667686970717273747576777879808182838485868788899091929394959697989 done.\n",
      "Total genotyping rate is 0.999036.\n",
      "608 variants and 200648 people pass filters and QC.\n",
      "Among remaining phenotypes, 7806 are cases and 38051 are controls.  (154791\n",
      "phenotypes are missing.)\n",
      "Writing C/C --assoc report to UKB_608_from23andme_ALL_PD.assoc ...\n",
      "21263839404656598586878891done.\n"
     ]
    }
   ],
   "source": [
    "module load plink/1.9.0-beta4.4\n",
    "plink --bfile UKB_608_from23andme --assoc --pheno /data/CARD/UKBIOBANK/PHENOTYPE_DATA/disease_groups/UKB_EXOM_ALL_PD_PHENOTYPES_CONTROL_2021_with_PC.txt --pheno-name PHENO --allow-no-sex --out UKB_608_from23andme_ALL_PD"
   ]
  },
  {
   "cell_type": "raw",
   "id": "2cec3fb7-6331-44d2-b672-85946b6b78b6",
   "metadata": {},
   "source": [
    "[+] Loading plink  1.9.0-beta4.4  on cn4300 \n",
    "PLINK v1.90b4.4 64-bit (21 May 2017)           www.cog-genomics.org/plink/1.9/\n",
    "(C) 2005-2017 Shaun Purcell, Christopher Chang   GNU General Public License v3\n",
    "Logging to ./UKB_and_AMP/UKB_608_from23andme_ALL_PD.log.\n",
    "Options in effect:\n",
    "  --allow-no-sex\n",
    "  --assoc\n",
    "  --bfile ./UKB_and_AMP/UKB_608_from23andme\n",
    "  --out ./UKB_and_AMP/UKB_608_from23andme_ALL_PD\n",
    "  --pheno /data/CARD/UKBIOBANK/PHENOTYPE_DATA/disease_groups/UKB_EXOM_ALL_PD_PHENOTYPES_CONTROL_2021_with_PC.txt\n",
    "  --pheno-name PHENO\n",
    "\n",
    "515537 MB RAM detected; reserving 257768 MB for main workspace.\n",
    "608 variants loaded from .bim file.\n",
    "200648 people (0 males, 0 females, 200648 ambiguous) loaded from .fam.\n",
    "Ambiguous sex IDs written to ./UKB_and_AMP/UKB_608_from23andme_ALL_PD.nosex .\n",
    "45857 phenotype values present after --pheno.\n",
    "Using 1 thread (no multithreaded calculations invoked).\n",
    "Before main variant filters, 200648 founders and 0 nonfounders present.\n",
    "Calculating allele frequencies... 10111213141516171819202122232425262728293031323334353637383940414243444546474849505152535455565758596061626364656667686970717273747576777879808182838485868788899091929394959697989 done.\n",
    "Total genotyping rate is 0.999036.\n",
    "608 variants and 200648 people pass filters and QC.\n",
    "Among remaining phenotypes, 7806 are cases and 38051 are controls.  (154791\n",
    "phenotypes are missing.)\n",
    "Writing C/C --assoc report to ./UKB_and_AMP/UKB_608_from23andme_ALL_PD.assoc\n",
    "... 21263839404656598586878891done."
   ]
  },
  {
   "cell_type": "markdown",
   "id": "f17cdf39-520c-4894-803e-06a8bbd2c171",
   "metadata": {},
   "source": [
    "#### 9.1.2 AMP-PD"
   ]
  },
  {
   "cell_type": "code",
   "execution_count": 15,
   "id": "686a733c-bcf3-4a72-a8a8-23bb21d56345",
   "metadata": {},
   "outputs": [
    {
     "name": "stdout",
     "output_type": "stream",
     "text": [
      "PLINK v1.90b4.4 64-bit (21 May 2017)           www.cog-genomics.org/plink/1.9/\n",
      "(C) 2005-2017 Shaun Purcell, Christopher Chang   GNU General Public License v3\n",
      "Logging to AMP_282_from23andme_pheno.log.\n",
      "Options in effect:\n",
      "  --assoc\n",
      "  --bfile AMP_282_from23andme\n",
      "  --out AMP_282_from23andme_pheno\n",
      "  --pheno /data/CARD/PD/AMP_NIH/no_relateds/COV_PD_NIH_AMPv2.5_samplestoKeep_EuroOnly_noDups_noNIHDups_wPheno_wSex_no_cousins.txt\n",
      "  --pheno-name PD_PHENO\n",
      "\n",
      "515537 MB RAM detected; reserving 257768 MB for main workspace.\n",
      "282 variants loaded from .bim file.\n",
      "4007 people (2197 males, 1810 females) loaded from .fam.\n",
      "4007 phenotype values present after --pheno.\n",
      "Using 1 thread (no multithreaded calculations invoked).\n",
      "Before main variant filters, 4007 founders and 0 nonfounders present.\n",
      "Calculating allele frequencies... 10111213141516171819202122232425262728293031323334353637383940414243444546474849505152535455565758596061626364656667686970717273747576777879808182838485868788899091929394959697989 done.\n",
      "282 variants and 4007 people pass filters and QC.\n",
      "Among remaining phenotypes, 1451 are cases and 2556 are controls.\n",
      "Writing C/C --assoc report to AMP_282_from23andme_pheno.assoc ...\n",
      "172138404245455458868891done.\n"
     ]
    }
   ],
   "source": [
    "plink --bfile AMP_282_from23andme --assoc --pheno /data/CARD/PD/AMP_NIH/no_relateds/COV_PD_NIH_AMPv2.5_samplestoKeep_EuroOnly_noDups_noNIHDups_wPheno_wSex_no_cousins.txt --pheno-name PD_PHENO --out AMP_282_from23andme_pheno"
   ]
  },
  {
   "cell_type": "raw",
   "id": "72dd230b-d10b-4f10-8720-37d43dd37c78",
   "metadata": {},
   "source": [
    "PLINK v1.90b4.4 64-bit (21 May 2017)           www.cog-genomics.org/plink/1.9/\n",
    "(C) 2005-2017 Shaun Purcell, Christopher Chang   GNU General Public License v3\n",
    "Logging to ./UKB_and_AMP/AMP_282_from23andme_pheno.log.\n",
    "Options in effect:\n",
    "  --assoc\n",
    "  --bfile ./UKB_and_AMP/AMP_282_from23andme\n",
    "  --out ./UKB_and_AMP/AMP_282_from23andme_pheno\n",
    "  --pheno /data/CARD/PD/AMP_NIH/no_relateds/COV_PD_NIH_AMPv2.5_samplestoKeep_EuroOnly_noDups_noNIHDups_wPheno_wSex_no_cousins.txt\n",
    "  --pheno-name PD_PHENO\n",
    "\n",
    "515537 MB RAM detected; reserving 257768 MB for main workspace.\n",
    "282 variants loaded from .bim file.\n",
    "4007 people (2197 males, 1810 females) loaded from .fam.\n",
    "4007 phenotype values present after --pheno.\n",
    "Using 1 thread (no multithreaded calculations invoked).\n",
    "Before main variant filters, 4007 founders and 0 nonfounders present.\n",
    "Calculating allele frequencies... 10111213141516171819202122232425262728293031323334353637383940414243444546474849505152535455565758596061626364656667686970717273747576777879808182838485868788899091929394959697989 done.\n",
    "282 variants and 4007 people pass filters and QC.\n",
    "Among remaining phenotypes, 1451 are cases and 2556 are controls.\n",
    "Writing C/C --assoc report to ./UKB_and_AMP/AMP_282_from23andme_pheno.assoc ...\n",
    "172138404245455458868891done."
   ]
  },
  {
   "cell_type": "markdown",
   "id": "f806404a-5128-4e91-a358-5f82d3e20c15",
   "metadata": {
    "tags": []
   },
   "source": [
    "### 9.2 Association testing in Rvtest"
   ]
  },
  {
   "cell_type": "markdown",
   "id": "6b96a1a5-2d95-4929-b133-512372b06e17",
   "metadata": {},
   "source": [
    "#### 9.2.1 UKB"
   ]
  },
  {
   "cell_type": "code",
   "execution_count": 16,
   "id": "eb0e5cb3-b782-41bc-8030-cee471700573",
   "metadata": {},
   "outputs": [
    {
     "name": "stdout",
     "output_type": "stream",
     "text": [
      "[-] Unloading plink  1.9.0-beta4.4  on cn4271 \n",
      "[+] Loading plink  2.0-dev-20191128 \n",
      "\n",
      "The following have been reloaded with a version change:\n",
      "  1) plink/1.9.0-beta4.4 => plink/2.0-dev-20191128\n",
      "\n",
      "[+] Loading samtools 1.17  ... \n",
      "PLINK v2.00a2LM 64-bit Intel (28 Nov 2019)     www.cog-genomics.org/plink/2.0/\n",
      "(C) 2005-2019 Shaun Purcell, Christopher Chang   GNU General Public License v3\n",
      "Logging to UKB_608_from23andme.log.\n",
      "Options in effect:\n",
      "  --bfile UKB_608_from23andme\n",
      "  --export vcf bgz id-paste=iid\n",
      "  --mac 1\n",
      "  --out UKB_608_from23andme\n",
      "\n",
      "Start time: Tue Mar 14 11:25:16 2023\n",
      "515537 MiB RAM detected; reserving 257768 MiB for main workspace.\n",
      "Using up to 128 threads (change this with --threads).\n",
      "200648 samples (0 females, 0 males, 200648 ambiguous; 200648 founders) loaded\n",
      "from UKB_608_from23andme.fam.\n",
      "608 variants loaded from UKB_608_from23andme.bim.\n",
      "Note: No phenotype data present.\n",
      "Calculating allele frequencies... done.\n",
      "0 variants removed due to allele frequency threshold(s)\n",
      "(--maf/--max-maf/--mac/--max-mac).\n",
      "608 variants remaining after main filters.\n",
      "--export vcf bgz to UKB_608_from23andme.vcf.gz ... 1010111112121313141415151616171718181919202021212222232324252526262727282829293030313132323333343435353636373738383939404041414242434344444545464647474848495050515152525353545455555656575758585959606061616262636364646565666667676868696970707171727273737475757676777778787979808081818282838384848585868687878888898990909191929293939494959596969797989899done.\n",
      "End time: Tue Mar 14 11:25:17 2023\n"
     ]
    }
   ],
   "source": [
    "# Convert binary files to vcf for input\n",
    "module load plink/2.0-dev-20191128\n",
    "module load samtools\n",
    "VARIANT_FILE=$1\n",
    "OUTNAME=${VARIANT_FILE/\".txt\"/\"\"}\n",
    "plink2 --bfile UKB_608_from23andme \\\n",
    "--export vcf bgz id-paste=iid --out UKB_608_from23andme${OUTNAME} --mac 1\n",
    "\n",
    "tabix -p vcf  UKB_608_from23andme${OUTNAME}.vcf.gz"
   ]
  },
  {
   "cell_type": "raw",
   "id": "62278db7-8c90-43ea-b503-3f906539e816",
   "metadata": {},
   "source": [
    "# new files written: \n",
    "UKB_608_from23andme.vcf.gz\n",
    "UKB_608_from23andme.vcf.gz.tbi"
   ]
  },
  {
   "cell_type": "raw",
   "id": "aa6f7630-8e4c-4ccb-9995-95fcd531ae2d",
   "metadata": {},
   "source": [
    "# Phenotype file looks like this\n",
    "# using UKB_EXOM_ALL_PD_PHENOTYPES_CONTROL_2021_with_PC.txt\n",
    "# # A tibble: 4 × 2\n",
    "  PHENO_NAME     n\n",
    "  <chr>      <int>\n",
    "1 CONTROL    38051\n",
    "2 parent      6033\n",
    "3 PD          1105\n",
    "4 sibling      668\n",
    "\n",
    "# UKB_all %>% group_by(SEX) %>% tally()\n",
    "# A tibble: 2 × 2\n",
    "    SEX     n\n",
    "  <int> <int>\n",
    "1     1 22040\n",
    "2     2 23817"
   ]
  },
  {
   "cell_type": "code",
   "execution_count": 17,
   "id": "63d3cf00-73c7-4f21-aef7-e38841571574",
   "metadata": {},
   "outputs": [
    {
     "name": "stdout",
     "output_type": "stream",
     "text": [
      "[+] Loading rvtests  2.1.0  on cn4271 \n",
      "Thank you for using rvtests (version: 20190205, git: c86e589efef15382603300dc7f4c3394c82d69b8)\n",
      "  For documentations, refer to http://zhanxw.github.io/rvtests/\n",
      "  For questions and comments, plase send to Xiaowei Zhan <zhanxw@umich.edu>\n",
      "  For bugs and feature requests, please submit at: https://github.com/zhanxw/rvtests/issues\n",
      "\n",
      "The following parameters are available.  Ones with \"[]\" are in effect:\n",
      "\n",
      "Available Options\n",
      "      Basic Input/Output: --inVcf [UKB_608_from23andme.vcf.gz], --inBgen []\n",
      "                          --inBgenSample [], --inKgg []\n",
      "                          --out [UKB_608_from23andme_withcovars_score_ALL_PD]\n",
      "                          --outputRaw\n",
      "       Specify Covariate:\n",
      "                          --covar [/data/CARD/UKBIOBANK/PHENOTYPE_DATA/disease_groups/UKB_EXOM_ALL_PD_PHENOTYPES_CONTROL_2021_with_PC.txt]\n",
      "                          --covar-name [GENETIC_SEX,AGE_OF_RECRUIT,TOWNSEND,PC1\n",
      "                         PC2,PC3,PC4,PC5], --sex\n",
      "       Specify Phenotype:\n",
      "                          --pheno [/data/CARD/UKBIOBANK/PHENOTYPE_DATA/disease_groups/UKB_EXOM_ALL_PD_PHENOTYPES_CONTROL_2021_with_PC.txt]\n",
      "                          --inverseNormal, --useResidualAsPhenotype, --mpheno []\n",
      "                          --pheno-name [PHENO], --qtl, --multiplePheno []\n",
      "        Specify Genotype: --dosage [], --multipleAllele\n",
      "    Chromosome X Options: --xLabel [], --xParRegion []\n",
      "           People Filter: --peopleIncludeID [], --peopleIncludeFile []\n",
      "                          --peopleExcludeID [], --peopleExcludeFile []\n",
      "             Site Filter: --rangeList [], --rangeFile [], --siteFile []\n",
      "                          --siteDepthMin [], --siteDepthMax [], --siteMACMin []\n",
      "                          --annoType []\n",
      "         Genotype Filter: --indvDepthMin [], --indvDepthMax [], --indvQualMin []\n",
      "       Association Model: --single [wald,score], --burden [], --vt []\n",
      "                          --kernel [], --meta []\n",
      "     Family-based Models: --kinship [], --xHemiKinship [], --kinshipEigen []\n",
      "                          --xHemiKinshipEigen [], --boltPlink []\n",
      "                          --boltPlinkNoCheck\n",
      "          Grouping Unit : --geneFile [], --gene [], --setList [], --setFile []\n",
      "                          --set []\n",
      "        Frequency Cutoff: --freqUpper [], --freqLower []\n",
      "            Missing Data: --impute [], --imputePheno, --imputeCov\n",
      "    Conditional Analysis: --condition []\n",
      "     Auxiliary Functions: --noweb, --hide-covar, --numThread [], --outputID\n",
      "                          --help\n",
      "\n",
      "Effective Options\n",
      "    --inVcf UKB_608_from23andme.vcf.gz\n",
      "    --out UKB_608_from23andme_withcovars_score_ALL_PD\n",
      "    --covar /data/CARD/UKBIOBANK/PHENOTYPE_DATA/disease_groups/UKB_EXOM_ALL_PD_PHENOTYPES_CONTROL_2021_with_PC.txt\n",
      "    --covar-name GENETIC_SEX,AGE_OF_RECRUIT,TOWNSEND,PC1,PC2,PC3,PC4,PC5\n",
      "    --pheno /data/CARD/UKBIOBANK/PHENOTYPE_DATA/disease_groups/UKB_EXOM_ALL_PD_PHENOTYPES_CONTROL_2021_with_PC.txt\n",
      "    --pheno-name PHENO\n",
      "    --single wald,score\n",
      "\n",
      "[INFO]\tProgram version: 20190205\n",
      "[INFO]\tAnalysis started at: Tue Mar 14 11:25:54 2023\n",
      "[INFO]\tLoaded [ 200648 ] samples from genotype files\n",
      "[INFO]\tLoaded [ 45857 ] sample phenotypes\n",
      "[WARN]\tTotal [ 154791 ] samples are dropped from VCF file due to missing phenotype.\n",
      "[WARN]\tDrop sample [ -000001 ] from VCF file due to missing phenotype\n",
      "[WARN]\tDrop sample [ -000002 ] from VCF file due to missing phenotype\n",
      "[WARN]\tDrop sample [ -000003 ] from VCF file due to missing phenotype\n",
      "[WARN]\tDrop sample [ -000004 ] from VCF file due to missing phenotype\n",
      "[WARN]\tDrop sample [ -000005 ] from VCF file due to missing phenotype\n",
      "[WARN]\tDrop sample [ -000006 ] from VCF file due to missing phenotype\n",
      "[WARN]\tDrop sample [ -000007 ] from VCF file due to missing phenotype\n",
      "[WARN]\tDrop sample [ -000008 ] from VCF file due to missing phenotype\n",
      "[WARN]\tDrop sample [ -000009 ] from VCF file due to missing phenotype\n",
      "[WARN]\tDrop sample [ -000010 ] from VCF file due to missing phenotype\n",
      "[WARN]\tSkip outputting additional [ 154781 ] samples due to missing phenotype.\n",
      "[INFO]\tBegin to read covariate file\n",
      "[INFO]\tLoaded 0 male, 0 female and 45857 sex-unknown samples from /data/CARD/UKBIOBANK/PHENOTYPE_DATA/disease_groups/UKB_EXOM_ALL_PD_PHENOTYPES_CONTROL_2021_with_PC.txt\n",
      "[INFO]\tLoaded 7806 cases, 38051 controls, and 0 missing phenotypes\n",
      "[WARN]\t-- Enabling binary phenotype mode -- \n",
      "[INFO]\tAnalysis begins with [ 45857 ] samples...\n",
      "[INFO]\tImpute missing genotype to mean (by default)\n",
      "[INFO]\tAnalysis started\n",
      "[INFO]\tAnalyzed [ 608 ] variants\n",
      "[INFO]\tAnalysis ends at: Tue Mar 14 11:26:15 2023\n",
      "[INFO]\tAnalysis took 21 seconds\n",
      "RVTESTS finished successfully\n"
     ]
    }
   ],
   "source": [
    "# Now run rvtest\n",
    "module load rvtests\n",
    "\n",
    "rvtest --inVcf UKB_608_from23andme.vcf.gz --pheno /data/CARD/UKBIOBANK/PHENOTYPE_DATA/disease_groups/UKB_EXOM_ALL_PD_PHENOTYPES_CONTROL_2021_with_PC.txt --pheno-name PHENO --out UKB_608_from23andme_withcovars_score_ALL_PD --single wald,score --covar /data/CARD/UKBIOBANK/PHENOTYPE_DATA/disease_groups/UKB_EXOM_ALL_PD_PHENOTYPES_CONTROL_2021_with_PC.txt --covar-name GENETIC_SEX,AGE_OF_RECRUIT,TOWNSEND,PC1,PC2,PC3,PC4,PC5\n"
   ]
  },
  {
   "cell_type": "raw",
   "id": "64acdfb1-4188-4d74-bb98-01ae5832287a",
   "metadata": {},
   "source": [
    "[INFO]\tAnalyzed [ 608 ] variants\n",
    "[INFO]\tAnalysis ends at: Wed Nov 23 15:15:03 2022\n",
    "[INFO]\tAnalysis took 22 seconds\n",
    "RVTESTS finished successfully"
   ]
  },
  {
   "cell_type": "raw",
   "id": "537bb17f-7899-4916-a736-9c8462d576a4",
   "metadata": {},
   "source": [
    "## new files generated\n",
    "UKB_608_from23andme_withcovars_score_ALL_PD.log\n",
    "UKB_608_from23andme_withcovars_score_ALL_PD.SingleScore.assoc\n",
    "UKB_608_from23andme_withcovars_score_ALL_PD.SingleWald.assoc\n",
    "\n",
    "# check for file content\n",
    "head UKB_608_from23andme_withcovars_score_ALL_PD.SingleScore.assoc"
   ]
  },
  {
   "cell_type": "markdown",
   "id": "93c93063-0954-478a-ae85-7dd07e0f4e54",
   "metadata": {},
   "source": [
    "#### 9.2.2 AMP-PD"
   ]
  },
  {
   "cell_type": "code",
   "execution_count": 18,
   "id": "d2710f3e-196e-4802-90da-7e87ba78d670",
   "metadata": {},
   "outputs": [
    {
     "name": "stdout",
     "output_type": "stream",
     "text": [
      "[-] Unloading plink  2.0-dev-20191128 \n",
      "[+] Loading plink  2.0-dev-20191128 \n",
      "[-] Unloading samtools 1.17  ... \n",
      "[+] Loading samtools 1.17  ... \n",
      "PLINK v2.00a2LM 64-bit Intel (28 Nov 2019)     www.cog-genomics.org/plink/2.0/\n",
      "(C) 2005-2019 Shaun Purcell, Christopher Chang   GNU General Public License v3\n",
      "Logging to AMP_282_from23andme.log.\n",
      "Options in effect:\n",
      "  --bfile AMP_282_from23andme\n",
      "  --export vcf bgz id-paste=iid\n",
      "  --mac 1\n",
      "  --out AMP_282_from23andme\n",
      "\n",
      "Start time: Tue Mar 14 11:27:20 2023\n",
      "515537 MiB RAM detected; reserving 257768 MiB for main workspace.\n",
      "Using up to 128 threads (change this with --threads).\n",
      "4007 samples (1810 females, 2197 males; 4007 founders) loaded from\n",
      "AMP_282_from23andme.fam.\n",
      "282 variants loaded from AMP_282_from23andme.bim.\n",
      "1 binary phenotype loaded (1451 cases, 2556 controls).\n",
      "Calculating allele frequencies... done.\n",
      "26 variants removed due to allele frequency threshold(s)\n",
      "(--maf/--max-maf/--mac/--max-mac).\n",
      "256 variants remaining after main filters.\n",
      "Warning: '_' present in original sample IDs; --export vcf will not be able to\n",
      "reconstruct them. Consider rerunning with a suitable --export id-delim= value.\n",
      "--export vcf bgz to AMP_282_from23andme.vcf.gz ... 1010111112121313141415151616171718181919202021212222232324252526262727282829293030313132323333343435353636373738383939404041414242434344444545464647474848495050515152525353545455555656575758585959606061616262636364646565666667676868696970707171727273737475757676777778787979808081818282838384848585868687878888898990909191929293939494959596969797989899done.\n",
      "End time: Tue Mar 14 11:27:20 2023\n"
     ]
    }
   ],
   "source": [
    "# convert binary plink files to vcf for rvtest\n",
    "module load plink/2.0-dev-20191128\n",
    "module load samtools\n",
    "VARIANT_FILE=$1\n",
    "OUTNAME=${VARIANT_FILE/\".txt\"/\"\"}\n",
    "plink2 --bfile AMP_282_from23andme \\\n",
    "--export vcf bgz id-paste=iid --out AMP_282_from23andme${OUTNAME} --mac 1\n",
    "\n",
    "tabix -p vcf AMP_282_from23andme${OUTNAME}.vcf.gz\n"
   ]
  },
  {
   "cell_type": "raw",
   "id": "fb7be546-6e81-415c-b5d4-ea7ee5dd8e90",
   "metadata": {},
   "source": [
    "[-] Unloading plink  2.0-dev-20191128 \n",
    "[+] Loading plink  2.0-dev-20191128 \n",
    "[-] Unloading samtools 1.16.1  ... \n",
    "[+] Loading samtools 1.16.1  ... \n",
    "PLINK v2.00a2LM 64-bit Intel (28 Nov 2019)     www.cog-genomics.org/plink/2.0/\n",
    "(C) 2005-2019 Shaun Purcell, Christopher Chang   GNU General Public License v3\n",
    "Logging to ./UKB_and_AMP/AMP_282_from23andme.log.\n",
    "Options in effect:\n",
    "  --bfile ./UKB_and_AMP/AMP_282_from23andme\n",
    "  --export vcf bgz id-paste=iid\n",
    "  --mac 1\n",
    "  --out ./UKB_and_AMP/AMP_282_from23andme\n",
    "\n",
    "Start time: Wed Nov 23 15:40:35 2022\n",
    "515537 MiB RAM detected; reserving 257768 MiB for main workspace.\n",
    "Using up to 128 threads (change this with --threads).\n",
    "4007 samples (1810 females, 2197 males; 4007 founders) loaded from\n",
    "./UKB_and_AMP/AMP_282_from23andme.fam.\n",
    "282 variants loaded from ./UKB_and_AMP/AMP_282_from23andme.bim.\n",
    "1 binary phenotype loaded (1451 cases, 2556 controls).\n",
    "Calculating allele frequencies... done.\n",
    "26 variants removed due to allele frequency threshold(s)\n",
    "(--maf/--max-maf/--mac/--max-mac).\n",
    "256 variants remaining after main filters.\n",
    "Warning: '_' present in original sample IDs; --export vcf will not be able to\n",
    "reconstruct them. Consider rerunning with a suitable --export id-delim= value.\n",
    "--export vcf bgz to ./UKB_and_AMP/AMP_282_from23andme.vcf.gz ... 1010111112121313141415151616171718181919202021212222232324252526262727282829293030313132323333343435353636373738383939404041414242434344444545464647474848495050515152525353545455555656575758585959606061616262636364646565666667676868696970707171727273737475757676777778787979808081818282838384848585868687878888898990909191929293939494959596969797989899done.\n",
    "End time: Wed Nov 23 15:40:35 2022"
   ]
  },
  {
   "cell_type": "code",
   "execution_count": null,
   "id": "c377fe17-f666-4e31-9163-7328b4d54561",
   "metadata": {},
   "outputs": [],
   "source": [
    "# new files\n",
    "AMP_282_from23andme.vcf.gz\n",
    "AMP_282_from23andme.vcf.gz.tbi"
   ]
  },
  {
   "cell_type": "code",
   "execution_count": 19,
   "id": "7c72f8bc-18a3-43c6-8ae9-723c10ce0af8",
   "metadata": {},
   "outputs": [
    {
     "name": "stdout",
     "output_type": "stream",
     "text": [
      "[-] Unloading rvtests  2.1.0  on cn4271 \n",
      "[+] Loading rvtests  2.1.0  on cn4271 \n",
      "Thank you for using rvtests (version: 20190205, git: c86e589efef15382603300dc7f4c3394c82d69b8)\n",
      "  For documentations, refer to http://zhanxw.github.io/rvtests/\n",
      "  For questions and comments, plase send to Xiaowei Zhan <zhanxw@umich.edu>\n",
      "  For bugs and feature requests, please submit at: https://github.com/zhanxw/rvtests/issues\n",
      "\n",
      "The following parameters are available.  Ones with \"[]\" are in effect:\n",
      "\n",
      "Available Options\n",
      "      Basic Input/Output: --inVcf [AMP_282_from23andme.vcf.gz], --inBgen []\n",
      "                          --inBgenSample [], --inKgg []\n",
      "                          --out [AMP_256_from23andme_withcovars_score]\n",
      "                          --outputRaw\n",
      "       Specify Covariate:\n",
      "                          --covar [/data/CARD/PD/AMP_NIH/no_relateds/COV_PD_NIH_AMPv2.5_samplestoKeep_EuroOnly_noDups_noNIHDups_wPheno_wSex_no_cousins.txt]\n",
      "                          --covar-name [SEX,PC1,PC2,PC3,PC4,PC5], --sex\n",
      "       Specify Phenotype:\n",
      "                          --pheno [/data/CARD/PD/AMP_NIH/no_relateds/COV_PD_NIH_AMPv2.5_samplestoKeep_EuroOnly_noDups_noNIHDups_wPheno_wSex_no_cousins.txt]\n",
      "                          --inverseNormal, --useResidualAsPhenotype, --mpheno []\n",
      "                          --pheno-name [PD_PHENO], --qtl, --multiplePheno []\n",
      "        Specify Genotype: --dosage [], --multipleAllele\n",
      "    Chromosome X Options: --xLabel [], --xParRegion []\n",
      "           People Filter: --peopleIncludeID [], --peopleIncludeFile []\n",
      "                          --peopleExcludeID [], --peopleExcludeFile []\n",
      "             Site Filter: --rangeList [], --rangeFile [], --siteFile []\n",
      "                          --siteDepthMin [], --siteDepthMax [], --siteMACMin []\n",
      "                          --annoType []\n",
      "         Genotype Filter: --indvDepthMin [], --indvDepthMax [], --indvQualMin []\n",
      "       Association Model: --single [wald,score], --burden [], --vt []\n",
      "                          --kernel [], --meta []\n",
      "     Family-based Models: --kinship [], --xHemiKinship [], --kinshipEigen []\n",
      "                          --xHemiKinshipEigen [], --boltPlink []\n",
      "                          --boltPlinkNoCheck\n",
      "          Grouping Unit : --geneFile [], --gene [], --setList [], --setFile []\n",
      "                          --set []\n",
      "        Frequency Cutoff: --freqUpper [], --freqLower []\n",
      "            Missing Data: --impute [], --imputePheno, --imputeCov\n",
      "    Conditional Analysis: --condition []\n",
      "     Auxiliary Functions: --noweb, --hide-covar, --numThread [], --outputID\n",
      "                          --help\n",
      "\n",
      "Effective Options\n",
      "    --inVcf AMP_282_from23andme.vcf.gz\n",
      "    --out AMP_256_from23andme_withcovars_score\n",
      "    --covar /data/CARD/PD/AMP_NIH/no_relateds/COV_PD_NIH_AMPv2.5_samplestoKeep_EuroOnly_noDups_noNIHDups_wPheno_wSex_no_cousins.txt\n",
      "    --covar-name SEX,PC1,PC2,PC3,PC4,PC5\n",
      "    --pheno /data/CARD/PD/AMP_NIH/no_relateds/COV_PD_NIH_AMPv2.5_samplestoKeep_EuroOnly_noDups_noNIHDups_wPheno_wSex_no_cousins.txt\n",
      "    --pheno-name PD_PHENO\n",
      "    --single wald,score\n",
      "\n",
      "[INFO]\tProgram version: 20190205\n",
      "[INFO]\tAnalysis started at: Tue Mar 14 11:27:50 2023\n",
      "[INFO]\tLoaded [ 4007 ] samples from genotype files\n",
      "[INFO]\tLoaded [ 7986 ] sample phenotypes\n",
      "[INFO]\tDiscard [ 3979 ] samples as they do not have genotypes\n",
      "[INFO]\tBegin to read covariate file\n",
      "[WARN]\tTotal [ 3979 ] samples are skipped from covariate file due to missing phenotype\n",
      "[WARN]\tSkip sample [ 001_10 ] from covariate file due to missing phenotype\n",
      "[WARN]\tSkip sample [ 002-08 ] from covariate file due to missing phenotype\n",
      "[WARN]\tSkip sample [ 003-08 ] from covariate file due to missing phenotype\n",
      "[WARN]\tSkip sample [ 003_10 ] from covariate file due to missing phenotype\n",
      "[WARN]\tSkip sample [ 004-08 ] from covariate file due to missing phenotype\n",
      "[WARN]\tSkip sample [ 004_06 ] from covariate file due to missing phenotype\n",
      "[WARN]\tSkip sample [ 006-10 ] from covariate file due to missing phenotype\n",
      "[WARN]\tSkip sample [ 007_10 ] from covariate file due to missing phenotype\n",
      "[WARN]\tSkip sample [ 008_10 ] from covariate file due to missing phenotype\n",
      "[WARN]\tSkip sample [ 010_09 ] from covariate file due to missing phenotype\n",
      "[WARN]\tSkip sample [ 012_08 ] from covariate file due to missing phenotype\n",
      "[WARN]\tSkip outputting additional [ 3969 ] samples from covariate file with missing phenotypes\n",
      "[INFO]\tLoaded 0 male, 0 female and 4007 sex-unknown samples from /data/CARD/PD/AMP_NIH/no_relateds/COV_PD_NIH_AMPv2.5_samplestoKeep_EuroOnly_noDups_noNIHDups_wPheno_wSex_no_cousins.txt\n",
      "[INFO]\tLoaded 1451 cases, 2556 controls, and 0 missing phenotypes\n",
      "[WARN]\t-- Enabling binary phenotype mode -- \n",
      "[INFO]\tAnalysis begins with [ 4007 ] samples...\n",
      "[INFO]\tImpute missing genotype to mean (by default)\n",
      "[INFO]\tAnalysis started\n",
      "[INFO]\tAnalyzed [ 256 ] variants\n",
      "[INFO]\tAnalysis ends at: Tue Mar 14 11:27:51 2023\n",
      "[INFO]\tAnalysis took 1 seconds\n",
      "RVTESTS finished successfully\n"
     ]
    }
   ],
   "source": [
    "# Run Rvtest\n",
    "module load rvtests\n",
    "\n",
    "# don't correct for age in AMP\n",
    "rvtest --inVcf AMP_282_from23andme.vcf.gz --pheno /data/CARD/PD/AMP_NIH/no_relateds/COV_PD_NIH_AMPv2.5_samplestoKeep_EuroOnly_noDups_noNIHDups_wPheno_wSex_no_cousins.txt --pheno-name PD_PHENO --out AMP_256_from23andme_withcovars_score --single wald,score --covar /data/CARD/PD/AMP_NIH/no_relateds/COV_PD_NIH_AMPv2.5_samplestoKeep_EuroOnly_noDups_noNIHDups_wPheno_wSex_no_cousins.txt --covar-name SEX,PC1,PC2,PC3,PC4,PC5"
   ]
  },
  {
   "cell_type": "raw",
   "id": "dabb1170-e683-4202-87df-97417f10904b",
   "metadata": {},
   "source": [
    "[INFO]\tLoaded 1451 cases, 2556 controls, and 0 missing phenotypes\n",
    "[WARN]\t-- Enabling binary phenotype mode -- \n",
    "[INFO]\tAnalysis begins with [ 4007 ] samples...\n",
    "[INFO]\tImpute missing genotype to mean (by default)\n",
    "[INFO]\tAnalysis started\n",
    "[INFO]\tAnalyzed [ 256 ] variants"
   ]
  },
  {
   "cell_type": "raw",
   "id": "e16ea867-2a4d-44a7-9966-b172c2490942",
   "metadata": {},
   "source": [
    "# new files\n",
    "AMP_256_from23andme_withcovars_score.log\n",
    "AMP_256_from23andme_withcovars_score.SingleScore.assoc\n",
    "AMP_256_from23andme_withcovars_score.SingleWald.assoc\n",
    "\n",
    "# Pheno file\n",
    "AMP_pheno %>% group_by(PD_PHENO) %>% tally()\n",
    "# A tibble: 2 × 2\n",
    "  PD_PHENO     n\n",
    "     <int> <int>\n",
    "1        1  4610 \n",
    "2        2  3376\n",
    "\n",
    "(1 = CONTROL, 2 = CASE)"
   ]
  },
  {
   "cell_type": "markdown",
   "id": "c0a77a40-0870-449a-aca5-cba3bd4fc25d",
   "metadata": {},
   "source": [
    "## 10. Meta-analysis"
   ]
  },
  {
   "cell_type": "markdown",
   "id": "b2b98491-55a7-419f-90d2-262561d5da30",
   "metadata": {},
   "source": [
    "### 10.1 Prepare files to match"
   ]
  },
  {
   "cell_type": "markdown",
   "id": "cc758731-ced7-4488-8974-224531f3f468",
   "metadata": {},
   "source": [
    "#### 10.1.1 23andMe"
   ]
  },
  {
   "cell_type": "raw",
   "id": "fe232fda-f8f4-4d58-819c-f4a8c3daf68a",
   "metadata": {},
   "source": [
    "# Add weights (number of people) to 23andme file\n",
    "module load R\n",
    "R\n",
    "library(tidyverse)\n",
    "library(data.table)\n",
    "andme = fread(\"23andMe_834variants_annotated_and_stats.txt\")\n",
    "\n",
    "# derive weight, i.e how many samples analyzed\n",
    "andme =andme %>% dplyr::mutate(andme, \"N_controls\" = rowSums((andme[,AA.0:BB.0]), na.rm = TRUE))\n",
    "andme =andme %>% dplyr::mutate(andme, \"N_cases\" = rowSums((andme[,AA.1:BB.1]), na.rm = TRUE))\n",
    "# andme =andme %>% dplyr::mutate(N_INFORMATIVE = N_controls+N_cases)\n",
    "# i think this should've been the correct approach from the beginning, not the one below?\n",
    "\n",
    "andme %>% summarise_at(vars(N_controls, N_cases), funs(max), na.rm = T)\n",
    "N_controls N_cases\n",
    "  3065473   25034\n",
    "\n",
    "# 3065473+25034\n",
    "# [1] 3090507\n",
    "andme$N_INFORMATIVE = 3090507\n",
    "\n",
    "write.table(andme, \"834_in23andme_formeta_results_collaborators.txt\", row.names= F, sep = \"\\t\", quote =F)\n"
   ]
  },
  {
   "cell_type": "raw",
   "id": "e8eee57a-cfa1-4de8-a9ee-848c245fc045",
   "metadata": {},
   "source": [
    "andme1=andme\n",
    "\n",
    "andme1 = fread(\"834_in23andme_formeta_results_collaborators.txt\")\n",
    "andme1$MarkerName = andme1$`CHR.BP.REF.ALT`\n",
    "andme1 = andme1 %>% separate(CHR.BP.REF.ALT, c(\"CHR\", \"BP\", \"REF\", \"ALT\"), sep = \":\")\n",
    "andme1 = andme1 %>% unite(`CHR.BP`, c(\"CHR\", \"BP\"), sep = \":\")\n",
    "\n",
    "# add on alt/effect allele from original file\n",
    "original = fread(\"963_snps_alleles_correct_fasta.txt\")\n",
    "original = original %>% unite(\"MarkerName\", c(chr, start, REF, ALT), sep=\":\") %>% select(MarkerName, alternative_allele, effect_allele)\n",
    "\n",
    "# join files\n",
    "andme2 = left_join(andme1, original)\n",
    "dim(andme2)\n",
    "# 834 49\n",
    "\n",
    "write.table(andme2, \"23andMe_834variants_annotated_and_stats.txt\", row.names = F, sep = \"\\t\", quote =F)"
   ]
  },
  {
   "cell_type": "code",
   "execution_count": null,
   "id": "6ebbff6c-f77f-43f3-beb0-5dae4d077f55",
   "metadata": {},
   "outputs": [],
   "source": [
    "head 23andMe_834variants_annotated_and_stats.txt"
   ]
  },
  {
   "cell_type": "raw",
   "id": "3cedb852-295d-4a1f-9f63-6172400c87f0",
   "metadata": {},
   "source": [
    "# Initially 834 variants, this will be further reduced by filtering:\n",
    "\n",
    "# make 23andme data match this layout\n",
    "\n",
    "# apply suggested thresholds (suggested by Karl Heilbron @23andme)\n",
    "# this shows how many variants would be removed\n",
    "\n",
    "## gt.rate < 0.9 (genotyping rate)\n",
    "andme2 %>% filter(src == \"G\" & gt.rate <0.9) %>% tally()\n",
    "#  n\n",
    "#  5\n",
    "\n",
    "andme2 %>% filter(src == \"G\" & p.date <1e-50) %>% tally()\n",
    "#   n\n",
    "#  12\n",
    "\n",
    "andme2 %>% filter(src == \"I\" & avg.rsqr < 0.5) %>% tally()\n",
    "#  n\n",
    "#  76\n",
    "\n",
    "andme2 %>% filter(src == \"I\" & min.rsqr < 0.5) %>% tally()\n",
    "#   n\n",
    "# 122\n",
    "\n",
    "andme2 %>% filter(src == \"I\" & p.batch < 1e-50) %>% tally()\n",
    "#  n\n",
    "# 8\n",
    "\n",
    "\n",
    "# now apply them \n",
    "andme3 = andme2 %>% filter(src == \"G\" & gt.rate >0.9 | src == \"G\" & p.date >1e-50 | src == \"I\" & avg.rsqr > 0.5| src == \"I\" & min.rsqr > 0.5|src == \"I\" & p.batch > 1e-50)\n",
    "\n",
    "# Karl: I'd recommend keeping most of these thresholds, but experiment with relaxing p.date and p.batch. LRRK2 G2019S doesn't fail by much, so it may be sensible to use a slightly less stringent threshold there (instead of removing these filters altogether).\n",
    "\n",
    "dim(andme3)\n",
    "[1] 703  48"
   ]
  },
  {
   "cell_type": "raw",
   "id": "4f2a2986-54c4-4d50-bb02-a3a987ce627a",
   "metadata": {},
   "source": [
    "# Some imputed variants have the allele frequencies in a different column, so check this and make one frequency column\n",
    "\n",
    "# overall how many are genotyped vs imputed?\n",
    "andme3 %>% group_by(src) %>% tally()\n",
    "# A tibble: 2 × 2\n",
    "  src       n\n",
    "  <chr> <int>\n",
    "1 G       304\n",
    "2 I       399\n",
    "\n",
    "# correct those imputed ones with missing freq.b\n",
    "andme3$FREQ = andme3$freq.b\n",
    "andme_edit = andme3 %>% mutate(FREQ = if_else(src == \"I\" & is.na(freq.b), dose.b, FREQ))\n",
    "\n",
    "###NEW \n",
    "andme_edit = andme3 %>% mutate(freq.a = 1-freq.b)\n",
    "andme_edit = andme_edit %>% separate(alleles, c(\"Allele1\", \"Allele2\"), sep = \"/\")\n",
    "\n",
    "#minor/major allele\n",
    "andme_edit$REF_new <- ifelse(andme_edit$FREQ > 0.5, as.character(andme_edit$Allele2), as.character(andme_edit$Allele1))\n",
    "andme_edit$ALT_new <- ifelse(andme_edit$FREQ > 0.5, as.character(andme_edit$Allele1), as.character(andme_edit$Allele2))\n",
    "\n",
    "# flip frequencies: call it BETA\n",
    "class(andme_edit$FREQ)\n",
    "andme_edit = andme_edit %>% mutate(FREQ1 = if_else(FREQ > 0.5, 1-FREQ, FREQ))\n",
    "\n",
    "# which alleles need flippin? Flip betas/effects!\n",
    "andme_edit = andme_edit %>%\n",
    "  mutate(Flip = FREQ > 0.5, \n",
    "         effect1 = ifelse(Flip, -effect, effect)) \n",
    "\n",
    "## rename colnames\n",
    "andme_edit = andme_edit %>% dplyr::rename(\"effect_old\" = effect, \"effect\" = effect1, \"FREQ_old\" = FREQ, \"FREQ\" = FREQ1, \"REF_old\" = REF, \"ALT_old\" = ALT, \"REF\" = REF_new, \"ALT\" = ALT_new)\n",
    "\n",
    "### check if this is corret\n",
    "andme_edit %>% select(VariantName, Flip, effect_old, effect, FREQ_old, FREQ, REF_old, REF, ALT_old, ALT) %>% head()\n",
    "VariantName\tFlip\teffect_old\teffect\tFREQ_old\tFREQ\tREF_old\tREF\tALT_old\tALT\n",
    "<chr>\t<lgl>\t<dbl>\t<dbl>\t<dbl>\t<dbl>\t<chr>\t<chr>\t<chr>\t<chr>\n",
    "GBA_G517S\tFALSE\t0.000000\t0.000000\t6.809994e-07\t6.809994e-07\tC\tC\tT\tT\n",
    "GBA_R502H\tFALSE\t1.276524\t1.276524\t7.029013e-06\t7.029013e-06\tC\tC\tT\tT\n",
    "GBA_R502C\tTRUE\t-1.262212\t1.262212\t9.998007e-01\t1.992936e-04\tG\tG\tA\tA\n",
    "GBA_H490R\tTRUE\t1.009280\t-1.009280\t9.999993e-01\t6.583656e-07\tT\tT\tC\tC\n",
    "GBA_Y457C\tTRUE\t0.000000\t0.000000\t9.999964e-01\t3.573330e-06\tT\tT\tC\tC\n",
    "GBA_M455I\tFALSE\t0.000000\t0.000000\t1.787393e-06\t1.787393e-06\tC\tC\tT\tT\n",
    "\n",
    "\n",
    "write.table(andme_edit, \"META_23andme_summary_all_cols.txt\", row.names = F, sep = \"\\t\", quote=F)\n",
    "\n",
    "andme_edit1 = andme_edit %>% select(`CHR.BP`, REF, ALT, FREQ, effect, stderr, pvalue, N_INFORMATIVE)\n",
    "\n",
    "write.table(andme_edit1, \"toMETA_23andme_summary.txt\", row.names = F, sep = \"\\t\", quote=F)\n"
   ]
  },
  {
   "cell_type": "raw",
   "id": "e11f5c12-8ec0-4837-a19c-21983245aa91",
   "metadata": {},
   "source": [
    "# check if the REF alleles lign up with fasta REF alleles\n",
    "andme = fread(\"toMETA_23andme_summary.txt\")\n",
    "fasta = fread(\"963_snps_alleles_correct_fasta.txt\")\n",
    "\n",
    "fasta = fasta %>% select(chr, start, rsID, REF, ALT) %>% unite(\"CHR.BP\", c(\"chr\", \"start\"), sep = \":\") %>% rename(\"REF_fasta\" = REF, \"ALT_fasta\" = ALT)\n",
    "andme1 = andme %>% select(`CHR.BP`, REF, ALT)\n",
    "join = left_join(andme1, fasta)\n",
    "\n",
    "errors = join %>% filter(REF != REF_fasta) %>% select(`CHR.BP`)\n",
    "join %>% filter(REF != REF_fasta)\n",
    "A data.table: 4 × 6\n",
    "CHR.BP\tREF\tALT\trsID\tREF_fasta\tALT_fasta\n",
    "<chr>\t<chr>\t<chr>\t<chr>\t<chr>\t<chr>\n",
    "chr1:16986248\tT\tC\trs3170740\tC\tT\n",
    "chr15:61910283\tT\tC\trs10851704\tC\tT\n",
    "chr15:61967438\tT\tC\trs3784634\tC\tT\n",
    "chr3:184319745\tG\tA\trs13319149\tA\tG\n",
    "\n",
    "# 4 variants don't align with fasta REF allele - check individually"
   ]
  },
  {
   "cell_type": "raw",
   "id": "b642153c-b480-46ec-8ee9-46ca0fdbc48c",
   "metadata": {},
   "source": [
    "# check those 4 variants in 23andMe file\n",
    "check = fread(\"23andMe_834variants_annotated_and_stats.txt\")\n",
    "\n",
    "check %>% filter(`CHR.BP` == \"chr1:16986248\" | `CHR.BP` == \"chr15:61910283\" | `CHR.BP` == \"chr15:61967438\" |\n",
    "                 `CHR.BP` == \"chr3:184319745\") %>% select(`CHR.BP`, VariantName, REF, ALT, alleles, src, freq.b, dose.b)\n",
    "                 \n",
    "CHR.BP\tVariantName\tREF\tALT\talleles\tsrc\tfreq.b\tdose.b\n",
    "<chr>\t<chr>\t<chr>\t<chr>\t<chr>\t<chr>\t<dbl>\t<dbl>\n",
    "chr1:16986248\tATP13A2_A1072T\tC\tT\tC/T\tI\t0.5235960\t0.5213835\n",
    "chr15:61910283\tVPS13C_S2913N\tC\tT\tC/T\tI\t0.5257027\t0.5285263\n",
    "chr15:61967438\tVPS13C_R974K\tC\tT\tC/T\tI\t0.5860091\t0.5843622\n",
    "chr3:184319745\tEIF4G1_T161A\tA\tG\tA/G\tI\tNA\t0.9974979\n",
    "\n",
    "Check why they weren't flipped"
   ]
  },
  {
   "cell_type": "raw",
   "id": "ef6c23cd-212d-4d8c-a338-0532952080fc",
   "metadata": {},
   "source": [
    "# fasta file takes precedence over 23andMe, so fix them\n",
    "\n",
    "# fix them individually\n",
    "\n",
    "andme$REF[andme$`CHR.BP` == \"chr1:16986248\"] <- \"C\"\n",
    "andme$ALT[andme$`CHR.BP` == \"chr1:16986248\"] <- \"T\"\n",
    "\n",
    "andme$REF[andme$`CHR.BP` == \"chr15:61910283\"] <- \"C\"\n",
    "andme$ALT[andme$`CHR.BP` == \"chr15:61910283\"] <- \"T\"\n",
    "\n",
    "andme$REF[andme$`CHR.BP` == \"chr15:61967438\"] <- \"C\"\n",
    "andme$ALT[andme$`CHR.BP` == \"chr15:61967438\"] <- \"T\"\n",
    "\n",
    "andme$REF[andme$`CHR.BP` == \"chr3:184319745\"] <- \"A\"\n",
    "andme$ALT[andme$`CHR.BP` == \"chr3:184319745\"] <- \"G\"\n",
    "\n",
    "write.table(andme, \"toMETA_23andme_summary.txt\", quote =F, sep = \"\\t\", row.names = F)"
   ]
  },
  {
   "cell_type": "raw",
   "id": "cc6192fd-1437-4e61-950e-459928538ec8",
   "metadata": {},
   "source": [
    "allcols = fread(\"META_23andme_summary_all_cols.txt\")\n",
    "\n",
    "allcols$REF[allcols$`CHR.BP` == \"chr1:16986248\"] <- \"C\"\n",
    "allcols$ALT[allcols$`CHR.BP` == \"chr1:16986248\"] <- \"T\"\n",
    "\n",
    "allcols$REF[allcols$`CHR.BP` == \"chr15:61910283\"] <- \"C\"\n",
    "allcols$ALT[allcols$`CHR.BP` == \"chr15:61910283\"] <- \"T\"\n",
    "\n",
    "allcols$REF[allcols$`CHR.BP` == \"chr15:61967438\"] <- \"C\"\n",
    "allcols$ALT[allcols$`CHR.BP` == \"chr15:61967438\"] <- \"T\"\n",
    "\n",
    "allcols$REF[allcols$`CHR.BP` == \"chr3:184319745\"] <- \"A\"\n",
    "allcols$ALT[allcols$`CHR.BP` == \"chr3:184319745\"] <- \"G\"\n",
    "\n",
    "write.table(allcols, \"META_23andme_summary_all_cols.txt\", quote =F, sep = \"\\t\", row.names = F)"
   ]
  },
  {
   "cell_type": "raw",
   "id": "022ce1e6-4083-4085-bb63-7099ca0128b7",
   "metadata": {},
   "source": [
    "#########IMPORTANT NOTE#########\n",
    "After filtering, 47 (before its 174) of these don't have pvalues/statistics reported which I double checked in the original files I received. I decided to leave them in, because they are still relevant for our overall variant selection in UKB and AMP. The reason those don't have stats is because they failed QC within 23andMe, which doesn't mean they can't be present in the other data sets\n",
    "################################"
   ]
  },
  {
   "cell_type": "code",
   "execution_count": 1,
   "id": "5c907589-90c6-4bfb-b653-9e6341b65aec",
   "metadata": {},
   "outputs": [
    {
     "name": "stdout",
     "output_type": "stream",
     "text": [
      "CHR.BP\tREF\tALT\tFREQ\teffect\tstderr\tpvalue\tN_INFORMATIVE\n",
      "chr1:155235057\tC\tT\t6.80999434732321e-07\t0\t0\tNA\t3090507\n",
      "chr1:155235195\tC\tT\t7.02901311999682e-06\t1.27652395181766\t1.05224015597278\t0.314177783769655\t3090507\n",
      "chr1:155235196\tG\tA\t0.000199293592070049\t1.26221164344355\t0.19902372591352\t8.49569716680291e-08\t3090507\n",
      "chr1:155235231\tT\tC\t6.58365554961904e-07\t-1.00928042988576\t17.4340750237578\t0.910473718125855\t3090507\n",
      "chr1:155235699\tT\tC\t3.57333009304295e-06\t0\t0\tNA\t3090507\n",
      "chr1:155235704\tC\tT\t1.78739315859211e-06\t0\t0\tNA\t3090507\n",
      "chr1:155235708\tG\tC\t4.03741203860442e-05\t0.320929842946655\t0.491069189760776\t0.524141839042594\t3090507\n",
      "chr1:155235725\tG\tC\t0\t0\t0\tNA\t3090507\n",
      "chr1:155235726\tT\tA\t0\tNA\tNA\tNA\t3090507\n"
     ]
    }
   ],
   "source": [
    "head toMETA_23andme_summary.txt"
   ]
  },
  {
   "cell_type": "markdown",
   "id": "afa8749a-b53d-41fe-94f2-df445e25ccb4",
   "metadata": {},
   "source": [
    "#### 10.1.2 UKB"
   ]
  },
  {
   "cell_type": "raw",
   "id": "a84381c1-a7af-46dc-874c-93cce64b253f",
   "metadata": {},
   "source": [
    "UKB = fread(\"./UKB_and_AMP/UKB_608_from23andme_withcovars_score_ALL_PD.SingleScore.assoc\")\n",
    "\n",
    "#edit layout\n",
    "UKB$CHROM = paste0(\"chr\",UKB$CHROM)\n",
    "\n",
    "UKB = UKB %>% unite(\"CHR.BP\", c(\"CHROM\", \"POS\"), sep = \":\")\n",
    "\n",
    "# filter steps\n",
    "# data = data %>% filter(Beta <5 & Beta > -5 & !is.na(Pvalue))\n",
    "\n",
    "# are there any allele flips?\n",
    "summary(UKB$AF)\n",
    "     Min.   1st Qu.    Median      Mean   3rd Qu.      Max. \n",
    "0.000e+00 0.000e+00 3.271e-05 1.857e-03 3.053e-04 1.061e-01\n",
    "## max is 0.1, so no\n",
    "\n",
    "write.table(UKB, \"toMETA_SCORE_UKBALL.txt\", quote = F, sep = \"\\t\", row.names = F)"
   ]
  },
  {
   "cell_type": "code",
   "execution_count": 2,
   "id": "bc359690-6ad7-4c8e-860e-c1f63a87da56",
   "metadata": {},
   "outputs": [
    {
     "name": "stdout",
     "output_type": "stream",
     "text": [
      "CHR.BP\tREF\tALT\tN_INFORMATIVE\tAF\tU\tV\tSTAT\tDIRECTION\tEFFECT\tSE\tPVALUE\n",
      "chr1:7965399\tG\tA\t45857\t0\tNA\tNA\tNA\tNA\tNA\tNA\tNA\n",
      "chr1:7984930\tA\tC\t45857\t0\tNA\tNA\tNA\tNA\tNA\tNA\tNA\n",
      "chr1:7984971\tG\tA\t45857\t0\tNA\tNA\tNA\tNA\tNA\tNA\tNA\n",
      "chr1:7985019\tG\tA\t45857\t0.000403428\t1.65211\t3.81673\t0.715137\t+\t0.432862\t0.511864\t0.397744\n",
      "chr1:16985990\tC\tT\t45857\t9.81311e-05\t1.75147\t0.977177\t3.13931\t+\t1.79238\t1.01161\t0.0764263\n",
      "chr1:16986065\tC\tT\t45857\t0.000218069\t-2.18282\t2.37407\t2.00699\t-\t-0.919445\t0.649013\t0.156576\n",
      "chr1:16986091\tG\tA\t45857\t0.00666201\t-14.5681\t68.5895\t3.0942\t-\t-0.212395\t0.120746\t0.0785719\n",
      "chr1:16986097\tG\tA\t45857\t0.0615173\t-16.4508\t600.372\t0.450767\t-\t-0.027401\t0.0408122\t0.501971\n",
      "chr1:16986101\tT\tA\t45857\t0.0069237\t4.77173\t68.9193\t0.330378\t+\t0.0692365\t0.120456\t0.565437\n"
     ]
    }
   ],
   "source": [
    "head toMETA_SCORE_UKBALL.txt"
   ]
  },
  {
   "cell_type": "markdown",
   "id": "8e931852-8f4d-4da7-bba6-8daac47914f8",
   "metadata": {},
   "source": [
    "#### 10.1.3 AMP-PD"
   ]
  },
  {
   "cell_type": "raw",
   "id": "e866a83d-9d46-4f59-b468-d0eabd8314b6",
   "metadata": {},
   "source": [
    "AMP = fread(\"./UKB_and_AMP/AMP_256_from23andme_withcovars_score.SingleScore.assoc\")\n",
    "\n",
    "AMP$CHROM <- paste0(\"chr\",AMP$CHROM)\n",
    "\n",
    "AMP = AMP %>% unite(\"CHR.BP\", c(\"CHROM\", \"POS\"), sep = \":\")\n",
    "\n",
    "summary(AMP$AF)\n",
    "     Min.   1st Qu.    Median      Mean   3rd Qu.      Max. \n",
    "0.0001248 0.0002496 0.0006239 0.0115910 0.0021213 0.4849010 \n",
    "\n",
    "write.table(AMP, \"toMETA_SCORE_AMP.txt\", quote = F, sep = \"\\t\", row.names = F)"
   ]
  },
  {
   "cell_type": "code",
   "execution_count": 1,
   "id": "178cc954-bd5f-43a7-a724-163bb8212536",
   "metadata": {},
   "outputs": [
    {
     "name": "stdout",
     "output_type": "stream",
     "text": [
      "CHR.BP\tREF\tALT\tN_INFORMATIVE\tAF\tU\tV\tSTAT\tDIRECTION\tEFFECT\tSE\tPVALUE\n",
      "chr1:7985019\tG\tA\t4007\t0.00074869\t1.21194\t1.23887\t1.18561\t+\t0.97827\t0.898438\t0.276217\n",
      "chr1:16985990\tC\tT\t4007\t0.00074869\t-1.08424\t1.31297\t0.895357\t-\t-0.825794\t0.872717\t0.34403\n",
      "chr1:16986065\tC\tT\t4007\t0.000374345\t0.0300306\t0.648305\t0.00139107\t+\t0.0463217\t1.24197\t0.970248\n",
      "chr1:16986091\tG\tA\t4007\t0.00411779\t-1.46934\t7.54414\t0.286178\t-\t-0.194766\t0.364079\t0.59268\n",
      "chr1:16986097\tG\tA\t4007\t0.0504118\t-1.67883\t84.7755\t0.0332463\t-\t-0.0198033\t0.108609\t0.855319\n",
      "chr1:16986101\tT\tA\t4007\t0.00549039\t-1.41294\t9.16515\t0.217825\t-\t-0.154165\t0.330317\t0.640702\n",
      "chr1:16986246\tG\tA\t4007\t0.000124782\t0.604212\t0.238637\t1.52982\t+\t2.53193\t2.04706\t0.216139\n",
      "chr1:16986248\tT\tC\t4007\t0.484901\t-18.5438\t422.854\t0.813223\t-\t-0.0438541\t0.0486301\t0.367169\n",
      "chr1:16986291\tC\tT\t4007\t0.000249563\t0.214196\t0.448084\t0.102391\t+\t0.478026\t1.49389\t0.748979\n"
     ]
    }
   ],
   "source": [
    "head toMETA_SCORE_AMP.txt"
   ]
  },
  {
   "cell_type": "markdown",
   "id": "5861ccbf-695e-4747-8e41-c12850537db5",
   "metadata": {},
   "source": [
    "### 10.2 Check ID overlap"
   ]
  },
  {
   "cell_type": "code",
   "execution_count": 4,
   "id": "2c2bc405-0012-49d9-a852-c8308d7b2130",
   "metadata": {},
   "outputs": [],
   "source": [
    "cut -f 1 toMETA_23andme_summary.txt > 23andMe_IDs.txt\n",
    "cut -f 1 toMETA_SCORE_AMP.txt > AMP_IDs.txt\n",
    "cut -f 1 toMETA_SCORE_UKBALL.txt > UKB_IDs.txt"
   ]
  },
  {
   "cell_type": "code",
   "execution_count": 5,
   "id": "0043a2bb-8db1-436f-bbfb-0d9d5251de80",
   "metadata": {},
   "outputs": [
    {
     "name": "stdout",
     "output_type": "stream",
     "text": [
      "780 merged_IDs_all3datasets_nodupli.txt\n",
      "chr1:155235006\n",
      "chr1:155235057\n",
      "chr1:155235195\n",
      "chr1:155235196\n",
      "chr1:155235197\n",
      "chr1:155235231\n",
      "chr1:155235699\n",
      "chr1:155235704\n",
      "chr1:155235708\n",
      "chr1:155235725\n"
     ]
    }
   ],
   "source": [
    "# they're all in the same layout, let's merge them and see how much we have left\n",
    "\n",
    "cat 23andMe_IDs.txt AMP_IDs.txt UKB_IDs.txt > merged_IDs_all3datasets.txt\n",
    "sort merged_IDs_all3datasets.txt | uniq > merged_IDs_all3datasets_nodupli.txt\n",
    "\n",
    "wc -l merged_IDs_all3datasets_nodupli.txt\n",
    "# 780 merged_IDs_all3datasets_nodupli.txt\n",
    "head merged_IDs_all3datasets_nodupli.txt\n",
    "\n",
    "# there's an overlap of 780 ID's for all studies, IF all rows have info, i.e. stderr and pvalue etc"
   ]
  },
  {
   "cell_type": "code",
   "execution_count": 7,
   "id": "f3e0b7e2-d957-4c01-a5d8-0f812cbc739c",
   "metadata": {},
   "outputs": [
    {
     "name": "stdout",
     "output_type": "stream",
     "text": [
      "CHR.BP\tREF\tALT\tN_INFORMATIVE\tAF\tU\tV\tSTAT\tDIRECTION\tEFFECT\tSE\tPVALUE\n",
      "\u001b[01;31m\u001b[Kchr12:40340400\u001b[m\u001b[K\tG\tA\t4007\t0.00349389\t13.8512\t5.93653\t32.3177\t+\t2.33321\t0.410425\t1.30912e-08\n"
     ]
    }
   ],
   "source": [
    "## Check LRRK2 p.G2019S\n",
    "head -1 toMETA_SCORE_AMP.txt\n",
    "grep chr12:40340400 toMETA_SCORE_AMP.txt"
   ]
  },
  {
   "cell_type": "code",
   "execution_count": 8,
   "id": "7a4edea5-1371-4510-a8ec-b5dc4646a341",
   "metadata": {},
   "outputs": [
    {
     "name": "stdout",
     "output_type": "stream",
     "text": [
      "CHR.BP\tREF\tALT\tN_INFORMATIVE\tAF\tU\tV\tSTAT\tDIRECTION\tEFFECT\tSE\tPVALUE\n",
      "\u001b[01;31m\u001b[Kchr12:40340400\u001b[m\u001b[K\tG\tA\t45857\t0.000457945\t9.4569\t5.24759\t17.0427\t+\t1.80214\t0.436536\t3.65493e-05\n"
     ]
    }
   ],
   "source": [
    "head -1 toMETA_SCORE_UKBALL.txt\n",
    "grep chr12:40340400 toMETA_SCORE_UKBALL.txt"
   ]
  },
  {
   "cell_type": "code",
   "execution_count": 14,
   "id": "46a7ed48-3d6f-4a7d-8fdb-6f62bb589282",
   "metadata": {},
   "outputs": [
    {
     "name": "stdout",
     "output_type": "stream",
     "text": [
      "CHR.BP\tREF\tALT\tFREQ\teffect\tstderr\tpvalue\tN_INFORMATIVE\n",
      "\u001b[01;31m\u001b[Kchr12:40340400\u001b[m\u001b[K\tG\tA\t0.000626183692731042\t2.48010896869361\t0.0600112561298007\t3.77983849690177e-250\t3090507\n"
     ]
    }
   ],
   "source": [
    "head -1 toMETA_23andme_summary_VP_new.txt\n",
    "grep chr12:40340400 toMETA_23andme_summary_VP_new.txt"
   ]
  },
  {
   "cell_type": "raw",
   "id": "db544713-30d4-4ed0-a331-f14ea4eaa586",
   "metadata": {},
   "source": [
    "## check all REF and ALTs across studies if they match\n",
    "R\n",
    "library(tidyverse)\n",
    "library(data.table)\n",
    "\n",
    "UKB = fread(\"toMETA_SCORE_UKBALL.txt\")\n",
    "AMP = fread(\"toMETA_SCORE_AMP.txt\")\n",
    "andme = fread(\"toMETA_23andme_summary.txt\")\n",
    "\n",
    "\n",
    "UKB = UKB %>% select(`CHR.BP`, REF, ALT, AF, EFFECT, SE, PVALUE) %>% rename(\"REF_UKB\" = REF, \"ALT_UKB\" = ALT, \"FREQ_UKB\" = AF, \"EFFECT_UKB\" = EFFECT, \"SE_UKB\" = SE, \"P_UKB\" = PVALUE)\n",
    "AMP = AMP %>% select(`CHR.BP`, REF, ALT, AF, EFFECT, SE, PVALUE)%>% rename(\"REF_AMP\" = REF, \"ALT_AMP\" = ALT, \"FREQ_AMP\" = AF, \"EFFECT_AMP\" = EFFECT, \"SE_AMP\" = SE, \"P_AMP\" = PVALUE)\n",
    "andme = andme %>% select(`CHR.BP`, REF, ALT, FREQ, effect, stderr, pvalue) %>% rename(\"REF_23\" = REF, \"ALT_23\" = ALT, \"FREQ_23\" = FREQ, \"EFFECT_23\" = effect, \"SE_23\" = stderr, \"P_23\" = pvalue)\n",
    "\n",
    "data = full_join(andme, UKB)\n",
    "data = full_join(data, AMP)\n",
    "\n",
    "dim(data)\n",
    "\n",
    "write.table(data, \"Allele_comparisons_all_studies.txt\", quote =F, sep = \"\\t\", row.names = F)"
   ]
  },
  {
   "cell_type": "markdown",
   "id": "0c38a417-3e90-4bfb-902a-a5d7af848db6",
   "metadata": {},
   "source": [
    "### 10.3 Create METAL file"
   ]
  },
  {
   "cell_type": "raw",
   "id": "2fdddb35-d165-448f-a8f0-4ca44171b2a3",
   "metadata": {},
   "source": [
    "Adapted from: https://github.com/neurogenetics/GWAS-pipeline Create file and call it my_METAL.txt"
   ]
  },
  {
   "cell_type": "raw",
   "id": "1ffa89e9-9757-4b2d-b73f-de51df222f65",
   "metadata": {},
   "source": [
    "vim my_METAL.txt\n",
    "i\n",
    "\n",
    "#../generic-metal/metal metalAll.txt\n",
    "#THIS SCRIPT EXECUTES AN ANALYSIS OF THREE STUDIES\n",
    "#THE RESULTS FOR EACH STUDY ARE STORED IN FILES Inputfile1.txt THROUGH Inputfile3.txt\n",
    "SCHEME  STDERR\n",
    "AVERAGEFREQ ON\n",
    "MINMAXFREQ ON\n",
    "LABEL TotalSampleSize as N # If input files have a column for the sample size labeled as 'N'\n",
    "# LOAD THE FIRST TWO INPUT FILES\n",
    "\n",
    "# UNCOMMENT THE NEXT LINE TO ENABLE GenomicControl CORRECTION\n",
    "# GENOMICCONTROL ON\n",
    "\n",
    "# === DESCRIBE AND PROCESS THE FIRST INPUT FILE ===\n",
    "MARKER CHR.BP\n",
    "ALLELE REF ALT\n",
    "FREQ AF\n",
    "EFFECT EFFECT\n",
    "STDERR SE\n",
    "PVALUE PVALUE\n",
    "WEIGHT N_INFORMATIVE \n",
    "PROCESS toMETA_SCORE_AMP.txt\n",
    "\n",
    "# === DESCRIBE AND PROCESS THE SECOND INPUT FILE ===\n",
    "MARKER CHR.BP\n",
    "ALLELE REF ALT\n",
    "FREQ AF\n",
    "EFFECT EFFECT\n",
    "STDERR SE\n",
    "PVALUE PVALUE\n",
    "WEIGHT N_INFORMATIVE \n",
    "PROCESS toMETA_SCORE_UKBALL.txt\n",
    "\n",
    "# === DESCRIBE AND PROCESS THE THIRD INPUT FILE ===\n",
    "MARKER CHR.BP\n",
    "ALLELE REF ALT\n",
    "FREQ FREQ\n",
    "EFFECT effect\n",
    "STDERR stderr\n",
    "PVALUE pvalue\n",
    "WEIGHT N_INFORMATIVE \n",
    "PROCESS toMETA_23andme_summary.txt\n",
    "\n",
    "OUTFILE MY_META_AMP_UKB_23andme .tbl\n",
    "MINWEIGHT 10000\n",
    "ANALYZE HETEROGENEITY\n",
    "\n",
    "QUIT\n",
    "\n",
    "[exit]\n",
    ":w"
   ]
  },
  {
   "cell_type": "code",
   "execution_count": 10,
   "id": "5716bc6d-8816-422f-bc96-1913c6223dfb",
   "metadata": {},
   "outputs": [
    {
     "name": "stdout",
     "output_type": "stream",
     "text": [
      "/data/CARD/projects/23andme_annotation/Rare_variant_project_VP\n"
     ]
    }
   ],
   "source": [
    "pwd"
   ]
  },
  {
   "cell_type": "code",
   "execution_count": 3,
   "id": "0c08566a-a99f-41c5-ade4-6f762aefe479",
   "metadata": {},
   "outputs": [
    {
     "name": "stdout",
     "output_type": "stream",
     "text": [
      "#../generic-metal/metal metalAll.txt\n",
      "#THIS SCRIPT EXECUTES AN ANALYSIS OF THREE STUDIES\n",
      "#THE RESULTS FOR EACH STUDY ARE STORED IN FILES Inputfile1.txt THROUGH Inputfile3.txt\n",
      "SCHEME  STDERR\n",
      "AVERAGEFREQ ON\n",
      "MINMAXFREQ ON\n",
      "LABEL TotalSampleSize as N # If input files have a column for the sample size labeled as 'N'\n",
      "# LOAD THE FIRST TWO INPUT FILES\n",
      "\n",
      "# UNCOMMENT THE NEXT LINE TO ENABLE GenomicControl CORRECTION\n",
      "# GENOMICCONTROL ON\n",
      "\n",
      "# === DESCRIBE AND PROCESS THE FIRST INPUT FILE ===\n",
      "MARKER CHR.BP\n",
      "ALLELE REF ALT\n",
      "FREQ AF\n",
      "EFFECT EFFECT\n",
      "STDERR SE\n",
      "PVALUE PVALUE\n",
      "WEIGHT N_INFORMATIVE \n",
      "PROCESS toMETA_SCORE_AMP.txt\n",
      "\n",
      "# === DESCRIBE AND PROCESS THE SECOND INPUT FILE ===\n",
      "MARKER CHR.BP\n",
      "ALLELE REF ALT\n",
      "FREQ AF\n",
      "EFFECT EFFECT\n",
      "STDERR SE\n",
      "PVALUE PVALUE\n",
      "WEIGHT N_INFORMATIVE \n",
      "PROCESS toMETA_SCORE_UKBALL.txt\n",
      "\n",
      "# === DESCRIBE AND PROCESS THE THIRD INPUT FILE ===\n",
      "MARKER CHR.BP\n",
      "ALLELE REF ALT\n",
      "FREQ FREQ\n",
      "EFFECT effect\n",
      "STDERR stderr\n",
      "PVALUE pvalue\n",
      "WEIGHT N_INFORMATIVE \n",
      "PROCESS toMETA_23andme_summary.txt\n",
      "\n",
      "OUTFILE MY_META_AMP_UKB_23andme .tbl\n",
      "MINWEIGHT 10000\n",
      "ANALYZE HETEROGENEITY\n",
      "\n",
      "QUIT\n",
      "\n"
     ]
    }
   ],
   "source": [
    "cat my_METAL.txt"
   ]
  },
  {
   "cell_type": "raw",
   "id": "d4354f7e-df60-4d92-8836-4dea881ce70a",
   "metadata": {},
   "source": [
    "Using only chr:bp as ID ensures there’s no problem with the IDs anymore!"
   ]
  },
  {
   "cell_type": "markdown",
   "id": "eb5293ba-dd33-490a-86b6-4804cab27cf9",
   "metadata": {},
   "source": [
    "### 10.4 Run METAL"
   ]
  },
  {
   "cell_type": "code",
   "execution_count": null,
   "id": "491efdd0-4ba4-446c-a8e7-1449334bcee8",
   "metadata": {},
   "outputs": [
    {
     "name": "stdout",
     "output_type": "stream",
     "text": [
      "[+] Loading metal  2020-05-05 \n",
      "MetaAnalysis Helper - (c) 2007 - 2009 Goncalo Abecasis\n",
      "This version released on 2020-05-05\n",
      "\n",
      "# This program faciliates meta-analysis of genome-wide association studies.\n",
      "# Commonly used commands are listed below:\n",
      "#\n",
      "# Options for describing input files ...\n",
      "#   SEPARATOR        [WHITESPACE|COMMA|BOTH|TAB] (default = WHITESPACE)\n",
      "#   COLUMNCOUNTING   [STRICT|LENIENT]            (default = 'STRICT')\n",
      "#   MARKERLABEL      [LABEL]                     (default = 'MARKER')\n",
      "#   ALLELELABELS     [LABEL1 LABEL2]             (default = 'ALLELE1','ALLELE2')\n",
      "#   EFFECTLABEL      [LABEL|log(LABEL)]          (default = 'EFFECT')\n",
      "#   FLIP\n",
      "#\n",
      "# Options for filtering input files ...\n",
      "#   ADDFILTER        [LABEL CONDITION VALUE]     (example = ADDFILTER N > 10)\n",
      "#                    (available conditions are <, >, <=, >=, =, !=, IN)\n",
      "#   REMOVEFILTERS\n",
      "#\n",
      "# Options for sample size weighted meta-analysis ...\n",
      "#   WEIGHTLABEL      [LABEL]                     (default = 'N')\n",
      "#   PVALUELABEL      [LABEL]                     (default = 'PVALUE')\n",
      "#   DEFAULTWEIGHT    [NUMBER]                    (default = 1.0)\n",
      "#   MINWEIGHT        [NUMBER]                    (default = 1.0)\n",
      "#\n",
      "# Options for inverse variance weighted meta-analysis ...\n",
      "#   STDERRLABEL      [LABEL]                     (default = 'STDERR')\n",
      "#   SCHEME           [SAMPLESIZE|STDERR]         (default = SAMPLESIZE)\n",
      "#\n",
      "# Options to enable tracking of allele frequencies ...\n",
      "#   AVERAGEFREQ      [ON|OFF]                    (default = OFF)\n",
      "#   MINMAXFREQ       [ON|OFF]                    (default = OFF)\n",
      "#   FREQLABEL        [LABEL]                     (default = 'FREQ')\n",
      "#\n",
      "# Options to enable tracking of user defined variables ...\n",
      "#   CUSTOMVARIABLE   [VARNAME]\n",
      "#   LABEL            [VARNAME] AS [HEADER]\n",
      "#\n",
      "# Options to enable tracking of chromosomes and positions ...\n",
      "#   TRACKPOSITIONS   [ON|OFF]                    (default = OFF\n",
      "#   CHROMOSOMELABEL  [LABEL]                     (default = 'CHROMOSOME')\n",
      "#   POSITIONLABEL    [LABEL]                     (default = 'POSITION')\n",
      "#\n",
      "# Options to enable explicit strand information ...\n",
      "#   USESTRAND        [ON|OFF]                    (default = OFF)\n",
      "#   STRANDLABEL      [LABEL]                     (default = 'STRAND')\n",
      "#\n",
      "# Automatic genomic control correction of input statistics ...\n",
      "#   GENOMICCONTROL   [ON|OFF|VALUE|LIST snps.txt](default = OFF)\n",
      "#\n",
      "# Options to account for samples overlap ...\n",
      "#   OVERLAP          [ON|OFF]                    (default = OFF)\n",
      "#   ZCUTOFF          [NUMBER]                    (default = 1.0)\n",
      "#\n",
      "# Options for general analysis control ...\n",
      "#   PROCESSFILE            [FILENAME]\n",
      "#   OUTFILE                [PREFIX SUFFIX]       (default = 'METAANALYSIS','.TBL')\n",
      "#   MAXWARNINGS            [NUMBER]              (default = 20)\n",
      "#   VERBOSE                [ON|OFF]              (default = 'OFF')\n",
      "#   LOGPVALUE              [ON|OFF]              (default = 'OFF')\n",
      "#   EFFECT_PRINT_PRECISION [NUMBER]              (default = '4')\n",
      "#   STDERR_PRINT_PRECISION [NUMBER]              (default = '4')\n",
      "#   ANALYZE                [HETEROGENEITY]\n",
      "#   CLEAR\n",
      "\n",
      "# Options for general run control ...\n",
      "#   SOURCE           [SCRIPTFILE]\n",
      "#   RETURN\n",
      "#   QUIT\n",
      "\n",
      "# Processing commands in my_METAL.txt ...\n",
      "## Meta-analysis will be based on effect sizes and their standard errors ...\n",
      "## Averaging of allele frequencies enabled\n",
      "## Tracking of extreme allele frequencies enabled\n",
      "## ERROR: Custom variable 'LABEL' is undefined\n",
      "## Set marker header to CHR.BP ...\n",
      "## Set allele headers to REF and ALT ...\n",
      "## Set frequency header to AF ...\n",
      "## Set effect header to EFFECT ...\n",
      "## Set standard error header to SE ...\n",
      "## Set p-value header to PVALUE ...\n",
      "## Set weight header to N_INFORMATIVE ...\n",
      "###########################################################################\n",
      "## Processing file 'toMETA_SCORE_AMP.txt'\n",
      "## Processed 256 markers ...\n",
      "\n",
      "## Set marker header to CHR.BP ...\n",
      "## Set allele headers to REF and ALT ...\n",
      "## Set frequency header to AF ...\n",
      "## Set effect header to EFFECT ...\n",
      "## Set standard error header to SE ...\n",
      "## Set p-value header to PVALUE ...\n",
      "## Set weight header to N_INFORMATIVE ...\n",
      "###########################################################################\n",
      "## Processing file 'toMETA_SCORE_UKBALL.txt'\n",
      "## WARNING: Invalid standard error for marker chr1:7965399, ignored\n",
      "## WARNING: Invalid standard error for marker chr1:7984930, ignored\n",
      "## WARNING: Invalid standard error for marker chr1:7984971, ignored\n",
      "## WARNING: Invalid standard error for marker chr1:16986235, ignored\n",
      "## WARNING: Invalid standard error for marker chr1:16987089, ignored\n",
      "## WARNING: Invalid standard error for marker chr1:16987187, ignored\n",
      "## WARNING: Invalid standard error for marker chr1:16991787, ignored\n",
      "## WARNING: Invalid standard error for marker chr1:16992042, ignored\n",
      "## WARNING: Invalid standard error for marker chr1:16992115, ignored\n",
      "## WARNING: Invalid standard error for marker chr1:16993690, ignored\n",
      "## WARNING: Invalid standard error for marker chr1:16996118, ignored\n",
      "## WARNING: Invalid standard error for marker chr1:16996484, ignored\n",
      "## WARNING: Invalid standard error for marker chr1:16997107, ignored\n",
      "## WARNING: Invalid standard error for marker chr1:16997136, ignored\n",
      "## WARNING: Invalid standard error for marker chr1:17011732, ignored\n",
      "## WARNING: Invalid standard error for marker chr1:20633615, ignored\n",
      "## WARNING: Invalid standard error for marker chr1:20633766, ignored\n",
      "## WARNING: Invalid standard error for marker chr1:20633840, ignored\n",
      "## WARNING: Invalid standard error for marker chr1:20639911, ignored\n",
      "## WARNING: Invalid standard error for marker chr1:20639934, ignored\n",
      "## WARNING: Invalid standard errors for 180 other markers also ignored\n",
      "## Processed 408 markers ...\n",
      "\n",
      "## Set marker header to CHR.BP ...\n",
      "## Set allele headers to REF and ALT ...\n",
      "## Set frequency header to FREQ ...\n",
      "## Set effect header to effect ...\n",
      "## Set standard error header to stderr ...\n",
      "## Set p-value header to pvalue ...\n",
      "## Set weight header to N_INFORMATIVE ...\n",
      "###########################################################################\n",
      "## Processing file 'toMETA_23andme_summary.txt'\n",
      "## WARNING: Invalid standard error for marker chr1:155235057, ignored\n",
      "## WARNING: Invalid standard error for marker chr1:155235699, ignored\n",
      "## WARNING: Invalid standard error for marker chr1:155235704, ignored\n",
      "## WARNING: Invalid standard error for marker chr1:155235725, ignored\n",
      "## WARNING: Invalid standard error for marker chr1:155235726, ignored\n",
      "## WARNING: Invalid standard error for marker chr1:155235750, ignored\n",
      "## WARNING: Invalid standard error for marker chr1:155236420, ignored\n",
      "## WARNING: Invalid standard error for marker chr1:155237357, ignored\n",
      "## WARNING: Invalid standard error for marker chr1:155237369, ignored\n",
      "## WARNING: Invalid standard error for marker chr1:155238173, ignored\n",
      "## WARNING: Invalid standard error for marker chr1:155238186, ignored\n",
      "## WARNING: Invalid standard error for marker chr1:155238194, ignored\n",
      "## WARNING: Invalid standard error for marker chr1:155238233, ignored\n",
      "## WARNING: Invalid standard error for marker chr1:155239939, ignored\n",
      "## WARNING: Invalid standard error for marker chr1:155240078, ignored\n",
      "## WARNING: Invalid standard error for marker chr1:20639990, ignored\n",
      "## WARNING: Invalid standard error for marker chr1:20645640, ignored\n",
      "## WARNING: Invalid standard error for marker chr12:40259493, ignored\n",
      "## WARNING: Invalid standard error for marker chr12:40304079, ignored\n",
      "## WARNING: Invalid standard error for marker chr12:40310437, ignored\n",
      "## WARNING: Invalid standard errors for 27 other markers also ignored\n",
      "## Processed 656 markers ...\n",
      "\n",
      "## Set output file prefix and suffix to MY_META_AMP_UKB_23andme and .tbl ...\n",
      "## Set minimum weight for meta-analysis to 10000.00 ...\n",
      "###########################################################################\n",
      "## Running second pass analysis to evaluate heterogeneity...\n",
      "## Processing file 'toMETA_23andme_summary.txt'\n",
      "## Processing file 'toMETA_SCORE_UKBALL.txt'\n",
      "## Processing file 'toMETA_SCORE_AMP.txt'\n",
      "\n",
      "###########################################################################\n",
      "## Executing meta-analysis ...\n",
      "## Complete results will be stored in file 'MY_META_AMP_UKB_23andme1.tbl'\n",
      "## Column descriptions will be stored in file 'MY_META_AMP_UKB_23andme1.tbl.info'\n",
      "## Completed meta-analysis for 679 markers!\n",
      "## Smallest p-value is 1.66e-383 at marker 'chr12:40340400'\n",
      "\n",
      "## Clearing all stored statistics ...\n",
      "# Clearing user defined filters ...\n"
     ]
    }
   ],
   "source": [
    "module load metal\n",
    "metal my_METAL.txt"
   ]
  },
  {
   "cell_type": "raw",
   "id": "721ee6c2-c6a1-4b8f-a888-40374a9f42e0",
   "metadata": {},
   "source": [
    "## Executing meta-analysis ...\n",
    "## Complete results will be stored in file 'MY_META_AMP_UKB_23andme1.tbl'\n",
    "## Column descriptions will be stored in file 'MY_META_AMP_UKB_23andme1.tbl.info'\n",
    "## Completed meta-analysis for 679 markers!\n",
    "## Smallest p-value is 1.66e-383 at marker 'chr12:40340400'"
   ]
  },
  {
   "cell_type": "markdown",
   "id": "d4673f94-2d75-44fa-a3fa-9cb798dbcd06",
   "metadata": {},
   "source": [
    "#### 10.4.1 Check warning messages"
   ]
  },
  {
   "cell_type": "markdown",
   "id": "e69e2902-c0d9-4a6c-927b-5ba89185ac0a",
   "metadata": {},
   "source": [
    "AMP-PD"
   ]
  },
  {
   "cell_type": "raw",
   "id": "c3ada39e-35af-4f62-aa1c-975f5b13ed48",
   "metadata": {},
   "source": [
    "## Processing file 'toMETA_SCORE_AMP.txt'\n",
    "## Processed 256 markers ...\n",
    "\n",
    "AMP no issues"
   ]
  },
  {
   "cell_type": "markdown",
   "id": "1a059453-650a-4ca6-b784-b9a7fba8dd16",
   "metadata": {},
   "source": [
    "UKB"
   ]
  },
  {
   "cell_type": "raw",
   "id": "cc513b25-ad9a-4fdc-9440-1688c0327a4f",
   "metadata": {},
   "source": [
    "## Processing file 'toMETA_SCORE_UKBALL.txt'\n",
    "## WARNING: Invalid standard error for marker chr1:7965399, ignored\n",
    "## WARNING: Invalid standard error for marker chr1:7984930, ignored\n",
    "## WARNING: Invalid standard error for marker chr1:7984971, ignored\n",
    "## WARNING: Invalid standard error for marker chr1:16986235, ignored\n",
    "## WARNING: Invalid standard error for marker chr1:16987089, ignored\n",
    "## WARNING: Invalid standard error for marker chr1:16987187, ignored\n",
    "## WARNING: Invalid standard error for marker chr1:16991787, ignored\n",
    "## WARNING: Invalid standard error for marker chr1:16992042, ignored\n",
    "## WARNING: Invalid standard error for marker chr1:16992115, ignored\n",
    "## WARNING: Invalid standard error for marker chr1:16993690, ignored\n",
    "## WARNING: Invalid standard error for marker chr1:16996118, ignored\n",
    "## WARNING: Invalid standard error for marker chr1:16996484, ignored\n",
    "## WARNING: Invalid standard error for marker chr1:16997107, ignored\n",
    "## WARNING: Invalid standard error for marker chr1:16997136, ignored\n",
    "## WARNING: Invalid standard error for marker chr1:17011732, ignored\n",
    "## WARNING: Invalid standard error for marker chr1:20633615, ignored\n",
    "## WARNING: Invalid standard error for marker chr1:20633766, ignored\n",
    "## WARNING: Invalid standard error for marker chr1:20633840, ignored\n",
    "## WARNING: Invalid standard error for marker chr1:20639911, ignored\n",
    "## WARNING: Invalid standard error for marker chr1:20639934, ignored\n",
    "## WARNING: Invalid standard errors for 180 other markers also ignored\n",
    "## Processed 408 markers ...\n",
    "\n",
    "UKB has removed quite a few markers"
   ]
  },
  {
   "cell_type": "raw",
   "id": "8d96f4b5-27dc-4671-8cdb-68adab3dc749",
   "metadata": {},
   "source": [
    "#check in R how many missing stderrors in UKB\n",
    "UKB = fread(\"toMETA_SCORE_UKBALL.txt\")\n",
    "UKB %>% filter(is.na(SE)) %>% tally()\n",
    "    n\n",
    "1 200\n",
    "\n",
    "# 180+20=200 missing stats - makes sense"
   ]
  },
  {
   "cell_type": "markdown",
   "id": "a5122a10-5e53-474b-bfeb-bc1385fa12cf",
   "metadata": {},
   "source": [
    "23andMe"
   ]
  },
  {
   "cell_type": "raw",
   "id": "92cb8817-2e81-49b2-ab75-92735cb1d50e",
   "metadata": {},
   "source": [
    "## Processing file 'toMETA_23andme_summary.txt'\n",
    "## WARNING: Invalid standard error for marker chr1:155235057, ignored\n",
    "## WARNING: Invalid standard error for marker chr1:155235699, ignored\n",
    "## WARNING: Invalid standard error for marker chr1:155235704, ignored\n",
    "## WARNING: Invalid standard error for marker chr1:155235725, ignored\n",
    "## WARNING: Invalid standard error for marker chr1:155235726, ignored\n",
    "## WARNING: Invalid standard error for marker chr1:155235750, ignored\n",
    "## WARNING: Invalid standard error for marker chr1:155236420, ignored\n",
    "## WARNING: Invalid standard error for marker chr1:155237357, ignored\n",
    "## WARNING: Invalid standard error for marker chr1:155237369, ignored\n",
    "## WARNING: Invalid standard error for marker chr1:155238173, ignored\n",
    "## WARNING: Invalid standard error for marker chr1:155238186, ignored\n",
    "## WARNING: Invalid standard error for marker chr1:155238194, ignored\n",
    "## WARNING: Invalid standard error for marker chr1:155238233, ignored\n",
    "## WARNING: Invalid standard error for marker chr1:155239939, ignored\n",
    "## WARNING: Invalid standard error for marker chr1:155240078, ignored\n",
    "## WARNING: Invalid standard error for marker chr1:20639990, ignored\n",
    "## WARNING: Invalid standard error for marker chr1:20645640, ignored\n",
    "## WARNING: Invalid standard error for marker chr12:40259493, ignored\n",
    "## WARNING: Invalid standard error for marker chr12:40304079, ignored\n",
    "## WARNING: Invalid standard error for marker chr12:40310437, ignored\n",
    "## WARNING: Invalid standard errors for 27 other markers also ignored\n",
    "## Processed 656 markers ..."
   ]
  },
  {
   "cell_type": "raw",
   "id": "6637c2ce-2568-4d6d-bc37-2494aeeb79a2",
   "metadata": {},
   "source": [
    "# Check in R if this makes sense\n",
    "ANDME = fread(\"toMETA_23andme_summary.txt\")\n",
    "ANDME %>% filter(is.na(stderr)) %>% tally()\n",
    "  n\n",
    "1 6\n",
    "\n",
    "ANDME %>% filter(stderr ==0) %>% tally()\n",
    "   n\n",
    "1 41\n",
    "\n",
    "# this accounts for n=47 without stats -all good"
   ]
  },
  {
   "cell_type": "code",
   "execution_count": 9,
   "id": "2f4d2882-555c-4f80-b78a-91bdeefab6c8",
   "metadata": {},
   "outputs": [
    {
     "name": "stdout",
     "output_type": "stream",
     "text": [
      "MarkerName\tAllele1\tAllele2\tFreq1\tFreqSE\tMinFreq\tMaxFreq\tEffect\tStdErr\tP-value\tDirection\tHetISq\tHetChiSq\tHetDf\tHetPVal\n",
      "\u001b[01;31m\u001b[Kchr12:40340400\u001b[m\u001b[K\ta\tg\t0.9993\t0.0004\t0.9965\t0.9995\t-2.4648\t0.0588\t1.66e-383\t---\t19.1\t2.472\t2\t0.2905\n",
      "\u001b[01;31m\u001b[Kchr1:16986248\u001b[m\u001b[K\tt\tc\t0.5222\t0.0071\t0.4849\t0.5236\t0.0324\t0.0091\t0.0003886\t-?+\t60.7\t2.546\t1\t0.1106\n",
      "\u001b[01;31m\u001b[Kchr15:61910283\u001b[m\u001b[K\tt\tc\t0.5241\t0.0082\t0.4815\t0.5257\t0.0076\t0.0091\t0.4049\t-?+\t82.1\t5.585\t1\t0.01812\n",
      "\u001b[01;31m\u001b[Kchr15:61967438\u001b[m\u001b[K\tt\tc\t0.5796\t0.0330\t0.4083\t0.5860\t-0.0098\t0.0092\t0.284\t+?-\t71.4\t3.499\t1\t0.06142\n",
      "\u001b[01;31m\u001b[Kchr3:184319745\u001b[m\u001b[K\ta\tg\t0.4096\t0.4885\t0.0025\t0.9974\t-0.0395\t0.0905\t0.6626\t---\t0.0\t1.218\t2\t0.5439\n"
     ]
    }
   ],
   "source": [
    "head -1 MY_META_AMP_UKB_23andme1.tbl\n",
    "grep chr12:40340400 MY_META_AMP_UKB_23andme1.tbl\n",
    "grep chr1:16986248 MY_META_AMP_UKB_23andme1.tbl\n",
    "grep chr15:61910283 MY_META_AMP_UKB_23andme1.tbl\n",
    "grep chr15:61967438 MY_META_AMP_UKB_23andme1.tbl\n",
    "grep chr3:184319745 MY_META_AMP_UKB_23andme1.tbl"
   ]
  },
  {
   "cell_type": "code",
   "execution_count": 10,
   "id": "8b39ad28-2ad9-47b4-ac13-84fc2424431b",
   "metadata": {},
   "outputs": [
    {
     "name": "stdout",
     "output_type": "stream",
     "text": [
      "/data/CARD/projects/23andme_annotation/Rare_variant_project_VP\n"
     ]
    }
   ],
   "source": [
    "pwd"
   ]
  },
  {
   "cell_type": "markdown",
   "id": "e90ae296-a81a-4037-988d-f08b7af835fc",
   "metadata": {},
   "source": [
    "## 11. Clean files for analysis"
   ]
  },
  {
   "cell_type": "raw",
   "id": "ceebaee0-ca0e-4b90-9afc-b5336019fe2c",
   "metadata": {},
   "source": [
    "R\n",
    "library(data.table)\n",
    "library(tidyverse)\n",
    "\n",
    "all3_meta = fread(\"MY_META_AMP_UKB_23andme1.tbl\")\n",
    "dim(all3_meta)\n",
    "\n",
    "Annotations = fread(\"Edited_AAChange_23andMe_834_clean.txt\")\n",
    "Annotations$`CHR.BP` = Annotations$MarkerName\n",
    "\n",
    "all3_meta_annotations = left_join(all3_meta, Annotations)\n",
    "dim(all3_meta_annotations)\n",
    "# [1] 679  48\n",
    "\n",
    "write.table(all3_meta_annotations, \"Meta_results_679_AMP_UKB_23andMe_annotation.txt\", row.names = F, sep = \"\\t\", quote = F)"
   ]
  },
  {
   "cell_type": "markdown",
   "id": "7dc7a3b1-80e3-4db7-be8a-c7d4c1efd542",
   "metadata": {},
   "source": [
    "Now move files to local and make plots"
   ]
  },
  {
   "cell_type": "raw",
   "id": "d4facf73-e2d4-40c0-9545-1e8195c294f7",
   "metadata": {},
   "source": [
    "scp pitzv2@biowulf.nih.gov:/data/CARD/projects/23andme_annotation/Rare_variant_project_VP/Meta_results_679_AMP_UKB_23andMe_annotation.txt /Users/pitzv2/Documents/Projects/23andme_rare_variants/Final_Dec_2022/Sumstats"
   ]
  },
  {
   "cell_type": "raw",
   "id": "65bb7412-6efa-4f04-8064-7b0184e1c34d",
   "metadata": {},
   "source": [
    "scp pitzv2@biowulf.nih.gov:/data/CARD/projects/23andme_annotation/Rare_variant_project_VP/MY_META_AMP_UKB_23andme1.tbl /Users/pitzv2/Documents/Projects/23andme_rare_variants/Final_Dec_2022/Sumstats"
   ]
  },
  {
   "cell_type": "raw",
   "id": "8e9b21c2-a738-4227-bf98-77a0335a370f",
   "metadata": {},
   "source": [
    "scp pitzv2@biowulf.nih.gov:/data/CARD/projects/23andme_annotation/Rare_variant_project_VP/toMETA_23andme_summary.txt /Users/pitzv2/Documents/Projects/23andme_rare_variants/Final_Dec_2022/Sumstats"
   ]
  },
  {
   "cell_type": "markdown",
   "id": "e49064f2-385a-4bc2-97f6-511aa27de62a",
   "metadata": {},
   "source": [
    "## 12. Add identifier for variants passing of failing internal QC"
   ]
  },
  {
   "cell_type": "code",
   "execution_count": null,
   "id": "a0829f0d-c1a7-4224-b357-72ea6b0f200e",
   "metadata": {},
   "outputs": [],
   "source": [
    "## add identifier to initial file\n"
   ]
  },
  {
   "cell_type": "raw",
   "id": "8c36ee04-2e9a-4b07-a96b-4e27264494ed",
   "metadata": {},
   "source": [
    "failed = read.table(\"results_for_collaborators_failed_qc.csv\", header = T, sep = \",\")\n",
    "\n",
    "failed = failed %>% select(scaffold, position) %>% unite(\"MarkerName\", c(\"scaffold\", \"position\"), sep = \":\")\n",
    "failed$QC = \"FAIL\"\n",
    "\n",
    "merge = left_join(all3_meta_annotations, failed)\n",
    "dim(merge)\n",
    "\n",
    "merge %>% group_by(QC) %>% tally()\n",
    "\n",
    "merge$QC[is.na(merge$QC)] <- \"PASS\"\n",
    "\n",
    "merge %>% group_by(QC) %>% tally()\n",
    "A tibble: 2 × 2\n",
    "QC\tn\n",
    "<chr>\t<int>\n",
    "FAIL\t265\n",
    "PASS\t414\n",
    "\n",
    "write.table(merge, \"Meta_results_679_AMP_UKB_23andMe_annotation_QC.txt\", row.names = F, sep = \"\\t\", quote = F)"
   ]
  },
  {
   "cell_type": "code",
   "execution_count": null,
   "id": "50630809-7870-414a-9ae0-a8467c47adbc",
   "metadata": {},
   "outputs": [],
   "source": [
    "scp pitzv2@biowulf.nih.gov:/data/CARD/projects/23andme_annotation/Rare_variant_project_VP/Meta_results_679_AMP_UKB_23andMe_annotation_QC.txt /Users/pitzv2/Documents/Projects/23andme_rare_variants/Final_Dec_2022/Sumstats"
   ]
  }
 ],
 "metadata": {
  "kernelspec": {
   "display_name": "Bash",
   "language": "bash",
   "name": "bash2"
  },
  "language_info": {
   "codemirror_mode": "shell",
   "file_extension": ".sh",
   "mimetype": "text/x-sh",
   "name": "bash"
  }
 },
 "nbformat": 4,
 "nbformat_minor": 5
}
