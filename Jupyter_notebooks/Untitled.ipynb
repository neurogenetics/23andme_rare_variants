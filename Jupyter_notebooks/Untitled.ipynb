{
 "cells": [
  {
   "cell_type": "markdown",
   "id": "8d6afcdc-a466-422f-b87d-c7a10321f03f",
   "metadata": {},
   "source": [
    "# Forest plot with regression"
   ]
  },
  {
   "cell_type": "markdown",
   "id": "096019ed-97bb-4765-bbde-aaa9fdd00f8b",
   "metadata": {},
   "source": [
    "## 1. Extract variant info per study"
   ]
  },
  {
   "cell_type": "raw",
   "id": "fec9234a-861f-44d9-9a8d-bc8c79aab867",
   "metadata": {},
   "source": [
    "Variants of interest\n",
    "chr1:155235196\trs80356771\tGBA_R502C\n",
    "chr1:155235843\trs76763715\tGBA_N409S\n",
    "chr1:155236376\trs2230288\tGBA_E365K\n",
    "chr12:40340400\trs34637584\tLRRK2_G2019S\n",
    "chr1:155236246\trs75548401\tGBA_T408M\n",
    "chr1:155238570\trs147138516\tGBA_D179H\n",
    "chr12:40310435\trs34995376\tLRRK2_R1441H\n",
    "chr6:161785820\trs34424986\tPRKN_R275W\n",
    "chr1:155239633\trs758447515\tGBA_S146L"
   ]
  },
  {
   "cell_type": "markdown",
   "id": "fc6bc0ab-535d-41f9-98b8-84c57463463e",
   "metadata": {},
   "source": [
    "### 1.1 23andMe"
   ]
  },
  {
   "cell_type": "code",
   "execution_count": 10,
   "id": "66814e73-1636-46a6-acb6-7d6bd0e9237b",
   "metadata": {},
   "outputs": [],
   "source": [
    "library(tidyverse)\n",
    "library(data.table)\n",
    "\n",
    "andme = fread(\"23andMe_834variants_annotated_and_stats.txt\")\n",
    "\n",
    "GBA_R502C = andme %>% filter(position == 155235196) %>% select(effect, stderr, pvalue) %>% mutate(Dataset = \"23andMe\", Z = effect/stderr) %>% dplyr::rename(\"Beta\" = effect, \"SE\" = stderr, \"P\" = pvalue) %>% select(Dataset, Beta, SE, Z, P)\n",
    "GBA_N409S = andme %>% filter(position == 155235843) %>% select(effect, stderr, pvalue) %>% mutate(Dataset = \"23andMe\", Z = effect/stderr) %>% dplyr::rename(\"Beta\" = effect, \"SE\" = stderr, \"P\" = pvalue) %>% select(Dataset, Beta, SE, Z, P)\n",
    "GBA_E365K = andme %>% filter(position == 155236376) %>% select(effect, stderr, pvalue) %>% mutate(Dataset = \"23andMe\", Z = effect/stderr) %>% dplyr::rename(\"Beta\" = effect, \"SE\" = stderr, \"P\" = pvalue) %>% select(Dataset, Beta, SE, Z, P)\n",
    "LRRK2_G2019S = andme %>% filter(position == 40340400) %>% select(effect, stderr, pvalue) %>% mutate(Dataset = \"23andMe\", Z = effect/stderr) %>% dplyr::rename(\"Beta\" = effect, \"SE\" = stderr, \"P\" = pvalue) %>% select(Dataset, Beta, SE, Z, P)\n",
    "GBA_T408M = andme %>% filter(position == 155236246) %>% select(effect, stderr, pvalue) %>% mutate(Dataset = \"23andMe\", Z = effect/stderr) %>% dplyr::rename(\"Beta\" = effect, \"SE\" = stderr, \"P\" = pvalue) %>% select(Dataset, Beta, SE, Z, P)\n",
    "GBA_D179H = andme %>% filter(position == 155238570) %>% select(effect, stderr, pvalue) %>% mutate(Dataset = \"23andMe\", Z = effect/stderr) %>% dplyr::rename(\"Beta\" = effect, \"SE\" = stderr, \"P\" = pvalue) %>% select(Dataset, Beta, SE, Z, P)\n",
    "LRRK2_R1441H = andme %>% filter(position == 40310435) %>% select(effect, stderr, pvalue) %>% mutate(Dataset = \"23andMe\", Z = effect/stderr) %>% dplyr::rename(\"Beta\" = effect, \"SE\" = stderr, \"P\" = pvalue) %>% select(Dataset, Beta, SE, Z, P)\n",
    "PRKN_R275W = andme %>% filter(position == 161785820) %>% select(effect, stderr, pvalue) %>% mutate(Dataset = \"23andMe\", Z = effect/stderr) %>% dplyr::rename(\"Beta\" = effect, \"SE\" = stderr, \"P\" = pvalue) %>% select(Dataset, Beta, SE, Z, P)\n",
    "GBA_S146L = andme %>% filter(position == 155239633) %>% select(effect, stderr, pvalue) %>% mutate(Dataset = \"23andMe\", Z = effect/stderr) %>% dplyr::rename(\"Beta\" = effect, \"SE\" = stderr, \"P\" = pvalue) %>% select(Dataset, Beta, SE, Z, P)\n",
    "\n",
    "\n",
    "write.table(GBA_R502C, \"23andMe_GBA_R502C_rs80356771.txt\", quote=F, row.names =F, sep = \"\\t\")\n",
    "write.table(GBA_N409S, \"23andMe_GBA_N409S_rs76763715\", quote=F, row.names =F, sep = \"\\t\")\n",
    "write.table(GBA_E365K, \"23andMe_GBA_E365K_rs2230288\", quote=F, row.names =F, sep = \"\\t\")\n",
    "write.table(LRRK2_G2019S, \"23andMe_LRRK2_G2019S_rs34637584\", quote=F, row.names =F, sep = \"\\t\")\n",
    "write.table(GBA_T408M, \"23andMe_GBA_T408M_rs75548401\", quote=F, row.names =F, sep = \"\\t\")\n",
    "write.table(GBA_D179H, \"23andMe_GBA_D179H_rs147138516\", quote=F, row.names =F, sep = \"\\t\")\n",
    "write.table(LRRK2_R1441H, \"23andMe_LRRK2_R1441H_rs34995376\", quote=F, row.names =F, sep = \"\\t\")\n",
    "write.table(PRKN_R275W, \"23andMe_PRKN_R275W_rs34424986\", quote=F, row.names =F, sep = \"\\t\")\n",
    "write.table(GBA_S146L, \"23andMe_GBA_S146L_rs758447515\", quote=F, row.names =F, sep = \"\\t\")"
   ]
  },
  {
   "cell_type": "raw",
   "id": "8ebb68ce-4428-4a83-a29f-bfb0d432f40c",
   "metadata": {},
   "source": [
    "wc -l 23andMe_*_*_rs*.txt\n",
    "   1 23andMe_GBA_D179H_rs147138516.txt\n",
    "   1 23andMe_GBA_E365K_rs2230288.txt\n",
    "   1 23andMe_GBA_N409S_rs76763715.txt\n",
    "   1 23andMe_GBA_R502C_rs80356771.txt\n",
    "   1 23andMe_GBA_S146L_rs758447515.txt\n",
    "   1 23andMe_GBA_T408M_rs75548401.txt\n",
    "   1 23andMe_LRRK2_G2019S_rs34637584.txt\n",
    "   1 23andMe_LRRK2_R1441H_rs34995376.txt\n",
    "   1 23andMe_PRKN_R275W_rs34424986.txt\n",
    "   9 total"
   ]
  },
  {
   "cell_type": "markdown",
   "id": "3ed5c9b6-9418-4600-961d-b43594eb75d8",
   "metadata": {},
   "source": [
    "### 1.2 UKB"
   ]
  },
  {
   "cell_type": "code",
   "execution_count": 11,
   "id": "628ae425-daa0-4fb7-b164-78bbaccb2196",
   "metadata": {},
   "outputs": [],
   "source": [
    "UKB = fread(\"./UKB_and_AMP/UKB_608_from23andme_withcovars_score_ALL_PD.SingleScore.assoc\")\n",
    "\n",
    "GBA_R502C_U = UKB %>% filter(POS == 155235196) %>% select(EFFECT, SE, PVALUE) %>% mutate(Dataset = \"UKB\", Z = EFFECT/SE) %>% dplyr::rename(\"Beta\" = EFFECT, \"P\" = PVALUE) %>% select(Dataset, Beta, SE, Z, P)\n",
    "GBA_N409S_U = UKB %>% filter(POS == 155235843) %>% select(EFFECT, SE, PVALUE) %>% mutate(Dataset = \"UKB\", Z = EFFECT/SE) %>% dplyr::rename(\"Beta\" = EFFECT, \"P\" = PVALUE) %>% select(Dataset, Beta, SE, Z, P)\n",
    "GBA_E365K_U = UKB %>% filter(POS == 155236376) %>% select(EFFECT, SE, PVALUE) %>% mutate(Dataset = \"UKB\", Z = EFFECT/SE) %>% dplyr::rename(\"Beta\" = EFFECT, \"P\" = PVALUE) %>% select(Dataset, Beta, SE, Z, P)\n",
    "LRRK2_G2019S_U = UKB %>% filter(POS == 40340400) %>% select(EFFECT, SE, PVALUE) %>% mutate(Dataset = \"UKB\", Z = EFFECT/SE) %>% dplyr::rename(\"Beta\" = EFFECT, \"P\" = PVALUE) %>% select(Dataset, Beta, SE, Z, P)\n",
    "GBA_T408M_U = UKB %>% filter(POS == 155236246) %>% select(EFFECT, SE, PVALUE) %>% mutate(Dataset = \"UKB\", Z = EFFECT/SE) %>% dplyr::rename(\"Beta\" = EFFECT, \"P\" = PVALUE) %>% select(Dataset, Beta, SE, Z, P)\n",
    "GBA_D179H_U = UKB %>% filter(POS == 155238570) %>% select(EFFECT, SE, PVALUE) %>% mutate(Dataset = \"UKB\", Z = EFFECT/SE) %>% dplyr::rename(\"Beta\" = EFFECT, \"P\" = PVALUE) %>% select(Dataset, Beta, SE, Z, P)\n",
    "LRRK2_R1441H_U = UKB %>% filter(POS == 40310435) %>% select(EFFECT, SE, PVALUE) %>% mutate(Dataset = \"UKB\", Z = EFFECT/SE) %>% dplyr::rename(\"Beta\" = EFFECT, \"P\" = PVALUE) %>% select(Dataset, Beta, SE, Z, P)\n",
    "PRKN_R275W_U = UKB %>% filter(POS == 161785820) %>% select(EFFECT, SE, PVALUE) %>% mutate(Dataset = \"UKB\", Z = EFFECT/SE) %>% dplyr::rename(\"Beta\" = EFFECT, \"P\" = PVALUE) %>% select(Dataset, Beta, SE, Z, P)\n",
    "GBA_S146L_U = UKB %>% filter(POS == 155239633) %>% select(EFFECT, SE, PVALUE) %>% mutate(Dataset = \"UKB\", Z = EFFECT/SE) %>% dplyr::rename(\"Beta\" = EFFECT, \"P\" = PVALUE) %>% select(Dataset, Beta, SE, Z, P)\n",
    "\n",
    "write.table(GBA_R502C_U, \"UKB_GBA_R502C_rs80356771.txt\", quote=F, row.names =F, sep = \"\\t\")\n",
    "write.table(GBA_N409S_U, \"UKB_GBA_N409S_rs76763715\", quote=F, row.names =F, sep = \"\\t\")\n",
    "write.table(GBA_E365K_U, \"UKB_GBA_E365K_rs2230288\", quote=F, row.names =F, sep = \"\\t\")\n",
    "write.table(LRRK2_G2019S_U, \"UKB_LRRK2_G2019S_rs34637584\", quote=F, row.names =F, sep = \"\\t\")\n",
    "write.table(GBA_T408M_U, \"UKB_GBA_T408M_rs75548401\", quote=F, row.names =F, sep = \"\\t\")\n",
    "write.table(GBA_D179H_U, \"UKB_GBA_D179H_rs147138516\", quote=F, row.names =F, sep = \"\\t\")\n",
    "write.table(LRRK2_R1441H_U, \"UKB_LRRK2_R1441H_rs34995376\", quote=F, row.names =F, sep = \"\\t\")\n",
    "write.table(PRKN_R275W_U, \"UKB_PRKN_R275W_rs34424986\", quote=F, row.names =F, sep = \"\\t\")\n",
    "write.table(GBA_S146L_U, \"UKB_GBA_S146L_rs758447515\", quote=F, row.names =F, sep = \"\\t\")\n"
   ]
  },
  {
   "cell_type": "raw",
   "id": "284484d7-8d03-4c50-ab03-f8c9d8842344",
   "metadata": {},
   "source": [
    "wc -l UKB_*_*_rs*.txt\n",
    "  1 UKB_GBA_D179H_rs147138516.txt\n",
    "  1 UKB_GBA_E365K_rs2230288.txt\n",
    "  1 UKB_GBA_N409S_rs76763715.txt\n",
    "  1 UKB_GBA_R502C_rs80356771.txt\n",
    "  1 UKB_GBA_S146L_rs758447515.txt\n",
    "  1 UKB_GBA_T408M_rs75548401.txt\n",
    "  1 UKB_LRRK2_G2019S_rs34637584.txt\n",
    "  1 UKB_LRRK2_R1441H_rs34995376.txt\n",
    "  1 UKB_PRKN_R275W_rs34424986.txt\n",
    "  9 total"
   ]
  },
  {
   "cell_type": "markdown",
   "id": "c6acf69e-723e-4401-891d-36ce16f330be",
   "metadata": {},
   "source": [
    "### 1.3 AMP-PD"
   ]
  },
  {
   "cell_type": "code",
   "execution_count": 13,
   "id": "7d62a332-ef46-460a-87c8-5c9426464cb9",
   "metadata": {},
   "outputs": [],
   "source": [
    "AMP = fread(\"./UKB_and_AMP/AMP_256_from23andme_withcovars_score.SingleScore.assoc\")\n",
    "\n",
    "GBA_R502C_A = AMP %>% filter(POS == 155235196) %>% select(EFFECT, SE, PVALUE) %>% mutate(Dataset = \"AMP\", Z = EFFECT/SE) %>% dplyr::rename(\"Beta\" = EFFECT, \"P\" = PVALUE) %>% select(Dataset, Beta, SE, Z, P)\n",
    "GBA_N409S_A = AMP %>% filter(POS == 155235843) %>% select(EFFECT, SE, PVALUE) %>% mutate(Dataset = \"AMP\", Z = EFFECT/SE) %>% dplyr::rename(\"Beta\" = EFFECT, \"P\" = PVALUE) %>% select(Dataset, Beta, SE, Z, P)\n",
    "GBA_E365K_A = AMP %>% filter(POS == 155236376) %>% select(EFFECT, SE, PVALUE) %>% mutate(Dataset = \"AMP\", Z = EFFECT/SE) %>% dplyr::rename(\"Beta\" = EFFECT, \"P\" = PVALUE) %>% select(Dataset, Beta, SE, Z, P)\n",
    "LRRK2_G2019S_A = AMP %>% filter(POS == 40340400) %>% select(EFFECT, SE, PVALUE) %>% mutate(Dataset = \"AMP\", Z = EFFECT/SE) %>% dplyr::rename(\"Beta\" = EFFECT, \"P\" = PVALUE) %>% select(Dataset, Beta, SE, Z, P)\n",
    "GBA_T408M_A = AMP %>% filter(POS == 155236246) %>% select(EFFECT, SE, PVALUE) %>% mutate(Dataset = \"AMP\", Z = EFFECT/SE) %>% dplyr::rename(\"Beta\" = EFFECT, \"P\" = PVALUE) %>% select(Dataset, Beta, SE, Z, P)\n",
    "GBA_D179H_A = AMP %>% filter(POS == 155238570) %>% select(EFFECT, SE, PVALUE) %>% mutate(Dataset = \"AMP\", Z = EFFECT/SE) %>% dplyr::rename(\"Beta\" = EFFECT, \"P\" = PVALUE) %>% select(Dataset, Beta, SE, Z, P)\n",
    "LRRK2_R1441H_A = AMP %>% filter(POS == 40310435) %>% select(EFFECT, SE, PVALUE) %>% mutate(Dataset = \"AMP\", Z = EFFECT/SE) %>% dplyr::rename(\"Beta\" = EFFECT, \"P\" = PVALUE) %>% select(Dataset, Beta, SE, Z, P)\n",
    "PRKN_R275W_A = AMP %>% filter(POS == 161785820) %>% select(EFFECT, SE, PVALUE) %>% mutate(Dataset = \"AMP\", Z = EFFECT/SE) %>% dplyr::rename(\"Beta\" = EFFECT, \"P\" = PVALUE) %>% select(Dataset, Beta, SE, Z, P)\n",
    "GBA_S146L_A = AMP %>% filter(POS == 155239633) %>% select(EFFECT, SE, PVALUE) %>% mutate(Dataset = \"AMP\", Z = EFFECT/SE) %>% dplyr::rename(\"Beta\" = EFFECT, \"P\" = PVALUE) %>% select(Dataset, Beta, SE, Z, P)\n",
    "\n",
    "write.table(GBA_R502C_A, \"AMP_GBA_R502C_rs80356771.txt\", quote=F, row.names =F, sep = \"\\t\")\n",
    "write.table(GBA_N409S_A, \"AMP_GBA_N409S_rs76763715\", quote=F, row.names =F, sep = \"\\t\")\n",
    "write.table(GBA_E365K_A, \"AMP_GBA_E365K_rs2230288\", quote=F, row.names =F, sep = \"\\t\")\n",
    "write.table(LRRK2_G2019S_A, \"AMP_LRRK2_G2019S_rs34637584\", quote=F, row.names =F, sep = \"\\t\")\n",
    "write.table(GBA_T408M_A, \"AMP_GBA_T408M_rs75548401\", quote=F, row.names =F, sep = \"\\t\")\n",
    "write.table(GBA_D179H_A, \"AMP_GBA_D179H_rs147138516\", quote=F, row.names =F, sep = \"\\t\")\n",
    "write.table(LRRK2_R1441H_A, \"AMP_LRRK2_R1441H_rs34995376\", quote=F, row.names =F, sep = \"\\t\")\n",
    "write.table(PRKN_R275W_A, \"AMP_PRKN_R275W_rs34424986\", quote=F, row.names =F, sep = \"\\t\")\n",
    "write.table(GBA_S146L_A, \"AMP_GBA_S146L_rs758447515\", quote=F, row.names =F, sep = \"\\t\")"
   ]
  },
  {
   "cell_type": "code",
   "execution_count": null,
   "id": "46522eb8-3f12-4f52-98a4-46d3d948f154",
   "metadata": {},
   "outputs": [],
   "source": []
  },
  {
   "cell_type": "code",
   "execution_count": null,
   "id": "fd46b2d0-dac2-497c-bc27-76ffd0dfe7f2",
   "metadata": {},
   "outputs": [],
   "source": []
  }
 ],
 "metadata": {
  "kernelspec": {
   "display_name": "R/4.0",
   "language": "R",
   "name": "ir40"
  },
  "language_info": {
   "codemirror_mode": "r",
   "file_extension": ".r",
   "mimetype": "text/x-r-source",
   "name": "R",
   "pygments_lexer": "r",
   "version": "4.0.5"
  }
 },
 "nbformat": 4,
 "nbformat_minor": 5
}
