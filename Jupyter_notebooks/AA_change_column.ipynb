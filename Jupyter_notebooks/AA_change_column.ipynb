{
 "cells": [
  {
   "cell_type": "markdown",
   "id": "6ac2f107-6ca3-4d62-bfcc-35965024b16c",
   "metadata": {},
   "source": [
    "# Editing the AAChange column\n",
    "Author: Vanessa Pitz"
   ]
  },
  {
   "cell_type": "markdown",
   "id": "5584d2e8-63a6-404c-baf3-03b75c05836e",
   "metadata": {},
   "source": [
    "# Overview\n",
    "0. Load input\n",
    "1. Change layout\n",
    "2. Add helper columns\n",
    "3. Merge back together\n",
    "4. Checks and fixes\n",
    "5. Write files"
   ]
  },
  {
   "cell_type": "markdown",
   "id": "e8398c27-a35d-4989-9ab6-1f6ad79e16c5",
   "metadata": {},
   "source": [
    "Layout input file:\n",
    "\n",
    "| MarkerName     | Gene   | AAChange                                                                                                                                                                                                                                                                                                                                                                                                 |\n",
    "|----------------|--------|----------------------------------------------------------------------------------------------------------------------------------------------------------------------------------------------------------------------------------------------------------------------------------------------------------------------------------------------------------------------------------------------------------|\n",
    "| chr1:20638104  | PINK1  | PINK1:NM_032409:exon2:c.C650C:p.A217A                                                                                                                                                                                                                                                                                                                                                                    |\n",
    "| chr22:38112571 | PLA2G6 | PLA2G6:NM_001004426:exon15:c.G2047G:p.D683D,PLA2G6:NM_001199562:exon15:c.G2047G:p.D683D,PLA2G6:NM_001349865:exon15:c.G2047G:p.D683D,PLA2G6:NM_001349866:exon15:c.G2047G:p.D683D,PLA2G6:NM_001349868:exon15:c.G1531G:p.D511D,PLA2G6:NM_001349864:exon16:c.G2209G:p.D737D,PLA2G6:NM_001349869:exon16:c.G1513G:p.D505D,PLA2G6:NM_003560:exon16:c.G2209G:p.D737D,PLA2G6:NM_001349867:exon17:c.G1675G:p.D559D |\n"
   ]
  },
  {
   "cell_type": "markdown",
   "id": "8459171a-d50c-43cf-815d-54fa44764e8c",
   "metadata": {},
   "source": [
    "And yes, this script exists to clean up the mess in the AAChange column, which is generated when annotating variants. We only want to focus on the protein level changes, i.e. “p.xx”"
   ]
  },
  {
   "cell_type": "markdown",
   "id": "3eae5e4d-c3a9-47af-aa79-ccde5804d5a4",
   "metadata": {},
   "source": [
    "# 0. Start by reading in the file"
   ]
  },
  {
   "cell_type": "code",
   "execution_count": null,
   "id": "58a4c947-073a-426c-9328-4d4ed3bed5df",
   "metadata": {},
   "outputs": [],
   "source": [
    "library(dplyr)\n",
    "library(tidyr)\n",
    "library(data.table)\n",
    "library(ggplot2)\n",
    "library(stringr)\n",
    "\n",
    "data = fread(\"834_23andMe_rare_variants_annotated_fullfile.txt\", header = T)\n",
    "data1 = data %>% unite(\"MarkerName\", c(\"Chr\", \"Start\"), sep = \":\")"
   ]
  },
  {
   "cell_type": "code",
   "execution_count": 8,
   "id": "81a698be-1c2f-49a3-99bb-dac8733e6493",
   "metadata": {},
   "outputs": [
    {
     "data": {
      "text/html": [
       "<table class=\"dataframe\">\n",
       "<caption>A data.table: 6 × 3</caption>\n",
       "<thead>\n",
       "\t<tr><th scope=col>MarkerName</th><th scope=col>Gene</th><th scope=col>AAChange</th></tr>\n",
       "\t<tr><th scope=col>&lt;chr&gt;</th><th scope=col>&lt;chr&gt;</th><th scope=col>&lt;chr&gt;</th></tr>\n",
       "</thead>\n",
       "<tbody>\n",
       "\t<tr><td>chr1:155235024</td><td>GBA</td><td>GBA:NM_001171811:exon10:c.A1321G:p.I441V,GBA:NM_001171812:exon10:c.A1435G:p.I479V,GBA:NM_000157:exon11:c.A1582G:p.I528V,GBA:NM_001005741:exon12:c.A1582G:p.I528V,GBA:NM_001005742:exon12:c.A1582G:p.I528V</td></tr>\n",
       "\t<tr><td>chr1:155235057</td><td>GBA</td><td>GBA:NM_001171811:exon10:c.G1288A:p.G430S,GBA:NM_001171812:exon10:c.G1402A:p.G468S,GBA:NM_000157:exon11:c.G1549A:p.G517S,GBA:NM_001005741:exon12:c.G1549A:p.G517S,GBA:NM_001005742:exon12:c.G1549A:p.G517S</td></tr>\n",
       "\t<tr><td>chr1:155235195</td><td>GBA</td><td>GBA:NM_001171811:exon9:c.G1244A:p.R415H,GBA:NM_001171812:exon9:c.G1358A:p.R453H,GBA:NM_000157:exon10:c.G1505A:p.R502H,GBA:NM_001005741:exon11:c.G1505A:p.R502H,GBA:NM_001005742:exon11:c.G1505A:p.R502H  </td></tr>\n",
       "\t<tr><td>chr1:155235196</td><td>GBA</td><td>GBA:NM_001171811:exon9:c.C1243T:p.R415C,GBA:NM_001171812:exon9:c.C1357T:p.R453C,GBA:NM_000157:exon10:c.C1504T:p.R502C,GBA:NM_001005741:exon11:c.C1504T:p.R502C,GBA:NM_001005742:exon11:c.C1504T:p.R502C  </td></tr>\n",
       "\t<tr><td>chr1:155235197</td><td>GBA</td><td>GBA:NM_001171811:exon9:c.C1242G:p.N414K,GBA:NM_001171812:exon9:c.C1356G:p.N452K,GBA:NM_000157:exon10:c.C1503G:p.N501K,GBA:NM_001005741:exon11:c.C1503G:p.N501K,GBA:NM_001005742:exon11:c.C1503G:p.N501K  </td></tr>\n",
       "\t<tr><td>chr1:155235231</td><td>GBA</td><td>GBA:NM_001171811:exon9:c.A1208G:p.H403R,GBA:NM_001171812:exon9:c.A1322G:p.H441R,GBA:NM_000157:exon10:c.A1469G:p.H490R,GBA:NM_001005741:exon11:c.A1469G:p.H490R,GBA:NM_001005742:exon11:c.A1469G:p.H490R  </td></tr>\n",
       "</tbody>\n",
       "</table>\n"
      ],
      "text/latex": [
       "A data.table: 6 × 3\n",
       "\\begin{tabular}{lll}\n",
       " MarkerName & Gene & AAChange\\\\\n",
       " <chr> & <chr> & <chr>\\\\\n",
       "\\hline\n",
       "\t chr1:155235024 & GBA & GBA:NM\\_001171811:exon10:c.A1321G:p.I441V,GBA:NM\\_001171812:exon10:c.A1435G:p.I479V,GBA:NM\\_000157:exon11:c.A1582G:p.I528V,GBA:NM\\_001005741:exon12:c.A1582G:p.I528V,GBA:NM\\_001005742:exon12:c.A1582G:p.I528V\\\\\n",
       "\t chr1:155235057 & GBA & GBA:NM\\_001171811:exon10:c.G1288A:p.G430S,GBA:NM\\_001171812:exon10:c.G1402A:p.G468S,GBA:NM\\_000157:exon11:c.G1549A:p.G517S,GBA:NM\\_001005741:exon12:c.G1549A:p.G517S,GBA:NM\\_001005742:exon12:c.G1549A:p.G517S\\\\\n",
       "\t chr1:155235195 & GBA & GBA:NM\\_001171811:exon9:c.G1244A:p.R415H,GBA:NM\\_001171812:exon9:c.G1358A:p.R453H,GBA:NM\\_000157:exon10:c.G1505A:p.R502H,GBA:NM\\_001005741:exon11:c.G1505A:p.R502H,GBA:NM\\_001005742:exon11:c.G1505A:p.R502H  \\\\\n",
       "\t chr1:155235196 & GBA & GBA:NM\\_001171811:exon9:c.C1243T:p.R415C,GBA:NM\\_001171812:exon9:c.C1357T:p.R453C,GBA:NM\\_000157:exon10:c.C1504T:p.R502C,GBA:NM\\_001005741:exon11:c.C1504T:p.R502C,GBA:NM\\_001005742:exon11:c.C1504T:p.R502C  \\\\\n",
       "\t chr1:155235197 & GBA & GBA:NM\\_001171811:exon9:c.C1242G:p.N414K,GBA:NM\\_001171812:exon9:c.C1356G:p.N452K,GBA:NM\\_000157:exon10:c.C1503G:p.N501K,GBA:NM\\_001005741:exon11:c.C1503G:p.N501K,GBA:NM\\_001005742:exon11:c.C1503G:p.N501K  \\\\\n",
       "\t chr1:155235231 & GBA & GBA:NM\\_001171811:exon9:c.A1208G:p.H403R,GBA:NM\\_001171812:exon9:c.A1322G:p.H441R,GBA:NM\\_000157:exon10:c.A1469G:p.H490R,GBA:NM\\_001005741:exon11:c.A1469G:p.H490R,GBA:NM\\_001005742:exon11:c.A1469G:p.H490R  \\\\\n",
       "\\end{tabular}\n"
      ],
      "text/markdown": [
       "\n",
       "A data.table: 6 × 3\n",
       "\n",
       "| MarkerName &lt;chr&gt; | Gene &lt;chr&gt; | AAChange &lt;chr&gt; |\n",
       "|---|---|---|\n",
       "| chr1:155235024 | GBA | GBA:NM_001171811:exon10:c.A1321G:p.I441V,GBA:NM_001171812:exon10:c.A1435G:p.I479V,GBA:NM_000157:exon11:c.A1582G:p.I528V,GBA:NM_001005741:exon12:c.A1582G:p.I528V,GBA:NM_001005742:exon12:c.A1582G:p.I528V |\n",
       "| chr1:155235057 | GBA | GBA:NM_001171811:exon10:c.G1288A:p.G430S,GBA:NM_001171812:exon10:c.G1402A:p.G468S,GBA:NM_000157:exon11:c.G1549A:p.G517S,GBA:NM_001005741:exon12:c.G1549A:p.G517S,GBA:NM_001005742:exon12:c.G1549A:p.G517S |\n",
       "| chr1:155235195 | GBA | GBA:NM_001171811:exon9:c.G1244A:p.R415H,GBA:NM_001171812:exon9:c.G1358A:p.R453H,GBA:NM_000157:exon10:c.G1505A:p.R502H,GBA:NM_001005741:exon11:c.G1505A:p.R502H,GBA:NM_001005742:exon11:c.G1505A:p.R502H   |\n",
       "| chr1:155235196 | GBA | GBA:NM_001171811:exon9:c.C1243T:p.R415C,GBA:NM_001171812:exon9:c.C1357T:p.R453C,GBA:NM_000157:exon10:c.C1504T:p.R502C,GBA:NM_001005741:exon11:c.C1504T:p.R502C,GBA:NM_001005742:exon11:c.C1504T:p.R502C   |\n",
       "| chr1:155235197 | GBA | GBA:NM_001171811:exon9:c.C1242G:p.N414K,GBA:NM_001171812:exon9:c.C1356G:p.N452K,GBA:NM_000157:exon10:c.C1503G:p.N501K,GBA:NM_001005741:exon11:c.C1503G:p.N501K,GBA:NM_001005742:exon11:c.C1503G:p.N501K   |\n",
       "| chr1:155235231 | GBA | GBA:NM_001171811:exon9:c.A1208G:p.H403R,GBA:NM_001171812:exon9:c.A1322G:p.H441R,GBA:NM_000157:exon10:c.A1469G:p.H490R,GBA:NM_001005741:exon11:c.A1469G:p.H490R,GBA:NM_001005742:exon11:c.A1469G:p.H490R   |\n",
       "\n"
      ],
      "text/plain": [
       "  MarkerName     Gene\n",
       "1 chr1:155235024 GBA \n",
       "2 chr1:155235057 GBA \n",
       "3 chr1:155235195 GBA \n",
       "4 chr1:155235196 GBA \n",
       "5 chr1:155235197 GBA \n",
       "6 chr1:155235231 GBA \n",
       "  AAChange                                                                                                                                                                                                 \n",
       "1 GBA:NM_001171811:exon10:c.A1321G:p.I441V,GBA:NM_001171812:exon10:c.A1435G:p.I479V,GBA:NM_000157:exon11:c.A1582G:p.I528V,GBA:NM_001005741:exon12:c.A1582G:p.I528V,GBA:NM_001005742:exon12:c.A1582G:p.I528V\n",
       "2 GBA:NM_001171811:exon10:c.G1288A:p.G430S,GBA:NM_001171812:exon10:c.G1402A:p.G468S,GBA:NM_000157:exon11:c.G1549A:p.G517S,GBA:NM_001005741:exon12:c.G1549A:p.G517S,GBA:NM_001005742:exon12:c.G1549A:p.G517S\n",
       "3 GBA:NM_001171811:exon9:c.G1244A:p.R415H,GBA:NM_001171812:exon9:c.G1358A:p.R453H,GBA:NM_000157:exon10:c.G1505A:p.R502H,GBA:NM_001005741:exon11:c.G1505A:p.R502H,GBA:NM_001005742:exon11:c.G1505A:p.R502H  \n",
       "4 GBA:NM_001171811:exon9:c.C1243T:p.R415C,GBA:NM_001171812:exon9:c.C1357T:p.R453C,GBA:NM_000157:exon10:c.C1504T:p.R502C,GBA:NM_001005741:exon11:c.C1504T:p.R502C,GBA:NM_001005742:exon11:c.C1504T:p.R502C  \n",
       "5 GBA:NM_001171811:exon9:c.C1242G:p.N414K,GBA:NM_001171812:exon9:c.C1356G:p.N452K,GBA:NM_000157:exon10:c.C1503G:p.N501K,GBA:NM_001005741:exon11:c.C1503G:p.N501K,GBA:NM_001005742:exon11:c.C1503G:p.N501K  \n",
       "6 GBA:NM_001171811:exon9:c.A1208G:p.H403R,GBA:NM_001171812:exon9:c.A1322G:p.H441R,GBA:NM_000157:exon10:c.A1469G:p.H490R,GBA:NM_001005741:exon11:c.A1469G:p.H490R,GBA:NM_001005742:exon11:c.A1469G:p.H490R  "
      ]
     },
     "metadata": {},
     "output_type": "display_data"
    }
   ],
   "source": [
    "# rename some columns\n",
    "#data1 = data1 %>% rename(\"Gene\" = Gene.refGene, \"AAChange\" =AAChange.refGene)\n",
    "\n",
    "variants = data1 %>% dplyr::select(MarkerName,Gene,AAChange)\n",
    "# one quick edit because the gene name is wrong\n",
    "variants$Gene[variants$Gene == \"FBXO7;FBXO7\"] <- \"FBXO7\""
   ]
  },
  {
   "cell_type": "markdown",
   "id": "b6cf65c1-bff0-41d8-9a2b-1441e634ebbd",
   "metadata": {},
   "source": [
    "## 1. Change AAChange layout - wide to long"
   ]
  },
  {
   "cell_type": "markdown",
   "id": "8cd6006d-1fa3-40ba-bea6-bd0b54be16c5",
   "metadata": {},
   "source": [
    "### 1.1 Add a gene count, so we know how many records of that gene we have"
   ]
  },
  {
   "cell_type": "code",
   "execution_count": 9,
   "id": "331993a6-2202-4e35-ba2e-fb955064d5e0",
   "metadata": {},
   "outputs": [],
   "source": [
    "variants = variants %>% group_by(Gene) %>% add_count() %>% ungroup()"
   ]
  },
  {
   "cell_type": "markdown",
   "id": "3b8e79d4-381f-4f65-915a-653c4ec48b01",
   "metadata": {},
   "source": [
    "### 1.2 Split the very long AAChange contents up at the “,” and write the wide format into long format: Now we have multiple rows per MarkeName"
   ]
  },
  {
   "cell_type": "code",
   "execution_count": 10,
   "id": "3eaadc5e-7dbf-40a3-afe5-6c5ff4014b55",
   "metadata": {},
   "outputs": [
    {
     "data": {
      "text/html": [
       "<table class=\"dataframe\">\n",
       "<caption>A tibble: 6 × 4</caption>\n",
       "<thead>\n",
       "\t<tr><th scope=col>MarkerName</th><th scope=col>Gene</th><th scope=col>AAChange</th><th scope=col>n</th></tr>\n",
       "\t<tr><th scope=col>&lt;chr&gt;</th><th scope=col>&lt;chr&gt;</th><th scope=col>&lt;chr&gt;</th><th scope=col>&lt;int&gt;</th></tr>\n",
       "</thead>\n",
       "<tbody>\n",
       "\t<tr><td>chr1:155235024</td><td>GBA</td><td>GBA:NM_001171811:exon10:c.A1321G:p.I441V</td><td>103</td></tr>\n",
       "\t<tr><td>chr1:155235024</td><td>GBA</td><td>GBA:NM_001171812:exon10:c.A1435G:p.I479V</td><td>103</td></tr>\n",
       "\t<tr><td>chr1:155235024</td><td>GBA</td><td>GBA:NM_000157:exon11:c.A1582G:p.I528V   </td><td>103</td></tr>\n",
       "\t<tr><td>chr1:155235024</td><td>GBA</td><td>GBA:NM_001005741:exon12:c.A1582G:p.I528V</td><td>103</td></tr>\n",
       "\t<tr><td>chr1:155235024</td><td>GBA</td><td>GBA:NM_001005742:exon12:c.A1582G:p.I528V</td><td>103</td></tr>\n",
       "\t<tr><td>chr1:155235057</td><td>GBA</td><td>GBA:NM_001171811:exon10:c.G1288A:p.G430S</td><td>103</td></tr>\n",
       "</tbody>\n",
       "</table>\n"
      ],
      "text/latex": [
       "A tibble: 6 × 4\n",
       "\\begin{tabular}{llll}\n",
       " MarkerName & Gene & AAChange & n\\\\\n",
       " <chr> & <chr> & <chr> & <int>\\\\\n",
       "\\hline\n",
       "\t chr1:155235024 & GBA & GBA:NM\\_001171811:exon10:c.A1321G:p.I441V & 103\\\\\n",
       "\t chr1:155235024 & GBA & GBA:NM\\_001171812:exon10:c.A1435G:p.I479V & 103\\\\\n",
       "\t chr1:155235024 & GBA & GBA:NM\\_000157:exon11:c.A1582G:p.I528V    & 103\\\\\n",
       "\t chr1:155235024 & GBA & GBA:NM\\_001005741:exon12:c.A1582G:p.I528V & 103\\\\\n",
       "\t chr1:155235024 & GBA & GBA:NM\\_001005742:exon12:c.A1582G:p.I528V & 103\\\\\n",
       "\t chr1:155235057 & GBA & GBA:NM\\_001171811:exon10:c.G1288A:p.G430S & 103\\\\\n",
       "\\end{tabular}\n"
      ],
      "text/markdown": [
       "\n",
       "A tibble: 6 × 4\n",
       "\n",
       "| MarkerName &lt;chr&gt; | Gene &lt;chr&gt; | AAChange &lt;chr&gt; | n &lt;int&gt; |\n",
       "|---|---|---|---|\n",
       "| chr1:155235024 | GBA | GBA:NM_001171811:exon10:c.A1321G:p.I441V | 103 |\n",
       "| chr1:155235024 | GBA | GBA:NM_001171812:exon10:c.A1435G:p.I479V | 103 |\n",
       "| chr1:155235024 | GBA | GBA:NM_000157:exon11:c.A1582G:p.I528V    | 103 |\n",
       "| chr1:155235024 | GBA | GBA:NM_001005741:exon12:c.A1582G:p.I528V | 103 |\n",
       "| chr1:155235024 | GBA | GBA:NM_001005742:exon12:c.A1582G:p.I528V | 103 |\n",
       "| chr1:155235057 | GBA | GBA:NM_001171811:exon10:c.G1288A:p.G430S | 103 |\n",
       "\n"
      ],
      "text/plain": [
       "  MarkerName     Gene AAChange                                 n  \n",
       "1 chr1:155235024 GBA  GBA:NM_001171811:exon10:c.A1321G:p.I441V 103\n",
       "2 chr1:155235024 GBA  GBA:NM_001171812:exon10:c.A1435G:p.I479V 103\n",
       "3 chr1:155235024 GBA  GBA:NM_000157:exon11:c.A1582G:p.I528V    103\n",
       "4 chr1:155235024 GBA  GBA:NM_001005741:exon12:c.A1582G:p.I528V 103\n",
       "5 chr1:155235024 GBA  GBA:NM_001005742:exon12:c.A1582G:p.I528V 103\n",
       "6 chr1:155235057 GBA  GBA:NM_001171811:exon10:c.G1288A:p.G430S 103"
      ]
     },
     "metadata": {},
     "output_type": "display_data"
    }
   ],
   "source": [
    "variants_sep = variants %>% separate_rows(AAChange, sep =\",\")\n",
    "head(variants_sep)"
   ]
  },
  {
   "cell_type": "markdown",
   "id": "7ae674a0-1cbe-445e-8ec0-43f024dbb755",
   "metadata": {},
   "source": [
    "### 1.3 Separate AAChange and only keep columns you need"
   ]
  },
  {
   "cell_type": "code",
   "execution_count": 11,
   "id": "bfe27f1e-aeed-43ac-9d6e-626d7adfe7fd",
   "metadata": {},
   "outputs": [
    {
     "name": "stderr",
     "output_type": "stream",
     "text": [
      "Warning message:\n",
      "“Expected 5 pieces. Missing pieces filled with `NA` in 19 rows [434, 435, 470, 534, 617, 662, 699, 708, 737, 758, 795, 908, 927, 954, 961, 1109, 1724, 1914, 2256].”\n"
     ]
    },
    {
     "data": {
      "text/html": [
       "<table class=\"dataframe\">\n",
       "<caption>A tibble: 6 × 5</caption>\n",
       "<thead>\n",
       "\t<tr><th scope=col>MarkerName</th><th scope=col>Gene</th><th scope=col>NM</th><th scope=col>p</th><th scope=col>n</th></tr>\n",
       "\t<tr><th scope=col>&lt;chr&gt;</th><th scope=col>&lt;chr&gt;</th><th scope=col>&lt;chr&gt;</th><th scope=col>&lt;chr&gt;</th><th scope=col>&lt;int&gt;</th></tr>\n",
       "</thead>\n",
       "<tbody>\n",
       "\t<tr><td>chr1:155235024</td><td>GBA</td><td>NM_001171811</td><td>p.I441V</td><td>103</td></tr>\n",
       "\t<tr><td>chr1:155235024</td><td>GBA</td><td>NM_001171812</td><td>p.I479V</td><td>103</td></tr>\n",
       "\t<tr><td>chr1:155235024</td><td>GBA</td><td>NM_000157   </td><td>p.I528V</td><td>103</td></tr>\n",
       "\t<tr><td>chr1:155235024</td><td>GBA</td><td>NM_001005741</td><td>p.I528V</td><td>103</td></tr>\n",
       "\t<tr><td>chr1:155235024</td><td>GBA</td><td>NM_001005742</td><td>p.I528V</td><td>103</td></tr>\n",
       "\t<tr><td>chr1:155235057</td><td>GBA</td><td>NM_001171811</td><td>p.G430S</td><td>103</td></tr>\n",
       "</tbody>\n",
       "</table>\n"
      ],
      "text/latex": [
       "A tibble: 6 × 5\n",
       "\\begin{tabular}{lllll}\n",
       " MarkerName & Gene & NM & p & n\\\\\n",
       " <chr> & <chr> & <chr> & <chr> & <int>\\\\\n",
       "\\hline\n",
       "\t chr1:155235024 & GBA & NM\\_001171811 & p.I441V & 103\\\\\n",
       "\t chr1:155235024 & GBA & NM\\_001171812 & p.I479V & 103\\\\\n",
       "\t chr1:155235024 & GBA & NM\\_000157    & p.I528V & 103\\\\\n",
       "\t chr1:155235024 & GBA & NM\\_001005741 & p.I528V & 103\\\\\n",
       "\t chr1:155235024 & GBA & NM\\_001005742 & p.I528V & 103\\\\\n",
       "\t chr1:155235057 & GBA & NM\\_001171811 & p.G430S & 103\\\\\n",
       "\\end{tabular}\n"
      ],
      "text/markdown": [
       "\n",
       "A tibble: 6 × 5\n",
       "\n",
       "| MarkerName &lt;chr&gt; | Gene &lt;chr&gt; | NM &lt;chr&gt; | p &lt;chr&gt; | n &lt;int&gt; |\n",
       "|---|---|---|---|---|\n",
       "| chr1:155235024 | GBA | NM_001171811 | p.I441V | 103 |\n",
       "| chr1:155235024 | GBA | NM_001171812 | p.I479V | 103 |\n",
       "| chr1:155235024 | GBA | NM_000157    | p.I528V | 103 |\n",
       "| chr1:155235024 | GBA | NM_001005741 | p.I528V | 103 |\n",
       "| chr1:155235024 | GBA | NM_001005742 | p.I528V | 103 |\n",
       "| chr1:155235057 | GBA | NM_001171811 | p.G430S | 103 |\n",
       "\n"
      ],
      "text/plain": [
       "  MarkerName     Gene NM           p       n  \n",
       "1 chr1:155235024 GBA  NM_001171811 p.I441V 103\n",
       "2 chr1:155235024 GBA  NM_001171812 p.I479V 103\n",
       "3 chr1:155235024 GBA  NM_000157    p.I528V 103\n",
       "4 chr1:155235024 GBA  NM_001005741 p.I528V 103\n",
       "5 chr1:155235024 GBA  NM_001005742 p.I528V 103\n",
       "6 chr1:155235057 GBA  NM_001171811 p.G430S 103"
      ]
     },
     "metadata": {},
     "output_type": "display_data"
    }
   ],
   "source": [
    "variants_sep = variants_sep %>% tidyr::separate(AAChange, c(\"Gene2\", \"NM\", \"exon\", \"c\", \"p\"), sep = \":\") %>% dplyr::select(MarkerName, Gene, NM, p, n)\n",
    "\n",
    "# Warning message: Expected 5 pieces. Missing pieces filled with `NA` in 17 rows [10, 20, 43, 190, 280, 373, 378, 515, 815, 1474, 1523, 1596, 1860, 2116, 2275, 2327, 2419]\n",
    "\n",
    "\n",
    "head(variants_sep)"
   ]
  },
  {
   "cell_type": "code",
   "execution_count": 12,
   "id": "cd82acca-6517-4338-997e-7e0d7ecb61a8",
   "metadata": {},
   "outputs": [],
   "source": [
    "# little beauty correction to remove the \"p.\"\n",
    "variants_sep$p = gsub(\"p.\", \"\", variants_sep$p)"
   ]
  },
  {
   "cell_type": "markdown",
   "id": "758b2f69-275b-4481-891f-22528eede03d",
   "metadata": {},
   "source": [
    "## 2. Add helper columns"
   ]
  },
  {
   "cell_type": "markdown",
   "id": "e0fc4da4-7e8b-400c-8e75-d4cd316227ca",
   "metadata": {},
   "source": [
    "### 2.1 Identify NM with the highest count per gene"
   ]
  },
  {
   "cell_type": "code",
   "execution_count": 13,
   "id": "ef769078-e772-4573-a7a2-052e5508ab73",
   "metadata": {},
   "outputs": [
    {
     "data": {
      "text/html": [
       "<table class=\"dataframe\">\n",
       "<caption>A grouped_df: 6 × 3</caption>\n",
       "<thead>\n",
       "\t<tr><th scope=col>Gene</th><th scope=col>NM</th><th scope=col>Gene_NM_count</th></tr>\n",
       "\t<tr><th scope=col>&lt;chr&gt;</th><th scope=col>&lt;chr&gt;</th><th scope=col>&lt;int&gt;</th></tr>\n",
       "</thead>\n",
       "<tbody>\n",
       "\t<tr><td>ATP13A2</td><td>NM_001141973</td><td>35</td></tr>\n",
       "\t<tr><td>ATP13A2</td><td>NM_001141974</td><td>39</td></tr>\n",
       "\t<tr><td>ATP13A2</td><td>NM_022089   </td><td>35</td></tr>\n",
       "\t<tr><td>ATP13A2</td><td>NA          </td><td> 1</td></tr>\n",
       "\t<tr><td>DNAJC13</td><td>NM_001329126</td><td>41</td></tr>\n",
       "\t<tr><td>DNAJC13</td><td>NM_015268   </td><td>41</td></tr>\n",
       "</tbody>\n",
       "</table>\n"
      ],
      "text/latex": [
       "A grouped\\_df: 6 × 3\n",
       "\\begin{tabular}{lll}\n",
       " Gene & NM & Gene\\_NM\\_count\\\\\n",
       " <chr> & <chr> & <int>\\\\\n",
       "\\hline\n",
       "\t ATP13A2 & NM\\_001141973 & 35\\\\\n",
       "\t ATP13A2 & NM\\_001141974 & 39\\\\\n",
       "\t ATP13A2 & NM\\_022089    & 35\\\\\n",
       "\t ATP13A2 & NA           &  1\\\\\n",
       "\t DNAJC13 & NM\\_001329126 & 41\\\\\n",
       "\t DNAJC13 & NM\\_015268    & 41\\\\\n",
       "\\end{tabular}\n"
      ],
      "text/markdown": [
       "\n",
       "A grouped_df: 6 × 3\n",
       "\n",
       "| Gene &lt;chr&gt; | NM &lt;chr&gt; | Gene_NM_count &lt;int&gt; |\n",
       "|---|---|---|\n",
       "| ATP13A2 | NM_001141973 | 35 |\n",
       "| ATP13A2 | NM_001141974 | 39 |\n",
       "| ATP13A2 | NM_022089    | 35 |\n",
       "| ATP13A2 | NA           |  1 |\n",
       "| DNAJC13 | NM_001329126 | 41 |\n",
       "| DNAJC13 | NM_015268    | 41 |\n",
       "\n"
      ],
      "text/plain": [
       "  Gene    NM           Gene_NM_count\n",
       "1 ATP13A2 NM_001141973 35           \n",
       "2 ATP13A2 NM_001141974 39           \n",
       "3 ATP13A2 NM_022089    35           \n",
       "4 ATP13A2 NA            1           \n",
       "5 DNAJC13 NM_001329126 41           \n",
       "6 DNAJC13 NM_015268    41           "
      ]
     },
     "metadata": {},
     "output_type": "display_data"
    }
   ],
   "source": [
    "countNM = variants_sep %>% group_by(Gene, NM) %>% tally() %>% arrange(Gene) %>% rename(\"Gene_NM_count\" = n)\n",
    "\n",
    "head(countNM)"
   ]
  },
  {
   "cell_type": "markdown",
   "id": "39a3e1ea-5da9-48d7-9162-c838206c49ef",
   "metadata": {},
   "source": [
    "Identify the highest count\n",
    "This could’ve been easily done with e.g. slice() but we have multiple ones with the highest count and we don’t just want to remove them. It’s a bit more complicated but this now gives us the highest count value per gene per NM."
   ]
  },
  {
   "cell_type": "code",
   "execution_count": 14,
   "id": "985e6991-e94e-4d38-b69c-66e9b5f6fcf2",
   "metadata": {},
   "outputs": [
    {
     "data": {
      "text/html": [
       "<table class=\"dataframe\">\n",
       "<caption>A tibble: 6 × 2</caption>\n",
       "<thead>\n",
       "\t<tr><th scope=col>Gene</th><th scope=col>n</th></tr>\n",
       "\t<tr><th scope=col>&lt;chr&gt;</th><th scope=col>&lt;int&gt;</th></tr>\n",
       "</thead>\n",
       "<tbody>\n",
       "\t<tr><td>ATP13A2</td><td> 39</td></tr>\n",
       "\t<tr><td>DNAJC13</td><td> 41</td></tr>\n",
       "\t<tr><td>DNAJC6 </td><td> 16</td></tr>\n",
       "\t<tr><td>EIF4G1 </td><td> 41</td></tr>\n",
       "\t<tr><td>FBXO7  </td><td> 11</td></tr>\n",
       "\t<tr><td>GBA    </td><td>101</td></tr>\n",
       "</tbody>\n",
       "</table>\n"
      ],
      "text/latex": [
       "A tibble: 6 × 2\n",
       "\\begin{tabular}{ll}\n",
       " Gene & n\\\\\n",
       " <chr> & <int>\\\\\n",
       "\\hline\n",
       "\t ATP13A2 &  39\\\\\n",
       "\t DNAJC13 &  41\\\\\n",
       "\t DNAJC6  &  16\\\\\n",
       "\t EIF4G1  &  41\\\\\n",
       "\t FBXO7   &  11\\\\\n",
       "\t GBA     & 101\\\\\n",
       "\\end{tabular}\n"
      ],
      "text/markdown": [
       "\n",
       "A tibble: 6 × 2\n",
       "\n",
       "| Gene &lt;chr&gt; | n &lt;int&gt; |\n",
       "|---|---|\n",
       "| ATP13A2 |  39 |\n",
       "| DNAJC13 |  41 |\n",
       "| DNAJC6  |  16 |\n",
       "| EIF4G1  |  41 |\n",
       "| FBXO7   |  11 |\n",
       "| GBA     | 101 |\n",
       "\n"
      ],
      "text/plain": [
       "  Gene    n  \n",
       "1 ATP13A2  39\n",
       "2 DNAJC13  41\n",
       "3 DNAJC6   16\n",
       "4 EIF4G1   41\n",
       "5 FBXO7    11\n",
       "6 GBA     101"
      ]
     },
     "metadata": {},
     "output_type": "display_data"
    }
   ],
   "source": [
    "topNM = variants_sep %>% group_by(Gene, NM) %>% tally() %>% slice(which.max(n)) %>% dplyr::select(Gene,n) %>% ungroup()\n",
    "\n",
    "head(topNM)"
   ]
  },
  {
   "cell_type": "code",
   "execution_count": 15,
   "id": "82267348-5bb5-4a29-ac39-2af45e1db42b",
   "metadata": {},
   "outputs": [
    {
     "name": "stderr",
     "output_type": "stream",
     "text": [
      "\u001b[1m\u001b[22mJoining, by = \"Gene\"\n"
     ]
    },
    {
     "data": {
      "text/html": [
       "<table class=\"dataframe\">\n",
       "<caption>A grouped_df: 6 × 4</caption>\n",
       "<thead>\n",
       "\t<tr><th scope=col>Gene</th><th scope=col>NM</th><th scope=col>Gene_NM_count</th><th scope=col>n</th></tr>\n",
       "\t<tr><th scope=col>&lt;chr&gt;</th><th scope=col>&lt;chr&gt;</th><th scope=col>&lt;int&gt;</th><th scope=col>&lt;int&gt;</th></tr>\n",
       "</thead>\n",
       "<tbody>\n",
       "\t<tr><td>ATP13A2</td><td>NM_001141973</td><td>35</td><td>39</td></tr>\n",
       "\t<tr><td>ATP13A2</td><td>NM_001141974</td><td>39</td><td>39</td></tr>\n",
       "\t<tr><td>ATP13A2</td><td>NM_022089   </td><td>35</td><td>39</td></tr>\n",
       "\t<tr><td>ATP13A2</td><td>NA          </td><td> 1</td><td>39</td></tr>\n",
       "\t<tr><td>DNAJC13</td><td>NM_001329126</td><td>41</td><td>41</td></tr>\n",
       "\t<tr><td>DNAJC13</td><td>NM_015268   </td><td>41</td><td>41</td></tr>\n",
       "</tbody>\n",
       "</table>\n"
      ],
      "text/latex": [
       "A grouped\\_df: 6 × 4\n",
       "\\begin{tabular}{llll}\n",
       " Gene & NM & Gene\\_NM\\_count & n\\\\\n",
       " <chr> & <chr> & <int> & <int>\\\\\n",
       "\\hline\n",
       "\t ATP13A2 & NM\\_001141973 & 35 & 39\\\\\n",
       "\t ATP13A2 & NM\\_001141974 & 39 & 39\\\\\n",
       "\t ATP13A2 & NM\\_022089    & 35 & 39\\\\\n",
       "\t ATP13A2 & NA           &  1 & 39\\\\\n",
       "\t DNAJC13 & NM\\_001329126 & 41 & 41\\\\\n",
       "\t DNAJC13 & NM\\_015268    & 41 & 41\\\\\n",
       "\\end{tabular}\n"
      ],
      "text/markdown": [
       "\n",
       "A grouped_df: 6 × 4\n",
       "\n",
       "| Gene &lt;chr&gt; | NM &lt;chr&gt; | Gene_NM_count &lt;int&gt; | n &lt;int&gt; |\n",
       "|---|---|---|---|\n",
       "| ATP13A2 | NM_001141973 | 35 | 39 |\n",
       "| ATP13A2 | NM_001141974 | 39 | 39 |\n",
       "| ATP13A2 | NM_022089    | 35 | 39 |\n",
       "| ATP13A2 | NA           |  1 | 39 |\n",
       "| DNAJC13 | NM_001329126 | 41 | 41 |\n",
       "| DNAJC13 | NM_015268    | 41 | 41 |\n",
       "\n"
      ],
      "text/plain": [
       "  Gene    NM           Gene_NM_count n \n",
       "1 ATP13A2 NM_001141973 35            39\n",
       "2 ATP13A2 NM_001141974 39            39\n",
       "3 ATP13A2 NM_022089    35            39\n",
       "4 ATP13A2 NA            1            39\n",
       "5 DNAJC13 NM_001329126 41            41\n",
       "6 DNAJC13 NM_015268    41            41"
      ]
     },
     "metadata": {},
     "output_type": "display_data"
    }
   ],
   "source": [
    "# Add the highest count\n",
    "# Now add the highest count column and filter for those Gene_NM_count == n\n",
    "\n",
    "fulljoin = full_join(countNM, topNM) \n",
    "head(fulljoin)"
   ]
  },
  {
   "cell_type": "code",
   "execution_count": 16,
   "id": "e17c9549-529f-4df1-ab35-453cd8575fd8",
   "metadata": {},
   "outputs": [
    {
     "data": {
      "text/html": [
       "<table class=\"dataframe\">\n",
       "<caption>A grouped_df: 6 × 3</caption>\n",
       "<thead>\n",
       "\t<tr><th scope=col>Gene</th><th scope=col>NM</th><th scope=col>Keep</th></tr>\n",
       "\t<tr><th scope=col>&lt;chr&gt;</th><th scope=col>&lt;chr&gt;</th><th scope=col>&lt;chr&gt;</th></tr>\n",
       "</thead>\n",
       "<tbody>\n",
       "\t<tr><td>ATP13A2</td><td>NM_001141974</td><td>Yes</td></tr>\n",
       "\t<tr><td>DNAJC13</td><td>NM_001329126</td><td>Yes</td></tr>\n",
       "\t<tr><td>DNAJC13</td><td>NM_015268   </td><td>Yes</td></tr>\n",
       "\t<tr><td>DNAJC6 </td><td>NM_001256864</td><td>Yes</td></tr>\n",
       "\t<tr><td>DNAJC6 </td><td>NM_001256865</td><td>Yes</td></tr>\n",
       "\t<tr><td>DNAJC6 </td><td>NM_014787   </td><td>Yes</td></tr>\n",
       "</tbody>\n",
       "</table>\n"
      ],
      "text/latex": [
       "A grouped\\_df: 6 × 3\n",
       "\\begin{tabular}{lll}\n",
       " Gene & NM & Keep\\\\\n",
       " <chr> & <chr> & <chr>\\\\\n",
       "\\hline\n",
       "\t ATP13A2 & NM\\_001141974 & Yes\\\\\n",
       "\t DNAJC13 & NM\\_001329126 & Yes\\\\\n",
       "\t DNAJC13 & NM\\_015268    & Yes\\\\\n",
       "\t DNAJC6  & NM\\_001256864 & Yes\\\\\n",
       "\t DNAJC6  & NM\\_001256865 & Yes\\\\\n",
       "\t DNAJC6  & NM\\_014787    & Yes\\\\\n",
       "\\end{tabular}\n"
      ],
      "text/markdown": [
       "\n",
       "A grouped_df: 6 × 3\n",
       "\n",
       "| Gene &lt;chr&gt; | NM &lt;chr&gt; | Keep &lt;chr&gt; |\n",
       "|---|---|---|\n",
       "| ATP13A2 | NM_001141974 | Yes |\n",
       "| DNAJC13 | NM_001329126 | Yes |\n",
       "| DNAJC13 | NM_015268    | Yes |\n",
       "| DNAJC6  | NM_001256864 | Yes |\n",
       "| DNAJC6  | NM_001256865 | Yes |\n",
       "| DNAJC6  | NM_014787    | Yes |\n",
       "\n"
      ],
      "text/plain": [
       "  Gene    NM           Keep\n",
       "1 ATP13A2 NM_001141974 Yes \n",
       "2 DNAJC13 NM_001329126 Yes \n",
       "3 DNAJC13 NM_015268    Yes \n",
       "4 DNAJC6  NM_001256864 Yes \n",
       "5 DNAJC6  NM_001256865 Yes \n",
       "6 DNAJC6  NM_014787    Yes "
      ]
     },
     "metadata": {},
     "output_type": "display_data"
    }
   ],
   "source": [
    "# Now identify the NM_x to keep - note there are sometimes multiple per gene\n",
    "\n",
    "fulljoin = fulljoin %>% filter(Gene_NM_count == n)\n",
    "fulljoin$Keep = \"Yes\"\n",
    "fulljoin = fulljoin %>% select(Gene, NM, Keep)\n",
    "\n",
    "head(fulljoin)"
   ]
  },
  {
   "cell_type": "code",
   "execution_count": 17,
   "id": "f7dabb34-b2e8-4079-ac50-e1fb5c26e3c2",
   "metadata": {},
   "outputs": [],
   "source": [
    "fulljoin = fulljoin %>% separate(NM, c(\"NM\", \"NM_number\"), sep = \"_\")\n",
    "fulljoin = fulljoin %>% group_by(Gene) %>% dplyr::slice(which.min(NM_number)) %>% arrange(NM_number) %>% ungroup()\n",
    "fulljoin = fulljoin %>% unite(NM, c(\"NM\", \"NM_number\"), sep = \"_\")"
   ]
  },
  {
   "cell_type": "markdown",
   "id": "e2335573-bfb1-4a5b-802f-d582af01d0b4",
   "metadata": {},
   "source": [
    "## 3. Join those helper files with original file"
   ]
  },
  {
   "cell_type": "code",
   "execution_count": 18,
   "id": "95eaaf09-5f5b-4699-90ed-3ee8cdc44639",
   "metadata": {},
   "outputs": [
    {
     "name": "stderr",
     "output_type": "stream",
     "text": [
      "\u001b[1m\u001b[22mJoining, by = c(\"Gene\", \"NM\")\n"
     ]
    },
    {
     "data": {
      "text/html": [
       "<table class=\"dataframe\">\n",
       "<caption>A tibble: 6 × 6</caption>\n",
       "<thead>\n",
       "\t<tr><th scope=col>MarkerName</th><th scope=col>Gene</th><th scope=col>NM</th><th scope=col>p</th><th scope=col>n</th><th scope=col>Keep</th></tr>\n",
       "\t<tr><th scope=col>&lt;chr&gt;</th><th scope=col>&lt;chr&gt;</th><th scope=col>&lt;chr&gt;</th><th scope=col>&lt;chr&gt;</th><th scope=col>&lt;int&gt;</th><th scope=col>&lt;chr&gt;</th></tr>\n",
       "</thead>\n",
       "<tbody>\n",
       "\t<tr><td>chr1:155235024</td><td>GBA</td><td>NM_000157</td><td>I528V</td><td>103</td><td>Yes</td></tr>\n",
       "\t<tr><td>chr1:155235057</td><td>GBA</td><td>NM_000157</td><td>G517S</td><td>103</td><td>Yes</td></tr>\n",
       "\t<tr><td>chr1:155235195</td><td>GBA</td><td>NM_000157</td><td>R502H</td><td>103</td><td>Yes</td></tr>\n",
       "\t<tr><td>chr1:155235196</td><td>GBA</td><td>NM_000157</td><td>R502C</td><td>103</td><td>Yes</td></tr>\n",
       "\t<tr><td>chr1:155235197</td><td>GBA</td><td>NM_000157</td><td>N501K</td><td>103</td><td>Yes</td></tr>\n",
       "\t<tr><td>chr1:155235231</td><td>GBA</td><td>NM_000157</td><td>H490R</td><td>103</td><td>Yes</td></tr>\n",
       "</tbody>\n",
       "</table>\n"
      ],
      "text/latex": [
       "A tibble: 6 × 6\n",
       "\\begin{tabular}{llllll}\n",
       " MarkerName & Gene & NM & p & n & Keep\\\\\n",
       " <chr> & <chr> & <chr> & <chr> & <int> & <chr>\\\\\n",
       "\\hline\n",
       "\t chr1:155235024 & GBA & NM\\_000157 & I528V & 103 & Yes\\\\\n",
       "\t chr1:155235057 & GBA & NM\\_000157 & G517S & 103 & Yes\\\\\n",
       "\t chr1:155235195 & GBA & NM\\_000157 & R502H & 103 & Yes\\\\\n",
       "\t chr1:155235196 & GBA & NM\\_000157 & R502C & 103 & Yes\\\\\n",
       "\t chr1:155235197 & GBA & NM\\_000157 & N501K & 103 & Yes\\\\\n",
       "\t chr1:155235231 & GBA & NM\\_000157 & H490R & 103 & Yes\\\\\n",
       "\\end{tabular}\n"
      ],
      "text/markdown": [
       "\n",
       "A tibble: 6 × 6\n",
       "\n",
       "| MarkerName &lt;chr&gt; | Gene &lt;chr&gt; | NM &lt;chr&gt; | p &lt;chr&gt; | n &lt;int&gt; | Keep &lt;chr&gt; |\n",
       "|---|---|---|---|---|---|\n",
       "| chr1:155235024 | GBA | NM_000157 | I528V | 103 | Yes |\n",
       "| chr1:155235057 | GBA | NM_000157 | G517S | 103 | Yes |\n",
       "| chr1:155235195 | GBA | NM_000157 | R502H | 103 | Yes |\n",
       "| chr1:155235196 | GBA | NM_000157 | R502C | 103 | Yes |\n",
       "| chr1:155235197 | GBA | NM_000157 | N501K | 103 | Yes |\n",
       "| chr1:155235231 | GBA | NM_000157 | H490R | 103 | Yes |\n",
       "\n"
      ],
      "text/plain": [
       "  MarkerName     Gene NM        p     n   Keep\n",
       "1 chr1:155235024 GBA  NM_000157 I528V 103 Yes \n",
       "2 chr1:155235057 GBA  NM_000157 G517S 103 Yes \n",
       "3 chr1:155235195 GBA  NM_000157 R502H 103 Yes \n",
       "4 chr1:155235196 GBA  NM_000157 R502C 103 Yes \n",
       "5 chr1:155235197 GBA  NM_000157 N501K 103 Yes \n",
       "6 chr1:155235231 GBA  NM_000157 H490R 103 Yes "
      ]
     },
     "metadata": {},
     "output_type": "display_data"
    }
   ],
   "source": [
    "fulljoin2 = full_join(variants_sep, fulljoin) %>% filter(!is.na(Keep))\n",
    "\n",
    "head(fulljoin2)"
   ]
  },
  {
   "cell_type": "code",
   "execution_count": 19,
   "id": "792eb125-0b37-4752-bb95-c2c6a3e7fed3",
   "metadata": {},
   "outputs": [],
   "source": [
    "# write this into a file, in case we end up with multiple AAchanges and need to trace back\n",
    "write.table(fulljoin2, \"NM_transcript_list.txt\", row.names=F, sep = \"\\t\", quote = F)"
   ]
  },
  {
   "cell_type": "code",
   "execution_count": 20,
   "id": "08fef43f-1bd6-4de5-b6e8-301f8ae31be6",
   "metadata": {},
   "outputs": [],
   "source": [
    "# different NM's can have the same p.Change!\n",
    "# some manual changes\n",
    "fulljoin2$Gene1 = fulljoin2$Gene\n",
    "fulljoin2 = fulljoin2 %>% tidyr::unite(\"VariantName\", c(\"Gene\", \"p\"), sep =\"_\") %>% rename(\"Gene\" = Gene1)  %>% select(MarkerName, Gene, VariantName) %>% distinct()"
   ]
  },
  {
   "cell_type": "markdown",
   "id": "f28e5360-9329-43c2-baf1-7cdf20f090eb",
   "metadata": {},
   "source": [
    "Concatenate p.s when there are multiple per MarkerName"
   ]
  },
  {
   "cell_type": "code",
   "execution_count": 22,
   "id": "98e08735-591d-40c5-acc9-c5bb097c2316",
   "metadata": {},
   "outputs": [
    {
     "name": "stderr",
     "output_type": "stream",
     "text": [
      "\u001b[1m\u001b[22mJoining, by = \"MarkerName\"\n"
     ]
    },
    {
     "data": {
      "text/html": [
       "<table class=\"dataframe\">\n",
       "<caption>A data.table: 6 × 33</caption>\n",
       "<thead>\n",
       "\t<tr><th scope=col>MarkerName</th><th scope=col>End</th><th scope=col>Ref</th><th scope=col>Alt</th><th scope=col>Func.refGene</th><th scope=col>Gene</th><th scope=col>GeneDetail.refGene</th><th scope=col>ExonicFunc.refGene</th><th scope=col>AAChange</th><th scope=col>avsnp150</th><th scope=col>⋯</th><th scope=col>AF_eas</th><th scope=col>AF_nfe</th><th scope=col>AF_fin</th><th scope=col>AF_asj</th><th scope=col>AF_oth</th><th scope=col>non_topmed_AF_popmax</th><th scope=col>non_neuro_AF_popmax</th><th scope=col>non_cancer_AF_popmax</th><th scope=col>controls_AF_popmax</th><th scope=col>VariantName</th></tr>\n",
       "\t<tr><th scope=col>&lt;chr&gt;</th><th scope=col>&lt;int&gt;</th><th scope=col>&lt;chr&gt;</th><th scope=col>&lt;chr&gt;</th><th scope=col>&lt;chr&gt;</th><th scope=col>&lt;chr&gt;</th><th scope=col>&lt;chr&gt;</th><th scope=col>&lt;chr&gt;</th><th scope=col>&lt;chr&gt;</th><th scope=col>&lt;chr&gt;</th><th scope=col>⋯</th><th scope=col>&lt;chr&gt;</th><th scope=col>&lt;chr&gt;</th><th scope=col>&lt;chr&gt;</th><th scope=col>&lt;chr&gt;</th><th scope=col>&lt;chr&gt;</th><th scope=col>&lt;chr&gt;</th><th scope=col>&lt;chr&gt;</th><th scope=col>&lt;chr&gt;</th><th scope=col>&lt;chr&gt;</th><th scope=col>&lt;chr&gt;</th></tr>\n",
       "</thead>\n",
       "<tbody>\n",
       "\t<tr><td>chr1:155235024</td><td>155235024</td><td>T</td><td>C</td><td>exonic</td><td>GBA</td><td>.</td><td>nonsynonymous SNV</td><td>GBA:NM_001171811:exon10:c.A1321G:p.I441V,GBA:NM_001171812:exon10:c.A1435G:p.I479V,GBA:NM_000157:exon11:c.A1582G:p.I528V,GBA:NM_001005741:exon12:c.A1582G:p.I528V,GBA:NM_001005742:exon12:c.A1582G:p.I528V</td><td>rs536425950</td><td>⋯</td><td>.</td><td>.</td><td>.</td><td>.</td><td>.</td><td>.     </td><td>.</td><td>.</td><td>.</td><td>GBA_I528V</td></tr>\n",
       "\t<tr><td>chr1:155235057</td><td>155235057</td><td>C</td><td>T</td><td>exonic</td><td>GBA</td><td>.</td><td>nonsynonymous SNV</td><td>GBA:NM_001171811:exon10:c.G1288A:p.G430S,GBA:NM_001171812:exon10:c.G1402A:p.G468S,GBA:NM_000157:exon11:c.G1549A:p.G517S,GBA:NM_001005741:exon12:c.G1549A:p.G517S,GBA:NM_001005742:exon12:c.G1549A:p.G517S</td><td>rs121908301</td><td>⋯</td><td>.</td><td>.</td><td>.</td><td>.</td><td>.</td><td>.     </td><td>.</td><td>.</td><td>.</td><td>GBA_G517S</td></tr>\n",
       "\t<tr><td>chr1:155235195</td><td>155235195</td><td>C</td><td>T</td><td>exonic</td><td>GBA</td><td>.</td><td>nonsynonymous SNV</td><td>GBA:NM_001171811:exon9:c.G1244A:p.R415H,GBA:NM_001171812:exon9:c.G1358A:p.R453H,GBA:NM_000157:exon10:c.G1505A:p.R502H,GBA:NM_001005741:exon11:c.G1505A:p.R502H,GBA:NM_001005742:exon11:c.G1505A:p.R502H  </td><td>rs80356772 </td><td>⋯</td><td>.</td><td>.</td><td>.</td><td>.</td><td>.</td><td>.     </td><td>.</td><td>.</td><td>.</td><td>GBA_R502H</td></tr>\n",
       "\t<tr><td>chr1:155235196</td><td>155235196</td><td>G</td><td>A</td><td>exonic</td><td>GBA</td><td>.</td><td>nonsynonymous SNV</td><td>GBA:NM_001171811:exon9:c.C1243T:p.R415C,GBA:NM_001171812:exon9:c.C1357T:p.R453C,GBA:NM_000157:exon10:c.C1504T:p.R502C,GBA:NM_001005741:exon11:c.C1504T:p.R502C,GBA:NM_001005742:exon11:c.C1504T:p.R502C  </td><td>rs80356771 </td><td>⋯</td><td>0</td><td>0</td><td>0</td><td>0</td><td>0</td><td>0.0001</td><td>.</td><td>.</td><td>.</td><td>GBA_R502C</td></tr>\n",
       "\t<tr><td>chr1:155235197</td><td>155235197</td><td>G</td><td>C</td><td>exonic</td><td>GBA</td><td>.</td><td>nonsynonymous SNV</td><td>GBA:NM_001171811:exon9:c.C1242G:p.N414K,GBA:NM_001171812:exon9:c.C1356G:p.N452K,GBA:NM_000157:exon10:c.C1503G:p.N501K,GBA:NM_001005741:exon11:c.C1503G:p.N501K,GBA:NM_001005742:exon11:c.C1503G:p.N501K  </td><td>.          </td><td>⋯</td><td>.</td><td>.</td><td>.</td><td>.</td><td>.</td><td>.     </td><td>.</td><td>.</td><td>.</td><td>GBA_N501K</td></tr>\n",
       "\t<tr><td>chr1:155235231</td><td>155235231</td><td>T</td><td>C</td><td>exonic</td><td>GBA</td><td>.</td><td>nonsynonymous SNV</td><td>GBA:NM_001171811:exon9:c.A1208G:p.H403R,GBA:NM_001171812:exon9:c.A1322G:p.H441R,GBA:NM_000157:exon10:c.A1469G:p.H490R,GBA:NM_001005741:exon11:c.A1469G:p.H490R,GBA:NM_001005742:exon11:c.A1469G:p.H490R  </td><td>rs76071730 </td><td>⋯</td><td>.</td><td>.</td><td>.</td><td>.</td><td>.</td><td>.     </td><td>.</td><td>.</td><td>.</td><td>GBA_H490R</td></tr>\n",
       "</tbody>\n",
       "</table>\n"
      ],
      "text/latex": [
       "A data.table: 6 × 33\n",
       "\\begin{tabular}{lllllllllllllllllllll}\n",
       " MarkerName & End & Ref & Alt & Func.refGene & Gene & GeneDetail.refGene & ExonicFunc.refGene & AAChange & avsnp150 & ⋯ & AF\\_eas & AF\\_nfe & AF\\_fin & AF\\_asj & AF\\_oth & non\\_topmed\\_AF\\_popmax & non\\_neuro\\_AF\\_popmax & non\\_cancer\\_AF\\_popmax & controls\\_AF\\_popmax & VariantName\\\\\n",
       " <chr> & <int> & <chr> & <chr> & <chr> & <chr> & <chr> & <chr> & <chr> & <chr> & ⋯ & <chr> & <chr> & <chr> & <chr> & <chr> & <chr> & <chr> & <chr> & <chr> & <chr>\\\\\n",
       "\\hline\n",
       "\t chr1:155235024 & 155235024 & T & C & exonic & GBA & . & nonsynonymous SNV & GBA:NM\\_001171811:exon10:c.A1321G:p.I441V,GBA:NM\\_001171812:exon10:c.A1435G:p.I479V,GBA:NM\\_000157:exon11:c.A1582G:p.I528V,GBA:NM\\_001005741:exon12:c.A1582G:p.I528V,GBA:NM\\_001005742:exon12:c.A1582G:p.I528V & rs536425950 & ⋯ & . & . & . & . & . & .      & . & . & . & GBA\\_I528V\\\\\n",
       "\t chr1:155235057 & 155235057 & C & T & exonic & GBA & . & nonsynonymous SNV & GBA:NM\\_001171811:exon10:c.G1288A:p.G430S,GBA:NM\\_001171812:exon10:c.G1402A:p.G468S,GBA:NM\\_000157:exon11:c.G1549A:p.G517S,GBA:NM\\_001005741:exon12:c.G1549A:p.G517S,GBA:NM\\_001005742:exon12:c.G1549A:p.G517S & rs121908301 & ⋯ & . & . & . & . & . & .      & . & . & . & GBA\\_G517S\\\\\n",
       "\t chr1:155235195 & 155235195 & C & T & exonic & GBA & . & nonsynonymous SNV & GBA:NM\\_001171811:exon9:c.G1244A:p.R415H,GBA:NM\\_001171812:exon9:c.G1358A:p.R453H,GBA:NM\\_000157:exon10:c.G1505A:p.R502H,GBA:NM\\_001005741:exon11:c.G1505A:p.R502H,GBA:NM\\_001005742:exon11:c.G1505A:p.R502H   & rs80356772  & ⋯ & . & . & . & . & . & .      & . & . & . & GBA\\_R502H\\\\\n",
       "\t chr1:155235196 & 155235196 & G & A & exonic & GBA & . & nonsynonymous SNV & GBA:NM\\_001171811:exon9:c.C1243T:p.R415C,GBA:NM\\_001171812:exon9:c.C1357T:p.R453C,GBA:NM\\_000157:exon10:c.C1504T:p.R502C,GBA:NM\\_001005741:exon11:c.C1504T:p.R502C,GBA:NM\\_001005742:exon11:c.C1504T:p.R502C   & rs80356771  & ⋯ & 0 & 0 & 0 & 0 & 0 & 0.0001 & . & . & . & GBA\\_R502C\\\\\n",
       "\t chr1:155235197 & 155235197 & G & C & exonic & GBA & . & nonsynonymous SNV & GBA:NM\\_001171811:exon9:c.C1242G:p.N414K,GBA:NM\\_001171812:exon9:c.C1356G:p.N452K,GBA:NM\\_000157:exon10:c.C1503G:p.N501K,GBA:NM\\_001005741:exon11:c.C1503G:p.N501K,GBA:NM\\_001005742:exon11:c.C1503G:p.N501K   & .           & ⋯ & . & . & . & . & . & .      & . & . & . & GBA\\_N501K\\\\\n",
       "\t chr1:155235231 & 155235231 & T & C & exonic & GBA & . & nonsynonymous SNV & GBA:NM\\_001171811:exon9:c.A1208G:p.H403R,GBA:NM\\_001171812:exon9:c.A1322G:p.H441R,GBA:NM\\_000157:exon10:c.A1469G:p.H490R,GBA:NM\\_001005741:exon11:c.A1469G:p.H490R,GBA:NM\\_001005742:exon11:c.A1469G:p.H490R   & rs76071730  & ⋯ & . & . & . & . & . & .      & . & . & . & GBA\\_H490R\\\\\n",
       "\\end{tabular}\n"
      ],
      "text/markdown": [
       "\n",
       "A data.table: 6 × 33\n",
       "\n",
       "| MarkerName &lt;chr&gt; | End &lt;int&gt; | Ref &lt;chr&gt; | Alt &lt;chr&gt; | Func.refGene &lt;chr&gt; | Gene &lt;chr&gt; | GeneDetail.refGene &lt;chr&gt; | ExonicFunc.refGene &lt;chr&gt; | AAChange &lt;chr&gt; | avsnp150 &lt;chr&gt; | ⋯ ⋯ | AF_eas &lt;chr&gt; | AF_nfe &lt;chr&gt; | AF_fin &lt;chr&gt; | AF_asj &lt;chr&gt; | AF_oth &lt;chr&gt; | non_topmed_AF_popmax &lt;chr&gt; | non_neuro_AF_popmax &lt;chr&gt; | non_cancer_AF_popmax &lt;chr&gt; | controls_AF_popmax &lt;chr&gt; | VariantName &lt;chr&gt; |\n",
       "|---|---|---|---|---|---|---|---|---|---|---|---|---|---|---|---|---|---|---|---|---|\n",
       "| chr1:155235024 | 155235024 | T | C | exonic | GBA | . | nonsynonymous SNV | GBA:NM_001171811:exon10:c.A1321G:p.I441V,GBA:NM_001171812:exon10:c.A1435G:p.I479V,GBA:NM_000157:exon11:c.A1582G:p.I528V,GBA:NM_001005741:exon12:c.A1582G:p.I528V,GBA:NM_001005742:exon12:c.A1582G:p.I528V | rs536425950 | ⋯ | . | . | . | . | . | .      | . | . | . | GBA_I528V |\n",
       "| chr1:155235057 | 155235057 | C | T | exonic | GBA | . | nonsynonymous SNV | GBA:NM_001171811:exon10:c.G1288A:p.G430S,GBA:NM_001171812:exon10:c.G1402A:p.G468S,GBA:NM_000157:exon11:c.G1549A:p.G517S,GBA:NM_001005741:exon12:c.G1549A:p.G517S,GBA:NM_001005742:exon12:c.G1549A:p.G517S | rs121908301 | ⋯ | . | . | . | . | . | .      | . | . | . | GBA_G517S |\n",
       "| chr1:155235195 | 155235195 | C | T | exonic | GBA | . | nonsynonymous SNV | GBA:NM_001171811:exon9:c.G1244A:p.R415H,GBA:NM_001171812:exon9:c.G1358A:p.R453H,GBA:NM_000157:exon10:c.G1505A:p.R502H,GBA:NM_001005741:exon11:c.G1505A:p.R502H,GBA:NM_001005742:exon11:c.G1505A:p.R502H   | rs80356772  | ⋯ | . | . | . | . | . | .      | . | . | . | GBA_R502H |\n",
       "| chr1:155235196 | 155235196 | G | A | exonic | GBA | . | nonsynonymous SNV | GBA:NM_001171811:exon9:c.C1243T:p.R415C,GBA:NM_001171812:exon9:c.C1357T:p.R453C,GBA:NM_000157:exon10:c.C1504T:p.R502C,GBA:NM_001005741:exon11:c.C1504T:p.R502C,GBA:NM_001005742:exon11:c.C1504T:p.R502C   | rs80356771  | ⋯ | 0 | 0 | 0 | 0 | 0 | 0.0001 | . | . | . | GBA_R502C |\n",
       "| chr1:155235197 | 155235197 | G | C | exonic | GBA | . | nonsynonymous SNV | GBA:NM_001171811:exon9:c.C1242G:p.N414K,GBA:NM_001171812:exon9:c.C1356G:p.N452K,GBA:NM_000157:exon10:c.C1503G:p.N501K,GBA:NM_001005741:exon11:c.C1503G:p.N501K,GBA:NM_001005742:exon11:c.C1503G:p.N501K   | .           | ⋯ | . | . | . | . | . | .      | . | . | . | GBA_N501K |\n",
       "| chr1:155235231 | 155235231 | T | C | exonic | GBA | . | nonsynonymous SNV | GBA:NM_001171811:exon9:c.A1208G:p.H403R,GBA:NM_001171812:exon9:c.A1322G:p.H441R,GBA:NM_000157:exon10:c.A1469G:p.H490R,GBA:NM_001005741:exon11:c.A1469G:p.H490R,GBA:NM_001005742:exon11:c.A1469G:p.H490R   | rs76071730  | ⋯ | . | . | . | . | . | .      | . | . | . | GBA_H490R |\n",
       "\n"
      ],
      "text/plain": [
       "  MarkerName     End       Ref Alt Func.refGene Gene GeneDetail.refGene\n",
       "1 chr1:155235024 155235024 T   C   exonic       GBA  .                 \n",
       "2 chr1:155235057 155235057 C   T   exonic       GBA  .                 \n",
       "3 chr1:155235195 155235195 C   T   exonic       GBA  .                 \n",
       "4 chr1:155235196 155235196 G   A   exonic       GBA  .                 \n",
       "5 chr1:155235197 155235197 G   C   exonic       GBA  .                 \n",
       "6 chr1:155235231 155235231 T   C   exonic       GBA  .                 \n",
       "  ExonicFunc.refGene\n",
       "1 nonsynonymous SNV \n",
       "2 nonsynonymous SNV \n",
       "3 nonsynonymous SNV \n",
       "4 nonsynonymous SNV \n",
       "5 nonsynonymous SNV \n",
       "6 nonsynonymous SNV \n",
       "  AAChange                                                                                                                                                                                                 \n",
       "1 GBA:NM_001171811:exon10:c.A1321G:p.I441V,GBA:NM_001171812:exon10:c.A1435G:p.I479V,GBA:NM_000157:exon11:c.A1582G:p.I528V,GBA:NM_001005741:exon12:c.A1582G:p.I528V,GBA:NM_001005742:exon12:c.A1582G:p.I528V\n",
       "2 GBA:NM_001171811:exon10:c.G1288A:p.G430S,GBA:NM_001171812:exon10:c.G1402A:p.G468S,GBA:NM_000157:exon11:c.G1549A:p.G517S,GBA:NM_001005741:exon12:c.G1549A:p.G517S,GBA:NM_001005742:exon12:c.G1549A:p.G517S\n",
       "3 GBA:NM_001171811:exon9:c.G1244A:p.R415H,GBA:NM_001171812:exon9:c.G1358A:p.R453H,GBA:NM_000157:exon10:c.G1505A:p.R502H,GBA:NM_001005741:exon11:c.G1505A:p.R502H,GBA:NM_001005742:exon11:c.G1505A:p.R502H  \n",
       "4 GBA:NM_001171811:exon9:c.C1243T:p.R415C,GBA:NM_001171812:exon9:c.C1357T:p.R453C,GBA:NM_000157:exon10:c.C1504T:p.R502C,GBA:NM_001005741:exon11:c.C1504T:p.R502C,GBA:NM_001005742:exon11:c.C1504T:p.R502C  \n",
       "5 GBA:NM_001171811:exon9:c.C1242G:p.N414K,GBA:NM_001171812:exon9:c.C1356G:p.N452K,GBA:NM_000157:exon10:c.C1503G:p.N501K,GBA:NM_001005741:exon11:c.C1503G:p.N501K,GBA:NM_001005742:exon11:c.C1503G:p.N501K  \n",
       "6 GBA:NM_001171811:exon9:c.A1208G:p.H403R,GBA:NM_001171812:exon9:c.A1322G:p.H441R,GBA:NM_000157:exon10:c.A1469G:p.H490R,GBA:NM_001005741:exon11:c.A1469G:p.H490R,GBA:NM_001005742:exon11:c.A1469G:p.H490R  \n",
       "  avsnp150    ⋯ AF_eas AF_nfe AF_fin AF_asj AF_oth non_topmed_AF_popmax\n",
       "1 rs536425950 ⋯ .      .      .      .      .      .                   \n",
       "2 rs121908301 ⋯ .      .      .      .      .      .                   \n",
       "3 rs80356772  ⋯ .      .      .      .      .      .                   \n",
       "4 rs80356771  ⋯ 0      0      0      0      0      0.0001              \n",
       "5 .           ⋯ .      .      .      .      .      .                   \n",
       "6 rs76071730  ⋯ .      .      .      .      .      .                   \n",
       "  non_neuro_AF_popmax non_cancer_AF_popmax controls_AF_popmax VariantName\n",
       "1 .                   .                    .                  GBA_I528V  \n",
       "2 .                   .                    .                  GBA_G517S  \n",
       "3 .                   .                    .                  GBA_R502H  \n",
       "4 .                   .                    .                  GBA_R502C  \n",
       "5 .                   .                    .                  GBA_N501K  \n",
       "6 .                   .                    .                  GBA_H490R  "
      ]
     },
     "metadata": {},
     "output_type": "display_data"
    }
   ],
   "source": [
    "fulljoin2 = fulljoin2 %>% group_by(MarkerName) %>% dplyr::summarise(VariantName = paste(VariantName, collapse = \", \"))\n",
    "fulljoin2 = fulljoin2 %>% distinct()\n",
    "\n",
    "toadd = fulljoin2 %>% dplyr::select(MarkerName, VariantName)\n",
    "leftjoin = left_join(data1, toadd)\n",
    "leftjoin = leftjoin %>% distinct()\n",
    "\n",
    "head(leftjoin)"
   ]
  },
  {
   "cell_type": "markdown",
   "id": "5ad22a3f-e266-442d-a7dc-30ec19353cd2",
   "metadata": {},
   "source": [
    "Some edits still required, where there's more than just one variant name, e.g. here with DNAJC6"
   ]
  },
  {
   "cell_type": "markdown",
   "id": "459780c9-479c-433d-a7b9-bc8bdb60464b",
   "metadata": {},
   "source": [
    "## 4. Checks"
   ]
  },
  {
   "cell_type": "code",
   "execution_count": 23,
   "id": "89daca3b-eea0-419a-b174-82fa98e4cc38",
   "metadata": {},
   "outputs": [
    {
     "data": {
      "text/html": [
       "<style>\n",
       ".list-inline {list-style: none; margin:0; padding: 0}\n",
       ".list-inline>li {display: inline-block}\n",
       ".list-inline>li:not(:last-child)::after {content: \"\\00b7\"; padding: 0 .5ex}\n",
       "</style>\n",
       "<ol class=list-inline><li>30</li><li>1</li></ol>\n"
      ],
      "text/latex": [
       "\\begin{enumerate*}\n",
       "\\item 30\n",
       "\\item 1\n",
       "\\end{enumerate*}\n"
      ],
      "text/markdown": [
       "1. 30\n",
       "2. 1\n",
       "\n",
       "\n"
      ],
      "text/plain": [
       "[1] 30  1"
      ]
     },
     "metadata": {},
     "output_type": "display_data"
    }
   ],
   "source": [
    "empty = leftjoin %>% filter(is.na(VariantName)) %>% select(MarkerName)\n",
    "dim(empty)"
   ]
  },
  {
   "cell_type": "code",
   "execution_count": 26,
   "id": "26c03460-b2e6-4311-82af-7edbcfac40cd",
   "metadata": {},
   "outputs": [
    {
     "data": {
      "text/html": [
       "<style>\n",
       ".list-inline {list-style: none; margin:0; padding: 0}\n",
       ".list-inline>li {display: inline-block}\n",
       ".list-inline>li:not(:last-child)::after {content: \"\\00b7\"; padding: 0 .5ex}\n",
       "</style>\n",
       "<ol class=list-inline><li>30</li><li>32</li></ol>\n"
      ],
      "text/latex": [
       "\\begin{enumerate*}\n",
       "\\item 30\n",
       "\\item 32\n",
       "\\end{enumerate*}\n"
      ],
      "text/markdown": [
       "1. 30\n",
       "2. 32\n",
       "\n",
       "\n"
      ],
      "text/plain": [
       "[1] 30 32"
      ]
     },
     "metadata": {},
     "output_type": "display_data"
    }
   ],
   "source": [
    "merge_empty = merge(empty, data1)\n",
    "dim(merge_empty)"
   ]
  },
  {
   "cell_type": "code",
   "execution_count": 27,
   "id": "4681468e-0828-42f4-ab7d-5199d5c9af5b",
   "metadata": {},
   "outputs": [
    {
     "data": {
      "text/html": [
       "<table class=\"dataframe\">\n",
       "<caption>A data.table: 6 × 32</caption>\n",
       "<thead>\n",
       "\t<tr><th scope=col>MarkerName</th><th scope=col>End</th><th scope=col>Ref</th><th scope=col>Alt</th><th scope=col>Func.refGene</th><th scope=col>Gene</th><th scope=col>GeneDetail.refGene</th><th scope=col>ExonicFunc.refGene</th><th scope=col>AAChange</th><th scope=col>avsnp150</th><th scope=col>⋯</th><th scope=col>AF_amr</th><th scope=col>AF_eas</th><th scope=col>AF_nfe</th><th scope=col>AF_fin</th><th scope=col>AF_asj</th><th scope=col>AF_oth</th><th scope=col>non_topmed_AF_popmax</th><th scope=col>non_neuro_AF_popmax</th><th scope=col>non_cancer_AF_popmax</th><th scope=col>controls_AF_popmax</th></tr>\n",
       "\t<tr><th scope=col>&lt;chr&gt;</th><th scope=col>&lt;int&gt;</th><th scope=col>&lt;chr&gt;</th><th scope=col>&lt;chr&gt;</th><th scope=col>&lt;chr&gt;</th><th scope=col>&lt;chr&gt;</th><th scope=col>&lt;chr&gt;</th><th scope=col>&lt;chr&gt;</th><th scope=col>&lt;chr&gt;</th><th scope=col>&lt;chr&gt;</th><th scope=col>⋯</th><th scope=col>&lt;chr&gt;</th><th scope=col>&lt;chr&gt;</th><th scope=col>&lt;chr&gt;</th><th scope=col>&lt;chr&gt;</th><th scope=col>&lt;chr&gt;</th><th scope=col>&lt;chr&gt;</th><th scope=col>&lt;chr&gt;</th><th scope=col>&lt;chr&gt;</th><th scope=col>&lt;chr&gt;</th><th scope=col>&lt;chr&gt;</th></tr>\n",
       "</thead>\n",
       "<tbody>\n",
       "\t<tr><td>chr12:40232385</td><td>40232385</td><td>T</td><td>C</td><td>splicing</td><td>LRRK2 </td><td><span style=white-space:pre-wrap>NM_198578:exon3:c.347+2T&gt;C                                                                                                </span></td><td>.</td><td>.</td><td>rs141221000</td><td>⋯</td><td>0.0012</td><td>0</td><td><span style=white-space:pre-wrap>0     </span></td><td><span style=white-space:pre-wrap>0     </span></td><td>0</td><td><span style=white-space:pre-wrap>0     </span></td><td>0.0035</td><td>0.0030</td><td>.</td><td>0.0031</td></tr>\n",
       "\t<tr><td>chr15:61875847</td><td>61875847</td><td>T</td><td>A</td><td>splicing</td><td>VPS13C</td><td>NM_020821:exon76:c.10225-2A&gt;T;NM_017684:exon74:c.10096-2A&gt;T;NM_018080:exon74:c.10096-2A&gt;T;NM_001018088:exon76:c.10225-2A&gt;T</td><td>.</td><td>.</td><td>rs780867411</td><td>⋯</td><td><span style=white-space:pre-wrap>.     </span></td><td>.</td><td><span style=white-space:pre-wrap>.     </span></td><td><span style=white-space:pre-wrap>.     </span></td><td>.</td><td><span style=white-space:pre-wrap>.     </span></td><td><span style=white-space:pre-wrap>.     </span></td><td><span style=white-space:pre-wrap>.     </span></td><td>.</td><td><span style=white-space:pre-wrap>.     </span></td></tr>\n",
       "\t<tr><td>chr15:61922396</td><td>61922396</td><td>C</td><td>T</td><td>splicing</td><td>VPS13C</td><td><span style=white-space:pre-wrap>NM_020821:exon54:c.6975+1G&gt;A;NM_017684:exon52:c.6846+1G&gt;A;NM_018080:exon52:c.6846+1G&gt;A;NM_001018088:exon54:c.6975+1G&gt;A    </span></td><td>.</td><td>.</td><td>rs781120650</td><td>⋯</td><td><span style=white-space:pre-wrap>0     </span></td><td>0</td><td>0.0001</td><td><span style=white-space:pre-wrap>0     </span></td><td>0</td><td><span style=white-space:pre-wrap>0     </span></td><td>0.0002</td><td>0.0001</td><td>.</td><td>0.0004</td></tr>\n",
       "\t<tr><td>chr15:61969298</td><td>61969298</td><td>C</td><td>A</td><td>splicing</td><td>VPS13C</td><td><span style=white-space:pre-wrap>NM_020821:exon28:c.2911+1G&gt;T;NM_017684:exon26:c.2782+1G&gt;T;NM_018080:exon26:c.2782+1G&gt;T;NM_001018088:exon28:c.2911+1G&gt;T    </span></td><td>.</td><td>.</td><td>rs766792785</td><td>⋯</td><td><span style=white-space:pre-wrap>.     </span></td><td>.</td><td><span style=white-space:pre-wrap>.     </span></td><td><span style=white-space:pre-wrap>.     </span></td><td>.</td><td><span style=white-space:pre-wrap>.     </span></td><td><span style=white-space:pre-wrap>.     </span></td><td><span style=white-space:pre-wrap>.     </span></td><td>.</td><td><span style=white-space:pre-wrap>.     </span></td></tr>\n",
       "\t<tr><td>chr15:61983818</td><td>61983818</td><td>A</td><td>G</td><td>splicing</td><td>VPS13C</td><td><span style=white-space:pre-wrap>NM_020821:exon20:c.1914+2T&gt;C;NM_017684:exon18:c.1785+2T&gt;C;NM_018080:exon18:c.1785+2T&gt;C;NM_001018088:exon20:c.1914+2T&gt;C    </span></td><td>.</td><td>.</td><td>rs775829630</td><td>⋯</td><td><span style=white-space:pre-wrap>.     </span></td><td>.</td><td><span style=white-space:pre-wrap>.     </span></td><td><span style=white-space:pre-wrap>.     </span></td><td>.</td><td><span style=white-space:pre-wrap>.     </span></td><td><span style=white-space:pre-wrap>.     </span></td><td><span style=white-space:pre-wrap>.     </span></td><td>.</td><td><span style=white-space:pre-wrap>.     </span></td></tr>\n",
       "\t<tr><td>chr15:61991096</td><td>61991096</td><td>T</td><td>C</td><td>splicing</td><td>VPS13C</td><td><span style=white-space:pre-wrap>NM_020821:exon18:c.1484-2A&gt;G;NM_017684:exon16:c.1355-2A&gt;G;NM_018080:exon16:c.1355-2A&gt;G;NM_001018088:exon18:c.1484-2A&gt;G    </span></td><td>.</td><td>.</td><td>rs143639809</td><td>⋯</td><td><span style=white-space:pre-wrap>0     </span></td><td>0</td><td>0.0021</td><td>0.0119</td><td>0</td><td>0.0019</td><td>0.0026</td><td>0.0021</td><td>.</td><td>0.0040</td></tr>\n",
       "</tbody>\n",
       "</table>\n"
      ],
      "text/latex": [
       "A data.table: 6 × 32\n",
       "\\begin{tabular}{lllllllllllllllllllll}\n",
       " MarkerName & End & Ref & Alt & Func.refGene & Gene & GeneDetail.refGene & ExonicFunc.refGene & AAChange & avsnp150 & ⋯ & AF\\_amr & AF\\_eas & AF\\_nfe & AF\\_fin & AF\\_asj & AF\\_oth & non\\_topmed\\_AF\\_popmax & non\\_neuro\\_AF\\_popmax & non\\_cancer\\_AF\\_popmax & controls\\_AF\\_popmax\\\\\n",
       " <chr> & <int> & <chr> & <chr> & <chr> & <chr> & <chr> & <chr> & <chr> & <chr> & ⋯ & <chr> & <chr> & <chr> & <chr> & <chr> & <chr> & <chr> & <chr> & <chr> & <chr>\\\\\n",
       "\\hline\n",
       "\t chr12:40232385 & 40232385 & T & C & splicing & LRRK2  & NM\\_198578:exon3:c.347+2T>C                                                                                                 & . & . & rs141221000 & ⋯ & 0.0012 & 0 & 0      & 0      & 0 & 0      & 0.0035 & 0.0030 & . & 0.0031\\\\\n",
       "\t chr15:61875847 & 61875847 & T & A & splicing & VPS13C & NM\\_020821:exon76:c.10225-2A>T;NM\\_017684:exon74:c.10096-2A>T;NM\\_018080:exon74:c.10096-2A>T;NM\\_001018088:exon76:c.10225-2A>T & . & . & rs780867411 & ⋯ & .      & . & .      & .      & . & .      & .      & .      & . & .     \\\\\n",
       "\t chr15:61922396 & 61922396 & C & T & splicing & VPS13C & NM\\_020821:exon54:c.6975+1G>A;NM\\_017684:exon52:c.6846+1G>A;NM\\_018080:exon52:c.6846+1G>A;NM\\_001018088:exon54:c.6975+1G>A     & . & . & rs781120650 & ⋯ & 0      & 0 & 0.0001 & 0      & 0 & 0      & 0.0002 & 0.0001 & . & 0.0004\\\\\n",
       "\t chr15:61969298 & 61969298 & C & A & splicing & VPS13C & NM\\_020821:exon28:c.2911+1G>T;NM\\_017684:exon26:c.2782+1G>T;NM\\_018080:exon26:c.2782+1G>T;NM\\_001018088:exon28:c.2911+1G>T     & . & . & rs766792785 & ⋯ & .      & . & .      & .      & . & .      & .      & .      & . & .     \\\\\n",
       "\t chr15:61983818 & 61983818 & A & G & splicing & VPS13C & NM\\_020821:exon20:c.1914+2T>C;NM\\_017684:exon18:c.1785+2T>C;NM\\_018080:exon18:c.1785+2T>C;NM\\_001018088:exon20:c.1914+2T>C     & . & . & rs775829630 & ⋯ & .      & . & .      & .      & . & .      & .      & .      & . & .     \\\\\n",
       "\t chr15:61991096 & 61991096 & T & C & splicing & VPS13C & NM\\_020821:exon18:c.1484-2A>G;NM\\_017684:exon16:c.1355-2A>G;NM\\_018080:exon16:c.1355-2A>G;NM\\_001018088:exon18:c.1484-2A>G     & . & . & rs143639809 & ⋯ & 0      & 0 & 0.0021 & 0.0119 & 0 & 0.0019 & 0.0026 & 0.0021 & . & 0.0040\\\\\n",
       "\\end{tabular}\n"
      ],
      "text/markdown": [
       "\n",
       "A data.table: 6 × 32\n",
       "\n",
       "| MarkerName &lt;chr&gt; | End &lt;int&gt; | Ref &lt;chr&gt; | Alt &lt;chr&gt; | Func.refGene &lt;chr&gt; | Gene &lt;chr&gt; | GeneDetail.refGene &lt;chr&gt; | ExonicFunc.refGene &lt;chr&gt; | AAChange &lt;chr&gt; | avsnp150 &lt;chr&gt; | ⋯ ⋯ | AF_amr &lt;chr&gt; | AF_eas &lt;chr&gt; | AF_nfe &lt;chr&gt; | AF_fin &lt;chr&gt; | AF_asj &lt;chr&gt; | AF_oth &lt;chr&gt; | non_topmed_AF_popmax &lt;chr&gt; | non_neuro_AF_popmax &lt;chr&gt; | non_cancer_AF_popmax &lt;chr&gt; | controls_AF_popmax &lt;chr&gt; |\n",
       "|---|---|---|---|---|---|---|---|---|---|---|---|---|---|---|---|---|---|---|---|---|\n",
       "| chr12:40232385 | 40232385 | T | C | splicing | LRRK2  | NM_198578:exon3:c.347+2T&gt;C                                                                                                 | . | . | rs141221000 | ⋯ | 0.0012 | 0 | 0      | 0      | 0 | 0      | 0.0035 | 0.0030 | . | 0.0031 |\n",
       "| chr15:61875847 | 61875847 | T | A | splicing | VPS13C | NM_020821:exon76:c.10225-2A&gt;T;NM_017684:exon74:c.10096-2A&gt;T;NM_018080:exon74:c.10096-2A&gt;T;NM_001018088:exon76:c.10225-2A&gt;T | . | . | rs780867411 | ⋯ | .      | . | .      | .      | . | .      | .      | .      | . | .      |\n",
       "| chr15:61922396 | 61922396 | C | T | splicing | VPS13C | NM_020821:exon54:c.6975+1G&gt;A;NM_017684:exon52:c.6846+1G&gt;A;NM_018080:exon52:c.6846+1G&gt;A;NM_001018088:exon54:c.6975+1G&gt;A     | . | . | rs781120650 | ⋯ | 0      | 0 | 0.0001 | 0      | 0 | 0      | 0.0002 | 0.0001 | . | 0.0004 |\n",
       "| chr15:61969298 | 61969298 | C | A | splicing | VPS13C | NM_020821:exon28:c.2911+1G&gt;T;NM_017684:exon26:c.2782+1G&gt;T;NM_018080:exon26:c.2782+1G&gt;T;NM_001018088:exon28:c.2911+1G&gt;T     | . | . | rs766792785 | ⋯ | .      | . | .      | .      | . | .      | .      | .      | . | .      |\n",
       "| chr15:61983818 | 61983818 | A | G | splicing | VPS13C | NM_020821:exon20:c.1914+2T&gt;C;NM_017684:exon18:c.1785+2T&gt;C;NM_018080:exon18:c.1785+2T&gt;C;NM_001018088:exon20:c.1914+2T&gt;C     | . | . | rs775829630 | ⋯ | .      | . | .      | .      | . | .      | .      | .      | . | .      |\n",
       "| chr15:61991096 | 61991096 | T | C | splicing | VPS13C | NM_020821:exon18:c.1484-2A&gt;G;NM_017684:exon16:c.1355-2A&gt;G;NM_018080:exon16:c.1355-2A&gt;G;NM_001018088:exon18:c.1484-2A&gt;G     | . | . | rs143639809 | ⋯ | 0      | 0 | 0.0021 | 0.0119 | 0 | 0.0019 | 0.0026 | 0.0021 | . | 0.0040 |\n",
       "\n"
      ],
      "text/plain": [
       "  MarkerName     End      Ref Alt Func.refGene Gene  \n",
       "1 chr12:40232385 40232385 T   C   splicing     LRRK2 \n",
       "2 chr15:61875847 61875847 T   A   splicing     VPS13C\n",
       "3 chr15:61922396 61922396 C   T   splicing     VPS13C\n",
       "4 chr15:61969298 61969298 C   A   splicing     VPS13C\n",
       "5 chr15:61983818 61983818 A   G   splicing     VPS13C\n",
       "6 chr15:61991096 61991096 T   C   splicing     VPS13C\n",
       "  GeneDetail.refGene                                                                                                        \n",
       "1 NM_198578:exon3:c.347+2T>C                                                                                                \n",
       "2 NM_020821:exon76:c.10225-2A>T;NM_017684:exon74:c.10096-2A>T;NM_018080:exon74:c.10096-2A>T;NM_001018088:exon76:c.10225-2A>T\n",
       "3 NM_020821:exon54:c.6975+1G>A;NM_017684:exon52:c.6846+1G>A;NM_018080:exon52:c.6846+1G>A;NM_001018088:exon54:c.6975+1G>A    \n",
       "4 NM_020821:exon28:c.2911+1G>T;NM_017684:exon26:c.2782+1G>T;NM_018080:exon26:c.2782+1G>T;NM_001018088:exon28:c.2911+1G>T    \n",
       "5 NM_020821:exon20:c.1914+2T>C;NM_017684:exon18:c.1785+2T>C;NM_018080:exon18:c.1785+2T>C;NM_001018088:exon20:c.1914+2T>C    \n",
       "6 NM_020821:exon18:c.1484-2A>G;NM_017684:exon16:c.1355-2A>G;NM_018080:exon16:c.1355-2A>G;NM_001018088:exon18:c.1484-2A>G    \n",
       "  ExonicFunc.refGene AAChange avsnp150    ⋯ AF_amr AF_eas AF_nfe AF_fin AF_asj\n",
       "1 .                  .        rs141221000 ⋯ 0.0012 0      0      0      0     \n",
       "2 .                  .        rs780867411 ⋯ .      .      .      .      .     \n",
       "3 .                  .        rs781120650 ⋯ 0      0      0.0001 0      0     \n",
       "4 .                  .        rs766792785 ⋯ .      .      .      .      .     \n",
       "5 .                  .        rs775829630 ⋯ .      .      .      .      .     \n",
       "6 .                  .        rs143639809 ⋯ 0      0      0.0021 0.0119 0     \n",
       "  AF_oth non_topmed_AF_popmax non_neuro_AF_popmax non_cancer_AF_popmax\n",
       "1 0      0.0035               0.0030              .                   \n",
       "2 .      .                    .                   .                   \n",
       "3 0      0.0002               0.0001              .                   \n",
       "4 .      .                    .                   .                   \n",
       "5 .      .                    .                   .                   \n",
       "6 0.0019 0.0026               0.0021              .                   \n",
       "  controls_AF_popmax\n",
       "1 0.0031            \n",
       "2 .                 \n",
       "3 0.0004            \n",
       "4 .                 \n",
       "5 .                 \n",
       "6 0.0040            "
      ]
     },
     "metadata": {},
     "output_type": "display_data"
    }
   ],
   "source": [
    "head(merge_empty)"
   ]
  },
  {
   "cell_type": "code",
   "execution_count": 30,
   "id": "e98542e5-21d2-4486-abcc-46068511c364",
   "metadata": {},
   "outputs": [
    {
     "data": {
      "text/html": [
       "<table class=\"dataframe\">\n",
       "<caption>A data.table: 11 × 32</caption>\n",
       "<thead>\n",
       "\t<tr><th scope=col>MarkerName</th><th scope=col>End</th><th scope=col>Ref</th><th scope=col>Alt</th><th scope=col>Func.refGene</th><th scope=col>Gene</th><th scope=col>GeneDetail.refGene</th><th scope=col>ExonicFunc.refGene</th><th scope=col>AAChange</th><th scope=col>avsnp150</th><th scope=col>⋯</th><th scope=col>AF_amr</th><th scope=col>AF_eas</th><th scope=col>AF_nfe</th><th scope=col>AF_fin</th><th scope=col>AF_asj</th><th scope=col>AF_oth</th><th scope=col>non_topmed_AF_popmax</th><th scope=col>non_neuro_AF_popmax</th><th scope=col>non_cancer_AF_popmax</th><th scope=col>controls_AF_popmax</th></tr>\n",
       "\t<tr><th scope=col>&lt;chr&gt;</th><th scope=col>&lt;int&gt;</th><th scope=col>&lt;chr&gt;</th><th scope=col>&lt;chr&gt;</th><th scope=col>&lt;chr&gt;</th><th scope=col>&lt;chr&gt;</th><th scope=col>&lt;chr&gt;</th><th scope=col>&lt;chr&gt;</th><th scope=col>&lt;chr&gt;</th><th scope=col>&lt;chr&gt;</th><th scope=col>⋯</th><th scope=col>&lt;chr&gt;</th><th scope=col>&lt;chr&gt;</th><th scope=col>&lt;chr&gt;</th><th scope=col>&lt;chr&gt;</th><th scope=col>&lt;chr&gt;</th><th scope=col>&lt;chr&gt;</th><th scope=col>&lt;chr&gt;</th><th scope=col>&lt;chr&gt;</th><th scope=col>&lt;chr&gt;</th><th scope=col>&lt;chr&gt;</th></tr>\n",
       "</thead>\n",
       "<tbody>\n",
       "\t<tr><td>chr1:16986246 </td><td>16986246</td><td>G</td><td>A</td><td>exonic</td><td>ATP13A2</td><td>.</td><td>nonsynonymous SNV</td><td>ATP13A2:NM_001141973:exon29:c.C3503T:p.P1168L,ATP13A2:NM_022089:exon29:c.C3518T:p.P1173L                                                                                                                                                                                                                 </td><td>rs372995036</td><td>⋯</td><td>0     </td><td>0     </td><td>0.0001   </td><td>0.0003</td><td>0     </td><td>0     </td><td>0.0002   </td><td>7.369e-05</td><td>.</td><td>.     </td></tr>\n",
       "\t<tr><td>chr1:16986291 </td><td>16986291</td><td>C</td><td>T</td><td>exonic</td><td>ATP13A2</td><td>.</td><td>nonsynonymous SNV</td><td>ATP13A2:NM_001141973:exon29:c.G3458A:p.R1153H,ATP13A2:NM_022089:exon29:c.G3473A:p.R1158H                                                                                                                                                                                                                 </td><td>rs544885605</td><td>⋯</td><td>0.0024</td><td>0     </td><td>6.497e-05</td><td>0     </td><td>0     </td><td>0     </td><td>0.0025   </td><td>0.0036   </td><td>.</td><td>.     </td></tr>\n",
       "\t<tr><td>chr1:16986321 </td><td>16986321</td><td>C</td><td>T</td><td>exonic</td><td>ATP13A2</td><td>.</td><td>nonsynonymous SNV</td><td>ATP13A2:NM_001141973:exon29:c.G3428A:p.R1143H,ATP13A2:NM_022089:exon29:c.G3443A:p.R1148H                                                                                                                                                                                                                 </td><td>rs533548757</td><td>⋯</td><td>0     </td><td>0     </td><td>0        </td><td>0     </td><td>0     </td><td>0     </td><td>0.0005   </td><td>0.0003   </td><td>.</td><td>.     </td></tr>\n",
       "\t<tr><td>chr1:16986554 </td><td>16986554</td><td>G</td><td>A</td><td>exonic</td><td>ATP13A2</td><td>.</td><td>nonsynonymous SNV</td><td>ATP13A2:NM_001141973:exon28:c.C3299T:p.P1100L,ATP13A2:NM_022089:exon28:c.C3314T:p.P1105L                                                                                                                                                                                                                 </td><td>rs201756175</td><td>⋯</td><td>0     </td><td>0     </td><td>6.502e-05</td><td>0     </td><td>0.0103</td><td>0.0018</td><td>0.0001   </td><td>.        </td><td>.</td><td>0.0004</td></tr>\n",
       "\t<tr><td>chr20:5100832 </td><td> 5100832</td><td>G</td><td>A</td><td>exonic</td><td>TMEM230</td><td>.</td><td>nonsynonymous SNV</td><td>TMEM230:NM_001009925:exon4:c.C322T:p.R108C,TMEM230:NM_001330985:exon4:c.C322T:p.R108C,TMEM230:NM_001330986:exon4:c.C322T:p.R108C,TMEM230:NM_014145:exon4:c.C322T:p.R108C,TMEM230:NM_001009923:exon5:c.C511T:p.R171C,TMEM230:NM_001009924:exon5:c.C322T:p.R108C,TMEM230:NM_001330984:exon5:c.C322T:p.R108C</td><td>rs143571424</td><td>⋯</td><td>0     </td><td>0     </td><td>0.0031   </td><td>0.0092</td><td>0     </td><td>0.0055</td><td>0.0033   </td><td>0.0034   </td><td>.</td><td>0.0049</td></tr>\n",
       "\t<tr><td>chr20:5109435 </td><td> 5109435</td><td>C</td><td>T</td><td>exonic</td><td>TMEM230</td><td>.</td><td>nonsynonymous SNV</td><td>TMEM230:NM_001009923:exon3:c.G185A:p.R62H                                                                                                                                                                                                                                                                </td><td>rs149904653</td><td>⋯</td><td>0     </td><td>0     </td><td>6.48e-05 </td><td>0     </td><td>0     </td><td>0     </td><td>9.014e-05</td><td>7.341e-05</td><td>.</td><td>.     </td></tr>\n",
       "\t<tr><td>chr20:5111588 </td><td> 5111588</td><td>G</td><td>A</td><td>exonic</td><td>TMEM230</td><td>.</td><td>nonsynonymous SNV</td><td>TMEM230:NM_001009923:exon2:c.C86T:p.S29L                                                                                                                                                                                                                                                                 </td><td>rs191127079</td><td>⋯</td><td>0     </td><td>0     </td><td>0        </td><td>0     </td><td>0     </td><td>0.0027</td><td>0.0070   </td><td>0.0070   </td><td>.</td><td>0.0074</td></tr>\n",
       "\t<tr><td>chr22:32475369</td><td>32475369</td><td>G</td><td>A</td><td>exonic</td><td>FBXO7  </td><td>.</td><td>nonsynonymous SNV</td><td>FBXO7:NM_001033024:exon1:c.G8A:p.R3Q                                                                                                                                                                                                                                                                     </td><td>rs199636063</td><td>⋯</td><td>0     </td><td>0     </td><td>0        </td><td>0     </td><td>0     </td><td>0     </td><td>0.0074   </td><td>0.0044   </td><td>.</td><td>0.0066</td></tr>\n",
       "\t<tr><td>chr22:32475378</td><td>32475378</td><td>G</td><td>A</td><td>exonic</td><td>FBXO7  </td><td>.</td><td>nonsynonymous SNV</td><td>FBXO7:NM_001033024:exon1:c.G17A:p.G6E                                                                                                                                                                                                                                                                    </td><td>rs9621461  </td><td>⋯</td><td>0.1038</td><td>0.0418</td><td>0.1036   </td><td>0.1094</td><td>0.0862</td><td>0.0919</td><td>0.1049   </td><td>0.1065   </td><td>.</td><td>0.1027</td></tr>\n",
       "\t<tr><td>chr22:38143150</td><td>38143150</td><td>G</td><td>A</td><td>exonic</td><td>PLA2G6 </td><td>.</td><td>nonsynonymous SNV</td><td>PLA2G6:NM_001349868:exon4:c.C74T:p.P25L                                                                                                                                                                                                                                                                  </td><td>rs185396488</td><td>⋯</td><td>0.0035</td><td>0     </td><td>0.0001   </td><td>0     </td><td>0     </td><td>0     </td><td>0.0025   </td><td>0.0054   </td><td>.</td><td>0.0081</td></tr>\n",
       "\t<tr><td>chr22:38143219</td><td>38143219</td><td>C</td><td>G</td><td>exonic</td><td>PLA2G6 </td><td>.</td><td>nonsynonymous SNV</td><td>PLA2G6:NM_001349868:exon4:c.G5C:p.G2A                                                                                                                                                                                                                                                                    </td><td>rs150190277</td><td>⋯</td><td>0.0012</td><td>0     </td><td>0.0001   </td><td>0     </td><td>0     </td><td>0     </td><td>0.0154   </td><td>0.0162   </td><td>.</td><td>0.0152</td></tr>\n",
       "</tbody>\n",
       "</table>\n"
      ],
      "text/latex": [
       "A data.table: 11 × 32\n",
       "\\begin{tabular}{lllllllllllllllllllll}\n",
       " MarkerName & End & Ref & Alt & Func.refGene & Gene & GeneDetail.refGene & ExonicFunc.refGene & AAChange & avsnp150 & ⋯ & AF\\_amr & AF\\_eas & AF\\_nfe & AF\\_fin & AF\\_asj & AF\\_oth & non\\_topmed\\_AF\\_popmax & non\\_neuro\\_AF\\_popmax & non\\_cancer\\_AF\\_popmax & controls\\_AF\\_popmax\\\\\n",
       " <chr> & <int> & <chr> & <chr> & <chr> & <chr> & <chr> & <chr> & <chr> & <chr> & ⋯ & <chr> & <chr> & <chr> & <chr> & <chr> & <chr> & <chr> & <chr> & <chr> & <chr>\\\\\n",
       "\\hline\n",
       "\t chr1:16986246  & 16986246 & G & A & exonic & ATP13A2 & . & nonsynonymous SNV & ATP13A2:NM\\_001141973:exon29:c.C3503T:p.P1168L,ATP13A2:NM\\_022089:exon29:c.C3518T:p.P1173L                                                                                                                                                                                                                  & rs372995036 & ⋯ & 0      & 0      & 0.0001    & 0.0003 & 0      & 0      & 0.0002    & 7.369e-05 & . & .     \\\\\n",
       "\t chr1:16986291  & 16986291 & C & T & exonic & ATP13A2 & . & nonsynonymous SNV & ATP13A2:NM\\_001141973:exon29:c.G3458A:p.R1153H,ATP13A2:NM\\_022089:exon29:c.G3473A:p.R1158H                                                                                                                                                                                                                  & rs544885605 & ⋯ & 0.0024 & 0      & 6.497e-05 & 0      & 0      & 0      & 0.0025    & 0.0036    & . & .     \\\\\n",
       "\t chr1:16986321  & 16986321 & C & T & exonic & ATP13A2 & . & nonsynonymous SNV & ATP13A2:NM\\_001141973:exon29:c.G3428A:p.R1143H,ATP13A2:NM\\_022089:exon29:c.G3443A:p.R1148H                                                                                                                                                                                                                  & rs533548757 & ⋯ & 0      & 0      & 0         & 0      & 0      & 0      & 0.0005    & 0.0003    & . & .     \\\\\n",
       "\t chr1:16986554  & 16986554 & G & A & exonic & ATP13A2 & . & nonsynonymous SNV & ATP13A2:NM\\_001141973:exon28:c.C3299T:p.P1100L,ATP13A2:NM\\_022089:exon28:c.C3314T:p.P1105L                                                                                                                                                                                                                  & rs201756175 & ⋯ & 0      & 0      & 6.502e-05 & 0      & 0.0103 & 0.0018 & 0.0001    & .         & . & 0.0004\\\\\n",
       "\t chr20:5100832  &  5100832 & G & A & exonic & TMEM230 & . & nonsynonymous SNV & TMEM230:NM\\_001009925:exon4:c.C322T:p.R108C,TMEM230:NM\\_001330985:exon4:c.C322T:p.R108C,TMEM230:NM\\_001330986:exon4:c.C322T:p.R108C,TMEM230:NM\\_014145:exon4:c.C322T:p.R108C,TMEM230:NM\\_001009923:exon5:c.C511T:p.R171C,TMEM230:NM\\_001009924:exon5:c.C322T:p.R108C,TMEM230:NM\\_001330984:exon5:c.C322T:p.R108C & rs143571424 & ⋯ & 0      & 0      & 0.0031    & 0.0092 & 0      & 0.0055 & 0.0033    & 0.0034    & . & 0.0049\\\\\n",
       "\t chr20:5109435  &  5109435 & C & T & exonic & TMEM230 & . & nonsynonymous SNV & TMEM230:NM\\_001009923:exon3:c.G185A:p.R62H                                                                                                                                                                                                                                                                 & rs149904653 & ⋯ & 0      & 0      & 6.48e-05  & 0      & 0      & 0      & 9.014e-05 & 7.341e-05 & . & .     \\\\\n",
       "\t chr20:5111588  &  5111588 & G & A & exonic & TMEM230 & . & nonsynonymous SNV & TMEM230:NM\\_001009923:exon2:c.C86T:p.S29L                                                                                                                                                                                                                                                                  & rs191127079 & ⋯ & 0      & 0      & 0         & 0      & 0      & 0.0027 & 0.0070    & 0.0070    & . & 0.0074\\\\\n",
       "\t chr22:32475369 & 32475369 & G & A & exonic & FBXO7   & . & nonsynonymous SNV & FBXO7:NM\\_001033024:exon1:c.G8A:p.R3Q                                                                                                                                                                                                                                                                      & rs199636063 & ⋯ & 0      & 0      & 0         & 0      & 0      & 0      & 0.0074    & 0.0044    & . & 0.0066\\\\\n",
       "\t chr22:32475378 & 32475378 & G & A & exonic & FBXO7   & . & nonsynonymous SNV & FBXO7:NM\\_001033024:exon1:c.G17A:p.G6E                                                                                                                                                                                                                                                                     & rs9621461   & ⋯ & 0.1038 & 0.0418 & 0.1036    & 0.1094 & 0.0862 & 0.0919 & 0.1049    & 0.1065    & . & 0.1027\\\\\n",
       "\t chr22:38143150 & 38143150 & G & A & exonic & PLA2G6  & . & nonsynonymous SNV & PLA2G6:NM\\_001349868:exon4:c.C74T:p.P25L                                                                                                                                                                                                                                                                   & rs185396488 & ⋯ & 0.0035 & 0      & 0.0001    & 0      & 0      & 0      & 0.0025    & 0.0054    & . & 0.0081\\\\\n",
       "\t chr22:38143219 & 38143219 & C & G & exonic & PLA2G6  & . & nonsynonymous SNV & PLA2G6:NM\\_001349868:exon4:c.G5C:p.G2A                                                                                                                                                                                                                                                                     & rs150190277 & ⋯ & 0.0012 & 0      & 0.0001    & 0      & 0      & 0      & 0.0154    & 0.0162    & . & 0.0152\\\\\n",
       "\\end{tabular}\n"
      ],
      "text/markdown": [
       "\n",
       "A data.table: 11 × 32\n",
       "\n",
       "| MarkerName &lt;chr&gt; | End &lt;int&gt; | Ref &lt;chr&gt; | Alt &lt;chr&gt; | Func.refGene &lt;chr&gt; | Gene &lt;chr&gt; | GeneDetail.refGene &lt;chr&gt; | ExonicFunc.refGene &lt;chr&gt; | AAChange &lt;chr&gt; | avsnp150 &lt;chr&gt; | ⋯ ⋯ | AF_amr &lt;chr&gt; | AF_eas &lt;chr&gt; | AF_nfe &lt;chr&gt; | AF_fin &lt;chr&gt; | AF_asj &lt;chr&gt; | AF_oth &lt;chr&gt; | non_topmed_AF_popmax &lt;chr&gt; | non_neuro_AF_popmax &lt;chr&gt; | non_cancer_AF_popmax &lt;chr&gt; | controls_AF_popmax &lt;chr&gt; |\n",
       "|---|---|---|---|---|---|---|---|---|---|---|---|---|---|---|---|---|---|---|---|---|\n",
       "| chr1:16986246  | 16986246 | G | A | exonic | ATP13A2 | . | nonsynonymous SNV | ATP13A2:NM_001141973:exon29:c.C3503T:p.P1168L,ATP13A2:NM_022089:exon29:c.C3518T:p.P1173L                                                                                                                                                                                                                  | rs372995036 | ⋯ | 0      | 0      | 0.0001    | 0.0003 | 0      | 0      | 0.0002    | 7.369e-05 | . | .      |\n",
       "| chr1:16986291  | 16986291 | C | T | exonic | ATP13A2 | . | nonsynonymous SNV | ATP13A2:NM_001141973:exon29:c.G3458A:p.R1153H,ATP13A2:NM_022089:exon29:c.G3473A:p.R1158H                                                                                                                                                                                                                  | rs544885605 | ⋯ | 0.0024 | 0      | 6.497e-05 | 0      | 0      | 0      | 0.0025    | 0.0036    | . | .      |\n",
       "| chr1:16986321  | 16986321 | C | T | exonic | ATP13A2 | . | nonsynonymous SNV | ATP13A2:NM_001141973:exon29:c.G3428A:p.R1143H,ATP13A2:NM_022089:exon29:c.G3443A:p.R1148H                                                                                                                                                                                                                  | rs533548757 | ⋯ | 0      | 0      | 0         | 0      | 0      | 0      | 0.0005    | 0.0003    | . | .      |\n",
       "| chr1:16986554  | 16986554 | G | A | exonic | ATP13A2 | . | nonsynonymous SNV | ATP13A2:NM_001141973:exon28:c.C3299T:p.P1100L,ATP13A2:NM_022089:exon28:c.C3314T:p.P1105L                                                                                                                                                                                                                  | rs201756175 | ⋯ | 0      | 0      | 6.502e-05 | 0      | 0.0103 | 0.0018 | 0.0001    | .         | . | 0.0004 |\n",
       "| chr20:5100832  |  5100832 | G | A | exonic | TMEM230 | . | nonsynonymous SNV | TMEM230:NM_001009925:exon4:c.C322T:p.R108C,TMEM230:NM_001330985:exon4:c.C322T:p.R108C,TMEM230:NM_001330986:exon4:c.C322T:p.R108C,TMEM230:NM_014145:exon4:c.C322T:p.R108C,TMEM230:NM_001009923:exon5:c.C511T:p.R171C,TMEM230:NM_001009924:exon5:c.C322T:p.R108C,TMEM230:NM_001330984:exon5:c.C322T:p.R108C | rs143571424 | ⋯ | 0      | 0      | 0.0031    | 0.0092 | 0      | 0.0055 | 0.0033    | 0.0034    | . | 0.0049 |\n",
       "| chr20:5109435  |  5109435 | C | T | exonic | TMEM230 | . | nonsynonymous SNV | TMEM230:NM_001009923:exon3:c.G185A:p.R62H                                                                                                                                                                                                                                                                 | rs149904653 | ⋯ | 0      | 0      | 6.48e-05  | 0      | 0      | 0      | 9.014e-05 | 7.341e-05 | . | .      |\n",
       "| chr20:5111588  |  5111588 | G | A | exonic | TMEM230 | . | nonsynonymous SNV | TMEM230:NM_001009923:exon2:c.C86T:p.S29L                                                                                                                                                                                                                                                                  | rs191127079 | ⋯ | 0      | 0      | 0         | 0      | 0      | 0.0027 | 0.0070    | 0.0070    | . | 0.0074 |\n",
       "| chr22:32475369 | 32475369 | G | A | exonic | FBXO7   | . | nonsynonymous SNV | FBXO7:NM_001033024:exon1:c.G8A:p.R3Q                                                                                                                                                                                                                                                                      | rs199636063 | ⋯ | 0      | 0      | 0         | 0      | 0      | 0      | 0.0074    | 0.0044    | . | 0.0066 |\n",
       "| chr22:32475378 | 32475378 | G | A | exonic | FBXO7   | . | nonsynonymous SNV | FBXO7:NM_001033024:exon1:c.G17A:p.G6E                                                                                                                                                                                                                                                                     | rs9621461   | ⋯ | 0.1038 | 0.0418 | 0.1036    | 0.1094 | 0.0862 | 0.0919 | 0.1049    | 0.1065    | . | 0.1027 |\n",
       "| chr22:38143150 | 38143150 | G | A | exonic | PLA2G6  | . | nonsynonymous SNV | PLA2G6:NM_001349868:exon4:c.C74T:p.P25L                                                                                                                                                                                                                                                                   | rs185396488 | ⋯ | 0.0035 | 0      | 0.0001    | 0      | 0      | 0      | 0.0025    | 0.0054    | . | 0.0081 |\n",
       "| chr22:38143219 | 38143219 | C | G | exonic | PLA2G6  | . | nonsynonymous SNV | PLA2G6:NM_001349868:exon4:c.G5C:p.G2A                                                                                                                                                                                                                                                                     | rs150190277 | ⋯ | 0.0012 | 0      | 0.0001    | 0      | 0      | 0      | 0.0154    | 0.0162    | . | 0.0152 |\n",
       "\n"
      ],
      "text/plain": [
       "   MarkerName     End      Ref Alt Func.refGene Gene    GeneDetail.refGene\n",
       "1  chr1:16986246  16986246 G   A   exonic       ATP13A2 .                 \n",
       "2  chr1:16986291  16986291 C   T   exonic       ATP13A2 .                 \n",
       "3  chr1:16986321  16986321 C   T   exonic       ATP13A2 .                 \n",
       "4  chr1:16986554  16986554 G   A   exonic       ATP13A2 .                 \n",
       "5  chr20:5100832   5100832 G   A   exonic       TMEM230 .                 \n",
       "6  chr20:5109435   5109435 C   T   exonic       TMEM230 .                 \n",
       "7  chr20:5111588   5111588 G   A   exonic       TMEM230 .                 \n",
       "8  chr22:32475369 32475369 G   A   exonic       FBXO7   .                 \n",
       "9  chr22:32475378 32475378 G   A   exonic       FBXO7   .                 \n",
       "10 chr22:38143150 38143150 G   A   exonic       PLA2G6  .                 \n",
       "11 chr22:38143219 38143219 C   G   exonic       PLA2G6  .                 \n",
       "   ExonicFunc.refGene\n",
       "1  nonsynonymous SNV \n",
       "2  nonsynonymous SNV \n",
       "3  nonsynonymous SNV \n",
       "4  nonsynonymous SNV \n",
       "5  nonsynonymous SNV \n",
       "6  nonsynonymous SNV \n",
       "7  nonsynonymous SNV \n",
       "8  nonsynonymous SNV \n",
       "9  nonsynonymous SNV \n",
       "10 nonsynonymous SNV \n",
       "11 nonsynonymous SNV \n",
       "   AAChange                                                                                                                                                                                                                                                                                                 \n",
       "1  ATP13A2:NM_001141973:exon29:c.C3503T:p.P1168L,ATP13A2:NM_022089:exon29:c.C3518T:p.P1173L                                                                                                                                                                                                                 \n",
       "2  ATP13A2:NM_001141973:exon29:c.G3458A:p.R1153H,ATP13A2:NM_022089:exon29:c.G3473A:p.R1158H                                                                                                                                                                                                                 \n",
       "3  ATP13A2:NM_001141973:exon29:c.G3428A:p.R1143H,ATP13A2:NM_022089:exon29:c.G3443A:p.R1148H                                                                                                                                                                                                                 \n",
       "4  ATP13A2:NM_001141973:exon28:c.C3299T:p.P1100L,ATP13A2:NM_022089:exon28:c.C3314T:p.P1105L                                                                                                                                                                                                                 \n",
       "5  TMEM230:NM_001009925:exon4:c.C322T:p.R108C,TMEM230:NM_001330985:exon4:c.C322T:p.R108C,TMEM230:NM_001330986:exon4:c.C322T:p.R108C,TMEM230:NM_014145:exon4:c.C322T:p.R108C,TMEM230:NM_001009923:exon5:c.C511T:p.R171C,TMEM230:NM_001009924:exon5:c.C322T:p.R108C,TMEM230:NM_001330984:exon5:c.C322T:p.R108C\n",
       "6  TMEM230:NM_001009923:exon3:c.G185A:p.R62H                                                                                                                                                                                                                                                                \n",
       "7  TMEM230:NM_001009923:exon2:c.C86T:p.S29L                                                                                                                                                                                                                                                                 \n",
       "8  FBXO7:NM_001033024:exon1:c.G8A:p.R3Q                                                                                                                                                                                                                                                                     \n",
       "9  FBXO7:NM_001033024:exon1:c.G17A:p.G6E                                                                                                                                                                                                                                                                    \n",
       "10 PLA2G6:NM_001349868:exon4:c.C74T:p.P25L                                                                                                                                                                                                                                                                  \n",
       "11 PLA2G6:NM_001349868:exon4:c.G5C:p.G2A                                                                                                                                                                                                                                                                    \n",
       "   avsnp150    ⋯ AF_amr AF_eas AF_nfe    AF_fin AF_asj AF_oth\n",
       "1  rs372995036 ⋯ 0      0      0.0001    0.0003 0      0     \n",
       "2  rs544885605 ⋯ 0.0024 0      6.497e-05 0      0      0     \n",
       "3  rs533548757 ⋯ 0      0      0         0      0      0     \n",
       "4  rs201756175 ⋯ 0      0      6.502e-05 0      0.0103 0.0018\n",
       "5  rs143571424 ⋯ 0      0      0.0031    0.0092 0      0.0055\n",
       "6  rs149904653 ⋯ 0      0      6.48e-05  0      0      0     \n",
       "7  rs191127079 ⋯ 0      0      0         0      0      0.0027\n",
       "8  rs199636063 ⋯ 0      0      0         0      0      0     \n",
       "9  rs9621461   ⋯ 0.1038 0.0418 0.1036    0.1094 0.0862 0.0919\n",
       "10 rs185396488 ⋯ 0.0035 0      0.0001    0      0      0     \n",
       "11 rs150190277 ⋯ 0.0012 0      0.0001    0      0      0     \n",
       "   non_topmed_AF_popmax non_neuro_AF_popmax non_cancer_AF_popmax\n",
       "1  0.0002               7.369e-05           .                   \n",
       "2  0.0025               0.0036              .                   \n",
       "3  0.0005               0.0003              .                   \n",
       "4  0.0001               .                   .                   \n",
       "5  0.0033               0.0034              .                   \n",
       "6  9.014e-05            7.341e-05           .                   \n",
       "7  0.0070               0.0070              .                   \n",
       "8  0.0074               0.0044              .                   \n",
       "9  0.1049               0.1065              .                   \n",
       "10 0.0025               0.0054              .                   \n",
       "11 0.0154               0.0162              .                   \n",
       "   controls_AF_popmax\n",
       "1  .                 \n",
       "2  .                 \n",
       "3  .                 \n",
       "4  0.0004            \n",
       "5  0.0049            \n",
       "6  .                 \n",
       "7  0.0074            \n",
       "8  0.0066            \n",
       "9  0.1027            \n",
       "10 0.0081            \n",
       "11 0.0152            "
      ]
     },
     "metadata": {},
     "output_type": "display_data"
    },
    {
     "data": {
      "text/html": [
       "<table class=\"dataframe\">\n",
       "<caption>A data.frame: 1 × 1</caption>\n",
       "<thead>\n",
       "\t<tr><th scope=col>n</th></tr>\n",
       "\t<tr><th scope=col>&lt;int&gt;</th></tr>\n",
       "</thead>\n",
       "<tbody>\n",
       "\t<tr><td>11</td></tr>\n",
       "</tbody>\n",
       "</table>\n"
      ],
      "text/latex": [
       "A data.frame: 1 × 1\n",
       "\\begin{tabular}{l}\n",
       " n\\\\\n",
       " <int>\\\\\n",
       "\\hline\n",
       "\t 11\\\\\n",
       "\\end{tabular}\n"
      ],
      "text/markdown": [
       "\n",
       "A data.frame: 1 × 1\n",
       "\n",
       "| n &lt;int&gt; |\n",
       "|---|\n",
       "| 11 |\n",
       "\n"
      ],
      "text/plain": [
       "  n \n",
       "1 11"
      ]
     },
     "metadata": {},
     "output_type": "display_data"
    }
   ],
   "source": [
    "merge_empty %>% filter(AAChange != \".\")\n",
    "merge_empty %>% filter(AAChange != \".\") %>% tally()\n",
    "#seems like some where missed out but that's okay, just do those manually"
   ]
  },
  {
   "cell_type": "code",
   "execution_count": 31,
   "id": "5cbcd672-805a-4b1f-9f78-b22c34053080",
   "metadata": {},
   "outputs": [],
   "source": [
    "leftjoin$VariantName[leftjoin$MarkerName == \"chr1:16986246\"] <- \"ATP13A2_P1173L\"\n",
    "leftjoin$VariantName[leftjoin$MarkerName == \"chr1:16986291\"] <- \"ATP13A2_R1158H\"\n",
    "leftjoin$VariantName[leftjoin$MarkerName == \"chr1:16986321\"] <- \"ATP13A2_R1148H\"\n",
    "leftjoin$VariantName[leftjoin$MarkerName == \"chr1:16986554\"] <- \"ATP13A2_P1105L\"\n",
    "leftjoin$VariantName[leftjoin$MarkerName == \"chr20:5100832\"] <- \"TMEM230_R108C\"\n",
    "leftjoin$VariantName[leftjoin$MarkerName == \"chr20:5109435\"] <- \"TMEM230_R62H\"\n",
    "leftjoin$VariantName[leftjoin$MarkerName == \"chr20:5111588\"] <- \"TMEM230_S29L\"\n",
    "leftjoin$VariantName[leftjoin$MarkerName == \"chr22:32475369\"] <- \"FBXO7_R3Q\"\n",
    "leftjoin$VariantName[leftjoin$MarkerName == \"chr22:32475378\"] <- \"FBXO7_G6E\"\n",
    "leftjoin$VariantName[leftjoin$MarkerName == \"chr22:38143150\"] <- \"PLA2G6_P25L\"\n",
    "leftjoin$VariantName[leftjoin$MarkerName == \"chr22:38143219\"] <- \"PLA2G6_G2A\""
   ]
  },
  {
   "cell_type": "markdown",
   "id": "1d4d660c-1d1a-4ae8-bf9d-f774b4e3235e",
   "metadata": {},
   "source": [
    "## 5. Write files"
   ]
  },
  {
   "cell_type": "code",
   "execution_count": 36,
   "id": "e4764190-96cb-4110-b502-3a057d7cdc8c",
   "metadata": {},
   "outputs": [],
   "source": [
    "write.table(leftjoin, \"Edited_AAChange_23andMe_834_clean.txt\", quote = F, sep = \"\\t\", row.names = F) # this has all the VariantNames automatically edited to only one name"
   ]
  },
  {
   "cell_type": "code",
   "execution_count": null,
   "id": "0a6256ac-a42a-4ca0-b1d4-cfe2246c3a7e",
   "metadata": {},
   "outputs": [],
   "source": []
  }
 ],
 "metadata": {
  "kernelspec": {
   "display_name": "R/4.1",
   "language": "R",
   "name": "ir41"
  },
  "language_info": {
   "codemirror_mode": "r",
   "file_extension": ".r",
   "mimetype": "text/x-r-source",
   "name": "R",
   "pygments_lexer": "r",
   "version": "4.1.3"
  }
 },
 "nbformat": 4,
 "nbformat_minor": 5
}
