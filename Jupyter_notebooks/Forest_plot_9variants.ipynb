{
 "cells": [
  {
   "cell_type": "markdown",
   "id": "8d6afcdc-a466-422f-b87d-c7a10321f03f",
   "metadata": {},
   "source": [
    "# Forest plot with regression"
   ]
  },
  {
   "cell_type": "markdown",
   "id": "096019ed-97bb-4765-bbde-aaa9fdd00f8b",
   "metadata": {},
   "source": [
    "## 1. Extract variant info per study"
   ]
  },
  {
   "cell_type": "raw",
   "id": "fec9234a-861f-44d9-9a8d-bc8c79aab867",
   "metadata": {},
   "source": [
    "Variants of interest\n",
    "chr1:155235196\trs80356771\tGBA_R502C\n",
    "chr1:155235843\trs76763715\tGBA_N409S\n",
    "chr1:155236376\trs2230288\tGBA_E365K\n",
    "chr12:40340400\trs34637584\tLRRK2_G2019S\n",
    "chr1:155236246\trs75548401\tGBA_T408M\n",
    "chr1:155238570\trs147138516\tGBA_D179H\n",
    "chr12:40310435\trs34995376\tLRRK2_R1441H\n",
    "chr6:161785820\trs34424986\tPRKN_R275W\n",
    "chr12:40322386\trs111910483\tLRRK2_L1795F\n",
    "chr1:155237453\trs78973108\tGBA_R296Q\n",
    "chr1:155239633\trs758447515\tGBA_S146L"
   ]
  },
  {
   "cell_type": "markdown",
   "id": "fc6bc0ab-535d-41f9-98b8-84c57463463e",
   "metadata": {},
   "source": [
    "### 1.1 23andMe"
   ]
  },
  {
   "cell_type": "code",
   "execution_count": 1,
   "id": "66814e73-1636-46a6-acb6-7d6bd0e9237b",
   "metadata": {},
   "outputs": [
    {
     "name": "stderr",
     "output_type": "stream",
     "text": [
      "── \u001b[1mAttaching packages\u001b[22m ─────────────────────────────────────── tidyverse 1.3.1 ──\n",
      "\n",
      "\u001b[32m✔\u001b[39m \u001b[34mggplot2\u001b[39m 3.3.5     \u001b[32m✔\u001b[39m \u001b[34mpurrr  \u001b[39m 0.3.4\n",
      "\u001b[32m✔\u001b[39m \u001b[34mtibble \u001b[39m 3.1.2     \u001b[32m✔\u001b[39m \u001b[34mdplyr  \u001b[39m 1.0.7\n",
      "\u001b[32m✔\u001b[39m \u001b[34mtidyr  \u001b[39m 1.1.3     \u001b[32m✔\u001b[39m \u001b[34mstringr\u001b[39m 1.4.0\n",
      "\u001b[32m✔\u001b[39m \u001b[34mreadr  \u001b[39m 1.4.0     \u001b[32m✔\u001b[39m \u001b[34mforcats\u001b[39m 0.5.1\n",
      "\n",
      "── \u001b[1mConflicts\u001b[22m ────────────────────────────────────────── tidyverse_conflicts() ──\n",
      "\u001b[31m✖\u001b[39m \u001b[34mdplyr\u001b[39m::\u001b[32mfilter()\u001b[39m masks \u001b[34mstats\u001b[39m::filter()\n",
      "\u001b[31m✖\u001b[39m \u001b[34mdplyr\u001b[39m::\u001b[32mlag()\u001b[39m    masks \u001b[34mstats\u001b[39m::lag()\n",
      "\n",
      "\n",
      "Attaching package: ‘data.table’\n",
      "\n",
      "\n",
      "The following objects are masked from ‘package:dplyr’:\n",
      "\n",
      "    between, first, last\n",
      "\n",
      "\n",
      "The following object is masked from ‘package:purrr’:\n",
      "\n",
      "    transpose\n",
      "\n",
      "\n"
     ]
    }
   ],
   "source": [
    "library(tidyverse)\n",
    "library(data.table)\n",
    "\n",
    "andme = fread(\"META_23andme_summary_all_cols.txt\")\n",
    "\n",
    "GBA_R502C_23 = andme %>% filter(position == 155235196) %>% select(effect, stderr, pvalue) %>% mutate(Dataset = \"23andMe\", effect1 = abs(effect), Z = effect1/stderr) %>% dplyr::rename(\"Beta\" = effect1, \"SE\" = stderr, \"P\" = pvalue) %>% select(Dataset, Beta, SE, Z, P)\n",
    "GBA_N409S_23 = andme %>% filter(position == 155235843) %>% select(effect, stderr, pvalue) %>% mutate(Dataset = \"23andMe\", effect1 = abs(effect), Z = effect1/stderr) %>% dplyr::rename(\"Beta\" = effect1, \"SE\" = stderr, \"P\" = pvalue) %>% select(Dataset, Beta, SE, Z, P)\n",
    "GBA_E365K_23 = andme %>% filter(position == 155236376) %>% select(effect, stderr, pvalue) %>% mutate(Dataset = \"23andMe\", effect1 = abs(effect), Z = effect1/stderr) %>% dplyr::rename(\"Beta\" = effect1, \"SE\" = stderr, \"P\" = pvalue) %>% select(Dataset, Beta, SE, Z, P)\n",
    "LRRK2_G2019S_23 = andme %>% filter(position == 40340400) %>% select(effect, stderr, pvalue) %>% mutate(Dataset = \"23andMe\", effect1 = abs(effect), Z = effect1/stderr) %>% dplyr::rename(\"Beta\" = effect1, \"SE\" = stderr, \"P\" = pvalue) %>% select(Dataset, Beta, SE, Z, P)\n",
    "GBA_T408M_23 = andme %>% filter(position == 155236246) %>% select(effect, stderr, pvalue) %>% mutate(Dataset = \"23andMe\", effect1 = abs(effect), Z = effect1/stderr) %>% dplyr::rename(\"Beta\" = effect1, \"SE\" = stderr, \"P\" = pvalue) %>% select(Dataset, Beta, SE, Z, P)\n",
    "GBA_D179H_23 = andme %>% filter(position == 155238570) %>% select(effect, stderr, pvalue) %>% mutate(Dataset = \"23andMe\", effect1 = abs(effect),Z = effect1/stderr) %>% dplyr::rename(\"Beta\" = effect1, \"SE\" = stderr, \"P\" = pvalue) %>% select(Dataset, Beta, SE, Z, P)\n",
    "LRRK2_R1441H_23 = andme %>% filter(position == 40310435) %>% select(effect, stderr, pvalue) %>% mutate(Dataset = \"23andMe\", effect1 = abs(effect),Z = effect1/stderr) %>% dplyr::rename(\"Beta\" = effect1, \"SE\" = stderr, \"P\" = pvalue) %>% select(Dataset, Beta, SE, Z, P)\n",
    "PRKN_R275W_23 = andme %>% filter(position == 161785820) %>% select(effect, stderr, pvalue) %>% mutate(Dataset = \"23andMe\", effect1 = abs(effect),Z = effect1/stderr) %>% dplyr::rename(\"Beta\" = effect1, \"SE\" = stderr, \"P\" = pvalue) %>% select(Dataset, Beta, SE, Z, P)\n",
    "LRRK2_L1795F_23 = andme %>% filter(position == 40322386) %>% select(effect, stderr, pvalue) %>% mutate(Dataset = \"23andMe\", effect1 = abs(effect),Z = effect1/stderr) %>% dplyr::rename(\"Beta\" = effect1, \"SE\" = stderr, \"P\" = pvalue) %>% select(Dataset, Beta, SE, Z, P)\n",
    "GBA_R296Q_23 = andme %>% filter(position == 155237453) %>% select(effect, stderr, pvalue) %>% mutate(Dataset = \"23andMe\", effect1 = abs(effect),Z = effect1/stderr) %>% dplyr::rename(\"Beta\" = effect1, \"SE\" = stderr, \"P\" = pvalue) %>% select(Dataset, Beta, SE, Z, P)\n",
    "GBA_S146L_23 = andme %>% filter(position == 155239633) %>% select(effect, stderr, pvalue) %>% mutate(Dataset = \"23andMe\", effect1 = abs(effect),Z = effect1/stderr) %>% dplyr::rename(\"Beta\" = effect1, \"SE\" = stderr, \"P\" = pvalue) %>% select(Dataset, Beta, SE, Z, P)\n",
    "\n",
    "write.table(GBA_R502C_23, \"23andMe_GBA_R502C_rs80356771.txt\", quote=F, row.names =F, sep = \"\\t\")\n",
    "write.table(GBA_N409S_23, \"23andMe_GBA_N409S_rs76763715.txt\", quote=F, row.names =F, sep = \"\\t\")\n",
    "write.table(GBA_E365K_23, \"23andMe_GBA_E365K_rs2230288.txt\", quote=F, row.names =F, sep = \"\\t\")\n",
    "write.table(LRRK2_G2019S_23, \"23andMe_LRRK2_G2019S_rs34637584.txt\", quote=F, row.names =F, sep = \"\\t\")\n",
    "write.table(GBA_T408M_23, \"23andMe_GBA_T408M_rs75548401.txt\", quote=F, row.names =F, sep = \"\\t\")\n",
    "write.table(GBA_D179H_23, \"23andMe_GBA_D179H_rs147138516.txt\", quote=F, row.names =F, sep = \"\\t\")\n",
    "write.table(LRRK2_R1441H_23, \"23andMe_LRRK2_R1441H_rs34995376.txt\", quote=F, row.names =F, sep = \"\\t\")\n",
    "write.table(PRKN_R275W_23, \"23andMe_PRKN_R275W_rs34424986.txt\", quote=F, row.names =F, sep = \"\\t\")\n",
    "write.table(LRRK2_L1795F_23, \"23andMe_LRRK2_L1795F_rs111910483.txt\", quote=F, row.names =F, sep = \"\\t\")\n",
    "write.table(GBA_R296Q_23, \"23andMe_GBA_R296Q_rs78973108.txt\", quote=F, row.names =F, sep = \"\\t\")\n",
    "write.table(GBA_S146L_23, \"23andMe_GBA_S146L_rs758447515.txt\", quote=F, row.names =F, sep = \"\\t\")"
   ]
  },
  {
   "cell_type": "raw",
   "id": "8ebb68ce-4428-4a83-a29f-bfb0d432f40c",
   "metadata": {},
   "source": [
    "ls -l 23andMe_*_rs*.txt\n",
    "   1 23andMe_GBA_D179H_rs147138516.txt\n",
    "   1 23andMe_GBA_E365K_rs2230288.txt\n",
    "   1 23andMe_GBA_N409S_rs76763715.txt\n",
    "   1 23andMe_GBA_R502C_rs80356771.txt\n",
    "   1 23andMe_GBA_S146L_rs758447515.txt\n",
    "   1 23andMe_GBA_T408M_rs75548401.txt\n",
    "   1 23andMe_LRRK2_G2019S_rs34637584.txt\n",
    "   1 23andMe_LRRK2_R1441H_rs34995376.txt\n",
    "   1 23andMe_PRKN_R275W_rs34424986.txt\n",
    "   9 total"
   ]
  },
  {
   "cell_type": "markdown",
   "id": "3ed5c9b6-9418-4600-961d-b43594eb75d8",
   "metadata": {},
   "source": [
    "### 1.2 UKB"
   ]
  },
  {
   "cell_type": "code",
   "execution_count": 2,
   "id": "628ae425-daa0-4fb7-b164-78bbaccb2196",
   "metadata": {},
   "outputs": [],
   "source": [
    "UKB = fread(\"./UKB_and_AMP/UKB_608_from23andme_withcovars_score_ALL_PD.SingleScore.assoc\")\n",
    "\n",
    "GBA_R502C_U = UKB %>% filter(POS == 155235196) %>% select(EFFECT, SE, PVALUE) %>% mutate(Dataset = \"UKB\", EFFECT1 = abs(EFFECT), Z = EFFECT1/SE) %>% dplyr::rename(\"Beta\" = EFFECT1, \"P\" = PVALUE) %>% select(Dataset, Beta, SE, Z, P)\n",
    "GBA_N409S_U = UKB %>% filter(POS == 155235843) %>% select(EFFECT, SE, PVALUE) %>% mutate(Dataset = \"UKB\", EFFECT1 = abs(EFFECT),Z = EFFECT1/SE) %>% dplyr::rename(\"Beta\" = EFFECT1, \"P\" = PVALUE) %>% select(Dataset, Beta, SE, Z, P)\n",
    "GBA_E365K_U = UKB %>% filter(POS == 155236376) %>% select(EFFECT, SE, PVALUE) %>% mutate(Dataset = \"UKB\", EFFECT1 = abs(EFFECT),Z = EFFECT1/SE) %>% dplyr::rename(\"Beta\" = EFFECT1, \"P\" = PVALUE) %>% select(Dataset, Beta, SE, Z, P)\n",
    "LRRK2_G2019S_U = UKB %>% filter(POS == 40340400) %>% select(EFFECT, SE, PVALUE) %>% mutate(Dataset = \"UKB\", EFFECT1 = abs(EFFECT),Z = EFFECT1/SE) %>% dplyr::rename(\"Beta\" = EFFECT1, \"P\" = PVALUE) %>% select(Dataset, Beta, SE, Z, P)\n",
    "GBA_T408M_U = UKB %>% filter(POS == 155236246) %>% select(EFFECT, SE, PVALUE) %>% mutate(Dataset = \"UKB\", EFFECT1 = abs(EFFECT),Z = EFFECT1/SE) %>% dplyr::rename(\"Beta\" = EFFECT1, \"P\" = PVALUE) %>% select(Dataset, Beta, SE, Z, P)\n",
    "GBA_D179H_U = UKB %>% filter(POS == 155238570) %>% select(EFFECT, SE, PVALUE) %>% mutate(Dataset = \"UKB\", EFFECT1 = abs(EFFECT),Z = EFFECT1/SE) %>% dplyr::rename(\"Beta\" = EFFECT1, \"P\" = PVALUE) %>% select(Dataset, Beta, SE, Z, P)\n",
    "LRRK2_R1441H_U = UKB %>% filter(POS == 40310435) %>% select(EFFECT, SE, PVALUE) %>% mutate(Dataset = \"UKB\", EFFECT1 = abs(EFFECT),Z = EFFECT1/SE) %>% dplyr::rename(\"Beta\" = EFFECT1, \"P\" = PVALUE) %>% select(Dataset, Beta, SE, Z, P)\n",
    "PRKN_R275W_U = UKB %>% filter(POS == 161785820) %>% select(EFFECT, SE, PVALUE) %>% mutate(Dataset = \"UKB\", EFFECT1 = abs(EFFECT),Z = EFFECT1/SE) %>% dplyr::rename(\"Beta\" = EFFECT1, \"P\" = PVALUE) %>% select(Dataset, Beta, SE, Z, P)\n",
    "LRRK2_L1795F_U = UKB %>% filter(POS == 40322386) %>% select(EFFECT, SE, PVALUE) %>% mutate(Dataset = \"UKB\", EFFECT1 = abs(EFFECT),Z = EFFECT1/SE) %>% dplyr::rename(\"Beta\" = EFFECT1, \"P\" = PVALUE) %>% select(Dataset, Beta, SE, Z, P)\n",
    "GBA_R296Q_U = UKB %>% filter(POS == 155237453) %>% select(EFFECT, SE, PVALUE) %>% mutate(Dataset = \"UKB\", EFFECT1 = abs(EFFECT),Z = EFFECT1/SE) %>% dplyr::rename(\"Beta\" = EFFECT1, \"P\" = PVALUE) %>% select(Dataset, Beta, SE, Z, P)\n",
    "GBA_S146L_U = UKB %>% filter(POS == 155239633) %>% select(EFFECT, SE, PVALUE) %>% mutate(Dataset = \"UKB\", EFFECT1 = abs(EFFECT),Z = EFFECT1/SE) %>% dplyr::rename(\"Beta\" = EFFECT1, \"P\" = PVALUE) %>% select(Dataset, Beta, SE, Z, P)\n",
    "\n",
    "write.table(GBA_R502C_U, \"UKB_GBA_R502C_rs80356771.txt\", quote=F, row.names =F, sep = \"\\t\")\n",
    "write.table(GBA_N409S_U, \"UKB_GBA_N409S_rs76763715.txt\", quote=F, row.names =F, sep = \"\\t\")\n",
    "write.table(GBA_E365K_U, \"UKB_GBA_E365K_rs2230288.txt\", quote=F, row.names =F, sep = \"\\t\")\n",
    "write.table(LRRK2_G2019S_U, \"UKB_LRRK2_G2019S_rs34637584.txt\", quote=F, row.names =F, sep = \"\\t\")\n",
    "write.table(GBA_T408M_U, \"UKB_GBA_T408M_rs75548401.txt\", quote=F, row.names =F, sep = \"\\t\")\n",
    "write.table(GBA_D179H_U, \"UKB_GBA_D179H_rs147138516.txt\", quote=F, row.names =F, sep = \"\\t\")\n",
    "write.table(LRRK2_R1441H_U, \"UKB_LRRK2_R1441H_rs34995376.txt\", quote=F, row.names =F, sep = \"\\t\")\n",
    "write.table(PRKN_R275W_U, \"UKB_PRKN_R275W_rs34424986.txt\", quote=F, row.names =F, sep = \"\\t\")\n",
    "write.table(LRRK2_L1795F_U, \"UKB_LRRK2_L1795F_rs111910483.txt\", quote=F, row.names =F, sep = \"\\t\")\n",
    "write.table(GBA_R296Q_U, \"UKB_GBA_R296Q_rs78973108.txt\", quote=F, row.names =F, sep = \"\\t\")\n",
    "write.table(GBA_S146L_U, \"UKB_GBA_S146L_rs758447515.txt\", quote=F, row.names =F, sep = \"\\t\")\n"
   ]
  },
  {
   "cell_type": "raw",
   "id": "284484d7-8d03-4c50-ab03-f8c9d8842344",
   "metadata": {},
   "source": [
    "wc -l UKB_*_*_rs*.txt\n",
    "  1 UKB_GBA_D179H_rs147138516.txt\n",
    "  1 UKB_GBA_E365K_rs2230288.txt\n",
    "  1 UKB_GBA_N409S_rs76763715.txt\n",
    "  1 UKB_GBA_R502C_rs80356771.txt\n",
    "  1 UKB_GBA_S146L_rs758447515.txt\n",
    "  1 UKB_GBA_T408M_rs75548401.txt\n",
    "  1 UKB_LRRK2_G2019S_rs34637584.txt\n",
    "  1 UKB_LRRK2_R1441H_rs34995376.txt\n",
    "  1 UKB_PRKN_R275W_rs34424986.txt\n",
    "  9 total"
   ]
  },
  {
   "cell_type": "markdown",
   "id": "c6acf69e-723e-4401-891d-36ce16f330be",
   "metadata": {},
   "source": [
    "### 1.3 AMP-PD"
   ]
  },
  {
   "cell_type": "code",
   "execution_count": 3,
   "id": "7d62a332-ef46-460a-87c8-5c9426464cb9",
   "metadata": {},
   "outputs": [],
   "source": [
    "AMP = fread(\"./UKB_and_AMP/AMP_256_from23andme_withcovars_score.SingleScore.assoc\")\n",
    "\n",
    "GBA_R502C_A = AMP %>% filter(POS == 155235196) %>% select(EFFECT, SE, PVALUE) %>% mutate(Dataset = \"AMP\", EFFECT1 = abs(EFFECT), Z = EFFECT1/SE) %>% dplyr::rename(\"Beta\" = EFFECT1, \"P\" = PVALUE) %>% select(Dataset, Beta, SE, Z, P)\n",
    "GBA_N409S_A = AMP %>% filter(POS == 155235843) %>% select(EFFECT, SE, PVALUE) %>% mutate(Dataset = \"AMP\", EFFECT1 = abs(EFFECT), Z = EFFECT1/SE) %>% dplyr::rename(\"Beta\" = EFFECT1, \"P\" = PVALUE) %>% select(Dataset, Beta, SE, Z, P)\n",
    "GBA_E365K_A = AMP %>% filter(POS == 155236376) %>% select(EFFECT, SE, PVALUE) %>% mutate(Dataset = \"AMP\", EFFECT1 = abs(EFFECT), Z = EFFECT1/SE) %>% dplyr::rename(\"Beta\" = EFFECT1, \"P\" = PVALUE) %>% select(Dataset, Beta, SE, Z, P)\n",
    "LRRK2_G2019S_A = AMP %>% filter(POS == 40340400) %>% select(EFFECT, SE, PVALUE) %>% mutate(Dataset = \"AMP\", EFFECT1 = abs(EFFECT), Z = EFFECT1/SE) %>% dplyr::rename(\"Beta\" = EFFECT1, \"P\" = PVALUE) %>% select(Dataset, Beta, SE, Z, P)\n",
    "GBA_T408M_A = AMP %>% filter(POS == 155236246) %>% select(EFFECT, SE, PVALUE) %>% mutate(Dataset = \"AMP\", EFFECT1 = abs(EFFECT), Z = EFFECT1/SE) %>% dplyr::rename(\"Beta\" = EFFECT1, \"P\" = PVALUE) %>% select(Dataset, Beta, SE, Z, P)\n",
    "GBA_D179H_A = AMP %>% filter(POS == 155238570) %>% select(EFFECT, SE, PVALUE) %>% mutate(Dataset = \"AMP\", EFFECT1 = abs(EFFECT), Z = EFFECT1/SE) %>% dplyr::rename(\"Beta\" = EFFECT1, \"P\" = PVALUE) %>% select(Dataset, Beta, SE, Z, P)\n",
    "LRRK2_R1441H_A = AMP %>% filter(POS == 40310435) %>% select(EFFECT, SE, PVALUE) %>% mutate(Dataset = \"AMP\", EFFECT1 = abs(EFFECT), Z = EFFECT1/SE) %>% dplyr::rename(\"Beta\" = EFFECT1, \"P\" = PVALUE) %>% select(Dataset, Beta, SE, Z, P)\n",
    "PRKN_R275W_A = AMP %>% filter(POS == 161785820) %>% select(EFFECT, SE, PVALUE) %>% mutate(Dataset = \"AMP\", EFFECT1 = abs(EFFECT), Z = EFFECT1/SE) %>% dplyr::rename(\"Beta\" = EFFECT1, \"P\" = PVALUE) %>% select(Dataset, Beta, SE, Z, P)\n",
    "LRRK2_L1795F_A = AMP %>% filter(POS == 40322386) %>% select(EFFECT, SE, PVALUE) %>% mutate(Dataset = \"AMP\", EFFECT1 = abs(EFFECT), Z = EFFECT1/SE) %>% dplyr::rename(\"Beta\" = EFFECT1, \"P\" = PVALUE) %>% select(Dataset, Beta, SE, Z, P)\n",
    "GBA_R296Q_A = AMP %>% filter(POS == 155237453) %>% select(EFFECT, SE, PVALUE) %>% mutate(Dataset = \"AMP\", EFFECT1 = abs(EFFECT), Z = EFFECT1/SE) %>% dplyr::rename(\"Beta\" = EFFECT1, \"P\" = PVALUE) %>% select(Dataset, Beta, SE, Z, P)\n",
    "GBA_S146L_A = AMP %>% filter(POS == 155239633) %>% select(EFFECT, SE, PVALUE) %>% mutate(Dataset = \"AMP\", EFFECT1 = abs(EFFECT), Z = EFFECT1/SE) %>% dplyr::rename(\"Beta\" = EFFECT1, \"P\" = PVALUE) %>% select(Dataset, Beta, SE, Z, P)\n",
    "\n",
    "write.table(GBA_R502C_A, \"AMP_GBA_R502C_rs80356771.txt\", quote=F, row.names =F, sep = \"\\t\")\n",
    "write.table(GBA_N409S_A, \"AMP_GBA_N409S_rs76763715.txt\", quote=F, row.names =F, sep = \"\\t\")\n",
    "write.table(GBA_E365K_A, \"AMP_GBA_E365K_rs2230288.txt\", quote=F, row.names =F, sep = \"\\t\")\n",
    "write.table(LRRK2_G2019S_A, \"AMP_LRRK2_G2019S_rs34637584.txt\", quote=F, row.names =F, sep = \"\\t\")\n",
    "write.table(GBA_T408M_A, \"AMP_GBA_T408M_rs75548401.txt\", quote=F, row.names =F, sep = \"\\t\")\n",
    "write.table(GBA_D179H_A, \"AMP_GBA_D179H_rs147138516.txt\", quote=F, row.names =F, sep = \"\\t\")\n",
    "write.table(LRRK2_R1441H_A, \"AMP_LRRK2_R1441H_rs34995376.txt\", quote=F, row.names =F, sep = \"\\t\")\n",
    "write.table(PRKN_R275W_A, \"AMP_PRKN_R275W_rs34424986.txt\", quote=F, row.names =F, sep = \"\\t\")\n",
    "write.table(LRRK2_L1795F_A, \"AMP_LRRK2_L1795F_rs111910483.txt\", quote=F, row.names =F, sep = \"\\t\")\n",
    "write.table(GBA_R296Q_A, \"AMP_GBA_R296Q_rs78973108.txt\", quote=F, row.names =F, sep = \"\\t\")\n",
    "write.table(GBA_S146L_A, \"AMP_GBA_S146L_rs758447515.txt\", quote=F, row.names =F, sep = \"\\t\")"
   ]
  },
  {
   "cell_type": "raw",
   "id": "cfdf24d0-430b-4d43-972d-6c256f11e5aa",
   "metadata": {},
   "source": [
    "wc -l AMP*_*_rs*.txt\n",
    "2 AMP_GBA_R502C_rs80356771.txt"
   ]
  },
  {
   "cell_type": "markdown",
   "id": "092c01fc-33a5-428d-a0b5-fac85c65ada6",
   "metadata": {},
   "source": [
    "## 2. Join files together per variant"
   ]
  },
  {
   "cell_type": "markdown",
   "id": "673ac6a3-df3c-4abd-ba06-bebadbe36183",
   "metadata": {},
   "source": [
    "### 2.1 GBA_R502C"
   ]
  },
  {
   "cell_type": "code",
   "execution_count": 5,
   "id": "52d7bdd8-e7ff-4f1e-afbf-556403721071",
   "metadata": {},
   "outputs": [
    {
     "data": {
      "text/html": [
       "<table class=\"dataframe\">\n",
       "<caption>A data.table: 3 × 5</caption>\n",
       "<thead>\n",
       "\t<tr><th scope=col>Dataset</th><th scope=col>Beta</th><th scope=col>SE</th><th scope=col>Z</th><th scope=col>P</th></tr>\n",
       "\t<tr><th scope=col>&lt;chr&gt;</th><th scope=col>&lt;dbl&gt;</th><th scope=col>&lt;dbl&gt;</th><th scope=col>&lt;dbl&gt;</th><th scope=col>&lt;dbl&gt;</th></tr>\n",
       "</thead>\n",
       "<tbody>\n",
       "\t<tr><td>23andMe</td><td>1.262212</td><td>0.1990237</td><td>6.3420159</td><td>8.495697e-08</td></tr>\n",
       "\t<tr><td>UKB    </td><td>1.689510</td><td>0.4590570</td><td>3.6803926</td><td>2.328790e-04</td></tr>\n",
       "\t<tr><td>AMP    </td><td>1.916090</td><td>2.0026600</td><td>0.9567725</td><td>3.386840e-01</td></tr>\n",
       "</tbody>\n",
       "</table>\n"
      ],
      "text/latex": [
       "A data.table: 3 × 5\n",
       "\\begin{tabular}{lllll}\n",
       " Dataset & Beta & SE & Z & P\\\\\n",
       " <chr> & <dbl> & <dbl> & <dbl> & <dbl>\\\\\n",
       "\\hline\n",
       "\t 23andMe & 1.262212 & 0.1990237 & 6.3420159 & 8.495697e-08\\\\\n",
       "\t UKB     & 1.689510 & 0.4590570 & 3.6803926 & 2.328790e-04\\\\\n",
       "\t AMP     & 1.916090 & 2.0026600 & 0.9567725 & 3.386840e-01\\\\\n",
       "\\end{tabular}\n"
      ],
      "text/markdown": [
       "\n",
       "A data.table: 3 × 5\n",
       "\n",
       "| Dataset &lt;chr&gt; | Beta &lt;dbl&gt; | SE &lt;dbl&gt; | Z &lt;dbl&gt; | P &lt;dbl&gt; |\n",
       "|---|---|---|---|---|\n",
       "| 23andMe | 1.262212 | 0.1990237 | 6.3420159 | 8.495697e-08 |\n",
       "| UKB     | 1.689510 | 0.4590570 | 3.6803926 | 2.328790e-04 |\n",
       "| AMP     | 1.916090 | 2.0026600 | 0.9567725 | 3.386840e-01 |\n",
       "\n"
      ],
      "text/plain": [
       "  Dataset Beta     SE        Z         P           \n",
       "1 23andMe 1.262212 0.1990237 6.3420159 8.495697e-08\n",
       "2 UKB     1.689510 0.4590570 3.6803926 2.328790e-04\n",
       "3 AMP     1.916090 2.0026600 0.9567725 3.386840e-01"
      ]
     },
     "metadata": {},
     "output_type": "display_data"
    }
   ],
   "source": [
    "GBA_R502C = rbind(GBA_R502C_23, GBA_R502C_U, GBA_R502C_A)\n",
    "GBA_R502C\n",
    "\n",
    "write.table(GBA_R502C, \"GBA_R502C_stats_all_studies.txt\", row.names =F, sep = \"\\t\", quote =F)"
   ]
  },
  {
   "cell_type": "markdown",
   "id": "46183802-02be-4da0-8ff2-72dd31a7a606",
   "metadata": {},
   "source": [
    "### 2.2 GBA_N409S"
   ]
  },
  {
   "cell_type": "code",
   "execution_count": 6,
   "id": "f9000a60-2af2-49ae-a87b-5ee0f84470ee",
   "metadata": {},
   "outputs": [
    {
     "data": {
      "text/html": [
       "<table class=\"dataframe\">\n",
       "<caption>A data.table: 3 × 5</caption>\n",
       "<thead>\n",
       "\t<tr><th scope=col>Dataset</th><th scope=col>Beta</th><th scope=col>SE</th><th scope=col>Z</th><th scope=col>P</th></tr>\n",
       "\t<tr><th scope=col>&lt;chr&gt;</th><th scope=col>&lt;dbl&gt;</th><th scope=col>&lt;dbl&gt;</th><th scope=col>&lt;dbl&gt;</th><th scope=col>&lt;dbl&gt;</th></tr>\n",
       "</thead>\n",
       "<tbody>\n",
       "\t<tr><td>23andMe</td><td>0.8102985</td><td>0.05240872</td><td>15.461137</td><td>3.085863e-44</td></tr>\n",
       "\t<tr><td>UKB    </td><td>0.8713740</td><td>0.26979000</td><td> 3.229823</td><td>1.238660e-03</td></tr>\n",
       "\t<tr><td>AMP    </td><td>0.9170220</td><td>0.29936300</td><td> 3.063244</td><td>2.189490e-03</td></tr>\n",
       "</tbody>\n",
       "</table>\n"
      ],
      "text/latex": [
       "A data.table: 3 × 5\n",
       "\\begin{tabular}{lllll}\n",
       " Dataset & Beta & SE & Z & P\\\\\n",
       " <chr> & <dbl> & <dbl> & <dbl> & <dbl>\\\\\n",
       "\\hline\n",
       "\t 23andMe & 0.8102985 & 0.05240872 & 15.461137 & 3.085863e-44\\\\\n",
       "\t UKB     & 0.8713740 & 0.26979000 &  3.229823 & 1.238660e-03\\\\\n",
       "\t AMP     & 0.9170220 & 0.29936300 &  3.063244 & 2.189490e-03\\\\\n",
       "\\end{tabular}\n"
      ],
      "text/markdown": [
       "\n",
       "A data.table: 3 × 5\n",
       "\n",
       "| Dataset &lt;chr&gt; | Beta &lt;dbl&gt; | SE &lt;dbl&gt; | Z &lt;dbl&gt; | P &lt;dbl&gt; |\n",
       "|---|---|---|---|---|\n",
       "| 23andMe | 0.8102985 | 0.05240872 | 15.461137 | 3.085863e-44 |\n",
       "| UKB     | 0.8713740 | 0.26979000 |  3.229823 | 1.238660e-03 |\n",
       "| AMP     | 0.9170220 | 0.29936300 |  3.063244 | 2.189490e-03 |\n",
       "\n"
      ],
      "text/plain": [
       "  Dataset Beta      SE         Z         P           \n",
       "1 23andMe 0.8102985 0.05240872 15.461137 3.085863e-44\n",
       "2 UKB     0.8713740 0.26979000  3.229823 1.238660e-03\n",
       "3 AMP     0.9170220 0.29936300  3.063244 2.189490e-03"
      ]
     },
     "metadata": {},
     "output_type": "display_data"
    }
   ],
   "source": [
    "GBA_N409S = rbind(GBA_N409S_23, GBA_N409S_U, GBA_N409S_A)\n",
    "GBA_N409S\n",
    "\n",
    "write.table(GBA_N409S, \"GBA_N409S_stats_all_studies.txt\", row.names =F, sep = \"\\t\", quote =F)"
   ]
  },
  {
   "cell_type": "markdown",
   "id": "56848b04-f8d0-4d45-ac72-45f7a4c2ba01",
   "metadata": {},
   "source": [
    "### 2.3 GBA_E365K"
   ]
  },
  {
   "cell_type": "code",
   "execution_count": 7,
   "id": "1c3b8ac4-f9be-4fb7-b5ba-d97f6c2140fb",
   "metadata": {},
   "outputs": [
    {
     "data": {
      "text/html": [
       "<table class=\"dataframe\">\n",
       "<caption>A data.table: 3 × 5</caption>\n",
       "<thead>\n",
       "\t<tr><th scope=col>Dataset</th><th scope=col>Beta</th><th scope=col>SE</th><th scope=col>Z</th><th scope=col>P</th></tr>\n",
       "\t<tr><th scope=col>&lt;chr&gt;</th><th scope=col>&lt;dbl&gt;</th><th scope=col>&lt;dbl&gt;</th><th scope=col>&lt;dbl&gt;</th><th scope=col>&lt;dbl&gt;</th></tr>\n",
       "</thead>\n",
       "<tbody>\n",
       "\t<tr><td>23andMe</td><td>0.3686873</td><td>0.03852363</td><td>9.570419</td><td>1.024382e-19</td></tr>\n",
       "\t<tr><td>UKB    </td><td>0.2829270</td><td>0.07998250</td><td>3.537361</td><td>4.041530e-04</td></tr>\n",
       "\t<tr><td>AMP    </td><td>0.7378140</td><td>0.20589700</td><td>3.583413</td><td>3.391300e-04</td></tr>\n",
       "</tbody>\n",
       "</table>\n"
      ],
      "text/latex": [
       "A data.table: 3 × 5\n",
       "\\begin{tabular}{lllll}\n",
       " Dataset & Beta & SE & Z & P\\\\\n",
       " <chr> & <dbl> & <dbl> & <dbl> & <dbl>\\\\\n",
       "\\hline\n",
       "\t 23andMe & 0.3686873 & 0.03852363 & 9.570419 & 1.024382e-19\\\\\n",
       "\t UKB     & 0.2829270 & 0.07998250 & 3.537361 & 4.041530e-04\\\\\n",
       "\t AMP     & 0.7378140 & 0.20589700 & 3.583413 & 3.391300e-04\\\\\n",
       "\\end{tabular}\n"
      ],
      "text/markdown": [
       "\n",
       "A data.table: 3 × 5\n",
       "\n",
       "| Dataset &lt;chr&gt; | Beta &lt;dbl&gt; | SE &lt;dbl&gt; | Z &lt;dbl&gt; | P &lt;dbl&gt; |\n",
       "|---|---|---|---|---|\n",
       "| 23andMe | 0.3686873 | 0.03852363 | 9.570419 | 1.024382e-19 |\n",
       "| UKB     | 0.2829270 | 0.07998250 | 3.537361 | 4.041530e-04 |\n",
       "| AMP     | 0.7378140 | 0.20589700 | 3.583413 | 3.391300e-04 |\n",
       "\n"
      ],
      "text/plain": [
       "  Dataset Beta      SE         Z        P           \n",
       "1 23andMe 0.3686873 0.03852363 9.570419 1.024382e-19\n",
       "2 UKB     0.2829270 0.07998250 3.537361 4.041530e-04\n",
       "3 AMP     0.7378140 0.20589700 3.583413 3.391300e-04"
      ]
     },
     "metadata": {},
     "output_type": "display_data"
    }
   ],
   "source": [
    "GBA_E365K = rbind(GBA_E365K_23, GBA_E365K_U, GBA_E365K_A)\n",
    "GBA_E365K\n",
    "\n",
    "write.table(GBA_E365K, \"GBA_E365K_stats_all_studies.txt\", row.names =F, sep = \"\\t\", quote =F)"
   ]
  },
  {
   "cell_type": "markdown",
   "id": "87e645dc-fd63-4877-b3ea-2bca63e08a6e",
   "metadata": {},
   "source": [
    "### 2.4 LRRK2_G2019S"
   ]
  },
  {
   "cell_type": "code",
   "execution_count": 8,
   "id": "0ffce5ec-709a-46fa-818f-1403b624a174",
   "metadata": {},
   "outputs": [
    {
     "data": {
      "text/html": [
       "<table class=\"dataframe\">\n",
       "<caption>A data.table: 3 × 5</caption>\n",
       "<thead>\n",
       "\t<tr><th scope=col>Dataset</th><th scope=col>Beta</th><th scope=col>SE</th><th scope=col>Z</th><th scope=col>P</th></tr>\n",
       "\t<tr><th scope=col>&lt;chr&gt;</th><th scope=col>&lt;dbl&gt;</th><th scope=col>&lt;dbl&gt;</th><th scope=col>&lt;dbl&gt;</th><th scope=col>&lt;dbl&gt;</th></tr>\n",
       "</thead>\n",
       "<tbody>\n",
       "\t<tr><td>23andMe</td><td>2.480109</td><td>0.06001126</td><td>41.327396</td><td>3.779838e-250</td></tr>\n",
       "\t<tr><td>UKB    </td><td>1.802140</td><td>0.43653600</td><td> 4.128273</td><td> 3.654930e-05</td></tr>\n",
       "\t<tr><td>AMP    </td><td>2.333210</td><td>0.41042500</td><td> 5.684863</td><td> 1.309120e-08</td></tr>\n",
       "</tbody>\n",
       "</table>\n"
      ],
      "text/latex": [
       "A data.table: 3 × 5\n",
       "\\begin{tabular}{lllll}\n",
       " Dataset & Beta & SE & Z & P\\\\\n",
       " <chr> & <dbl> & <dbl> & <dbl> & <dbl>\\\\\n",
       "\\hline\n",
       "\t 23andMe & 2.480109 & 0.06001126 & 41.327396 & 3.779838e-250\\\\\n",
       "\t UKB     & 1.802140 & 0.43653600 &  4.128273 &  3.654930e-05\\\\\n",
       "\t AMP     & 2.333210 & 0.41042500 &  5.684863 &  1.309120e-08\\\\\n",
       "\\end{tabular}\n"
      ],
      "text/markdown": [
       "\n",
       "A data.table: 3 × 5\n",
       "\n",
       "| Dataset &lt;chr&gt; | Beta &lt;dbl&gt; | SE &lt;dbl&gt; | Z &lt;dbl&gt; | P &lt;dbl&gt; |\n",
       "|---|---|---|---|---|\n",
       "| 23andMe | 2.480109 | 0.06001126 | 41.327396 | 3.779838e-250 |\n",
       "| UKB     | 1.802140 | 0.43653600 |  4.128273 |  3.654930e-05 |\n",
       "| AMP     | 2.333210 | 0.41042500 |  5.684863 |  1.309120e-08 |\n",
       "\n"
      ],
      "text/plain": [
       "  Dataset Beta     SE         Z         P            \n",
       "1 23andMe 2.480109 0.06001126 41.327396 3.779838e-250\n",
       "2 UKB     1.802140 0.43653600  4.128273  3.654930e-05\n",
       "3 AMP     2.333210 0.41042500  5.684863  1.309120e-08"
      ]
     },
     "metadata": {},
     "output_type": "display_data"
    }
   ],
   "source": [
    "LRRK2_G2019S = rbind(LRRK2_G2019S_23, LRRK2_G2019S_U, LRRK2_G2019S_A)\n",
    "LRRK2_G2019S\n",
    "\n",
    "write.table(LRRK2_G2019S, \"LRRK2_G2019S_stats_all_studies.txt\", row.names =F, sep = \"\\t\", quote =F)"
   ]
  },
  {
   "cell_type": "markdown",
   "id": "b895dda0-2325-4510-9155-ae4dd636bed8",
   "metadata": {},
   "source": [
    "### 2.5 GBA_T408M"
   ]
  },
  {
   "cell_type": "code",
   "execution_count": 9,
   "id": "02afd77e-2373-4405-a869-49708485dce6",
   "metadata": {},
   "outputs": [
    {
     "data": {
      "text/html": [
       "<table class=\"dataframe\">\n",
       "<caption>A data.table: 3 × 5</caption>\n",
       "<thead>\n",
       "\t<tr><th scope=col>Dataset</th><th scope=col>Beta</th><th scope=col>SE</th><th scope=col>Z</th><th scope=col>P</th></tr>\n",
       "\t<tr><th scope=col>&lt;chr&gt;</th><th scope=col>&lt;dbl&gt;</th><th scope=col>&lt;dbl&gt;</th><th scope=col>&lt;dbl&gt;</th><th scope=col>&lt;dbl&gt;</th></tr>\n",
       "</thead>\n",
       "<tbody>\n",
       "\t<tr><td>23andMe</td><td>0.4003039</td><td>0.0464187</td><td>8.623764</td><td>3.184684e-16</td></tr>\n",
       "\t<tr><td>UKB    </td><td>0.3362320</td><td>0.1141540</td><td>2.945425</td><td>3.225160e-03</td></tr>\n",
       "\t<tr><td>AMP    </td><td>0.3005070</td><td>0.2558370</td><td>1.174603</td><td>2.401550e-01</td></tr>\n",
       "</tbody>\n",
       "</table>\n"
      ],
      "text/latex": [
       "A data.table: 3 × 5\n",
       "\\begin{tabular}{lllll}\n",
       " Dataset & Beta & SE & Z & P\\\\\n",
       " <chr> & <dbl> & <dbl> & <dbl> & <dbl>\\\\\n",
       "\\hline\n",
       "\t 23andMe & 0.4003039 & 0.0464187 & 8.623764 & 3.184684e-16\\\\\n",
       "\t UKB     & 0.3362320 & 0.1141540 & 2.945425 & 3.225160e-03\\\\\n",
       "\t AMP     & 0.3005070 & 0.2558370 & 1.174603 & 2.401550e-01\\\\\n",
       "\\end{tabular}\n"
      ],
      "text/markdown": [
       "\n",
       "A data.table: 3 × 5\n",
       "\n",
       "| Dataset &lt;chr&gt; | Beta &lt;dbl&gt; | SE &lt;dbl&gt; | Z &lt;dbl&gt; | P &lt;dbl&gt; |\n",
       "|---|---|---|---|---|\n",
       "| 23andMe | 0.4003039 | 0.0464187 | 8.623764 | 3.184684e-16 |\n",
       "| UKB     | 0.3362320 | 0.1141540 | 2.945425 | 3.225160e-03 |\n",
       "| AMP     | 0.3005070 | 0.2558370 | 1.174603 | 2.401550e-01 |\n",
       "\n"
      ],
      "text/plain": [
       "  Dataset Beta      SE        Z        P           \n",
       "1 23andMe 0.4003039 0.0464187 8.623764 3.184684e-16\n",
       "2 UKB     0.3362320 0.1141540 2.945425 3.225160e-03\n",
       "3 AMP     0.3005070 0.2558370 1.174603 2.401550e-01"
      ]
     },
     "metadata": {},
     "output_type": "display_data"
    }
   ],
   "source": [
    "GBA_T408M = rbind(GBA_T408M_23, GBA_T408M_U, GBA_T408M_A)\n",
    "GBA_T408M\n",
    "\n",
    "write.table(GBA_T408M, \"GBA_T408M_stats_all_studies.txt\", row.names =F, sep = \"\\t\", quote =F)"
   ]
  },
  {
   "cell_type": "markdown",
   "id": "a5ba0287-9350-463b-af52-27aea0959e9c",
   "metadata": {},
   "source": [
    "### 2.6 GBA_D179H"
   ]
  },
  {
   "cell_type": "code",
   "execution_count": 10,
   "id": "3c05af44-4716-47ae-bccb-6637b1861d43",
   "metadata": {},
   "outputs": [
    {
     "data": {
      "text/html": [
       "<table class=\"dataframe\">\n",
       "<caption>A data.table: 2 × 5</caption>\n",
       "<thead>\n",
       "\t<tr><th scope=col>Dataset</th><th scope=col>Beta</th><th scope=col>SE</th><th scope=col>Z</th><th scope=col>P</th></tr>\n",
       "\t<tr><th scope=col>&lt;chr&gt;</th><th scope=col>&lt;dbl&gt;</th><th scope=col>&lt;dbl&gt;</th><th scope=col>&lt;dbl&gt;</th><th scope=col>&lt;dbl&gt;</th></tr>\n",
       "</thead>\n",
       "<tbody>\n",
       "\t<tr><td>23andMe</td><td>1.213104</td><td>0.2252314</td><td>5.386036</td><td>4.269256e-06</td></tr>\n",
       "\t<tr><td>UKB    </td><td>0.868446</td><td>0.7754200</td><td>1.119969</td><td>2.627270e-01</td></tr>\n",
       "</tbody>\n",
       "</table>\n"
      ],
      "text/latex": [
       "A data.table: 2 × 5\n",
       "\\begin{tabular}{lllll}\n",
       " Dataset & Beta & SE & Z & P\\\\\n",
       " <chr> & <dbl> & <dbl> & <dbl> & <dbl>\\\\\n",
       "\\hline\n",
       "\t 23andMe & 1.213104 & 0.2252314 & 5.386036 & 4.269256e-06\\\\\n",
       "\t UKB     & 0.868446 & 0.7754200 & 1.119969 & 2.627270e-01\\\\\n",
       "\\end{tabular}\n"
      ],
      "text/markdown": [
       "\n",
       "A data.table: 2 × 5\n",
       "\n",
       "| Dataset &lt;chr&gt; | Beta &lt;dbl&gt; | SE &lt;dbl&gt; | Z &lt;dbl&gt; | P &lt;dbl&gt; |\n",
       "|---|---|---|---|---|\n",
       "| 23andMe | 1.213104 | 0.2252314 | 5.386036 | 4.269256e-06 |\n",
       "| UKB     | 0.868446 | 0.7754200 | 1.119969 | 2.627270e-01 |\n",
       "\n"
      ],
      "text/plain": [
       "  Dataset Beta     SE        Z        P           \n",
       "1 23andMe 1.213104 0.2252314 5.386036 4.269256e-06\n",
       "2 UKB     0.868446 0.7754200 1.119969 2.627270e-01"
      ]
     },
     "metadata": {},
     "output_type": "display_data"
    }
   ],
   "source": [
    "GBA_D179H = rbind(GBA_D179H_23, GBA_D179H_U, GBA_D179H_A)\n",
    "GBA_D179H\n",
    "\n",
    "write.table(GBA_D179H, \"GBA_D179H_stats_all_studies.txt\", row.names =F, sep = \"\\t\", quote =F)"
   ]
  },
  {
   "cell_type": "markdown",
   "id": "568daec5-f503-41bb-a8a2-317baca011f4",
   "metadata": {},
   "source": [
    "### 2.7 LRRK2_R1441H"
   ]
  },
  {
   "cell_type": "code",
   "execution_count": 11,
   "id": "a606f1dc-5290-4ba1-9cdb-45085e88e9db",
   "metadata": {},
   "outputs": [
    {
     "data": {
      "text/html": [
       "<table class=\"dataframe\">\n",
       "<caption>A data.table: 2 × 5</caption>\n",
       "<thead>\n",
       "\t<tr><th scope=col>Dataset</th><th scope=col>Beta</th><th scope=col>SE</th><th scope=col>Z</th><th scope=col>P</th></tr>\n",
       "\t<tr><th scope=col>&lt;chr&gt;</th><th scope=col>&lt;dbl&gt;</th><th scope=col>&lt;dbl&gt;</th><th scope=col>&lt;dbl&gt;</th><th scope=col>&lt;dbl&gt;</th></tr>\n",
       "</thead>\n",
       "<tbody>\n",
       "\t<tr><td>23andMe</td><td>3.83092</td><td>0.5834109</td><td>6.5664175</td><td>9.363789e-08</td></tr>\n",
       "\t<tr><td>UKB    </td><td>1.04619</td><td>4.8716500</td><td>0.2147506</td><td>8.299620e-01</td></tr>\n",
       "</tbody>\n",
       "</table>\n"
      ],
      "text/latex": [
       "A data.table: 2 × 5\n",
       "\\begin{tabular}{lllll}\n",
       " Dataset & Beta & SE & Z & P\\\\\n",
       " <chr> & <dbl> & <dbl> & <dbl> & <dbl>\\\\\n",
       "\\hline\n",
       "\t 23andMe & 3.83092 & 0.5834109 & 6.5664175 & 9.363789e-08\\\\\n",
       "\t UKB     & 1.04619 & 4.8716500 & 0.2147506 & 8.299620e-01\\\\\n",
       "\\end{tabular}\n"
      ],
      "text/markdown": [
       "\n",
       "A data.table: 2 × 5\n",
       "\n",
       "| Dataset &lt;chr&gt; | Beta &lt;dbl&gt; | SE &lt;dbl&gt; | Z &lt;dbl&gt; | P &lt;dbl&gt; |\n",
       "|---|---|---|---|---|\n",
       "| 23andMe | 3.83092 | 0.5834109 | 6.5664175 | 9.363789e-08 |\n",
       "| UKB     | 1.04619 | 4.8716500 | 0.2147506 | 8.299620e-01 |\n",
       "\n"
      ],
      "text/plain": [
       "  Dataset Beta    SE        Z         P           \n",
       "1 23andMe 3.83092 0.5834109 6.5664175 9.363789e-08\n",
       "2 UKB     1.04619 4.8716500 0.2147506 8.299620e-01"
      ]
     },
     "metadata": {},
     "output_type": "display_data"
    }
   ],
   "source": [
    "LRRK2_R1441H = rbind(LRRK2_R1441H_23, LRRK2_R1441H_U, LRRK2_R1441H_A)\n",
    "LRRK2_R1441H\n",
    "\n",
    "write.table(LRRK2_R1441H, \"LRRK2_R1441H_stats_all_studies.txt\", row.names =F, sep = \"\\t\", quote =F)"
   ]
  },
  {
   "cell_type": "markdown",
   "id": "941f54f2-f89b-4bd2-8ea6-5a75416e2a50",
   "metadata": {},
   "source": [
    "### 2.8 PRKN_R275W"
   ]
  },
  {
   "cell_type": "code",
   "execution_count": 12,
   "id": "d22ff5a1-faf7-4a2e-8d4c-b11cf8e70b3a",
   "metadata": {},
   "outputs": [
    {
     "data": {
      "text/html": [
       "<table class=\"dataframe\">\n",
       "<caption>A data.table: 3 × 5</caption>\n",
       "<thead>\n",
       "\t<tr><th scope=col>Dataset</th><th scope=col>Beta</th><th scope=col>SE</th><th scope=col>Z</th><th scope=col>P</th></tr>\n",
       "\t<tr><th scope=col>&lt;chr&gt;</th><th scope=col>&lt;dbl&gt;</th><th scope=col>&lt;dbl&gt;</th><th scope=col>&lt;dbl&gt;</th><th scope=col>&lt;dbl&gt;</th></tr>\n",
       "</thead>\n",
       "<tbody>\n",
       "\t<tr><td>23andMe</td><td>0.3489892</td><td>0.07066524</td><td>4.9386262</td><td>2.761782e-06</td></tr>\n",
       "\t<tr><td>UKB    </td><td>0.0578077</td><td>0.16013500</td><td>0.3609935</td><td>7.181050e-01</td></tr>\n",
       "\t<tr><td>AMP    </td><td>0.5964200</td><td>0.41294100</td><td>1.4443226</td><td>1.486480e-01</td></tr>\n",
       "</tbody>\n",
       "</table>\n"
      ],
      "text/latex": [
       "A data.table: 3 × 5\n",
       "\\begin{tabular}{lllll}\n",
       " Dataset & Beta & SE & Z & P\\\\\n",
       " <chr> & <dbl> & <dbl> & <dbl> & <dbl>\\\\\n",
       "\\hline\n",
       "\t 23andMe & 0.3489892 & 0.07066524 & 4.9386262 & 2.761782e-06\\\\\n",
       "\t UKB     & 0.0578077 & 0.16013500 & 0.3609935 & 7.181050e-01\\\\\n",
       "\t AMP     & 0.5964200 & 0.41294100 & 1.4443226 & 1.486480e-01\\\\\n",
       "\\end{tabular}\n"
      ],
      "text/markdown": [
       "\n",
       "A data.table: 3 × 5\n",
       "\n",
       "| Dataset &lt;chr&gt; | Beta &lt;dbl&gt; | SE &lt;dbl&gt; | Z &lt;dbl&gt; | P &lt;dbl&gt; |\n",
       "|---|---|---|---|---|\n",
       "| 23andMe | 0.3489892 | 0.07066524 | 4.9386262 | 2.761782e-06 |\n",
       "| UKB     | 0.0578077 | 0.16013500 | 0.3609935 | 7.181050e-01 |\n",
       "| AMP     | 0.5964200 | 0.41294100 | 1.4443226 | 1.486480e-01 |\n",
       "\n"
      ],
      "text/plain": [
       "  Dataset Beta      SE         Z         P           \n",
       "1 23andMe 0.3489892 0.07066524 4.9386262 2.761782e-06\n",
       "2 UKB     0.0578077 0.16013500 0.3609935 7.181050e-01\n",
       "3 AMP     0.5964200 0.41294100 1.4443226 1.486480e-01"
      ]
     },
     "metadata": {},
     "output_type": "display_data"
    }
   ],
   "source": [
    "PRKN_R275W = rbind(PRKN_R275W_23, PRKN_R275W_U, PRKN_R275W_A)\n",
    "PRKN_R275W\n",
    "\n",
    "write.table(PRKN_R275W, \"PRKN_R275W_stats_all_studies.txt\", row.names =F, sep = \"\\t\", quote =F)"
   ]
  },
  {
   "cell_type": "markdown",
   "id": "82da6ce2-eb96-4d5f-9968-e2b389be6a46",
   "metadata": {},
   "source": [
    "### 2.9 LRRK2_L1795F"
   ]
  },
  {
   "cell_type": "code",
   "execution_count": 13,
   "id": "832b0059-7ee2-4046-af4a-4b214109455b",
   "metadata": {},
   "outputs": [
    {
     "data": {
      "text/html": [
       "<table class=\"dataframe\">\n",
       "<caption>A data.table: 2 × 5</caption>\n",
       "<thead>\n",
       "\t<tr><th scope=col>Dataset</th><th scope=col>Beta</th><th scope=col>SE</th><th scope=col>Z</th><th scope=col>P</th></tr>\n",
       "\t<tr><th scope=col>&lt;chr&gt;</th><th scope=col>&lt;dbl&gt;</th><th scope=col>&lt;dbl&gt;</th><th scope=col>&lt;dbl&gt;</th><th scope=col>&lt;dbl&gt;</th></tr>\n",
       "</thead>\n",
       "<tbody>\n",
       "\t<tr><td>23andMe</td><td>0.868631</td><td>0.2117191</td><td>4.102752</td><td>0.0002754135</td></tr>\n",
       "\t<tr><td>AMP    </td><td>3.079940</td><td>1.5161300</td><td>2.031448</td><td>0.0422091000</td></tr>\n",
       "</tbody>\n",
       "</table>\n"
      ],
      "text/latex": [
       "A data.table: 2 × 5\n",
       "\\begin{tabular}{lllll}\n",
       " Dataset & Beta & SE & Z & P\\\\\n",
       " <chr> & <dbl> & <dbl> & <dbl> & <dbl>\\\\\n",
       "\\hline\n",
       "\t 23andMe & 0.868631 & 0.2117191 & 4.102752 & 0.0002754135\\\\\n",
       "\t AMP     & 3.079940 & 1.5161300 & 2.031448 & 0.0422091000\\\\\n",
       "\\end{tabular}\n"
      ],
      "text/markdown": [
       "\n",
       "A data.table: 2 × 5\n",
       "\n",
       "| Dataset &lt;chr&gt; | Beta &lt;dbl&gt; | SE &lt;dbl&gt; | Z &lt;dbl&gt; | P &lt;dbl&gt; |\n",
       "|---|---|---|---|---|\n",
       "| 23andMe | 0.868631 | 0.2117191 | 4.102752 | 0.0002754135 |\n",
       "| AMP     | 3.079940 | 1.5161300 | 2.031448 | 0.0422091000 |\n",
       "\n"
      ],
      "text/plain": [
       "  Dataset Beta     SE        Z        P           \n",
       "1 23andMe 0.868631 0.2117191 4.102752 0.0002754135\n",
       "2 AMP     3.079940 1.5161300 2.031448 0.0422091000"
      ]
     },
     "metadata": {},
     "output_type": "display_data"
    }
   ],
   "source": [
    "LRRK2_L1795F = rbind(LRRK2_L1795F_23, LRRK2_L1795F_U, LRRK2_L1795F_A)\n",
    "LRRK2_L1795F\n",
    "\n",
    "write.table(LRRK2_L1795F, \"LRRK2_L1795F_stats_all_studies.txt\", row.names =F, sep = \"\\t\", quote =F)"
   ]
  },
  {
   "cell_type": "markdown",
   "id": "42478844-2764-46f0-832f-01d854197e15",
   "metadata": {},
   "source": [
    "### 2.10 GBA_R296Q"
   ]
  },
  {
   "cell_type": "code",
   "execution_count": 14,
   "id": "acf16311-1ad0-40c6-b9ba-98fa2ef7ebe1",
   "metadata": {},
   "outputs": [
    {
     "data": {
      "text/html": [
       "<table class=\"dataframe\">\n",
       "<caption>A data.table: 3 × 5</caption>\n",
       "<thead>\n",
       "\t<tr><th scope=col>Dataset</th><th scope=col>Beta</th><th scope=col>SE</th><th scope=col>Z</th><th scope=col>P</th></tr>\n",
       "\t<tr><th scope=col>&lt;chr&gt;</th><th scope=col>&lt;dbl&gt;</th><th scope=col>&lt;dbl&gt;</th><th scope=col>&lt;dbl&gt;</th><th scope=col>&lt;dbl&gt;</th></tr>\n",
       "</thead>\n",
       "<tbody>\n",
       "\t<tr><td>23andMe</td><td>1.364223</td><td>0.3066342</td><td>4.4490228</td><td>0.0001893285</td></tr>\n",
       "\t<tr><td>UKB    </td><td>0.972754</td><td>1.0312200</td><td>0.9433040</td><td>0.3455270000</td></tr>\n",
       "\t<tr><td>AMP    </td><td>0.973649</td><td>1.1798500</td><td>0.8252312</td><td>0.4092420000</td></tr>\n",
       "</tbody>\n",
       "</table>\n"
      ],
      "text/latex": [
       "A data.table: 3 × 5\n",
       "\\begin{tabular}{lllll}\n",
       " Dataset & Beta & SE & Z & P\\\\\n",
       " <chr> & <dbl> & <dbl> & <dbl> & <dbl>\\\\\n",
       "\\hline\n",
       "\t 23andMe & 1.364223 & 0.3066342 & 4.4490228 & 0.0001893285\\\\\n",
       "\t UKB     & 0.972754 & 1.0312200 & 0.9433040 & 0.3455270000\\\\\n",
       "\t AMP     & 0.973649 & 1.1798500 & 0.8252312 & 0.4092420000\\\\\n",
       "\\end{tabular}\n"
      ],
      "text/markdown": [
       "\n",
       "A data.table: 3 × 5\n",
       "\n",
       "| Dataset &lt;chr&gt; | Beta &lt;dbl&gt; | SE &lt;dbl&gt; | Z &lt;dbl&gt; | P &lt;dbl&gt; |\n",
       "|---|---|---|---|---|\n",
       "| 23andMe | 1.364223 | 0.3066342 | 4.4490228 | 0.0001893285 |\n",
       "| UKB     | 0.972754 | 1.0312200 | 0.9433040 | 0.3455270000 |\n",
       "| AMP     | 0.973649 | 1.1798500 | 0.8252312 | 0.4092420000 |\n",
       "\n"
      ],
      "text/plain": [
       "  Dataset Beta     SE        Z         P           \n",
       "1 23andMe 1.364223 0.3066342 4.4490228 0.0001893285\n",
       "2 UKB     0.972754 1.0312200 0.9433040 0.3455270000\n",
       "3 AMP     0.973649 1.1798500 0.8252312 0.4092420000"
      ]
     },
     "metadata": {},
     "output_type": "display_data"
    }
   ],
   "source": [
    "GBA_R296Q = rbind(GBA_R296Q_23, GBA_R296Q_U, GBA_R296Q_A)\n",
    "GBA_R296Q\n",
    "\n",
    "write.table(GBA_R296Q, \"GBA_R296Q_stats_all_studies.txt\", row.names =F, sep = \"\\t\", quote =F)"
   ]
  },
  {
   "cell_type": "markdown",
   "id": "408b8d4d-8cc5-412a-9750-6245079d667a",
   "metadata": {},
   "source": [
    "### 2.11 GBA_S146L"
   ]
  },
  {
   "cell_type": "code",
   "execution_count": 15,
   "id": "22608e54-e96e-4a33-bc13-a48180c31282",
   "metadata": {},
   "outputs": [
    {
     "data": {
      "text/html": [
       "<table class=\"dataframe\">\n",
       "<caption>A data.table: 2 × 5</caption>\n",
       "<thead>\n",
       "\t<tr><th scope=col>Dataset</th><th scope=col>Beta</th><th scope=col>SE</th><th scope=col>Z</th><th scope=col>P</th></tr>\n",
       "\t<tr><th scope=col>&lt;chr&gt;</th><th scope=col>&lt;dbl&gt;</th><th scope=col>&lt;dbl&gt;</th><th scope=col>&lt;dbl&gt;</th><th scope=col>&lt;dbl&gt;</th></tr>\n",
       "</thead>\n",
       "<tbody>\n",
       "\t<tr><td>23andMe</td><td>2.036568</td><td>17.12701</td><td>0.1189097</td><td>0.8318700972</td></tr>\n",
       "\t<tr><td>UKB    </td><td>7.486560</td><td> 1.70486</td><td>4.3913049</td><td>0.0000112674</td></tr>\n",
       "</tbody>\n",
       "</table>\n"
      ],
      "text/latex": [
       "A data.table: 2 × 5\n",
       "\\begin{tabular}{lllll}\n",
       " Dataset & Beta & SE & Z & P\\\\\n",
       " <chr> & <dbl> & <dbl> & <dbl> & <dbl>\\\\\n",
       "\\hline\n",
       "\t 23andMe & 2.036568 & 17.12701 & 0.1189097 & 0.8318700972\\\\\n",
       "\t UKB     & 7.486560 &  1.70486 & 4.3913049 & 0.0000112674\\\\\n",
       "\\end{tabular}\n"
      ],
      "text/markdown": [
       "\n",
       "A data.table: 2 × 5\n",
       "\n",
       "| Dataset &lt;chr&gt; | Beta &lt;dbl&gt; | SE &lt;dbl&gt; | Z &lt;dbl&gt; | P &lt;dbl&gt; |\n",
       "|---|---|---|---|---|\n",
       "| 23andMe | 2.036568 | 17.12701 | 0.1189097 | 0.8318700972 |\n",
       "| UKB     | 7.486560 |  1.70486 | 4.3913049 | 0.0000112674 |\n",
       "\n"
      ],
      "text/plain": [
       "  Dataset Beta     SE       Z         P           \n",
       "1 23andMe 2.036568 17.12701 0.1189097 0.8318700972\n",
       "2 UKB     7.486560  1.70486 4.3913049 0.0000112674"
      ]
     },
     "metadata": {},
     "output_type": "display_data"
    }
   ],
   "source": [
    "GBA_S146L = rbind(GBA_S146L_23, GBA_S146L_U, GBA_S146L_A)\n",
    "GBA_S146L\n",
    "\n",
    "write.table(GBA_S146L, \"GBA_S146L_stats_all_studies.txt\", row.names =F, sep = \"\\t\", quote =F)"
   ]
  },
  {
   "cell_type": "markdown",
   "id": "8d53f9f5-fdee-408f-a8ee-06ca00a439f0",
   "metadata": {},
   "source": [
    "## 3. Make Forest plots"
   ]
  },
  {
   "cell_type": "code",
   "execution_count": 16,
   "id": "2ad547c6-3233-47b5-a841-0034f2073a46",
   "metadata": {},
   "outputs": [
    {
     "name": "stderr",
     "output_type": "stream",
     "text": [
      "Loading required package: rmeta\n",
      "\n",
      "Loading required package: Matrix\n",
      "\n",
      "\n",
      "Attaching package: ‘Matrix’\n",
      "\n",
      "\n",
      "The following objects are masked from ‘package:tidyr’:\n",
      "\n",
      "    expand, pack, unpack\n",
      "\n",
      "\n",
      "\n",
      "Loading the 'metafor' package (version 3.0-2). For an\n",
      "introduction to the package please type: help(metafor)\n",
      "\n",
      "\n"
     ]
    }
   ],
   "source": [
    "require(\"rmeta\")\n",
    "library(metafor)\n",
    "library(data.table)"
   ]
  },
  {
   "cell_type": "markdown",
   "id": "8a881d2e-2706-42a2-967c-7fdf99a0efa7",
   "metadata": {},
   "source": [
    "### 3.1 GBA_R502C"
   ]
  },
  {
   "cell_type": "code",
   "execution_count": 48,
   "id": "e655bd6d-1408-47bd-9133-2588e483a290",
   "metadata": {},
   "outputs": [
    {
     "name": "stdout",
     "output_type": "stream",
     "text": [
      "\n",
      "Fixed-Effects Model (k = 3)\n",
      "\n",
      "  logLik  deviance       AIC       BIC      AICc \n",
      " -1.4655    0.8143    4.9311    4.0297    8.9311   \n",
      "\n",
      "I^2 (total heterogeneity / total variability):   0.00%\n",
      "H^2 (total variability / sampling variability):  0.41\n",
      "\n",
      "Test for Heterogeneity:\n",
      "Q(df = 2) = 0.8143, p-val = 0.6655\n",
      "\n",
      "Model Results:\n",
      "\n",
      "estimate      se    zval    pval   ci.lb   ci.ub \n",
      "  1.3347  0.1818  7.3395  <.0001  0.9782  1.6911  *** \n",
      "\n",
      "---\n",
      "Signif. codes:  0 ‘***’ 0.001 ‘**’ 0.01 ‘*’ 0.05 ‘.’ 0.1 ‘ ’ 1\n",
      "\n",
      "\n",
      "Random-Effects Model (k = 3; tau^2 estimator: REML)\n",
      "\n",
      "  logLik  deviance       AIC       BIC      AICc \n",
      " -1.7019    3.4038    7.4038    4.7901   19.4038   \n",
      "\n",
      "tau^2 (estimated amount of total heterogeneity): 0 (SE = 0.1755)\n",
      "tau (square root of estimated tau^2 value):      0\n",
      "I^2 (total heterogeneity / total variability):   0.00%\n",
      "H^2 (total variability / sampling variability):  1.00\n",
      "\n",
      "Test for Heterogeneity:\n",
      "Q(df = 2) = 0.8143, p-val = 0.6655\n",
      "\n",
      "Model Results:\n",
      "\n",
      "estimate      se    zval    pval   ci.lb   ci.ub \n",
      "  1.3347  0.1818  7.3395  <.0001  0.9782  1.6911  *** \n",
      "\n",
      "---\n",
      "Signif. codes:  0 ‘***’ 0.001 ‘**’ 0.01 ‘*’ 0.05 ‘.’ 0.1 ‘ ’ 1\n",
      "\n"
     ]
    },
    {
     "data": {
      "text/html": [
       "<strong>png:</strong> 2"
      ],
      "text/latex": [
       "\\textbf{png:} 2"
      ],
      "text/markdown": [
       "**png:** 2"
      ],
      "text/plain": [
       "png \n",
       "  2 "
      ]
     },
     "metadata": {},
     "output_type": "display_data"
    }
   ],
   "source": [
    "labs <- GBA_R502C$Dataset\n",
    "yi   <- GBA_R502C$Beta\n",
    "sei  <- GBA_R502C$SE\n",
    "resFe  <- rma(yi=yi, sei=sei, method=\"FE\")\n",
    "resRe  <- rma(yi=yi, sei=sei)\n",
    "print(summary(resFe))\n",
    "print(summary(resRe))\n",
    "\n",
    "\n",
    "pdf(file = \"./Plots_Manuscript/GBA_R502C_forest_plot_stats_all_studies.pdf\", width = 8, height = 6)\n",
    "forest(resRe, xlim=c(resFe$beta-0.9931472,resFe$beta+0.6931472), main=\"GBA p.R502C\",atransf=exp, xlab=paste(\"Odds Ratio (95%CI)\",sep=\"\"), slab=labs, mlab=\"Fixed Effects\", col = \"red\", border = \"red\", cex=.9)\n",
    "dev.off()"
   ]
  },
  {
   "cell_type": "markdown",
   "id": "ac76f9c5-95b0-49c4-9fda-3d935e841680",
   "metadata": {},
   "source": [
    "### 3.2 GBA_N409S"
   ]
  },
  {
   "cell_type": "code",
   "execution_count": 49,
   "id": "5358b606-5db5-418d-ab57-e10fa60dca8d",
   "metadata": {},
   "outputs": [
    {
     "name": "stdout",
     "output_type": "stream",
     "text": [
      "\n",
      "Fixed-Effects Model (k = 3)\n",
      "\n",
      "  logLik  deviance       AIC       BIC      AICc \n",
      "  2.6242    0.1677   -3.2484   -4.1498    0.7516   \n",
      "\n",
      "I^2 (total heterogeneity / total variability):   0.00%\n",
      "H^2 (total variability / sampling variability):  0.08\n",
      "\n",
      "Test for Heterogeneity:\n",
      "Q(df = 2) = 0.1677, p-val = 0.9195\n",
      "\n",
      "Model Results:\n",
      "\n",
      "estimate      se     zval    pval   ci.lb   ci.ub \n",
      "  0.8155  0.0507  16.0840  <.0001  0.7161  0.9149  *** \n",
      "\n",
      "---\n",
      "Signif. codes:  0 ‘***’ 0.001 ‘**’ 0.01 ‘*’ 0.05 ‘.’ 0.1 ‘ ’ 1\n",
      "\n",
      "\n",
      "Random-Effects Model (k = 3; tau^2 estimator: REML)\n",
      "\n",
      "  logLik  deviance       AIC       BIC      AICc \n",
      "  1.1107   -2.2214    1.7786   -0.8351   13.7786   \n",
      "\n",
      "tau^2 (estimated amount of total heterogeneity): 0 (SE = 0.0380)\n",
      "tau (square root of estimated tau^2 value):      0\n",
      "I^2 (total heterogeneity / total variability):   0.00%\n",
      "H^2 (total variability / sampling variability):  1.00\n",
      "\n",
      "Test for Heterogeneity:\n",
      "Q(df = 2) = 0.1677, p-val = 0.9195\n",
      "\n",
      "Model Results:\n",
      "\n",
      "estimate      se     zval    pval   ci.lb   ci.ub \n",
      "  0.8155  0.0507  16.0840  <.0001  0.7161  0.9149  *** \n",
      "\n",
      "---\n",
      "Signif. codes:  0 ‘***’ 0.001 ‘**’ 0.01 ‘*’ 0.05 ‘.’ 0.1 ‘ ’ 1\n",
      "\n"
     ]
    },
    {
     "data": {
      "text/html": [
       "<strong>png:</strong> 2"
      ],
      "text/latex": [
       "\\textbf{png:} 2"
      ],
      "text/markdown": [
       "**png:** 2"
      ],
      "text/plain": [
       "png \n",
       "  2 "
      ]
     },
     "metadata": {},
     "output_type": "display_data"
    }
   ],
   "source": [
    "labs <- GBA_N409S$Dataset\n",
    "yi   <- GBA_N409S$Beta\n",
    "sei  <- GBA_N409S$SE\n",
    "resFe  <- rma(yi=yi, sei=sei, method=\"FE\")\n",
    "resRe  <- rma(yi=yi, sei=sei)\n",
    "print(summary(resFe))\n",
    "print(summary(resRe))\n",
    "\n",
    "\n",
    "pdf(file = \"./Plots_Manuscript/GBA_N409S_forest_plot_stats_all_studies.pdf\", width = 8, height = 6)\n",
    "forest(resRe, xlim=c(resFe$beta-0.9931472,resFe$beta+0.6931472), main=\"GBA p.N409S\",atransf=exp, xlab=paste(\"Odds Ratio (95%CI)\",sep=\"\"), slab=labs, mlab=\"Fixed Effects\", col = \"red\", border = \"red\", cex=.9)\n",
    "dev.off()"
   ]
  },
  {
   "cell_type": "markdown",
   "id": "0327ebfd-d4ae-4492-8c23-6ee88c1d132d",
   "metadata": {},
   "source": [
    "### 3.3 GBA_E365K"
   ]
  },
  {
   "cell_type": "code",
   "execution_count": 50,
   "id": "0ef3df8a-f42b-409e-a5e4-5a674a410152",
   "metadata": {},
   "outputs": [
    {
     "name": "stdout",
     "output_type": "stream",
     "text": [
      "\n",
      "Fixed-Effects Model (k = 3)\n",
      "\n",
      "  logLik  deviance       AIC       BIC      AICc \n",
      "  2.4371    4.3379   -2.8741   -3.7755    1.1259   \n",
      "\n",
      "I^2 (total heterogeneity / total variability):   53.89%\n",
      "H^2 (total variability / sampling variability):  2.17\n",
      "\n",
      "Test for Heterogeneity:\n",
      "Q(df = 2) = 4.3379, p-val = 0.1143\n",
      "\n",
      "Model Results:\n",
      "\n",
      "estimate      se     zval    pval   ci.lb   ci.ub \n",
      "  0.3632  0.0342  10.6117  <.0001  0.2961  0.4303  *** \n",
      "\n",
      "---\n",
      "Signif. codes:  0 ‘***’ 0.001 ‘**’ 0.01 ‘*’ 0.05 ‘.’ 0.1 ‘ ’ 1\n",
      "\n",
      "\n",
      "Random-Effects Model (k = 3; tau^2 estimator: REML)\n",
      "\n",
      "  logLik  deviance       AIC       BIC      AICc \n",
      "  0.5304   -1.0609    2.9391    0.3254   14.9391   \n",
      "\n",
      "tau^2 (estimated amount of total heterogeneity): 0.0000 (SE = 0.0054)\n",
      "tau (square root of estimated tau^2 value):      0.0015\n",
      "I^2 (total heterogeneity / total variability):   0.03%\n",
      "H^2 (total variability / sampling variability):  1.00\n",
      "\n",
      "Test for Heterogeneity:\n",
      "Q(df = 2) = 4.3379, p-val = 0.1143\n",
      "\n",
      "Model Results:\n",
      "\n",
      "estimate      se     zval    pval   ci.lb   ci.ub \n",
      "  0.3632  0.0342  10.6046  <.0001  0.2961  0.4303  *** \n",
      "\n",
      "---\n",
      "Signif. codes:  0 ‘***’ 0.001 ‘**’ 0.01 ‘*’ 0.05 ‘.’ 0.1 ‘ ’ 1\n",
      "\n"
     ]
    },
    {
     "data": {
      "text/html": [
       "<strong>png:</strong> 2"
      ],
      "text/latex": [
       "\\textbf{png:} 2"
      ],
      "text/markdown": [
       "**png:** 2"
      ],
      "text/plain": [
       "png \n",
       "  2 "
      ]
     },
     "metadata": {},
     "output_type": "display_data"
    }
   ],
   "source": [
    "labs <- GBA_E365K$Dataset\n",
    "yi   <- GBA_E365K$Beta\n",
    "sei  <- GBA_E365K$SE\n",
    "resFe  <- rma(yi=yi, sei=sei, method=\"FE\")\n",
    "resRe  <- rma(yi=yi, sei=sei)\n",
    "print(summary(resFe))\n",
    "print(summary(resRe))\n",
    "\n",
    "\n",
    "pdf(file = \"./Plots_Manuscript/GBA_E365K_forest_plot_stats_all_studies.pdf\", width = 8, height = 6)\n",
    "forest(resRe, xlim=c(resFe$beta-0.9931472,resFe$beta+0.6931472), main=\"GBA p.E365K\",atransf=exp, xlab=paste(\"Odds Ratio (95%CI)\",sep=\"\"), slab=labs, mlab=\"Fixed Effects\", col = \"red\", border = \"red\", cex=.9)\n",
    "dev.off()"
   ]
  },
  {
   "cell_type": "markdown",
   "id": "d43f4f4f-6c02-4d96-9191-a691ecf854be",
   "metadata": {},
   "source": [
    "### 3.4 LRRK2_G2019S"
   ]
  },
  {
   "cell_type": "code",
   "execution_count": 51,
   "id": "1bccff9f-6b5a-4fab-bf6b-694cbd8738c2",
   "metadata": {},
   "outputs": [
    {
     "name": "stdout",
     "output_type": "stream",
     "text": [
      "\n",
      "Fixed-Effects Model (k = 3)\n",
      "\n",
      "  logLik  deviance       AIC       BIC      AICc \n",
      "  0.5398    2.4722    0.9205    0.0191    4.9205   \n",
      "\n",
      "I^2 (total heterogeneity / total variability):   19.10%\n",
      "H^2 (total variability / sampling variability):  1.24\n",
      "\n",
      "Test for Heterogeneity:\n",
      "Q(df = 2) = 2.4722, p-val = 0.2905\n",
      "\n",
      "Model Results:\n",
      "\n",
      "estimate      se     zval    pval   ci.lb   ci.ub \n",
      "  2.4648  0.0588  41.8908  <.0001  2.3495  2.5801  *** \n",
      "\n",
      "---\n",
      "Signif. codes:  0 ‘***’ 0.001 ‘**’ 0.01 ‘*’ 0.05 ‘.’ 0.1 ‘ ’ 1\n",
      "\n",
      "\n",
      "Random-Effects Model (k = 3; tau^2 estimator: REML)\n",
      "\n",
      "  logLik  deviance       AIC       BIC      AICc \n",
      " -0.7749    1.5498    5.5498    2.9361   17.5498   \n",
      "\n",
      "tau^2 (estimated amount of total heterogeneity): 0.0280 (SE = 0.1166)\n",
      "tau (square root of estimated tau^2 value):      0.1672\n",
      "I^2 (total heterogeneity / total variability):   23.29%\n",
      "H^2 (total variability / sampling variability):  1.30\n",
      "\n",
      "Test for Heterogeneity:\n",
      "Q(df = 2) = 2.4722, p-val = 0.2905\n",
      "\n",
      "Model Results:\n",
      "\n",
      "estimate      se     zval    pval   ci.lb   ci.ub \n",
      "  2.3870  0.1555  15.3493  <.0001  2.0822  2.6918  *** \n",
      "\n",
      "---\n",
      "Signif. codes:  0 ‘***’ 0.001 ‘**’ 0.01 ‘*’ 0.05 ‘.’ 0.1 ‘ ’ 1\n",
      "\n"
     ]
    },
    {
     "data": {
      "text/html": [
       "<strong>png:</strong> 2"
      ],
      "text/latex": [
       "\\textbf{png:} 2"
      ],
      "text/markdown": [
       "**png:** 2"
      ],
      "text/plain": [
       "png \n",
       "  2 "
      ]
     },
     "metadata": {},
     "output_type": "display_data"
    }
   ],
   "source": [
    "labs <- LRRK2_G2019S$Dataset\n",
    "yi   <- LRRK2_G2019S$Beta\n",
    "sei  <- LRRK2_G2019S$SE\n",
    "resFe  <- rma(yi=yi, sei=sei, method=\"FE\")\n",
    "resRe  <- rma(yi=yi, sei=sei)\n",
    "print(summary(resFe))\n",
    "print(summary(resRe))\n",
    "\n",
    "\n",
    "pdf(file = \"./Plots_Manuscript/LRRK2_G2019S_forest_plot_stats_all_studies.pdf\", width = 8, height = 6)\n",
    "forest(resRe, xlim=c(resFe$beta-0.9931472,resFe$beta+0.6931472), main=\"LRRK2 p.G2019S\",atransf=exp, xlab=paste(\"Odds Ratio (95%CI)\",sep=\"\"), slab=labs, mlab=\"Fixed Effects\", col = \"red\", border = \"red\", cex=.9)\n",
    "dev.off()"
   ]
  },
  {
   "cell_type": "markdown",
   "id": "07961144-d74d-405d-9fff-cecbde128ed8",
   "metadata": {},
   "source": [
    "### 3.5 GBA_T408M"
   ]
  },
  {
   "cell_type": "code",
   "execution_count": 52,
   "id": "0ba5014d-8619-4593-b12a-2e696fb658de",
   "metadata": {},
   "outputs": [
    {
     "name": "stdout",
     "output_type": "stream",
     "text": [
      "\n",
      "Fixed-Effects Model (k = 3)\n",
      "\n",
      "  logLik  deviance       AIC       BIC      AICc \n",
      "  3.6504    0.3926   -5.3007   -6.2021   -1.3007   \n",
      "\n",
      "I^2 (total heterogeneity / total variability):   0.00%\n",
      "H^2 (total variability / sampling variability):  0.20\n",
      "\n",
      "Test for Heterogeneity:\n",
      "Q(df = 2) = 0.3926, p-val = 0.8218\n",
      "\n",
      "Model Results:\n",
      "\n",
      "estimate      se    zval    pval   ci.lb   ci.ub \n",
      "  0.3887  0.0424  9.1669  <.0001  0.3056  0.4718  *** \n",
      "\n",
      "---\n",
      "Signif. codes:  0 ‘***’ 0.001 ‘**’ 0.01 ‘*’ 0.05 ‘.’ 0.1 ‘ ’ 1\n",
      "\n",
      "\n",
      "Random-Effects Model (k = 3; tau^2 estimator: REML)\n",
      "\n",
      "  logLik  deviance       AIC       BIC      AICc \n",
      "  1.9581   -3.9162    0.0838   -2.5299   12.0838   \n",
      "\n",
      "tau^2 (estimated amount of total heterogeneity): 0 (SE = 0.0103)\n",
      "tau (square root of estimated tau^2 value):      0\n",
      "I^2 (total heterogeneity / total variability):   0.00%\n",
      "H^2 (total variability / sampling variability):  1.00\n",
      "\n",
      "Test for Heterogeneity:\n",
      "Q(df = 2) = 0.3926, p-val = 0.8218\n",
      "\n",
      "Model Results:\n",
      "\n",
      "estimate      se    zval    pval   ci.lb   ci.ub \n",
      "  0.3887  0.0424  9.1669  <.0001  0.3056  0.4718  *** \n",
      "\n",
      "---\n",
      "Signif. codes:  0 ‘***’ 0.001 ‘**’ 0.01 ‘*’ 0.05 ‘.’ 0.1 ‘ ’ 1\n",
      "\n"
     ]
    },
    {
     "data": {
      "text/html": [
       "<strong>png:</strong> 2"
      ],
      "text/latex": [
       "\\textbf{png:} 2"
      ],
      "text/markdown": [
       "**png:** 2"
      ],
      "text/plain": [
       "png \n",
       "  2 "
      ]
     },
     "metadata": {},
     "output_type": "display_data"
    }
   ],
   "source": [
    "labs <- GBA_T408M$Dataset\n",
    "yi   <- GBA_T408M$Beta\n",
    "sei  <- GBA_T408M$SE\n",
    "resFe  <- rma(yi=yi, sei=sei, method=\"FE\")\n",
    "resRe  <- rma(yi=yi, sei=sei)\n",
    "print(summary(resFe))\n",
    "print(summary(resRe))\n",
    "\n",
    "\n",
    "pdf(file = \"./Plots_Manuscript/GBA_T408M_forest_plot_stats_all_studies.pdf\", width = 8, height = 6)\n",
    "forest(resRe, xlim=c(resFe$beta-0.9931472,resFe$beta+0.6931472), main=\"GBA p.T408M\",atransf=exp, xlab=paste(\"Odds Ratio (95%CI)\",sep=\"\"), slab=labs, mlab=\"Fixed Effects\", col = \"red\", border = \"red\", cex=.9)\n",
    "dev.off()"
   ]
  },
  {
   "cell_type": "markdown",
   "id": "2734a255-57e9-4a0e-b5db-d0a0f4886cd9",
   "metadata": {},
   "source": [
    "### 3.6 GBA_D179H"
   ]
  },
  {
   "cell_type": "code",
   "execution_count": 53,
   "id": "da18eb11-7a3e-4091-b59e-301821a35765",
   "metadata": {},
   "outputs": [
    {
     "name": "stdout",
     "output_type": "stream",
     "text": [
      "\n",
      "Fixed-Effects Model (k = 2)\n",
      "\n",
      "  logLik  deviance       AIC       BIC      AICc \n",
      " -0.1840    0.1822    2.3680    1.0611    6.3680   \n",
      "\n",
      "I^2 (total heterogeneity / total variability):   0.00%\n",
      "H^2 (total variability / sampling variability):  0.18\n",
      "\n",
      "Test for Heterogeneity:\n",
      "Q(df = 1) = 0.1822, p-val = 0.6695\n",
      "\n",
      "Model Results:\n",
      "\n",
      "estimate      se    zval    pval   ci.lb   ci.ub \n",
      "  1.1863  0.2163  5.4847  <.0001  0.7624  1.6102  *** \n",
      "\n",
      "---\n",
      "Signif. codes:  0 ‘***’ 0.001 ‘**’ 0.01 ‘*’ 0.05 ‘.’ 0.1 ‘ ’ 1\n",
      "\n",
      "\n",
      "Random-Effects Model (k = 2; tau^2 estimator: REML)\n",
      "\n",
      "  logLik  deviance       AIC       BIC      AICc \n",
      " -0.4496    0.8992    4.8992    0.8992   16.8992   \n",
      "\n",
      "tau^2 (estimated amount of total heterogeneity): 0 (SE = 0.4610)\n",
      "tau (square root of estimated tau^2 value):      0\n",
      "I^2 (total heterogeneity / total variability):   0.00%\n",
      "H^2 (total variability / sampling variability):  1.00\n",
      "\n",
      "Test for Heterogeneity:\n",
      "Q(df = 1) = 0.1822, p-val = 0.6695\n",
      "\n",
      "Model Results:\n",
      "\n",
      "estimate      se    zval    pval   ci.lb   ci.ub \n",
      "  1.1863  0.2163  5.4847  <.0001  0.7624  1.6102  *** \n",
      "\n",
      "---\n",
      "Signif. codes:  0 ‘***’ 0.001 ‘**’ 0.01 ‘*’ 0.05 ‘.’ 0.1 ‘ ’ 1\n",
      "\n"
     ]
    },
    {
     "data": {
      "text/html": [
       "<strong>png:</strong> 2"
      ],
      "text/latex": [
       "\\textbf{png:} 2"
      ],
      "text/markdown": [
       "**png:** 2"
      ],
      "text/plain": [
       "png \n",
       "  2 "
      ]
     },
     "metadata": {},
     "output_type": "display_data"
    }
   ],
   "source": [
    "labs <- GBA_D179H$Dataset\n",
    "yi   <- GBA_D179H$Beta\n",
    "sei  <- GBA_D179H$SE\n",
    "resFe  <- rma(yi=yi, sei=sei, method=\"FE\")\n",
    "resRe  <- rma(yi=yi, sei=sei)\n",
    "print(summary(resFe))\n",
    "print(summary(resRe))\n",
    "\n",
    "\n",
    "pdf(file = \"./Plots_Manuscript/GBA_D179H_forest_plot_stats_all_studies.pdf\", width = 8, height = 6)\n",
    "forest(resRe, xlim=c(resFe$beta-0.9931472,resFe$beta+0.6931472), main=\"GBA p.D179H\",atransf=exp, xlab=paste(\"Odds Ratio (95%CI)\",sep=\"\"), slab=labs, mlab=\"Fixed Effects\", col = \"red\", border = \"red\", cex=.9)\n",
    "dev.off()"
   ]
  },
  {
   "cell_type": "markdown",
   "id": "add459de-2f9c-4d42-a375-c01f40a3fff6",
   "metadata": {},
   "source": [
    "### 3.7 LRRK2_R1441H"
   ]
  },
  {
   "cell_type": "code",
   "execution_count": 54,
   "id": "77466d97-f4f1-4528-8556-f3853172ee09",
   "metadata": {},
   "outputs": [
    {
     "name": "stdout",
     "output_type": "stream",
     "text": [
      "\n",
      "Fixed-Effects Model (k = 2)\n",
      "\n",
      "  logLik  deviance       AIC       BIC      AICc \n",
      " -3.3765    0.9881    8.7530    7.4461   12.7530   \n",
      "\n",
      "I^2 (total heterogeneity / total variability):   0.00%\n",
      "H^2 (total variability / sampling variability):  0.99\n",
      "\n",
      "Test for Heterogeneity:\n",
      "Q(df = 1) = 0.9881, p-val = 0.3202\n",
      "\n",
      "Model Results:\n",
      "\n",
      "estimate      se    zval    pval   ci.lb   ci.ub \n",
      "  3.7620  0.5793  6.4943  <.0001  2.6266  4.8973  *** \n",
      "\n",
      "---\n",
      "Signif. codes:  0 ‘***’ 0.001 ‘**’ 0.01 ‘*’ 0.05 ‘.’ 0.1 ‘ ’ 1\n",
      "\n",
      "\n",
      "Random-Effects Model (k = 2; tau^2 estimator: REML)\n",
      "\n",
      "  logLik  deviance       AIC       BIC      AICc \n",
      " -2.6570    5.3139    9.3139    5.3139   21.3139   \n",
      "\n",
      "tau^2 (estimated amount of total heterogeneity): 0 (SE = 17.0224)\n",
      "tau (square root of estimated tau^2 value):      0\n",
      "I^2 (total heterogeneity / total variability):   0.00%\n",
      "H^2 (total variability / sampling variability):  1.00\n",
      "\n",
      "Test for Heterogeneity:\n",
      "Q(df = 1) = 0.9881, p-val = 0.3202\n",
      "\n",
      "Model Results:\n",
      "\n",
      "estimate      se    zval    pval   ci.lb   ci.ub \n",
      "  3.7620  0.5793  6.4943  <.0001  2.6266  4.8973  *** \n",
      "\n",
      "---\n",
      "Signif. codes:  0 ‘***’ 0.001 ‘**’ 0.01 ‘*’ 0.05 ‘.’ 0.1 ‘ ’ 1\n",
      "\n"
     ]
    },
    {
     "data": {
      "text/html": [
       "<strong>png:</strong> 2"
      ],
      "text/latex": [
       "\\textbf{png:} 2"
      ],
      "text/markdown": [
       "**png:** 2"
      ],
      "text/plain": [
       "png \n",
       "  2 "
      ]
     },
     "metadata": {},
     "output_type": "display_data"
    }
   ],
   "source": [
    "labs <- LRRK2_R1441H$Dataset\n",
    "yi   <- LRRK2_R1441H$Beta\n",
    "sei  <- LRRK2_R1441H$SE\n",
    "resFe  <- rma(yi=yi, sei=sei, method=\"FE\")\n",
    "resRe  <- rma(yi=yi, sei=sei)\n",
    "print(summary(resFe))\n",
    "print(summary(resRe))\n",
    "\n",
    "\n",
    "pdf(file = \"./Plots_Manuscript/LRRK2_R1441H_forest_plot_stats_all_studies.pdf\", width = 8, height = 6)\n",
    "forest(resRe, xlim=c(resFe$beta-0.9931472,resFe$beta+0.6931472), main=\"LRRK2 p.R1441H\",atransf=exp, xlab=paste(\"Odds Ratio (95%CI)\",sep=\"\"), slab=labs, mlab=\"Fixed Effects\", col = \"red\", border = \"red\", cex=.9)\n",
    "dev.off()"
   ]
  },
  {
   "cell_type": "markdown",
   "id": "6799ef5e-7ec0-4c8e-9205-f9ab587bd549",
   "metadata": {},
   "source": [
    "### 3.8 PRKN_R275W"
   ]
  },
  {
   "cell_type": "code",
   "execution_count": 55,
   "id": "b5a9af9a-8c3b-42ae-8f8c-c383a829d6ea",
   "metadata": {},
   "outputs": [
    {
     "name": "stdout",
     "output_type": "stream",
     "text": [
      "\n",
      "Fixed-Effects Model (k = 3)\n",
      "\n",
      "  logLik  deviance       AIC       BIC      AICc \n",
      " -2.3034    9.8252    6.6068    5.7055   10.6068   \n",
      "\n",
      "I^2 (total heterogeneity / total variability):   79.64%\n",
      "H^2 (total variability / sampling variability):  4.91\n",
      "\n",
      "Test for Heterogeneity:\n",
      "Q(df = 2) = 9.8252, p-val = 0.0074\n",
      "\n",
      "Model Results:\n",
      "\n",
      "estimate      se    zval    pval   ci.lb   ci.ub \n",
      "  0.2617  0.0639  4.0965  <.0001  0.1365  0.3868  *** \n",
      "\n",
      "---\n",
      "Signif. codes:  0 ‘***’ 0.001 ‘**’ 0.01 ‘*’ 0.05 ‘.’ 0.1 ‘ ’ 1\n",
      "\n",
      "\n",
      "Random-Effects Model (k = 3; tau^2 estimator: REML)\n",
      "\n",
      "  logLik  deviance       AIC       BIC      AICc \n",
      " -1.2288    2.4575    6.4575    3.8438   18.4575   \n",
      "\n",
      "tau^2 (estimated amount of total heterogeneity): 0.1225 (SE = 0.1690)\n",
      "tau (square root of estimated tau^2 value):      0.3500\n",
      "I^2 (total heterogeneity / total variability):   82.15%\n",
      "H^2 (total variability / sampling variability):  5.60\n",
      "\n",
      "Test for Heterogeneity:\n",
      "Q(df = 2) = 9.8252, p-val = 0.0074\n",
      "\n",
      "Model Results:\n",
      "\n",
      "estimate      se    zval    pval    ci.lb   ci.ub \n",
      "  0.0173  0.2357  0.0735  0.9414  -0.4446  0.4792    \n",
      "\n",
      "---\n",
      "Signif. codes:  0 ‘***’ 0.001 ‘**’ 0.01 ‘*’ 0.05 ‘.’ 0.1 ‘ ’ 1\n",
      "\n"
     ]
    },
    {
     "data": {
      "text/html": [
       "<strong>png:</strong> 2"
      ],
      "text/latex": [
       "\\textbf{png:} 2"
      ],
      "text/markdown": [
       "**png:** 2"
      ],
      "text/plain": [
       "png \n",
       "  2 "
      ]
     },
     "metadata": {},
     "output_type": "display_data"
    }
   ],
   "source": [
    "labs <- PRKN_R275W$Dataset\n",
    "yi   <- PRKN_R275W$Beta\n",
    "sei  <- PRKN_R275W$SE\n",
    "resFe  <- rma(yi=yi, sei=sei, method=\"FE\")\n",
    "resRe  <- rma(yi=yi, sei=sei)\n",
    "print(summary(resFe))\n",
    "print(summary(resRe))\n",
    "\n",
    "\n",
    "pdf(file = \"./Plots_Manuscript/PRKN_R275W_forest_plot_stats_all_studies.pdf\", width = 8, height = 6)\n",
    "forest(resRe, xlim=c(resFe$beta-0.9931472,resFe$beta+0.6931472), main=\"PRKN p.R275W\",atransf=exp, xlab=paste(\"Odds Ratio (95%CI)\",sep=\"\"), slab=labs, mlab=\"Fixed Effects\", col = \"red\", border = \"red\", cex=.9)\n",
    "dev.off()"
   ]
  },
  {
   "cell_type": "markdown",
   "id": "1802aa32-4e1b-430d-95ae-09ea79de6b57",
   "metadata": {},
   "source": [
    "### 3.9 LRRK2_L1795F"
   ]
  },
  {
   "cell_type": "code",
   "execution_count": 56,
   "id": "7360b58a-7030-4bee-8cbf-34bd9ce2118d",
   "metadata": {},
   "outputs": [
    {
     "name": "stdout",
     "output_type": "stream",
     "text": [
      "\n",
      "Fixed-Effects Model (k = 2)\n",
      "\n",
      "  logLik  deviance       AIC       BIC      AICc \n",
      " -1.7448    2.0866    5.4897    4.1828    9.4897   \n",
      "\n",
      "I^2 (total heterogeneity / total variability):   52.08%\n",
      "H^2 (total variability / sampling variability):  2.09\n",
      "\n",
      "Test for Heterogeneity:\n",
      "Q(df = 1) = 2.0866, p-val = 0.1486\n",
      "\n",
      "Model Results:\n",
      "\n",
      "estimate      se    zval    pval   ci.lb   ci.ub \n",
      "  0.9109  0.2097  4.3443  <.0001  0.5000  1.3219  *** \n",
      "\n",
      "---\n",
      "Signif. codes:  0 ‘***’ 0.001 ‘**’ 0.01 ‘*’ 0.05 ‘.’ 0.1 ‘ ’ 1\n",
      "\n",
      "\n",
      "Random-Effects Model (k = 2; tau^2 estimator: REML)\n",
      "\n",
      "  logLik  deviance       AIC       BIC      AICc \n",
      " -1.8659    3.7319    7.7319    3.7319   19.7319   \n",
      "\n",
      "tau^2 (estimated amount of total heterogeneity): 1.2732 (SE = 3.4577)\n",
      "tau (square root of estimated tau^2 value):      1.1284\n",
      "I^2 (total heterogeneity / total variability):   52.08%\n",
      "H^2 (total variability / sampling variability):  2.09\n",
      "\n",
      "Test for Heterogeneity:\n",
      "Q(df = 1) = 2.0866, p-val = 0.1486\n",
      "\n",
      "Model Results:\n",
      "\n",
      "estimate      se    zval    pval    ci.lb   ci.ub \n",
      "  1.4647  0.9812  1.4927  0.1355  -0.4585  3.3878    \n",
      "\n",
      "---\n",
      "Signif. codes:  0 ‘***’ 0.001 ‘**’ 0.01 ‘*’ 0.05 ‘.’ 0.1 ‘ ’ 1\n",
      "\n"
     ]
    },
    {
     "data": {
      "text/html": [
       "<strong>png:</strong> 2"
      ],
      "text/latex": [
       "\\textbf{png:} 2"
      ],
      "text/markdown": [
       "**png:** 2"
      ],
      "text/plain": [
       "png \n",
       "  2 "
      ]
     },
     "metadata": {},
     "output_type": "display_data"
    }
   ],
   "source": [
    "labs <- LRRK2_L1795F$Dataset\n",
    "yi   <- LRRK2_L1795F$Beta\n",
    "sei  <- LRRK2_L1795F$SE\n",
    "resFe  <- rma(yi=yi, sei=sei, method=\"FE\")\n",
    "resRe  <- rma(yi=yi, sei=sei)\n",
    "print(summary(resFe))\n",
    "print(summary(resRe))\n",
    "\n",
    "\n",
    "pdf(file = \"./Plots_Manuscript/LRRK2_L1795F_forest_plot_stats_all_studies.pdf\", width = 8, height = 6)\n",
    "forest(resRe, xlim=c(resFe$beta-0.9931472,resFe$beta+0.6931472), main=\"LRRK2 p.L1795F\",atransf=exp, xlab=paste(\"Odds Ratio (95%CI)\",sep=\"\"), slab=labs, mlab=\"Fixed Effects\", col = \"red\", border = \"red\", cex=.9)\n",
    "dev.off()"
   ]
  },
  {
   "cell_type": "markdown",
   "id": "08322809-156d-4b3b-b93c-66e72a4353ad",
   "metadata": {},
   "source": [
    "### 3.10 GBA_R296Q"
   ]
  },
  {
   "cell_type": "code",
   "execution_count": 57,
   "id": "1ffd6527-6e11-4c77-817c-e74e8a2eb1e7",
   "metadata": {},
   "outputs": [
    {
     "name": "stdout",
     "output_type": "stream",
     "text": [
      "\n",
      "Fixed-Effects Model (k = 3)\n",
      "\n",
      "  logLik  deviance       AIC       BIC      AICc \n",
      " -1.8806    0.2195    5.7612    4.8598    9.7612   \n",
      "\n",
      "I^2 (total heterogeneity / total variability):   0.00%\n",
      "H^2 (total variability / sampling variability):  0.11\n",
      "\n",
      "Test for Heterogeneity:\n",
      "Q(df = 2) = 0.2195, p-val = 0.8961\n",
      "\n",
      "Model Results:\n",
      "\n",
      "estimate      se    zval    pval   ci.lb   ci.ub \n",
      "  1.3115  0.2852  4.5984  <.0001  0.7525  1.8704  *** \n",
      "\n",
      "---\n",
      "Signif. codes:  0 ‘***’ 0.001 ‘**’ 0.01 ‘*’ 0.05 ‘.’ 0.1 ‘ ’ 1\n",
      "\n",
      "\n",
      "Random-Effects Model (k = 3; tau^2 estimator: REML)\n",
      "\n",
      "  logLik  deviance       AIC       BIC      AICc \n",
      " -1.6669    3.3338    7.3338    4.7201   19.3338   \n",
      "\n",
      "tau^2 (estimated amount of total heterogeneity): 0 (SE = 0.6101)\n",
      "tau (square root of estimated tau^2 value):      0\n",
      "I^2 (total heterogeneity / total variability):   0.00%\n",
      "H^2 (total variability / sampling variability):  1.00\n",
      "\n",
      "Test for Heterogeneity:\n",
      "Q(df = 2) = 0.2195, p-val = 0.8961\n",
      "\n",
      "Model Results:\n",
      "\n",
      "estimate      se    zval    pval   ci.lb   ci.ub \n",
      "  1.3115  0.2852  4.5984  <.0001  0.7525  1.8704  *** \n",
      "\n",
      "---\n",
      "Signif. codes:  0 ‘***’ 0.001 ‘**’ 0.01 ‘*’ 0.05 ‘.’ 0.1 ‘ ’ 1\n",
      "\n"
     ]
    },
    {
     "data": {
      "text/html": [
       "<strong>png:</strong> 2"
      ],
      "text/latex": [
       "\\textbf{png:} 2"
      ],
      "text/markdown": [
       "**png:** 2"
      ],
      "text/plain": [
       "png \n",
       "  2 "
      ]
     },
     "metadata": {},
     "output_type": "display_data"
    }
   ],
   "source": [
    "labs <- GBA_R296Q$Dataset\n",
    "yi   <- GBA_R296Q$Beta\n",
    "sei  <- GBA_R296Q$SE\n",
    "resFe  <- rma(yi=yi, sei=sei, method=\"FE\")\n",
    "resRe  <- rma(yi=yi, sei=sei)\n",
    "print(summary(resFe))\n",
    "print(summary(resRe))\n",
    "\n",
    "\n",
    "pdf(file = \"./Plots_Manuscript/GBA_R296Q_forest_plot_stats_all_studies.pdf\", width = 8, height = 6)\n",
    "forest(resRe, xlim=c(resFe$beta-0.9931472,resFe$beta+0.6931472), main=\"GBA p.R296Q\",atransf=exp, xlab=paste(\"Odds Ratio (95%CI)\",sep=\"\"), slab=labs, mlab=\"Fixed Effects\", col = \"red\", border = \"red\", cex=.9)\n",
    "dev.off()"
   ]
  },
  {
   "cell_type": "markdown",
   "id": "d30bfa26-6251-4586-8065-fa6902299f2d",
   "metadata": {},
   "source": [
    "### 3.11 GBA_S146L"
   ]
  },
  {
   "cell_type": "code",
   "execution_count": 58,
   "id": "52a6e80b-952d-49f7-8750-a87ec8f96d1f",
   "metadata": {},
   "outputs": [
    {
     "name": "stdout",
     "output_type": "stream",
     "text": [
      "\n",
      "Fixed-Effects Model (k = 2)\n",
      "\n",
      "  logLik  deviance       AIC       BIC      AICc \n",
      " -5.3651    0.3061   12.7302   11.4233   16.7302   \n",
      "\n",
      "I^2 (total heterogeneity / total variability):   0.00%\n",
      "H^2 (total variability / sampling variability):  0.31\n",
      "\n",
      "Test for Heterogeneity:\n",
      "Q(df = 1) = 0.3061, p-val = 0.5801\n",
      "\n",
      "Model Results:\n",
      "\n",
      "estimate      se    zval    pval   ci.lb    ci.ub \n",
      "  7.3931  1.6965  4.3579  <.0001  4.0681  10.7182  *** \n",
      "\n",
      "---\n",
      "Signif. codes:  0 ‘***’ 0.001 ‘**’ 0.01 ‘*’ 0.05 ‘.’ 0.1 ‘ ’ 1\n",
      "\n",
      "\n",
      "Random-Effects Model (k = 2; tau^2 estimator: REML)\n",
      "\n",
      "  logLik  deviance       AIC       BIC      AICc \n",
      " -3.5710    7.1420   11.1420    7.1420   23.1420   \n",
      "\n",
      "tau^2 (estimated amount of total heterogeneity): 0 (SE = 209.4740)\n",
      "tau (square root of estimated tau^2 value):      0\n",
      "I^2 (total heterogeneity / total variability):   0.00%\n",
      "H^2 (total variability / sampling variability):  1.00\n",
      "\n",
      "Test for Heterogeneity:\n",
      "Q(df = 1) = 0.3061, p-val = 0.5801\n",
      "\n",
      "Model Results:\n",
      "\n",
      "estimate      se    zval    pval   ci.lb    ci.ub \n",
      "  7.3931  1.6965  4.3579  <.0001  4.0681  10.7182  *** \n",
      "\n",
      "---\n",
      "Signif. codes:  0 ‘***’ 0.001 ‘**’ 0.01 ‘*’ 0.05 ‘.’ 0.1 ‘ ’ 1\n",
      "\n"
     ]
    },
    {
     "data": {
      "text/html": [
       "<strong>png:</strong> 2"
      ],
      "text/latex": [
       "\\textbf{png:} 2"
      ],
      "text/markdown": [
       "**png:** 2"
      ],
      "text/plain": [
       "png \n",
       "  2 "
      ]
     },
     "metadata": {},
     "output_type": "display_data"
    }
   ],
   "source": [
    "labs <- GBA_S146L$Dataset\n",
    "yi   <- GBA_S146L$Beta\n",
    "sei  <- GBA_S146L$SE\n",
    "resFe  <- rma(yi=yi, sei=sei, method=\"FE\")\n",
    "resRe  <- rma(yi=yi, sei=sei)\n",
    "print(summary(resFe))\n",
    "print(summary(resRe))\n",
    "\n",
    "\n",
    "pdf(file = \"./Plots_Manuscript/GBA_S146L_forest_plot_stats_all_studies.pdf\", width = 8, height = 6)\n",
    "forest(resRe, xlim=c(resFe$beta-0.9931472,resFe$beta+0.6931472), main=\"GBA p.S146L\",atransf=exp, xlab=paste(\"Odds Ratio (95%CI)\",sep=\"\"), slab=labs, mlab=\"Fixed Effects\", col = \"red\", border = \"red\", cex=.9)\n",
    "dev.off()"
   ]
  },
  {
   "cell_type": "code",
   "execution_count": null,
   "id": "26af44b6-1aa3-4ada-b4bd-6022a72fb4c5",
   "metadata": {},
   "outputs": [],
   "source": []
  },
  {
   "cell_type": "code",
   "execution_count": null,
   "id": "5f8474d0-40f7-4616-b73c-5ba99279f8f9",
   "metadata": {},
   "outputs": [],
   "source": []
  }
 ],
 "metadata": {
  "kernelspec": {
   "display_name": "R/4.0",
   "language": "R",
   "name": "ir40"
  },
  "language_info": {
   "codemirror_mode": "r",
   "file_extension": ".r",
   "mimetype": "text/x-r-source",
   "name": "R",
   "pygments_lexer": "r",
   "version": "4.0.5"
  }
 },
 "nbformat": 4,
 "nbformat_minor": 5
}
